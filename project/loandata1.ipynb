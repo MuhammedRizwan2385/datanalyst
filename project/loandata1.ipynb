{
 "cells": [
  {
   "cell_type": "code",
   "execution_count": 18,
   "id": "50205758-eae3-4631-a7bb-e40faee1ea10",
   "metadata": {},
   "outputs": [],
   "source": [
    "import numpy as np"
   ]
  },
  {
   "cell_type": "code",
   "execution_count": 175,
   "id": "087d4d64-1dce-4340-ae3b-9ccdb3ff625a",
   "metadata": {},
   "outputs": [],
   "source": [
    "#suppress=True  :=to convert scientific notations to normal one\n",
    "#linewidth=100  :=100 characters in a line.\n",
    "#precision=2 :only 2 decimal numbers after point.\n",
    "np.set_printoptions(suppress=True,linewidth=100,precision=2)"
   ]
  },
  {
   "cell_type": "code",
   "execution_count": 3,
   "id": "2002092c-4e38-4cc2-8dcf-e537c086f005",
   "metadata": {},
   "outputs": [
    {
     "data": {
      "text/plain": [
       "array([[48010226.  ,         nan,    35000.  , ...,         nan,         nan,     9452.96],\n",
       "       [57693261.  ,         nan,    30000.  , ...,         nan,         nan,     4679.7 ],\n",
       "       [59432726.  ,         nan,    15000.  , ...,         nan,         nan,     1969.83],\n",
       "       ...,\n",
       "       [50415990.  ,         nan,    10000.  , ...,         nan,         nan,     2185.64],\n",
       "       [46154151.  ,         nan,         nan, ...,         nan,         nan,     3199.4 ],\n",
       "       [66055249.  ,         nan,    10000.  , ...,         nan,         nan,      301.9 ]],\n",
       "      shape=(10000, 14))"
      ]
     },
     "execution_count": 3,
     "metadata": {},
     "output_type": "execute_result"
    }
   ],
   "source": [
    "filename=r\"D:\\dataanalyst\\Data Analyst Course\\S28 - A Loan Data Example with NumPy\\loan-data.csv\"\n",
    "raw_data_np=np.genfromtxt(filename,delimiter=';',skip_header=1,autostrip=True)\n",
    "raw_data_np\n",
    "#here first when we printed it has column names .since they are strings they showed as nan .\n",
    "#so to remove them we use skip_header=1\n",
    "#to remove unecessary whitespaces we use autostrip=True."
   ]
  },
  {
   "cell_type": "markdown",
   "id": "f01fddda-023b-4468-83fc-19cf5af2adcf",
   "metadata": {},
   "source": [
    "# Checking for incomplete data"
   ]
  },
  {
   "cell_type": "code",
   "execution_count": 4,
   "id": "71fe490f-8566-4e77-819f-7733f8122932",
   "metadata": {},
   "outputs": [
    {
     "data": {
      "text/plain": [
       "np.int64(88005)"
      ]
     },
     "execution_count": 4,
     "metadata": {},
     "output_type": "execute_result"
    }
   ],
   "source": [
    "np.isnan(raw_data_np).sum()"
   ]
  },
  {
   "cell_type": "code",
   "execution_count": 5,
   "id": "63328b09-7833-42ef-9e06-25cb63453467",
   "metadata": {},
   "outputs": [
    {
     "name": "stderr",
     "output_type": "stream",
     "text": [
      "C:\\Users\\ASUS\\AppData\\Local\\Temp\\ipykernel_4160\\3766350492.py:2: RuntimeWarning: Mean of empty slice\n",
      "  temporary_mean=np.nanmean(raw_data_np,axis=0).round(2)\n"
     ]
    }
   ],
   "source": [
    "temporary_fill=np.nanmax(raw_data_np).round(2)+1\n",
    "temporary_mean=np.nanmean(raw_data_np,axis=0).round(2)\n"
   ]
  },
  {
   "cell_type": "code",
   "execution_count": 6,
   "id": "d90ddcf1-1806-4d1c-ad02-2f06da29e866",
   "metadata": {},
   "outputs": [
    {
     "data": {
      "text/plain": [
       "array([54015809.19,         nan,    15273.46,         nan,    15311.04,         nan,       16.62,\n",
       "            440.92,         nan,         nan,         nan,         nan,         nan,     3143.85])"
      ]
     },
     "execution_count": 6,
     "metadata": {},
     "output_type": "execute_result"
    }
   ],
   "source": [
    "temporary_mean"
   ]
  },
  {
   "cell_type": "code",
   "execution_count": 7,
   "id": "881c2c0b-03e8-477f-baaf-a4e3393b722e",
   "metadata": {},
   "outputs": [
    {
     "name": "stderr",
     "output_type": "stream",
     "text": [
      "C:\\Users\\ASUS\\AppData\\Local\\Temp\\ipykernel_4160\\1435060183.py:1: RuntimeWarning: All-NaN slice encountered\n",
      "  temporary_stats=np.array([np.nanmin(raw_data_np,axis=0),\n",
      "C:\\Users\\ASUS\\AppData\\Local\\Temp\\ipykernel_4160\\1435060183.py:3: RuntimeWarning: All-NaN slice encountered\n",
      "  np.nanmax(raw_data_np,axis=0)])\n"
     ]
    }
   ],
   "source": [
    "temporary_stats=np.array([np.nanmin(raw_data_np,axis=0),\n",
    "                          temporary_mean,\n",
    "                          np.nanmax(raw_data_np,axis=0)])"
   ]
  },
  {
   "cell_type": "code",
   "execution_count": 8,
   "id": "e91dc8b7-49c4-4584-968a-56e8f889d73b",
   "metadata": {},
   "outputs": [
    {
     "data": {
      "text/plain": [
       "array([[  373332.  ,         nan,     1000.  ,         nan,     1000.  ,         nan,        6.  ,\n",
       "              31.42,         nan,         nan,         nan,         nan,         nan,        0.  ],\n",
       "       [54015809.19,         nan,    15273.46,         nan,    15311.04,         nan,       16.62,\n",
       "             440.92,         nan,         nan,         nan,         nan,         nan,     3143.85],\n",
       "       [68616519.  ,         nan,    35000.  ,         nan,    35000.  ,         nan,       28.99,\n",
       "            1372.97,         nan,         nan,         nan,         nan,         nan,    41913.62]])"
      ]
     },
     "execution_count": 8,
     "metadata": {},
     "output_type": "execute_result"
    }
   ],
   "source": [
    "temporary_stats"
   ]
  },
  {
   "cell_type": "markdown",
   "id": "140c217c-7183-4645-b7a0-18c7931a7aae",
   "metadata": {},
   "source": [
    "# splitting the dataset"
   ]
  },
  {
   "cell_type": "markdown",
   "id": "05a8c1a7-a20f-47f6-a419-f31d9b04b70b",
   "metadata": {},
   "source": [
    "we need to find the indices where string and numeric datas are there in temporary_mean\n",
    "we are doing this because we handle the missing values among string and numbers differently."
   ]
  },
  {
   "cell_type": "code",
   "execution_count": 10,
   "id": "ac52f0ab-bfd5-4635-b65a-43f0776327df",
   "metadata": {},
   "outputs": [
    {
     "data": {
      "text/plain": [
       "array([ 1,  3,  5,  8,  9, 10, 11, 12])"
      ]
     },
     "execution_count": 10,
     "metadata": {},
     "output_type": "execute_result"
    }
   ],
   "source": [
    "column_strings=np.argwhere(np.isnan(temporary_mean)).squeeze()\n",
    "column_strings"
   ]
  },
  {
   "cell_type": "code",
   "execution_count": 11,
   "id": "cd3ff48d-f390-47be-a434-a62a7612b1af",
   "metadata": {},
   "outputs": [
    {
     "data": {
      "text/plain": [
       "array([ 0,  2,  4,  6,  7, 13])"
      ]
     },
     "execution_count": 11,
     "metadata": {},
     "output_type": "execute_result"
    }
   ],
   "source": [
    "column_numeric=np.argwhere(np.isnan(temporary_mean)==False).squeeze()\n",
    "column_numeric"
   ]
  },
  {
   "cell_type": "markdown",
   "id": "74043363-5a5b-41b7-bc02-94ee88d1761e",
   "metadata": {},
   "source": [
    "# Reimporting the dataset"
   ]
  },
  {
   "cell_type": "code",
   "execution_count": 12,
   "id": "1ae8f461-3621-4a08-b99a-2b4c7d4e1d0d",
   "metadata": {},
   "outputs": [
    {
     "data": {
      "text/plain": [
       "array([['May-15', 'Current', '36 months', ..., 'Verified',\n",
       "        'https://www.lendingclub.com/browse/loanDetail.action?loan_id=48010226', 'CA'],\n",
       "       ['', 'Current', '36 months', ..., 'Source Verified',\n",
       "        'https://www.lendingclub.com/browse/loanDetail.action?loan_id=57693261', 'NY'],\n",
       "       ['Sep-15', 'Current', '36 months', ..., 'Verified',\n",
       "        'https://www.lendingclub.com/browse/loanDetail.action?loan_id=59432726', 'PA'],\n",
       "       ...,\n",
       "       ['Jun-15', 'Current', '36 months', ..., 'Source Verified',\n",
       "        'https://www.lendingclub.com/browse/loanDetail.action?loan_id=50415990', 'CA'],\n",
       "       ['Apr-15', 'Current', '36 months', ..., 'Source Verified',\n",
       "        'https://www.lendingclub.com/browse/loanDetail.action?loan_id=46154151', 'OH'],\n",
       "       ['Dec-15', 'Current', '36 months', ..., '',\n",
       "        'https://www.lendingclub.com/browse/loanDetail.action?loan_id=66055249', 'IL']],\n",
       "      shape=(10000, 8), dtype='<U69')"
      ]
     },
     "execution_count": 12,
     "metadata": {},
     "output_type": "execute_result"
    }
   ],
   "source": [
    "loan_data_strings=np.genfromtxt(filename,delimiter=';',\n",
    "                                skip_header=1,\n",
    "                                autostrip=True,\n",
    "                                usecols=column_strings,\n",
    "                                dtype=str)\n",
    "loan_data_strings"
   ]
  },
  {
   "cell_type": "code",
   "execution_count": 13,
   "id": "ca69e6ec-7bcc-435e-b1fd-2c52c3a516e4",
   "metadata": {},
   "outputs": [
    {
     "data": {
      "text/plain": [
       "array([[48010226.  ,    35000.  ,    35000.  ,       13.33,     1184.86,     9452.96],\n",
       "       [57693261.  ,    30000.  ,    30000.  , 68616520.  ,      938.57,     4679.7 ],\n",
       "       [59432726.  ,    15000.  ,    15000.  , 68616520.  ,      494.86,     1969.83],\n",
       "       ...,\n",
       "       [50415990.  ,    10000.  ,    10000.  , 68616520.  , 68616520.  ,     2185.64],\n",
       "       [46154151.  , 68616520.  ,    10000.  ,       16.55,      354.3 ,     3199.4 ],\n",
       "       [66055249.  ,    10000.  ,    10000.  , 68616520.  ,      309.97,      301.9 ]],\n",
       "      shape=(10000, 6))"
      ]
     },
     "execution_count": 13,
     "metadata": {},
     "output_type": "execute_result"
    }
   ],
   "source": [
    "loan_data_numeric=np.genfromtxt(filename,delimiter=';',\n",
    "                                skip_header=1,\n",
    "                                autostrip=True,\n",
    "                                usecols=column_numeric,\n",
    "                                filling_values=temporary_fill\n",
    "                               )\n",
    "loan_data_numeric"
   ]
  },
  {
   "cell_type": "markdown",
   "id": "eaa580a1-3658-4b91-b3e8-c7bd004c1189",
   "metadata": {},
   "source": [
    "we are going to work like these .....separately. we need to add the columns names also."
   ]
  },
  {
   "cell_type": "markdown",
   "id": "8f9842c0-eb9f-45b9-81ce-05d83be96215",
   "metadata": {},
   "source": [
    "# The names of the columns"
   ]
  },
  {
   "cell_type": "code",
   "execution_count": 14,
   "id": "0bc10537-e226-4f2a-8dc0-c0660b5221f6",
   "metadata": {},
   "outputs": [
    {
     "data": {
      "text/plain": [
       "array(['id', 'issue_d', 'loan_amnt', 'loan_status', 'funded_amnt', 'term', 'int_rate',\n",
       "       'installment', 'grade', 'sub_grade', 'verification_status', 'url', 'addr_state',\n",
       "       'total_pymnt'], dtype='<U19')"
      ]
     },
     "execution_count": 14,
     "metadata": {},
     "output_type": "execute_result"
    }
   ],
   "source": [
    "header_full=np.genfromtxt(filename,delimiter=';',skip_footer=raw_data_np.shape[0],\n",
    "                          autostrip=True,dtype=str)\n",
    "header_full"
   ]
  },
  {
   "cell_type": "code",
   "execution_count": 15,
   "id": "4e39780d-e796-48c0-aa8a-5a1ea7117059",
   "metadata": {},
   "outputs": [],
   "source": [
    "header_strings,header_numeric=header_full[column_strings],header_full[column_numeric]\n"
   ]
  },
  {
   "cell_type": "code",
   "execution_count": 16,
   "id": "31cba810-1b25-4c6b-bd1c-697e51acc23b",
   "metadata": {},
   "outputs": [
    {
     "data": {
      "text/plain": [
       "array(['issue_d', 'loan_status', 'term', 'grade', 'sub_grade', 'verification_status', 'url',\n",
       "       'addr_state'], dtype='<U19')"
      ]
     },
     "execution_count": 16,
     "metadata": {},
     "output_type": "execute_result"
    }
   ],
   "source": [
    "header_strings"
   ]
  },
  {
   "cell_type": "code",
   "execution_count": 17,
   "id": "b8ae11b2-708a-429b-b225-b64348e7e3d6",
   "metadata": {},
   "outputs": [
    {
     "data": {
      "text/plain": [
       "array(['id', 'loan_amnt', 'funded_amnt', 'int_rate', 'installment', 'total_pymnt'], dtype='<U19')"
      ]
     },
     "execution_count": 17,
     "metadata": {},
     "output_type": "execute_result"
    }
   ],
   "source": [
    "header_numeric"
   ]
  },
  {
   "cell_type": "markdown",
   "id": "d42ae8f9-1c9d-4a79-9612-e74410c4dba7",
   "metadata": {},
   "source": [
    "# creating checkpoints"
   ]
  },
  {
   "cell_type": "code",
   "execution_count": 19,
   "id": "4337dc66-44b6-4f55-8172-a7660d6f5aea",
   "metadata": {},
   "outputs": [],
   "source": [
    "def checkpoint(file_name,checkpoint_header,checkpoint_data):\n",
    "    np.savez(file_name,header=checkpoint_header,data=checkpoint_data)\n",
    "    checkpoint_variable=np.load(file_name+\".npz\")\n",
    "    return(checkpoint_variable)\n",
    "    "
   ]
  },
  {
   "cell_type": "code",
   "execution_count": 20,
   "id": "178f1a25-c3c0-4fb9-81ff-ac593b8c82e5",
   "metadata": {},
   "outputs": [],
   "source": [
    "checkpoint_test=checkpoint(\"checkpoint-test\",header_strings,loan_data_strings)"
   ]
  },
  {
   "cell_type": "code",
   "execution_count": 21,
   "id": "def78ec3-ab54-4f85-b721-4076884d77fb",
   "metadata": {},
   "outputs": [
    {
     "data": {
      "text/plain": [
       "array(['issue_d', 'loan_status', 'term', 'grade', 'sub_grade', 'verification_status', 'url',\n",
       "       'addr_state'], dtype='<U19')"
      ]
     },
     "execution_count": 21,
     "metadata": {},
     "output_type": "execute_result"
    }
   ],
   "source": [
    "checkpoint_test['header']"
   ]
  },
  {
   "cell_type": "code",
   "execution_count": 22,
   "id": "9d826994-ac74-49d8-ade6-c6b84f3a317f",
   "metadata": {},
   "outputs": [
    {
     "data": {
      "text/plain": [
       "array([['May-15', 'Current', '36 months', ..., 'Verified',\n",
       "        'https://www.lendingclub.com/browse/loanDetail.action?loan_id=48010226', 'CA'],\n",
       "       ['', 'Current', '36 months', ..., 'Source Verified',\n",
       "        'https://www.lendingclub.com/browse/loanDetail.action?loan_id=57693261', 'NY'],\n",
       "       ['Sep-15', 'Current', '36 months', ..., 'Verified',\n",
       "        'https://www.lendingclub.com/browse/loanDetail.action?loan_id=59432726', 'PA'],\n",
       "       ...,\n",
       "       ['Jun-15', 'Current', '36 months', ..., 'Source Verified',\n",
       "        'https://www.lendingclub.com/browse/loanDetail.action?loan_id=50415990', 'CA'],\n",
       "       ['Apr-15', 'Current', '36 months', ..., 'Source Verified',\n",
       "        'https://www.lendingclub.com/browse/loanDetail.action?loan_id=46154151', 'OH'],\n",
       "       ['Dec-15', 'Current', '36 months', ..., '',\n",
       "        'https://www.lendingclub.com/browse/loanDetail.action?loan_id=66055249', 'IL']],\n",
       "      shape=(10000, 8), dtype='<U69')"
      ]
     },
     "execution_count": 22,
     "metadata": {},
     "output_type": "execute_result"
    }
   ],
   "source": [
    "checkpoint_test['data']"
   ]
  },
  {
   "cell_type": "markdown",
   "id": "fb30e48c-dcec-447e-9f87-9721850c4192",
   "metadata": {},
   "source": [
    "# Manipulating Text data /manipulating string columns"
   ]
  },
  {
   "cell_type": "code",
   "execution_count": 23,
   "id": "8d9267cc-806a-4f59-886e-a5d30ab60d17",
   "metadata": {},
   "outputs": [
    {
     "data": {
      "text/plain": [
       "array(['issue_d', 'loan_status', 'term', 'grade', 'sub_grade', 'verification_status', 'url',\n",
       "       'addr_state'], dtype='<U19')"
      ]
     },
     "execution_count": 23,
     "metadata": {},
     "output_type": "execute_result"
    }
   ],
   "source": [
    "header_strings"
   ]
  },
  {
   "cell_type": "code",
   "execution_count": 24,
   "id": "fa9bec22-5595-4793-96de-4a57b6ca80f0",
   "metadata": {},
   "outputs": [],
   "source": [
    "header_strings[0]=\"issue_date\""
   ]
  },
  {
   "cell_type": "code",
   "execution_count": 25,
   "id": "77c615ce-8367-4d9b-b4d0-98a4fac84420",
   "metadata": {},
   "outputs": [
    {
     "data": {
      "text/plain": [
       "array([['May-15', 'Current', '36 months', ..., 'Verified',\n",
       "        'https://www.lendingclub.com/browse/loanDetail.action?loan_id=48010226', 'CA'],\n",
       "       ['', 'Current', '36 months', ..., 'Source Verified',\n",
       "        'https://www.lendingclub.com/browse/loanDetail.action?loan_id=57693261', 'NY'],\n",
       "       ['Sep-15', 'Current', '36 months', ..., 'Verified',\n",
       "        'https://www.lendingclub.com/browse/loanDetail.action?loan_id=59432726', 'PA'],\n",
       "       ...,\n",
       "       ['Jun-15', 'Current', '36 months', ..., 'Source Verified',\n",
       "        'https://www.lendingclub.com/browse/loanDetail.action?loan_id=50415990', 'CA'],\n",
       "       ['Apr-15', 'Current', '36 months', ..., 'Source Verified',\n",
       "        'https://www.lendingclub.com/browse/loanDetail.action?loan_id=46154151', 'OH'],\n",
       "       ['Dec-15', 'Current', '36 months', ..., '',\n",
       "        'https://www.lendingclub.com/browse/loanDetail.action?loan_id=66055249', 'IL']],\n",
       "      shape=(10000, 8), dtype='<U69')"
      ]
     },
     "execution_count": 25,
     "metadata": {},
     "output_type": "execute_result"
    }
   ],
   "source": [
    "loan_data_strings"
   ]
  },
  {
   "cell_type": "markdown",
   "id": "ccffd3dd-76e0-4cd5-854b-c9cb4e9f7b97",
   "metadata": {},
   "source": [
    "# 1.issue date"
   ]
  },
  {
   "cell_type": "code",
   "execution_count": 26,
   "id": "46b121a2-e597-4328-854f-51914288d161",
   "metadata": {},
   "outputs": [
    {
     "data": {
      "text/plain": [
       "array(['May-15', '', 'Sep-15', ..., 'Jun-15', 'Apr-15', 'Dec-15'], shape=(10000,), dtype='<U69')"
      ]
     },
     "execution_count": 26,
     "metadata": {},
     "output_type": "execute_result"
    }
   ],
   "source": [
    "\n",
    "loan_data_strings[:,0]"
   ]
  },
  {
   "cell_type": "code",
   "execution_count": 27,
   "id": "36a608ad-a4d8-494f-96d7-e23d452b1236",
   "metadata": {},
   "outputs": [
    {
     "data": {
      "text/plain": [
       "array(['', 'Apr-15', 'Aug-15', 'Dec-15', 'Feb-15', 'Jan-15', 'Jul-15', 'Jun-15', 'Mar-15',\n",
       "       'May-15', 'Nov-15', 'Oct-15', 'Sep-15'], dtype='<U69')"
      ]
     },
     "execution_count": 27,
     "metadata": {},
     "output_type": "execute_result"
    }
   ],
   "source": [
    "np.unique(loan_data_strings[:,0])"
   ]
  },
  {
   "cell_type": "code",
   "execution_count": 28,
   "id": "657b6125-6ab4-4613-bdd3-ec1962a1670f",
   "metadata": {},
   "outputs": [
    {
     "name": "stderr",
     "output_type": "stream",
     "text": [
      "C:\\Users\\ASUS\\AppData\\Local\\Temp\\ipykernel_4160\\151724122.py:1: DeprecationWarning: `np.chararray` is deprecated and will be removed from the main namespace in the future. Use an array with a string or bytes dtype instead.\n",
      "  loan_data_strings[:,0]=np.chararray.strip(loan_data_strings[:,0],\"-15\")\n"
     ]
    }
   ],
   "source": [
    "loan_data_strings[:,0]=np.chararray.strip(loan_data_strings[:,0],\"-15\")"
   ]
  },
  {
   "cell_type": "code",
   "execution_count": 29,
   "id": "140a1c94-a635-4cc5-a893-1aaf16c62601",
   "metadata": {},
   "outputs": [
    {
     "data": {
      "text/plain": [
       "array(['', 'Apr', 'Aug', 'Dec', 'Feb', 'Jan', 'Jul', 'Jun', 'Mar', 'May', 'Nov', 'Oct', 'Sep'],\n",
       "      dtype='<U69')"
      ]
     },
     "execution_count": 29,
     "metadata": {},
     "output_type": "execute_result"
    }
   ],
   "source": [
    "np.unique(loan_data_strings[:,0])"
   ]
  },
  {
   "cell_type": "code",
   "execution_count": 30,
   "id": "67f06e56-1fbe-441e-9f56-29291d0a823a",
   "metadata": {},
   "outputs": [],
   "source": [
    "# we need to represent months by integers...for that..."
   ]
  },
  {
   "cell_type": "code",
   "execution_count": 31,
   "id": "fbe4301b-7938-49c0-b420-6cd98a73719a",
   "metadata": {},
   "outputs": [],
   "source": [
    "months=np.array([\"\",\"Jan\",\"Feb\",\"Mar\",\"Apr\",\"May\",\"Jun\",\"Jul\",\"Aug\",\"Sep\",\"Oct\",\"Nov\",\"Dec\"])"
   ]
  },
  {
   "cell_type": "code",
   "execution_count": 32,
   "id": "373cf13f-1db6-4863-8f60-b72b5681e305",
   "metadata": {},
   "outputs": [],
   "source": [
    "loan_data_strings=loan_data_strings.astype(object)\n",
    "#it is done bcoz python cannot convert strings to int directly..so giving i it is done"
   ]
  },
  {
   "cell_type": "code",
   "execution_count": 33,
   "id": "924a555e-69ad-40c9-8373-9976b1e3e189",
   "metadata": {},
   "outputs": [],
   "source": [
    "for i in range(13):\n",
    "    loan_data_strings[:,0]=np.where(loan_data_strings[:,0]==months[i],\n",
    "                                    i,\n",
    "                                    loan_data_strings[:,0])"
   ]
  },
  {
   "cell_type": "code",
   "execution_count": 34,
   "id": "e0b435e0-6f54-4bc4-9c09-5f33cdb7316c",
   "metadata": {},
   "outputs": [
    {
     "data": {
      "text/plain": [
       "array([0, 1, 2, 3, 4, 5, 6, 7, 8, 9, 10, 11, 12], dtype=object)"
      ]
     },
     "execution_count": 34,
     "metadata": {},
     "output_type": "execute_result"
    }
   ],
   "source": [
    "np.unique(loan_data_strings[:,0])"
   ]
  },
  {
   "cell_type": "code",
   "execution_count": 35,
   "id": "b6145b1e-74da-4df7-b318-c7c6fcf62dd4",
   "metadata": {},
   "outputs": [],
   "source": [
    "#the missing value is filled with 0"
   ]
  },
  {
   "cell_type": "markdown",
   "id": "9517c34e-9fc7-486f-8aa3-2c0e35b315ae",
   "metadata": {},
   "source": [
    "# 2.Loan status"
   ]
  },
  {
   "cell_type": "code",
   "execution_count": 36,
   "id": "7da0eb1b-e4f3-40b4-afaa-26f1b08e9c2b",
   "metadata": {},
   "outputs": [
    {
     "data": {
      "text/plain": [
       "array(['Current', 'Current', 'Current', ..., 'Current', 'Current', 'Current'],\n",
       "      shape=(10000,), dtype=object)"
      ]
     },
     "execution_count": 36,
     "metadata": {},
     "output_type": "execute_result"
    }
   ],
   "source": [
    "loan_data_strings[:,1]"
   ]
  },
  {
   "cell_type": "code",
   "execution_count": 37,
   "id": "fbae5c82-35cb-438f-af04-4e745e9aea77",
   "metadata": {},
   "outputs": [
    {
     "data": {
      "text/plain": [
       "array(['', 'Charged Off', 'Current', 'Default', 'Fully Paid', 'In Grace Period', 'Issued',\n",
       "       'Late (16-30 days)', 'Late (31-120 days)'], dtype=object)"
      ]
     },
     "execution_count": 37,
     "metadata": {},
     "output_type": "execute_result"
    }
   ],
   "source": [
    "np.unique(loan_data_strings[:,1])"
   ]
  },
  {
   "cell_type": "markdown",
   "id": "132bdb62-7710-4d8c-80a5-2769a034642d",
   "metadata": {},
   "source": [
    "Regressions only care if the candidate is in a stable financial condition.\n",
    "we can use np.where() to assign a different number to each one.\n",
    "we need to split all possible values into either group(good vs bad)\n",
    "good(1):- current,fully paid,in grace period,issued,less than a month late\n",
    "bad(0):-chargedoff,default,missing value,late more than a month."
   ]
  },
  {
   "cell_type": "code",
   "execution_count": 39,
   "id": "48bf2f1f-fdcb-4e67-94c5-c29cd875e261",
   "metadata": {},
   "outputs": [],
   "source": [
    "status_bad=np.array([\"\",\"Charged Off\",\"Default\",\"Late (31-120 days)\"])\n",
    "status_good=np.array([\"Current\",\"Fully Paid\",\"In Grace Period\",\"Issued\",\"Late (16-30 days)\"])"
   ]
  },
  {
   "cell_type": "code",
   "execution_count": 40,
   "id": "88766afe-ddb3-4aa7-8feb-70609ee5ade4",
   "metadata": {},
   "outputs": [],
   "source": [
    "loan_data_strings[:,1]=np.where(np.isin(loan_data_strings[:,1],status_bad),0,1)"
   ]
  },
  {
   "cell_type": "code",
   "execution_count": 41,
   "id": "318bb236-d1c9-4238-bb77-758a5455176a",
   "metadata": {},
   "outputs": [
    {
     "data": {
      "text/plain": [
       "array([1, 1, 1, ..., 1, 1, 1], shape=(10000,), dtype=object)"
      ]
     },
     "execution_count": 41,
     "metadata": {},
     "output_type": "execute_result"
    }
   ],
   "source": [
    "loan_data_strings[:,1]"
   ]
  },
  {
   "cell_type": "code",
   "execution_count": 42,
   "id": "6b927807-3236-491e-8a7f-60d195608225",
   "metadata": {},
   "outputs": [
    {
     "data": {
      "text/plain": [
       "array([0, 1], dtype=object)"
      ]
     },
     "execution_count": 42,
     "metadata": {},
     "output_type": "execute_result"
    }
   ],
   "source": [
    "np.unique(loan_data_strings[:,1])"
   ]
  },
  {
   "cell_type": "markdown",
   "id": "32994ca6-4b0c-4719-a7d5-282b6e5a0e17",
   "metadata": {},
   "source": [
    "# 3.Term"
   ]
  },
  {
   "cell_type": "code",
   "execution_count": 43,
   "id": "dbd191db-e09a-4068-a5c3-2e5927370f38",
   "metadata": {},
   "outputs": [
    {
     "data": {
      "text/plain": [
       "array(['issue_date', 'loan_status', 'term', 'grade', 'sub_grade', 'verification_status', 'url',\n",
       "       'addr_state'], dtype='<U19')"
      ]
     },
     "execution_count": 43,
     "metadata": {},
     "output_type": "execute_result"
    }
   ],
   "source": [
    "header_strings"
   ]
  },
  {
   "cell_type": "code",
   "execution_count": 44,
   "id": "36efdec9-1c4c-4fcf-80d1-0f27720c02e4",
   "metadata": {},
   "outputs": [
    {
     "data": {
      "text/plain": [
       "array(['36 months', '36 months', '36 months', ..., '36 months', '36 months', '36 months'],\n",
       "      shape=(10000,), dtype=object)"
      ]
     },
     "execution_count": 44,
     "metadata": {},
     "output_type": "execute_result"
    }
   ],
   "source": [
    "loan_data_strings[:,2]"
   ]
  },
  {
   "cell_type": "code",
   "execution_count": 45,
   "id": "de410d91-1fe4-48f0-bcaf-aa4a92c94ec0",
   "metadata": {},
   "outputs": [
    {
     "data": {
      "text/plain": [
       "array(['', '36 months', '60 months'], dtype=object)"
      ]
     },
     "execution_count": 45,
     "metadata": {},
     "output_type": "execute_result"
    }
   ],
   "source": [
    "np.unique(loan_data_strings[:,2])"
   ]
  },
  {
   "cell_type": "code",
   "execution_count": 46,
   "id": "94cf31bf-19f2-4a7d-87d0-c372647fbc71",
   "metadata": {},
   "outputs": [],
   "source": [
    "loan_data_strings = loan_data_strings.astype(str)"
   ]
  },
  {
   "cell_type": "code",
   "execution_count": 47,
   "id": "b8dd1924-560c-477d-a93d-b3000a419162",
   "metadata": {},
   "outputs": [
    {
     "name": "stderr",
     "output_type": "stream",
     "text": [
      "C:\\Users\\ASUS\\AppData\\Local\\Temp\\ipykernel_4160\\508369555.py:1: DeprecationWarning: `np.chararray` is deprecated and will be removed from the main namespace in the future. Use an array with a string or bytes dtype instead.\n",
      "  loan_data_strings[:,2]=np.chararray.strip(loan_data_strings[:,2],\" months\")\n"
     ]
    }
   ],
   "source": [
    "loan_data_strings[:,2]=np.chararray.strip(loan_data_strings[:,2],\" months\")\n"
   ]
  },
  {
   "cell_type": "code",
   "execution_count": 48,
   "id": "fc2bcc76-b68c-47f5-84a5-b07ea38d650b",
   "metadata": {},
   "outputs": [
    {
     "data": {
      "text/plain": [
       "array(['', '36', '60'], dtype='<U69')"
      ]
     },
     "execution_count": 48,
     "metadata": {},
     "output_type": "execute_result"
    }
   ],
   "source": [
    "np.unique(loan_data_strings[:,2])"
   ]
  },
  {
   "cell_type": "markdown",
   "id": "cba438a7-a25f-4f72-94a4-0e91adc50462",
   "metadata": {},
   "source": [
    "i need to change the name of the column from term to term_months to make it descriptive.\n"
   ]
  },
  {
   "cell_type": "code",
   "execution_count": 49,
   "id": "dccdb9d1-e763-43e1-a510-6cfbdf086e20",
   "metadata": {},
   "outputs": [],
   "source": [
    "header_strings[2]=\"term_months\""
   ]
  },
  {
   "cell_type": "markdown",
   "id": "73ed9db1-4090-43c1-bf0c-a1a9033d2e31",
   "metadata": {},
   "source": [
    "we need to fill the empty space.in a CRM(credit risk modelling) we always assumes worst for missing values."
   ]
  },
  {
   "cell_type": "code",
   "execution_count": 50,
   "id": "ebf696b6-7987-42dd-b776-49e091f769f4",
   "metadata": {},
   "outputs": [],
   "source": [
    "loan_data_strings[:,2]=np.where(loan_data_strings[:,2]==\"\",'60',loan_data_strings[:,2])"
   ]
  },
  {
   "cell_type": "code",
   "execution_count": 51,
   "id": "5f576b27-8900-4137-ba6d-f4d27c8f8dd5",
   "metadata": {},
   "outputs": [
    {
     "data": {
      "text/plain": [
       "array(['36', '60'], dtype='<U69')"
      ]
     },
     "execution_count": 51,
     "metadata": {},
     "output_type": "execute_result"
    }
   ],
   "source": [
    "np.unique(loan_data_strings[:,2])"
   ]
  },
  {
   "cell_type": "markdown",
   "id": "ff6ced28-b4db-4304-a434-06c0837a4b9e",
   "metadata": {},
   "source": [
    "# 4.Grades"
   ]
  },
  {
   "cell_type": "code",
   "execution_count": 52,
   "id": "1a522397-f940-4cd3-8798-774fc94c044d",
   "metadata": {},
   "outputs": [
    {
     "data": {
      "text/plain": [
       "np.str_('grade')"
      ]
     },
     "execution_count": 52,
     "metadata": {},
     "output_type": "execute_result"
    }
   ],
   "source": [
    "header_strings[3]"
   ]
  },
  {
   "cell_type": "code",
   "execution_count": 53,
   "id": "8e4d0f20-8cef-4b73-9921-bacde0e23575",
   "metadata": {},
   "outputs": [
    {
     "data": {
      "text/plain": [
       "array(['C', 'A', 'B', ..., 'A', 'D', 'A'], shape=(10000,), dtype='<U69')"
      ]
     },
     "execution_count": 53,
     "metadata": {},
     "output_type": "execute_result"
    }
   ],
   "source": [
    "loan_data_strings[:,3]"
   ]
  },
  {
   "cell_type": "code",
   "execution_count": 54,
   "id": "88e8f30c-1a82-4d82-97ae-970fab7c117f",
   "metadata": {},
   "outputs": [
    {
     "data": {
      "text/plain": [
       "array(['', 'A', 'B', 'C', 'D', 'E', 'F', 'G'], dtype='<U69')"
      ]
     },
     "execution_count": 54,
     "metadata": {},
     "output_type": "execute_result"
    }
   ],
   "source": [
    "np.unique(loan_data_strings[:,3])"
   ]
  },
  {
   "cell_type": "code",
   "execution_count": 55,
   "id": "f4488086-8770-4d61-a711-7119feaefa88",
   "metadata": {},
   "outputs": [
    {
     "data": {
      "text/plain": [
       "array(['', 'A1', 'A2', 'A3', 'A4', 'A5', 'B1', 'B2', 'B3', 'B4', 'B5', 'C1', 'C2', 'C3', 'C4',\n",
       "       'C5', 'D1', 'D2', 'D3', 'D4', 'D5', 'E1', 'E2', 'E3', 'E4', 'E5', 'F1', 'F2', 'F3', 'F4',\n",
       "       'F5', 'G1', 'G2', 'G3', 'G4', 'G5'], dtype='<U69')"
      ]
     },
     "execution_count": 55,
     "metadata": {},
     "output_type": "execute_result"
    }
   ],
   "source": [
    "np.unique(loan_data_strings[:,4])"
   ]
  },
  {
   "cell_type": "markdown",
   "id": "27dad79f-649a-499a-856d-1045ad8e2050",
   "metadata": {},
   "source": [
    "# Filling subgrades"
   ]
  },
  {
   "cell_type": "code",
   "execution_count": 56,
   "id": "f7355d5c-dfa7-4052-a5c6-294a25c13042",
   "metadata": {},
   "outputs": [],
   "source": [
    "for i in np.unique(loan_data_strings[:,3])[1:]:\n",
    "    loan_data_strings[:,4]=np.where((loan_data_strings[:,4]==\"\")&(loan_data_strings[:,3]==i),\n",
    "                                    i+\"5\",\n",
    "                                    loan_data_strings[:,4]\n",
    "                                   )"
   ]
  },
  {
   "cell_type": "code",
   "execution_count": 59,
   "id": "dffb067c-d3f8-4576-af46-9db50051f19d",
   "metadata": {},
   "outputs": [
    {
     "data": {
      "text/plain": [
       "(array(['', 'A1', 'A2', 'A3', 'A4', 'A5', 'B1', 'B2', 'B3', 'B4', 'B5', 'C1', 'C2', 'C3', 'C4',\n",
       "        'C5', 'D1', 'D2', 'D3', 'D4', 'D5', 'E1', 'E2', 'E3', 'E4', 'E5', 'F1', 'F2', 'F3', 'F4',\n",
       "        'F5', 'G1', 'G2', 'G3', 'G4', 'G5'], dtype='<U69'),\n",
       " array([  9, 285, 278, 239, 323, 592, 509, 517, 530, 553, 633, 629, 567, 586, 564, 577, 391, 267,\n",
       "        250, 255, 288, 235, 162, 171, 139, 160,  94,  52,  34,  43,  24,  19,  10,   3,   7,   5]))"
      ]
     },
     "execution_count": 59,
     "metadata": {},
     "output_type": "execute_result"
    }
   ],
   "source": [
    "np.unique(loan_data_strings[:,4],return_counts=True)"
   ]
  },
  {
   "cell_type": "code",
   "execution_count": null,
   "id": "c2481eac-584b-4c86-96cd-5867563b8121",
   "metadata": {},
   "outputs": [],
   "source": [
    "# we need to create separate category for missing values...so H1"
   ]
  },
  {
   "cell_type": "code",
   "execution_count": 60,
   "id": "a5362f72-5184-4d9c-9118-e2f8914ac3a4",
   "metadata": {},
   "outputs": [],
   "source": [
    "loan_data_strings[:,4]=np.where(loan_data_strings[:,4]==\"\",\"H1\",loan_data_strings[:,4])"
   ]
  },
  {
   "cell_type": "code",
   "execution_count": 61,
   "id": "8769f895-d553-4f5c-93c6-a4da2f8343db",
   "metadata": {},
   "outputs": [
    {
     "data": {
      "text/plain": [
       "(array(['A1', 'A2', 'A3', 'A4', 'A5', 'B1', 'B2', 'B3', 'B4', 'B5', 'C1', 'C2', 'C3', 'C4', 'C5',\n",
       "        'D1', 'D2', 'D3', 'D4', 'D5', 'E1', 'E2', 'E3', 'E4', 'E5', 'F1', 'F2', 'F3', 'F4', 'F5',\n",
       "        'G1', 'G2', 'G3', 'G4', 'G5', 'H1'], dtype='<U69'),\n",
       " array([285, 278, 239, 323, 592, 509, 517, 530, 553, 633, 629, 567, 586, 564, 577, 391, 267, 250,\n",
       "        255, 288, 235, 162, 171, 139, 160,  94,  52,  34,  43,  24,  19,  10,   3,   7,   5,   9]))"
      ]
     },
     "execution_count": 61,
     "metadata": {},
     "output_type": "execute_result"
    }
   ],
   "source": [
    "np.unique(loan_data_strings[:,4],return_counts=True)"
   ]
  },
  {
   "cell_type": "markdown",
   "id": "6394dcc4-a8cb-4381-82e3-594ac139c3a0",
   "metadata": {},
   "source": [
    "# Removing grades"
   ]
  },
  {
   "cell_type": "code",
   "execution_count": 62,
   "id": "ea13ea22-db39-4e83-942e-2785fa7b4b0f",
   "metadata": {},
   "outputs": [],
   "source": [
    "loan_data_strings=np.delete(loan_data_strings,3,axis=1)\n"
   ]
  },
  {
   "cell_type": "code",
   "execution_count": 64,
   "id": "0ac77a0f-0cef-4832-b9bb-d90f19855402",
   "metadata": {},
   "outputs": [],
   "source": [
    "header_strings=np.delete(header_strings,3)"
   ]
  },
  {
   "cell_type": "code",
   "execution_count": 65,
   "id": "28685cfe-2bc6-4ce9-b143-f4e0ebe583e8",
   "metadata": {},
   "outputs": [
    {
     "data": {
      "text/plain": [
       "array(['C3', 'A5', 'B5', ..., 'A5', 'D2', 'A4'], shape=(10000,), dtype='<U69')"
      ]
     },
     "execution_count": 65,
     "metadata": {},
     "output_type": "execute_result"
    }
   ],
   "source": [
    "loan_data_strings[:,3]"
   ]
  },
  {
   "cell_type": "code",
   "execution_count": 66,
   "id": "c2ced6c7-eb52-49f8-a561-9df0e4782507",
   "metadata": {},
   "outputs": [
    {
     "data": {
      "text/plain": [
       "array(['issue_date', 'loan_status', 'term_months', 'sub_grade', 'verification_status', 'url',\n",
       "       'addr_state'], dtype='<U19')"
      ]
     },
     "execution_count": 66,
     "metadata": {},
     "output_type": "execute_result"
    }
   ],
   "source": [
    "header_strings"
   ]
  },
  {
   "cell_type": "markdown",
   "id": "402f3314-0f48-435c-a5fd-8ab123f9a034",
   "metadata": {},
   "source": [
    "# converting subgrades"
   ]
  },
  {
   "cell_type": "code",
   "execution_count": 67,
   "id": "6f927cbc-9c91-4f7f-92a9-4519eb1170dd",
   "metadata": {},
   "outputs": [
    {
     "data": {
      "text/plain": [
       "array(['A1', 'A2', 'A3', 'A4', 'A5', 'B1', 'B2', 'B3', 'B4', 'B5', 'C1', 'C2', 'C3', 'C4', 'C5',\n",
       "       'D1', 'D2', 'D3', 'D4', 'D5', 'E1', 'E2', 'E3', 'E4', 'E5', 'F1', 'F2', 'F3', 'F4', 'F5',\n",
       "       'G1', 'G2', 'G3', 'G4', 'G5', 'H1'], dtype='<U69')"
      ]
     },
     "execution_count": 67,
     "metadata": {},
     "output_type": "execute_result"
    }
   ],
   "source": [
    "np.unique(loan_data_strings[:,3])"
   ]
  },
  {
   "cell_type": "code",
   "execution_count": 71,
   "id": "d97ae93f-ae03-4cc5-a713-9d7daa90a653",
   "metadata": {},
   "outputs": [],
   "source": [
    "keys=list(np.unique(loan_data_strings[:,3]))\n",
    "values=list(range(1,np.unique(loan_data_strings[:,3]).shape[0]+1))\n",
    "dict_sub_grade=dict(zip(keys,values))"
   ]
  },
  {
   "cell_type": "code",
   "execution_count": 73,
   "id": "e5192b91-a8c4-4b0d-b37e-9267503e7e48",
   "metadata": {},
   "outputs": [
    {
     "data": {
      "text/plain": [
       "{np.str_('A1'): 1,\n",
       " np.str_('A2'): 2,\n",
       " np.str_('A3'): 3,\n",
       " np.str_('A4'): 4,\n",
       " np.str_('A5'): 5,\n",
       " np.str_('B1'): 6,\n",
       " np.str_('B2'): 7,\n",
       " np.str_('B3'): 8,\n",
       " np.str_('B4'): 9,\n",
       " np.str_('B5'): 10,\n",
       " np.str_('C1'): 11,\n",
       " np.str_('C2'): 12,\n",
       " np.str_('C3'): 13,\n",
       " np.str_('C4'): 14,\n",
       " np.str_('C5'): 15,\n",
       " np.str_('D1'): 16,\n",
       " np.str_('D2'): 17,\n",
       " np.str_('D3'): 18,\n",
       " np.str_('D4'): 19,\n",
       " np.str_('D5'): 20,\n",
       " np.str_('E1'): 21,\n",
       " np.str_('E2'): 22,\n",
       " np.str_('E3'): 23,\n",
       " np.str_('E4'): 24,\n",
       " np.str_('E5'): 25,\n",
       " np.str_('F1'): 26,\n",
       " np.str_('F2'): 27,\n",
       " np.str_('F3'): 28,\n",
       " np.str_('F4'): 29,\n",
       " np.str_('F5'): 30,\n",
       " np.str_('G1'): 31,\n",
       " np.str_('G2'): 32,\n",
       " np.str_('G3'): 33,\n",
       " np.str_('G4'): 34,\n",
       " np.str_('G5'): 35,\n",
       " np.str_('H1'): 36}"
      ]
     },
     "execution_count": 73,
     "metadata": {},
     "output_type": "execute_result"
    }
   ],
   "source": [
    "dict_sub_grade"
   ]
  },
  {
   "cell_type": "code",
   "execution_count": 76,
   "id": "64da7d8b-d433-40b0-8185-d8b72f790dc0",
   "metadata": {},
   "outputs": [],
   "source": [
    "for i in np.unique(loan_data_strings[:,3]):\n",
    "    loan_data_strings[:,3]=np.where(loan_data_strings[:,3]==i,\n",
    "                                    str(dict_sub_grade[i]),\n",
    "                                    loan_data_strings[:,3])"
   ]
  },
  {
   "cell_type": "code",
   "execution_count": 77,
   "id": "be77d14d-0c63-4b3b-ac23-9c6e1fcbc260",
   "metadata": {},
   "outputs": [
    {
     "data": {
      "text/plain": [
       "array(['1', '10', '11', '12', '13', '14', '15', '16', '17', '18', '19', '2', '20', '21', '22',\n",
       "       '23', '24', '25', '26', '27', '28', '29', '3', '30', '31', '32', '33', '34', '35', '36',\n",
       "       '4', '5', '6', '7', '8', '9'], dtype='<U69')"
      ]
     },
     "execution_count": 77,
     "metadata": {},
     "output_type": "execute_result"
    }
   ],
   "source": [
    "np.unique(loan_data_strings[:,3])"
   ]
  },
  {
   "cell_type": "markdown",
   "id": "710df29b-3ade-40dc-bf02-2e556d49a27b",
   "metadata": {},
   "source": [
    "# verification status"
   ]
  },
  {
   "cell_type": "code",
   "execution_count": 78,
   "id": "6e148b80-a922-427c-8083-d50fd6750c25",
   "metadata": {},
   "outputs": [
    {
     "data": {
      "text/plain": [
       "array(['Verified', 'Source Verified', 'Verified', ..., 'Source Verified', 'Source Verified', ''],\n",
       "      shape=(10000,), dtype='<U69')"
      ]
     },
     "execution_count": 78,
     "metadata": {},
     "output_type": "execute_result"
    }
   ],
   "source": [
    "loan_data_strings[:,4]"
   ]
  },
  {
   "cell_type": "code",
   "execution_count": 79,
   "id": "b1005902-9f88-4988-b129-6035aaf005b8",
   "metadata": {},
   "outputs": [
    {
     "data": {
      "text/plain": [
       "array(['', 'Not Verified', 'Source Verified', 'Verified'], dtype='<U69')"
      ]
     },
     "execution_count": 79,
     "metadata": {},
     "output_type": "execute_result"
    }
   ],
   "source": [
    "np.unique(loan_data_strings[:,4])"
   ]
  },
  {
   "cell_type": "code",
   "execution_count": 82,
   "id": "dbdbcf91-ec7c-4bd4-9ce0-be20815df87c",
   "metadata": {},
   "outputs": [],
   "source": [
    "loan_data_strings[:,4]=np.where((loan_data_strings[:,4]==\"\")|(loan_data_strings[:,4]==\"Not Verified\"),0,1)"
   ]
  },
  {
   "cell_type": "code",
   "execution_count": 83,
   "id": "c76ee5d7-28c2-4b86-a640-0b35faea8115",
   "metadata": {},
   "outputs": [
    {
     "data": {
      "text/plain": [
       "array(['0', '1'], dtype='<U69')"
      ]
     },
     "execution_count": 83,
     "metadata": {},
     "output_type": "execute_result"
    }
   ],
   "source": [
    "np.unique(loan_data_strings[:,4])"
   ]
  },
  {
   "cell_type": "markdown",
   "id": "88855d69-9f4d-47b7-8b50-91f57b9b7f35",
   "metadata": {},
   "source": [
    "# URL"
   ]
  },
  {
   "cell_type": "code",
   "execution_count": 84,
   "id": "8f1fb055-b06d-4bfa-8349-9cf10ec565f5",
   "metadata": {},
   "outputs": [
    {
     "data": {
      "text/plain": [
       "array(['https://www.lendingclub.com/browse/loanDetail.action?loan_id=48010226',\n",
       "       'https://www.lendingclub.com/browse/loanDetail.action?loan_id=57693261',\n",
       "       'https://www.lendingclub.com/browse/loanDetail.action?loan_id=59432726', ...,\n",
       "       'https://www.lendingclub.com/browse/loanDetail.action?loan_id=50415990',\n",
       "       'https://www.lendingclub.com/browse/loanDetail.action?loan_id=46154151',\n",
       "       'https://www.lendingclub.com/browse/loanDetail.action?loan_id=66055249'],\n",
       "      shape=(10000,), dtype='<U69')"
      ]
     },
     "execution_count": 84,
     "metadata": {},
     "output_type": "execute_result"
    }
   ],
   "source": [
    "loan_data_strings[:,5]"
   ]
  },
  {
   "cell_type": "code",
   "execution_count": 85,
   "id": "46843843-2b75-452b-9152-1f3d8aa468a0",
   "metadata": {},
   "outputs": [
    {
     "name": "stderr",
     "output_type": "stream",
     "text": [
      "C:\\Users\\ASUS\\AppData\\Local\\Temp\\ipykernel_4160\\351693894.py:1: DeprecationWarning: `np.chararray` is deprecated and will be removed from the main namespace in the future. Use an array with a string or bytes dtype instead.\n",
      "  np.chararray.strip(loan_data_strings[:,5],\"https://www.lendingclub.com/browse/loanDetail.action?loan_id=\")\n"
     ]
    },
    {
     "data": {
      "text/plain": [
       "array(['48010226', '57693261', '59432726', ..., '50415990', '46154151', '66055249'],\n",
       "      shape=(10000,), dtype='<U69')"
      ]
     },
     "execution_count": 85,
     "metadata": {},
     "output_type": "execute_result"
    }
   ],
   "source": [
    "np.chararray.strip(loan_data_strings[:,5],\"https://www.lendingclub.com/browse/loanDetail.action?loan_id=\")"
   ]
  },
  {
   "cell_type": "code",
   "execution_count": 87,
   "id": "a476921e-8417-4424-8ebd-55124b909e2d",
   "metadata": {},
   "outputs": [
    {
     "name": "stderr",
     "output_type": "stream",
     "text": [
      "C:\\Users\\ASUS\\AppData\\Local\\Temp\\ipykernel_4160\\1777435056.py:1: DeprecationWarning: `np.chararray` is deprecated and will be removed from the main namespace in the future. Use an array with a string or bytes dtype instead.\n",
      "  loan_data_strings[:,5]=np.chararray.strip(loan_data_strings[:,5],\"https://www.lendingclub.com/browse/loanDetail.action?loan_id=\")\n"
     ]
    }
   ],
   "source": [
    "loan_data_strings[:,5]=np.chararray.strip(loan_data_strings[:,5],\"https://www.lendingclub.com/browse/loanDetail.action?loan_id=\")"
   ]
  },
  {
   "cell_type": "code",
   "execution_count": 88,
   "id": "7f508163-5ae1-42e7-babb-ca93361b21de",
   "metadata": {},
   "outputs": [
    {
     "data": {
      "text/plain": [
       "array(['48010226', '57693261', '59432726', ..., '50415990', '46154151', '66055249'],\n",
       "      shape=(10000,), dtype='<U69')"
      ]
     },
     "execution_count": 88,
     "metadata": {},
     "output_type": "execute_result"
    }
   ],
   "source": [
    "loan_data_strings[:,5]"
   ]
  },
  {
   "cell_type": "code",
   "execution_count": 92,
   "id": "3c527830-1581-44a7-a627-61ad5534814f",
   "metadata": {},
   "outputs": [
    {
     "data": {
      "text/plain": [
       "array([48010226, 57693261, 59432726, ..., 50415990, 46154151, 66055249],\n",
       "      shape=(10000,), dtype=int32)"
      ]
     },
     "execution_count": 92,
     "metadata": {},
     "output_type": "execute_result"
    }
   ],
   "source": [
    "loan_data_numeric[:,0].astype(dtype=np.int32)"
   ]
  },
  {
   "cell_type": "code",
   "execution_count": 93,
   "id": "0e98ddd0-467c-45d9-a206-a8f89d71a4f3",
   "metadata": {},
   "outputs": [
    {
     "data": {
      "text/plain": [
       "array([48010226, 57693261, 59432726, ..., 50415990, 46154151, 66055249],\n",
       "      shape=(10000,), dtype=int32)"
      ]
     },
     "execution_count": 93,
     "metadata": {},
     "output_type": "execute_result"
    }
   ],
   "source": [
    "loan_data_strings[:,5].astype(dtype=np.int32)"
   ]
  },
  {
   "cell_type": "code",
   "execution_count": 94,
   "id": "0bcbbc9e-eae6-4014-866f-c9cd6b9d39fd",
   "metadata": {},
   "outputs": [
    {
     "data": {
      "text/plain": [
       "True"
      ]
     },
     "execution_count": 94,
     "metadata": {},
     "output_type": "execute_result"
    }
   ],
   "source": [
    "np.array_equal(loan_data_numeric[:,0].astype(dtype=np.int32),loan_data_strings[:,5].astype(dtype=np.int32))"
   ]
  },
  {
   "cell_type": "code",
   "execution_count": 116,
   "id": "16b034bc-059d-4ce3-ac7e-5f40477d84f7",
   "metadata": {},
   "outputs": [],
   "source": [
    "#since URL holds same as loan_id we will delete url\n"
   ]
  },
  {
   "cell_type": "code",
   "execution_count": null,
   "id": "05ef1add-b14d-4704-b07e-d217b0f2e812",
   "metadata": {},
   "outputs": [],
   "source": [
    "loan_data_strings=np.delete(loan_data_strings,5,axis=1)\n",
    "header_strings=np.delete(header_strings,5)"
   ]
  },
  {
   "cell_type": "code",
   "execution_count": 117,
   "id": "3a653328-9ceb-48ea-937b-d2af318b003b",
   "metadata": {},
   "outputs": [
    {
     "data": {
      "text/plain": [
       "array([['5', '1', '36', '13', '1', 'CA'],\n",
       "       ['0', '1', '36', '5', '1', 'NY'],\n",
       "       ['9', '1', '36', '10', '1', 'PA'],\n",
       "       ...,\n",
       "       ['6', '1', '36', '5', '1', 'CA'],\n",
       "       ['4', '1', '36', '17', '1', 'OH'],\n",
       "       ['12', '1', '36', '4', '0', 'IL']], shape=(10000, 6), dtype='<U69')"
      ]
     },
     "execution_count": 117,
     "metadata": {},
     "output_type": "execute_result"
    }
   ],
   "source": [
    "loan_data_strings\n"
   ]
  },
  {
   "cell_type": "markdown",
   "id": "dea392a0-fa5e-424f-b645-ba7693736aa6",
   "metadata": {},
   "source": [
    "# State Address"
   ]
  },
  {
   "cell_type": "code",
   "execution_count": 118,
   "id": "22e8e152-28a1-4e73-8de3-03476d430875",
   "metadata": {},
   "outputs": [
    {
     "data": {
      "text/plain": [
       "array(['issue_date', 'loan_status', 'term_months', 'sub_grade', 'verification_status',\n",
       "       'addr_state'], dtype='<U19')"
      ]
     },
     "execution_count": 118,
     "metadata": {},
     "output_type": "execute_result"
    }
   ],
   "source": [
    "header_strings"
   ]
  },
  {
   "cell_type": "code",
   "execution_count": 120,
   "id": "be07ce82-d165-4aed-a400-994e58109b0f",
   "metadata": {},
   "outputs": [
    {
     "data": {
      "text/plain": [
       "array(['CA', 'NY', 'PA', ..., 'CA', 'OH', 'IL'], shape=(10000,), dtype='<U69')"
      ]
     },
     "execution_count": 120,
     "metadata": {},
     "output_type": "execute_result"
    }
   ],
   "source": [
    "loan_data_strings[:,5]"
   ]
  },
  {
   "cell_type": "code",
   "execution_count": 122,
   "id": "46755aa4-e8fe-429a-8532-fac162b03c3a",
   "metadata": {},
   "outputs": [
    {
     "data": {
      "text/plain": [
       "array(['', 'AK', 'AL', 'AR', 'AZ', 'CA', 'CO', 'CT', 'DC', 'DE', 'FL', 'GA', 'HI', 'IL', 'IN',\n",
       "       'KS', 'KY', 'LA', 'MA', 'MD', 'ME', 'MI', 'MN', 'MO', 'MS', 'MT', 'NC', 'ND', 'NE', 'NH',\n",
       "       'NJ', 'NM', 'NV', 'NY', 'OH', 'OK', 'OR', 'PA', 'RI', 'SC', 'SD', 'TN', 'TX', 'UT', 'VA',\n",
       "       'VT', 'WA', 'WI', 'WV', 'WY'], dtype='<U69')"
      ]
     },
     "execution_count": 122,
     "metadata": {},
     "output_type": "execute_result"
    }
   ],
   "source": [
    "np.unique(loan_data_strings[:,5])"
   ]
  },
  {
   "cell_type": "code",
   "execution_count": 123,
   "id": "71d1e406-0989-4745-bc5b-98a889c61ccc",
   "metadata": {},
   "outputs": [
    {
     "data": {
      "text/plain": [
       "50"
      ]
     },
     "execution_count": 123,
     "metadata": {},
     "output_type": "execute_result"
    }
   ],
   "source": [
    "np.unique(loan_data_strings[:,5]).size"
   ]
  },
  {
   "cell_type": "code",
   "execution_count": 124,
   "id": "a2ff8ca3-7535-4c71-88d6-55ea1ef73ed0",
   "metadata": {},
   "outputs": [
    {
     "data": {
      "text/plain": [
       "(array(['', 'AK', 'AL', 'AR', 'AZ', 'CA', 'CO', 'CT', 'DC', 'DE', 'FL', 'GA', 'HI', 'IL', 'IN',\n",
       "        'KS', 'KY', 'LA', 'MA', 'MD', 'ME', 'MI', 'MN', 'MO', 'MS', 'MT', 'NC', 'ND', 'NE', 'NH',\n",
       "        'NJ', 'NM', 'NV', 'NY', 'OH', 'OK', 'OR', 'PA', 'RI', 'SC', 'SD', 'TN', 'TX', 'UT', 'VA',\n",
       "        'VT', 'WA', 'WI', 'WV', 'WY'], dtype='<U69'),\n",
       " array([ 500,   26,  119,   74,  220, 1336,  201,  143,   27,   27,  690,  321,   44,  389,  152,\n",
       "          84,   84,  116,  210,  222,   10,  267,  156,  160,   61,   28,  261,   16,   25,   58,\n",
       "         341,   57,  130,  777,  312,   83,  108,  320,   40,  107,   24,  143,  758,   74,  242,\n",
       "          17,  216,  148,   49,   27]))"
      ]
     },
     "execution_count": 124,
     "metadata": {},
     "output_type": "execute_result"
    }
   ],
   "source": [
    "np.unique(loan_data_strings[:,5],return_counts=True)"
   ]
  },
  {
   "cell_type": "code",
   "execution_count": 125,
   "id": "d96effc8-cd8f-45a9-b489-c33b2b01e3f1",
   "metadata": {},
   "outputs": [],
   "source": [
    "states_names,states_count=np.unique(loan_data_strings[:,5],return_counts=True)"
   ]
  },
  {
   "cell_type": "code",
   "execution_count": 126,
   "id": "c8e95e8a-07aa-4cf2-9f71-5bd3bc0b45b7",
   "metadata": {},
   "outputs": [],
   "source": [
    "states_count_sorted=np.argsort(-states_count)"
   ]
  },
  {
   "cell_type": "code",
   "execution_count": 127,
   "id": "580928f5-e614-414b-93dd-6f9843113c50",
   "metadata": {},
   "outputs": [
    {
     "data": {
      "text/plain": [
       "(array(['CA', 'NY', 'TX', 'FL', '', 'IL', 'NJ', 'GA', 'PA', 'OH', 'MI', 'NC', 'VA', 'MD', 'AZ',\n",
       "        'WA', 'MA', 'CO', 'MO', 'MN', 'IN', 'WI', 'TN', 'CT', 'NV', 'AL', 'LA', 'OR', 'SC', 'KY',\n",
       "        'KS', 'OK', 'UT', 'AR', 'MS', 'NH', 'NM', 'WV', 'HI', 'RI', 'MT', 'DC', 'DE', 'WY', 'AK',\n",
       "        'NE', 'SD', 'VT', 'ND', 'ME'], dtype='<U69'),\n",
       " array([1336,  777,  758,  690,  500,  389,  341,  321,  320,  312,  267,  261,  242,  222,  220,\n",
       "         216,  210,  201,  160,  156,  152,  148,  143,  143,  130,  119,  116,  108,  107,   84,\n",
       "          84,   83,   74,   74,   61,   58,   57,   49,   44,   40,   28,   27,   27,   27,   26,\n",
       "          25,   24,   17,   16,   10]))"
      ]
     },
     "execution_count": 127,
     "metadata": {},
     "output_type": "execute_result"
    }
   ],
   "source": [
    "states_names[states_count_sorted],states_count[states_count_sorted]"
   ]
  },
  {
   "cell_type": "code",
   "execution_count": 129,
   "id": "51a5f6f6-1834-4721-9977-b0967888d0ae",
   "metadata": {},
   "outputs": [],
   "source": [
    "loan_data_strings[:,5]=np.where(loan_data_strings[:,5]==\"\",'0',loan_data_strings[:,5])"
   ]
  },
  {
   "cell_type": "code",
   "execution_count": 130,
   "id": "6118a596-9569-4b73-92e4-65819a2ed181",
   "metadata": {},
   "outputs": [],
   "source": [
    "states_west = np.array(['WA', 'OR','CA','NV','ID','MT', 'WY','UT','CO', 'AZ','NM','HI','AK'])\n",
    "states_south = np.array(['TX','OK','AR','LA','MS','AL','TN','KY','FL','GA','SC','NC','VA','WV','MD','DE','DC'])\n",
    "states_midwest = np.array(['ND','SD','NE','KS','MN','IA','MO','WI','IL','IN','MI','OH'])\n",
    "states_east = np.array(['PA','NY','NJ','CT','MA','VT','NH','ME','RI'])"
   ]
  },
  {
   "cell_type": "code",
   "execution_count": 133,
   "id": "fb1efee2-db53-4b0f-9e92-56fd9a5af857",
   "metadata": {},
   "outputs": [],
   "source": [
    "loan_data_strings[:,5]=np.where(np.isin(loan_data_strings[:,5],states_west),'1',loan_data_strings[:,5])\n",
    "loan_data_strings[:,5]=np.where(np.isin(loan_data_strings[:,5],states_south),'2',loan_data_strings[:,5])\n",
    "loan_data_strings[:,5]=np.where(np.isin(loan_data_strings[:,5],states_midwest),'3',loan_data_strings[:,5])\n",
    "loan_data_strings[:,5]=np.where(np.isin(loan_data_strings[:,5],states_east),'4',loan_data_strings[:,5])"
   ]
  },
  {
   "cell_type": "code",
   "execution_count": 135,
   "id": "e210c2e2-d3e3-447a-bca4-58593bd1a684",
   "metadata": {},
   "outputs": [
    {
     "data": {
      "text/plain": [
       "array(['0', '1', '2', '3', '4'], dtype='<U69')"
      ]
     },
     "execution_count": 135,
     "metadata": {},
     "output_type": "execute_result"
    }
   ],
   "source": [
    "np.unique(loan_data_strings[:,5])"
   ]
  },
  {
   "cell_type": "markdown",
   "id": "68eba411-7ae0-4a9a-b693-b886f1e44567",
   "metadata": {},
   "source": [
    "# Converting to numbers"
   ]
  },
  {
   "cell_type": "code",
   "execution_count": 136,
   "id": "77496d97-e69e-49a3-8298-4923ca4e2202",
   "metadata": {},
   "outputs": [
    {
     "data": {
      "text/plain": [
       "array([['5', '1', '36', '13', '1', '1'],\n",
       "       ['0', '1', '36', '5', '1', '4'],\n",
       "       ['9', '1', '36', '10', '1', '4'],\n",
       "       ...,\n",
       "       ['6', '1', '36', '5', '1', '1'],\n",
       "       ['4', '1', '36', '17', '1', '3'],\n",
       "       ['12', '1', '36', '4', '0', '3']], shape=(10000, 6), dtype='<U69')"
      ]
     },
     "execution_count": 136,
     "metadata": {},
     "output_type": "execute_result"
    }
   ],
   "source": [
    "loan_data_strings"
   ]
  },
  {
   "cell_type": "code",
   "execution_count": 139,
   "id": "85367c07-73eb-40a2-b8a9-52e67fcc5968",
   "metadata": {},
   "outputs": [],
   "source": [
    "loan_data_strings=loan_data_strings.astype(dtype=np.int32)"
   ]
  },
  {
   "cell_type": "code",
   "execution_count": 140,
   "id": "d474301c-4f6b-4e00-a7a7-e0ec0399d066",
   "metadata": {},
   "outputs": [
    {
     "data": {
      "text/plain": [
       "array([[ 5,  1, 36, 13,  1,  1],\n",
       "       [ 0,  1, 36,  5,  1,  4],\n",
       "       [ 9,  1, 36, 10,  1,  4],\n",
       "       ...,\n",
       "       [ 6,  1, 36,  5,  1,  1],\n",
       "       [ 4,  1, 36, 17,  1,  3],\n",
       "       [12,  1, 36,  4,  0,  3]], shape=(10000, 6), dtype=int32)"
      ]
     },
     "execution_count": 140,
     "metadata": {},
     "output_type": "execute_result"
    }
   ],
   "source": [
    "loan_data_strings"
   ]
  },
  {
   "cell_type": "markdown",
   "id": "0467bd11-171f-43a4-a036-55f1c479f4a1",
   "metadata": {},
   "source": [
    "# checkpoint1:Strings"
   ]
  },
  {
   "cell_type": "code",
   "execution_count": 142,
   "id": "03fd0c90-27c7-47dc-a0b3-94211438f989",
   "metadata": {},
   "outputs": [],
   "source": [
    "checkpoint_strings=checkpoint(\"checkpoint-strings\",header_strings,loan_data_strings)"
   ]
  },
  {
   "cell_type": "code",
   "execution_count": 143,
   "id": "0e817d48-4d97-45ce-aaf0-e92916ae4b02",
   "metadata": {},
   "outputs": [
    {
     "data": {
      "text/plain": [
       "NpzFile 'checkpoint-strings.npz' with keys: header, data"
      ]
     },
     "execution_count": 143,
     "metadata": {},
     "output_type": "execute_result"
    }
   ],
   "source": [
    "checkpoint_strings"
   ]
  },
  {
   "cell_type": "code",
   "execution_count": 144,
   "id": "14745300-00d6-4ff2-86d8-db9c12088d5f",
   "metadata": {},
   "outputs": [
    {
     "data": {
      "text/plain": [
       "array(['issue_date', 'loan_status', 'term_months', 'sub_grade', 'verification_status',\n",
       "       'addr_state'], dtype='<U19')"
      ]
     },
     "execution_count": 144,
     "metadata": {},
     "output_type": "execute_result"
    }
   ],
   "source": [
    "checkpoint_strings[\"header\"]"
   ]
  },
  {
   "cell_type": "code",
   "execution_count": 145,
   "id": "f4f26fcc-1bb9-4a6b-a47b-fdfd8a41d6b2",
   "metadata": {},
   "outputs": [
    {
     "data": {
      "text/plain": [
       "array([[ 5,  1, 36, 13,  1,  1],\n",
       "       [ 0,  1, 36,  5,  1,  4],\n",
       "       [ 9,  1, 36, 10,  1,  4],\n",
       "       ...,\n",
       "       [ 6,  1, 36,  5,  1,  1],\n",
       "       [ 4,  1, 36, 17,  1,  3],\n",
       "       [12,  1, 36,  4,  0,  3]], shape=(10000, 6), dtype=int32)"
      ]
     },
     "execution_count": 145,
     "metadata": {},
     "output_type": "execute_result"
    }
   ],
   "source": [
    "checkpoint_strings[\"data\"]"
   ]
  },
  {
   "cell_type": "markdown",
   "id": "ad1707ba-3652-4f59-aac9-fde68e6a9ac8",
   "metadata": {},
   "source": [
    "# manipulating numeric values"
   ]
  },
  {
   "cell_type": "code",
   "execution_count": 146,
   "id": "42e2a891-20ec-4df7-affa-fe4fb1032748",
   "metadata": {},
   "outputs": [
    {
     "data": {
      "text/plain": [
       "array([[48010226.  ,    35000.  ,    35000.  ,       13.33,     1184.86,     9452.96],\n",
       "       [57693261.  ,    30000.  ,    30000.  , 68616520.  ,      938.57,     4679.7 ],\n",
       "       [59432726.  ,    15000.  ,    15000.  , 68616520.  ,      494.86,     1969.83],\n",
       "       ...,\n",
       "       [50415990.  ,    10000.  ,    10000.  , 68616520.  , 68616520.  ,     2185.64],\n",
       "       [46154151.  , 68616520.  ,    10000.  ,       16.55,      354.3 ,     3199.4 ],\n",
       "       [66055249.  ,    10000.  ,    10000.  , 68616520.  ,      309.97,      301.9 ]],\n",
       "      shape=(10000, 6))"
      ]
     },
     "execution_count": 146,
     "metadata": {},
     "output_type": "execute_result"
    }
   ],
   "source": [
    "loan_data_numeric"
   ]
  },
  {
   "cell_type": "code",
   "execution_count": 147,
   "id": "73040caf-80d6-4f6f-b8eb-77b625e08fd7",
   "metadata": {},
   "outputs": [
    {
     "data": {
      "text/plain": [
       "np.int64(0)"
      ]
     },
     "execution_count": 147,
     "metadata": {},
     "output_type": "execute_result"
    }
   ],
   "source": [
    "np.isnan(loan_data_numeric).sum()"
   ]
  },
  {
   "cell_type": "code",
   "execution_count": 148,
   "id": "5e816287-b78f-437a-bca4-71d4c837e22a",
   "metadata": {},
   "outputs": [],
   "source": [
    "#it is zero because when we split the dataset we filled with temporary_filling.we need to fill those\n",
    "#with worst case."
   ]
  },
  {
   "cell_type": "markdown",
   "id": "dbe3a0fb-3ba9-4b7a-8b65-739dab644f88",
   "metadata": {},
   "source": [
    "# Substitute filler values."
   ]
  },
  {
   "cell_type": "code",
   "execution_count": 149,
   "id": "62b1a963-92aa-4226-8082-c097ab7bd1c6",
   "metadata": {},
   "outputs": [
    {
     "data": {
      "text/plain": [
       "array(['id', 'loan_amnt', 'funded_amnt', 'int_rate', 'installment', 'total_pymnt'], dtype='<U19')"
      ]
     },
     "execution_count": 149,
     "metadata": {},
     "output_type": "execute_result"
    }
   ],
   "source": [
    "header_numeric"
   ]
  },
  {
   "cell_type": "markdown",
   "id": "d4236541-9ede-4c07-8ed1-cd16b02d96f4",
   "metadata": {},
   "source": [
    "# ID"
   ]
  },
  {
   "cell_type": "code",
   "execution_count": 150,
   "id": "5a11eb23-dc87-48f5-a50e-4d16d76f8d11",
   "metadata": {},
   "outputs": [
    {
     "data": {
      "text/plain": [
       "np.float64(68616520.0)"
      ]
     },
     "execution_count": 150,
     "metadata": {},
     "output_type": "execute_result"
    }
   ],
   "source": [
    "temporary_fill"
   ]
  },
  {
   "cell_type": "code",
   "execution_count": 151,
   "id": "0fcfd4a7-131c-44f0-8c38-2dc119d606e1",
   "metadata": {},
   "outputs": [
    {
     "data": {
      "text/plain": [
       "array([False, False, False, ..., False, False, False], shape=(10000,))"
      ]
     },
     "execution_count": 151,
     "metadata": {},
     "output_type": "execute_result"
    }
   ],
   "source": [
    "np.isin(loan_data_numeric[:,0],temporary_fill)"
   ]
  },
  {
   "cell_type": "code",
   "execution_count": 152,
   "id": "948c4acf-8a02-43b5-bca8-bc6783ba5c42",
   "metadata": {},
   "outputs": [
    {
     "data": {
      "text/plain": [
       "np.int64(0)"
      ]
     },
     "execution_count": 152,
     "metadata": {},
     "output_type": "execute_result"
    }
   ],
   "source": [
    "np.isin(loan_data_numeric[:,0],temporary_fill).sum()"
   ]
  },
  {
   "cell_type": "code",
   "execution_count": null,
   "id": "255ae091-6ebc-43d3-8e20-bc864733e27d",
   "metadata": {},
   "outputs": [],
   "source": [
    "#since it is zero we dont need to fill any values."
   ]
  },
  {
   "cell_type": "markdown",
   "id": "476491fc-ac98-4eb5-be93-661d56e21567",
   "metadata": {},
   "source": [
    "# Temporary Stats"
   ]
  },
  {
   "cell_type": "code",
   "execution_count": 159,
   "id": "4041f493-b1b1-4159-8d7d-7cc2915ce31e",
   "metadata": {},
   "outputs": [
    {
     "data": {
      "text/plain": [
       "array([[  373332.  ,     1000.  ,     1000.  ,        6.  ,       31.42,        0.  ],\n",
       "       [54015809.19,    15273.46,    15311.04,       16.62,      440.92,     3143.85],\n",
       "       [68616519.  ,    35000.  ,    35000.  ,       28.99,     1372.97,    41913.62]])"
      ]
     },
     "execution_count": 159,
     "metadata": {},
     "output_type": "execute_result"
    }
   ],
   "source": [
    "temporary_stats[:,column_numeric]"
   ]
  },
  {
   "cell_type": "markdown",
   "id": "1abad065-42c6-4e69-af29-5add64a0d5e4",
   "metadata": {},
   "source": [
    "# Funded amount"
   ]
  },
  {
   "cell_type": "code",
   "execution_count": 156,
   "id": "a54dcd8b-fa66-40d1-a8de-d068989924b9",
   "metadata": {},
   "outputs": [
    {
     "data": {
      "text/plain": [
       "array([35000., 30000., 15000., ..., 10000., 10000., 10000.], shape=(10000,))"
      ]
     },
     "execution_count": 156,
     "metadata": {},
     "output_type": "execute_result"
    }
   ],
   "source": [
    "loan_data_numeric[:,2]"
   ]
  },
  {
   "cell_type": "code",
   "execution_count": 160,
   "id": "b0dac437-4260-424c-afbe-d76e154c5c00",
   "metadata": {},
   "outputs": [],
   "source": [
    "loan_data_numeric[:,2]=np.where(loan_data_numeric[:,2]==temporary_fill,\n",
    "                                temporary_stats[0,column_numeric[2]],\n",
    "                                loan_data_numeric[:,2])"
   ]
  },
  {
   "cell_type": "code",
   "execution_count": 161,
   "id": "1cfdd4cb-0127-4de6-848c-708c61552002",
   "metadata": {},
   "outputs": [
    {
     "data": {
      "text/plain": [
       "array([35000., 30000., 15000., ..., 10000., 10000., 10000.], shape=(10000,))"
      ]
     },
     "execution_count": 161,
     "metadata": {},
     "output_type": "execute_result"
    }
   ],
   "source": [
    "loan_data_numeric[:,2]"
   ]
  },
  {
   "cell_type": "code",
   "execution_count": 164,
   "id": "1b62c56d-b131-4433-aff0-88e4e5cd1417",
   "metadata": {},
   "outputs": [
    {
     "data": {
      "text/plain": [
       "np.float64(6.0)"
      ]
     },
     "execution_count": 164,
     "metadata": {},
     "output_type": "execute_result"
    }
   ],
   "source": [
    "temporary_stats[0,column_numeric[3]]"
   ]
  },
  {
   "cell_type": "markdown",
   "id": "baac63ea-3533-4066-ba5c-286fe44f996f",
   "metadata": {},
   "source": [
    "# Loan amount,interest rate,total payment,installment"
   ]
  },
  {
   "cell_type": "code",
   "execution_count": 166,
   "id": "907e1713-efbb-4424-9509-b2738fafd815",
   "metadata": {},
   "outputs": [
    {
     "data": {
      "text/plain": [
       "array(['id', 'loan_amnt', 'funded_amnt', 'int_rate', 'installment', 'total_pymnt'], dtype='<U19')"
      ]
     },
     "execution_count": 166,
     "metadata": {},
     "output_type": "execute_result"
    }
   ],
   "source": [
    "header_numeric"
   ]
  },
  {
   "cell_type": "code",
   "execution_count": 167,
   "id": "bc3f48ab-2bf5-46fb-9f90-95f5a5ea381a",
   "metadata": {},
   "outputs": [],
   "source": [
    "for i in [1,3,4,5]:\n",
    "    loan_data_numeric[:,i]=np.where(loan_data_numeric[:,i]==temporary_fill,\n",
    "                                    temporary_stats[2,column_numeric[i]],\n",
    "                                    loan_data_numeric[:,i]\n",
    "                                   )"
   ]
  },
  {
   "cell_type": "code",
   "execution_count": 168,
   "id": "7142d7d8-1abc-4e40-9654-d9b89e125a44",
   "metadata": {},
   "outputs": [
    {
     "data": {
      "text/plain": [
       "array([[48010226.  ,    35000.  ,    35000.  ,       13.33,     1184.86,     9452.96],\n",
       "       [57693261.  ,    30000.  ,    30000.  ,       28.99,      938.57,     4679.7 ],\n",
       "       [59432726.  ,    15000.  ,    15000.  ,       28.99,      494.86,     1969.83],\n",
       "       ...,\n",
       "       [50415990.  ,    10000.  ,    10000.  ,       28.99,     1372.97,     2185.64],\n",
       "       [46154151.  ,    35000.  ,    10000.  ,       16.55,      354.3 ,     3199.4 ],\n",
       "       [66055249.  ,    10000.  ,    10000.  ,       28.99,      309.97,      301.9 ]],\n",
       "      shape=(10000, 6))"
      ]
     },
     "execution_count": 168,
     "metadata": {},
     "output_type": "execute_result"
    }
   ],
   "source": [
    "loan_data_numeric"
   ]
  },
  {
   "cell_type": "markdown",
   "id": "0a559ddc-9ca3-48ca-86a8-7639f85d7fee",
   "metadata": {},
   "source": [
    "# Currency Change"
   ]
  },
  {
   "cell_type": "markdown",
   "id": "11fdebed-f61c-4db9-8fa5-46e304ac15e1",
   "metadata": {},
   "source": [
    "Convert dollars to euros"
   ]
  },
  {
   "cell_type": "code",
   "execution_count": 181,
   "id": "19d309cb-56c4-44fe-94eb-cc98d99d79f0",
   "metadata": {},
   "outputs": [
    {
     "data": {
      "text/plain": [
       "array([1.13, 1.12, 1.08, 1.11, 1.1 , 1.12, 1.09, 1.13, 1.13, 1.1 , 1.06, 1.09])"
      ]
     },
     "execution_count": 181,
     "metadata": {},
     "output_type": "execute_result"
    }
   ],
   "source": [
    "filename1=r\"D:\\dataanalyst\\Data Analyst Course\\S28 - A Loan Data Example with NumPy\\EUR-USD.csv\"\n",
    "EUR_USD=np.genfromtxt(filename1,delimiter=',',autostrip=True,skip_header=1,usecols=3)\n",
    "EUR_USD"
   ]
  },
  {
   "cell_type": "code",
   "execution_count": 182,
   "id": "d558a776-0af8-47eb-bd1d-b14b2ece092e",
   "metadata": {},
   "outputs": [
    {
     "data": {
      "text/plain": [
       "array([ 5,  0,  9, ...,  6,  4, 12], shape=(10000,), dtype=int32)"
      ]
     },
     "execution_count": 182,
     "metadata": {},
     "output_type": "execute_result"
    }
   ],
   "source": [
    "loan_data_strings[:,0]"
   ]
  },
  {
   "cell_type": "code",
   "execution_count": 183,
   "id": "b1f10891-7d96-4579-b93a-f9311bc578c8",
   "metadata": {},
   "outputs": [],
   "source": [
    "exchange_rate=loan_data_strings[:,0]\n"
   ]
  },
  {
   "cell_type": "code",
   "execution_count": 184,
   "id": "6b8a9bac-5130-450a-ab18-865d43200553",
   "metadata": {},
   "outputs": [
    {
     "data": {
      "text/plain": [
       "array([1.1 , 1.11, 1.13, ..., 1.12, 1.11, 1.09], shape=(10000,))"
      ]
     },
     "execution_count": 184,
     "metadata": {},
     "output_type": "execute_result"
    }
   ],
   "source": [
    "for i in range(1,13):\n",
    "    exchange_rate=np.where(exchange_rate==i,\n",
    "                           EUR_USD[i-1],\n",
    "                           exchange_rate)\n",
    "exchange_rate=np.where(exchange_rate==0,\n",
    "                       np.mean(EUR_USD),\n",
    "                       exchange_rate)\n",
    "exchange_rate"
   ]
  },
  {
   "cell_type": "code",
   "execution_count": 185,
   "id": "c84cc0c9-9b69-424e-b41a-8f7f76a55105",
   "metadata": {},
   "outputs": [
    {
     "data": {
      "text/plain": [
       "(10000,)"
      ]
     },
     "execution_count": 185,
     "metadata": {},
     "output_type": "execute_result"
    }
   ],
   "source": [
    "exchange_rate.shape"
   ]
  },
  {
   "cell_type": "code",
   "execution_count": 186,
   "id": "8b77e883-a05b-4df2-98d5-d6c646dcca82",
   "metadata": {},
   "outputs": [
    {
     "data": {
      "text/plain": [
       "(10000, 6)"
      ]
     },
     "execution_count": 186,
     "metadata": {},
     "output_type": "execute_result"
    }
   ],
   "source": [
    "loan_data_numeric.shape"
   ]
  },
  {
   "cell_type": "code",
   "execution_count": 187,
   "id": "a25072c4-74f3-42b4-84ce-571bce8ae95a",
   "metadata": {},
   "outputs": [],
   "source": [
    "exchange_rate=np.reshape(exchange_rate,(10000,1))"
   ]
  },
  {
   "cell_type": "code",
   "execution_count": 188,
   "id": "288e2304-e478-4767-8a88-39c8a4d87ff7",
   "metadata": {},
   "outputs": [],
   "source": [
    "loan_data_numeric=np.hstack((loan_data_numeric,exchange_rate))"
   ]
  },
  {
   "cell_type": "code",
   "execution_count": 191,
   "id": "d357fd5e-7d40-47d5-affb-71b11c9aa2c0",
   "metadata": {},
   "outputs": [],
   "source": [
    "header_numeric=np.concatenate((header_numeric,np.array([\"exchange_rate\"])))"
   ]
  },
  {
   "cell_type": "code",
   "execution_count": 192,
   "id": "bd6f0230-25ff-446c-a3f9-d9a32d46a72c",
   "metadata": {},
   "outputs": [
    {
     "data": {
      "text/plain": [
       "array(['id', 'loan_amnt', 'funded_amnt', 'int_rate', 'installment', 'total_pymnt', 'exchange_rate'],\n",
       "      dtype='<U19')"
      ]
     },
     "execution_count": 192,
     "metadata": {},
     "output_type": "execute_result"
    }
   ],
   "source": [
    "header_numeric"
   ]
  },
  {
   "cell_type": "markdown",
   "id": "6997d9f5-55cc-4541-a8ec-39955b7e0cef",
   "metadata": {},
   "source": [
    "Currency change from USD to EUR"
   ]
  },
  {
   "cell_type": "code",
   "execution_count": 194,
   "id": "dba4511c-28b6-44bc-a43f-c187bc6cc963",
   "metadata": {},
   "outputs": [
    {
     "data": {
      "text/plain": [
       "array(['id', 'loan_amnt', 'funded_amnt', 'int_rate', 'installment', 'total_pymnt', 'exchange_rate'],\n",
       "      dtype='<U19')"
      ]
     },
     "execution_count": 194,
     "metadata": {},
     "output_type": "execute_result"
    }
   ],
   "source": [
    "header_numeric"
   ]
  },
  {
   "cell_type": "code",
   "execution_count": 195,
   "id": "ca60fe45-08b0-4296-ae91-2a684b11cd43",
   "metadata": {},
   "outputs": [],
   "source": [
    "column_dollar=np.array([1,2,4,5])"
   ]
  },
  {
   "cell_type": "code",
   "execution_count": 197,
   "id": "45fc4ceb-6b47-45e0-b12c-1196e83b82ff",
   "metadata": {},
   "outputs": [
    {
     "data": {
      "text/plain": [
       "array([1.1 , 1.11, 1.13, ..., 1.12, 1.11, 1.09], shape=(10000,))"
      ]
     },
     "execution_count": 197,
     "metadata": {},
     "output_type": "execute_result"
    }
   ],
   "source": [
    "loan_data_numeric[:,6]"
   ]
  },
  {
   "cell_type": "code",
   "execution_count": 198,
   "id": "d1317199-f71c-4142-9de2-3c19c12b13db",
   "metadata": {},
   "outputs": [],
   "source": [
    "for i in column_dollar:\n",
    "    loan_data_numeric=np.hstack((loan_data_numeric,np.reshape(loan_data_numeric[:,i]/loan_data_numeric[:,6],(10000,1))))\n",
    "    "
   ]
  },
  {
   "cell_type": "code",
   "execution_count": 199,
   "id": "5b271a06-52d3-48e0-9798-1f7c45870dcd",
   "metadata": {},
   "outputs": [
    {
     "data": {
      "text/plain": [
       "array([[48010226.  ,    35000.  ,    35000.  , ...,    31933.3 ,     1081.04,     8624.69],\n",
       "       [57693261.  ,    30000.  ,    30000.  , ...,    27132.46,      848.86,     4232.39],\n",
       "       [59432726.  ,    15000.  ,    15000.  , ...,    13326.3 ,      439.64,     1750.04],\n",
       "       ...,\n",
       "       [50415990.  ,    10000.  ,    10000.  , ...,     8910.3 ,     1223.36,     1947.47],\n",
       "       [46154151.  ,    35000.  ,    10000.  , ...,     8997.4 ,      318.78,     2878.63],\n",
       "       [66055249.  ,    10000.  ,    10000.  , ...,     9145.8 ,      283.49,      276.11]],\n",
       "      shape=(10000, 11))"
      ]
     },
     "execution_count": 199,
     "metadata": {},
     "output_type": "execute_result"
    }
   ],
   "source": [
    "loan_data_numeric"
   ]
  },
  {
   "cell_type": "markdown",
   "id": "8cc26daf-c542-445d-94ab-a421531f2015",
   "metadata": {},
   "source": [
    "# Expanding the header"
   ]
  },
  {
   "cell_type": "code",
   "execution_count": 201,
   "id": "76954f1d-4453-4377-9965-9586f8fff507",
   "metadata": {},
   "outputs": [],
   "source": [
    "header_additional=np.array([column_name+\"_EUR\" for column_name in header_numeric[column_dollar]])"
   ]
  },
  {
   "cell_type": "code",
   "execution_count": 202,
   "id": "fbef5044-e951-46d6-8938-ecfaade9c25e",
   "metadata": {},
   "outputs": [
    {
     "data": {
      "text/plain": [
       "array(['loan_amnt_EUR', 'funded_amnt_EUR', 'installment_EUR', 'total_pymnt_EUR'], dtype='<U15')"
      ]
     },
     "execution_count": 202,
     "metadata": {},
     "output_type": "execute_result"
    }
   ],
   "source": [
    "header_additional"
   ]
  },
  {
   "cell_type": "code",
   "execution_count": 203,
   "id": "463eedb2-0ff3-418d-8828-85f0d186b51c",
   "metadata": {},
   "outputs": [],
   "source": [
    "header_numeric=np.concatenate((header_numeric,header_additional))"
   ]
  },
  {
   "cell_type": "code",
   "execution_count": 204,
   "id": "ff8005cb-b6b8-456c-8090-7a57ac8aaec2",
   "metadata": {},
   "outputs": [
    {
     "data": {
      "text/plain": [
       "array(['id', 'loan_amnt', 'funded_amnt', 'int_rate', 'installment', 'total_pymnt', 'exchange_rate',\n",
       "       'loan_amnt_EUR', 'funded_amnt_EUR', 'installment_EUR', 'total_pymnt_EUR'], dtype='<U19')"
      ]
     },
     "execution_count": 204,
     "metadata": {},
     "output_type": "execute_result"
    }
   ],
   "source": [
    "header_numeric"
   ]
  },
  {
   "cell_type": "code",
   "execution_count": 206,
   "id": "b4bd3180-cdcf-4c6c-877c-b18af4c27441",
   "metadata": {},
   "outputs": [],
   "source": [
    "header_numeric[column_dollar]=np.array([column_name+\"_USD\" for column_name in header_numeric[column_dollar]])"
   ]
  },
  {
   "cell_type": "code",
   "execution_count": 207,
   "id": "d7b5335b-701b-403e-b341-b8b45533bf1c",
   "metadata": {},
   "outputs": [
    {
     "data": {
      "text/plain": [
       "array(['id', 'loan_amnt_USD', 'funded_amnt_USD', 'int_rate', 'installment_USD', 'total_pymnt_USD',\n",
       "       'exchange_rate', 'loan_amnt_EUR', 'funded_amnt_EUR', 'installment_EUR', 'total_pymnt_EUR'],\n",
       "      dtype='<U19')"
      ]
     },
     "execution_count": 207,
     "metadata": {},
     "output_type": "execute_result"
    }
   ],
   "source": [
    "header_numeric"
   ]
  },
  {
   "cell_type": "code",
   "execution_count": 208,
   "id": "cfcf67c8-959b-47f1-979f-2b05d236bbc2",
   "metadata": {},
   "outputs": [],
   "source": [
    "column_index_order=[0,1,7,2,8,3,4,9,5,10,6]"
   ]
  },
  {
   "cell_type": "code",
   "execution_count": 209,
   "id": "b9193895-e141-43e4-a753-2c8df376d416",
   "metadata": {},
   "outputs": [
    {
     "data": {
      "text/plain": [
       "array(['id', 'loan_amnt_USD', 'loan_amnt_EUR', 'funded_amnt_USD', 'funded_amnt_EUR', 'int_rate',\n",
       "       'installment_USD', 'installment_EUR', 'total_pymnt_USD', 'total_pymnt_EUR', 'exchange_rate'],\n",
       "      dtype='<U19')"
      ]
     },
     "execution_count": 209,
     "metadata": {},
     "output_type": "execute_result"
    }
   ],
   "source": [
    "header_numeric[column_index_order]"
   ]
  },
  {
   "cell_type": "code",
   "execution_count": 210,
   "id": "94a034e9-5879-4233-b190-29ab1e60ecb7",
   "metadata": {},
   "outputs": [],
   "source": [
    "header_numeric=header_numeric[column_index_order]"
   ]
  },
  {
   "cell_type": "code",
   "execution_count": 211,
   "id": "b617ea18-6e28-4be0-add9-9f5020c240d6",
   "metadata": {},
   "outputs": [
    {
     "data": {
      "text/plain": [
       "array(['id', 'loan_amnt_USD', 'loan_amnt_EUR', 'funded_amnt_USD', 'funded_amnt_EUR', 'int_rate',\n",
       "       'installment_USD', 'installment_EUR', 'total_pymnt_USD', 'total_pymnt_EUR', 'exchange_rate'],\n",
       "      dtype='<U19')"
      ]
     },
     "execution_count": 211,
     "metadata": {},
     "output_type": "execute_result"
    }
   ],
   "source": [
    "header_numeric"
   ]
  },
  {
   "cell_type": "code",
   "execution_count": 212,
   "id": "50b95513-cf6b-4444-9450-1e746bd05253",
   "metadata": {},
   "outputs": [
    {
     "data": {
      "text/plain": [
       "array([[48010226.  ,    35000.  ,    35000.  , ...,    31933.3 ,     1081.04,     8624.69],\n",
       "       [57693261.  ,    30000.  ,    30000.  , ...,    27132.46,      848.86,     4232.39],\n",
       "       [59432726.  ,    15000.  ,    15000.  , ...,    13326.3 ,      439.64,     1750.04],\n",
       "       ...,\n",
       "       [50415990.  ,    10000.  ,    10000.  , ...,     8910.3 ,     1223.36,     1947.47],\n",
       "       [46154151.  ,    35000.  ,    10000.  , ...,     8997.4 ,      318.78,     2878.63],\n",
       "       [66055249.  ,    10000.  ,    10000.  , ...,     9145.8 ,      283.49,      276.11]],\n",
       "      shape=(10000, 11))"
      ]
     },
     "execution_count": 212,
     "metadata": {},
     "output_type": "execute_result"
    }
   ],
   "source": [
    "loan_data_numeric"
   ]
  },
  {
   "cell_type": "code",
   "execution_count": 213,
   "id": "f9e61964-5060-45fc-b738-b9d425706aa4",
   "metadata": {},
   "outputs": [],
   "source": [
    "loan_data_numeric=loan_data_numeric[:,column_index_order]"
   ]
  },
  {
   "cell_type": "code",
   "execution_count": 214,
   "id": "c566d746-995c-4419-8ff1-54a7ca213522",
   "metadata": {},
   "outputs": [
    {
     "data": {
      "text/plain": [
       "array([[48010226.  ,    35000.  ,    31933.3 , ...,     9452.96,     8624.69,        1.1 ],\n",
       "       [57693261.  ,    30000.  ,    27132.46, ...,     4679.7 ,     4232.39,        1.11],\n",
       "       [59432726.  ,    15000.  ,    13326.3 , ...,     1969.83,     1750.04,        1.13],\n",
       "       ...,\n",
       "       [50415990.  ,    10000.  ,     8910.3 , ...,     2185.64,     1947.47,        1.12],\n",
       "       [46154151.  ,    35000.  ,    31490.9 , ...,     3199.4 ,     2878.63,        1.11],\n",
       "       [66055249.  ,    10000.  ,     9145.8 , ...,      301.9 ,      276.11,        1.09]],\n",
       "      shape=(10000, 11))"
      ]
     },
     "execution_count": 214,
     "metadata": {},
     "output_type": "execute_result"
    }
   ],
   "source": [
    "loan_data_numeric"
   ]
  },
  {
   "cell_type": "markdown",
   "id": "07085e6c-215d-489f-a37d-872443ff7dbf",
   "metadata": {},
   "source": [
    "# Interest rate"
   ]
  },
  {
   "cell_type": "code",
   "execution_count": 215,
   "id": "49564b13-bd12-46cb-b53e-0beb1f6c8f1b",
   "metadata": {},
   "outputs": [
    {
     "data": {
      "text/plain": [
       "array(['id', 'loan_amnt_USD', 'loan_amnt_EUR', 'funded_amnt_USD', 'funded_amnt_EUR', 'int_rate',\n",
       "       'installment_USD', 'installment_EUR', 'total_pymnt_USD', 'total_pymnt_EUR', 'exchange_rate'],\n",
       "      dtype='<U19')"
      ]
     },
     "execution_count": 215,
     "metadata": {},
     "output_type": "execute_result"
    }
   ],
   "source": [
    "header_numeric"
   ]
  },
  {
   "cell_type": "code",
   "execution_count": 217,
   "id": "7737af85-f171-4c68-9f80-2cb9b1760cdd",
   "metadata": {},
   "outputs": [
    {
     "data": {
      "text/plain": [
       "array([13.33, 28.99, 28.99, ..., 28.99, 16.55, 28.99], shape=(10000,))"
      ]
     },
     "execution_count": 217,
     "metadata": {},
     "output_type": "execute_result"
    }
   ],
   "source": [
    "loan_data_numeric[:,5]"
   ]
  },
  {
   "cell_type": "code",
   "execution_count": 218,
   "id": "a7b9fe95-ac2f-4393-8a48-d128d9e40cc0",
   "metadata": {},
   "outputs": [],
   "source": [
    "loan_data_numeric[:,5]=loan_data_numeric[:,5]/100"
   ]
  },
  {
   "cell_type": "code",
   "execution_count": 219,
   "id": "29bb78ab-078a-4f02-8e78-83c02be1bd3f",
   "metadata": {},
   "outputs": [
    {
     "data": {
      "text/plain": [
       "array([0.13, 0.29, 0.29, ..., 0.29, 0.17, 0.29], shape=(10000,))"
      ]
     },
     "execution_count": 219,
     "metadata": {},
     "output_type": "execute_result"
    }
   ],
   "source": [
    "loan_data_numeric[:,5]"
   ]
  },
  {
   "cell_type": "markdown",
   "id": "4df07566-ebf4-4286-9683-0a78d0d9f4da",
   "metadata": {},
   "source": [
    "# checkpoint2:numeric"
   ]
  },
  {
   "cell_type": "code",
   "execution_count": 220,
   "id": "71e9331d-0f0f-451c-bbfe-b225c58fb3ce",
   "metadata": {},
   "outputs": [],
   "source": [
    "checkpoint_numeric=checkpoint(\"checkpoint-numeric\",header_numeric,loan_data_numeric)"
   ]
  },
  {
   "cell_type": "code",
   "execution_count": 221,
   "id": "a37d5dd5-4def-4500-ac26-3cce7d7cc3ac",
   "metadata": {},
   "outputs": [
    {
     "data": {
      "text/plain": [
       "array(['id', 'loan_amnt_USD', 'loan_amnt_EUR', 'funded_amnt_USD', 'funded_amnt_EUR', 'int_rate',\n",
       "       'installment_USD', 'installment_EUR', 'total_pymnt_USD', 'total_pymnt_EUR', 'exchange_rate'],\n",
       "      dtype='<U19')"
      ]
     },
     "execution_count": 221,
     "metadata": {},
     "output_type": "execute_result"
    }
   ],
   "source": [
    "checkpoint_numeric[\"header\"]"
   ]
  },
  {
   "cell_type": "code",
   "execution_count": 222,
   "id": "e38884f5-3cf6-4d08-bea6-48ace2f88493",
   "metadata": {},
   "outputs": [
    {
     "data": {
      "text/plain": [
       "array([[48010226.  ,    35000.  ,    31933.3 , ...,     9452.96,     8624.69,        1.1 ],\n",
       "       [57693261.  ,    30000.  ,    27132.46, ...,     4679.7 ,     4232.39,        1.11],\n",
       "       [59432726.  ,    15000.  ,    13326.3 , ...,     1969.83,     1750.04,        1.13],\n",
       "       ...,\n",
       "       [50415990.  ,    10000.  ,     8910.3 , ...,     2185.64,     1947.47,        1.12],\n",
       "       [46154151.  ,    35000.  ,    31490.9 , ...,     3199.4 ,     2878.63,        1.11],\n",
       "       [66055249.  ,    10000.  ,     9145.8 , ...,      301.9 ,      276.11,        1.09]],\n",
       "      shape=(10000, 11))"
      ]
     },
     "execution_count": 222,
     "metadata": {},
     "output_type": "execute_result"
    }
   ],
   "source": [
    "checkpoint_numeric[\"data\"]"
   ]
  },
  {
   "cell_type": "markdown",
   "id": "c7120072-8f60-4734-bae2-dc7b5b28103b",
   "metadata": {},
   "source": [
    "# completing the dataset"
   ]
  },
  {
   "cell_type": "code",
   "execution_count": 223,
   "id": "9e4ec77b-71ac-4f3a-871a-819420c9c2bf",
   "metadata": {},
   "outputs": [
    {
     "data": {
      "text/plain": [
       "(10000, 6)"
      ]
     },
     "execution_count": 223,
     "metadata": {},
     "output_type": "execute_result"
    }
   ],
   "source": [
    "checkpoint_strings['data'].shape"
   ]
  },
  {
   "cell_type": "code",
   "execution_count": 224,
   "id": "69699d59-40da-4c4c-ab05-2ee6d1aa7ab7",
   "metadata": {},
   "outputs": [
    {
     "data": {
      "text/plain": [
       "(10000, 11)"
      ]
     },
     "execution_count": 224,
     "metadata": {},
     "output_type": "execute_result"
    }
   ],
   "source": [
    "checkpoint_numeric['data'].shape"
   ]
  },
  {
   "cell_type": "code",
   "execution_count": 226,
   "id": "6fcd697d-0c06-4be2-ad1c-697345ca63c1",
   "metadata": {},
   "outputs": [],
   "source": [
    "loan_data=np.hstack((checkpoint_numeric['data'],checkpoint_strings['data']))"
   ]
  },
  {
   "cell_type": "code",
   "execution_count": 227,
   "id": "e54ee4f7-8a07-46a9-843b-c4db8f4db8a0",
   "metadata": {},
   "outputs": [
    {
     "data": {
      "text/plain": [
       "array([[48010226.  ,    35000.  ,    31933.3 , ...,       13.  ,        1.  ,        1.  ],\n",
       "       [57693261.  ,    30000.  ,    27132.46, ...,        5.  ,        1.  ,        4.  ],\n",
       "       [59432726.  ,    15000.  ,    13326.3 , ...,       10.  ,        1.  ,        4.  ],\n",
       "       ...,\n",
       "       [50415990.  ,    10000.  ,     8910.3 , ...,        5.  ,        1.  ,        1.  ],\n",
       "       [46154151.  ,    35000.  ,    31490.9 , ...,       17.  ,        1.  ,        3.  ],\n",
       "       [66055249.  ,    10000.  ,     9145.8 , ...,        4.  ,        0.  ,        3.  ]],\n",
       "      shape=(10000, 17))"
      ]
     },
     "execution_count": 227,
     "metadata": {},
     "output_type": "execute_result"
    }
   ],
   "source": [
    "loan_data"
   ]
  },
  {
   "cell_type": "code",
   "execution_count": 228,
   "id": "0d50c936-af57-4016-a81e-9903da7b699c",
   "metadata": {},
   "outputs": [
    {
     "data": {
      "text/plain": [
       "np.int64(0)"
      ]
     },
     "execution_count": 228,
     "metadata": {},
     "output_type": "execute_result"
    }
   ],
   "source": [
    "np.isnan(loan_data).sum()"
   ]
  },
  {
   "cell_type": "code",
   "execution_count": 231,
   "id": "f7b3becb-89be-474f-812e-54a19ca5212f",
   "metadata": {},
   "outputs": [],
   "source": [
    "header_full=np.concatenate((checkpoint_numeric['header'],checkpoint_strings['header']))"
   ]
  },
  {
   "cell_type": "markdown",
   "id": "1af930ca-2ddc-4548-a50c-7fa67d3ce647",
   "metadata": {},
   "source": [
    "# sorting the dataset"
   ]
  },
  {
   "cell_type": "code",
   "execution_count": 232,
   "id": "f3204354-fe87-4a83-bf49-aad568de5207",
   "metadata": {},
   "outputs": [],
   "source": [
    "loan_data=loan_data[np.argsort(loan_data[:,0])]"
   ]
  },
  {
   "cell_type": "code",
   "execution_count": 233,
   "id": "2afe08e9-858b-4028-b2a5-442500331e9f",
   "metadata": {},
   "outputs": [
    {
     "data": {
      "text/plain": [
       "array([[  373332.  ,     9950.  ,     9038.08, ...,       21.  ,        0.  ,        1.  ],\n",
       "       [  575239.  ,    12000.  ,    10900.2 , ...,       25.  ,        1.  ,        2.  ],\n",
       "       [  707689.  ,    10000.  ,     8924.3 , ...,       13.  ,        1.  ,        0.  ],\n",
       "       ...,\n",
       "       [68614880.  ,     5600.  ,     5121.65, ...,        8.  ,        1.  ,        1.  ],\n",
       "       [68615915.  ,     4000.  ,     3658.32, ...,       10.  ,        1.  ,        2.  ],\n",
       "       [68616519.  ,    21600.  ,    19754.93, ...,        3.  ,        0.  ,        2.  ]],\n",
       "      shape=(10000, 17))"
      ]
     },
     "execution_count": 233,
     "metadata": {},
     "output_type": "execute_result"
    }
   ],
   "source": [
    "loan_data"
   ]
  },
  {
   "cell_type": "markdown",
   "id": "eb436427-237f-4cf7-a621-a635423ed66b",
   "metadata": {},
   "source": [
    "# storing new dataset"
   ]
  },
  {
   "cell_type": "code",
   "execution_count": 235,
   "id": "57fddaeb-0c57-43cd-b7f7-5d6061b93a06",
   "metadata": {},
   "outputs": [],
   "source": [
    "loan_data=np.vstack((header_full,loan_data))"
   ]
  },
  {
   "cell_type": "code",
   "execution_count": 236,
   "id": "85b844b5-52a4-444f-a0f9-715134056411",
   "metadata": {},
   "outputs": [
    {
     "data": {
      "text/plain": [
       "array([['id', 'loan_amnt_USD', 'loan_amnt_EUR', ..., 'sub_grade', 'verification_status',\n",
       "        'addr_state'],\n",
       "       ['373332.0', '9950.0', '9038.082814338286', ..., '21.0', '0.0', '1.0'],\n",
       "       ['575239.0', '12000.0', '10900.20037910145', ..., '25.0', '1.0', '2.0'],\n",
       "       ...,\n",
       "       ['68614880.0', '5600.0', '5121.647851612413', ..., '8.0', '1.0', '1.0'],\n",
       "       ['68615915.0', '4000.0', '3658.319894008867', ..., '10.0', '1.0', '2.0'],\n",
       "       ['68616519.0', '21600.0', '19754.927427647883', ..., '3.0', '0.0', '2.0']],\n",
       "      shape=(10001, 17), dtype='<U32')"
      ]
     },
     "execution_count": 236,
     "metadata": {},
     "output_type": "execute_result"
    }
   ],
   "source": [
    "loan_data"
   ]
  },
  {
   "cell_type": "code",
   "execution_count": 237,
   "id": "e19c057c-8527-4ef8-8db3-42f7b0b5a56f",
   "metadata": {},
   "outputs": [],
   "source": [
    "np.savetxt(\"loan-data-preprocessed.csv\",loan_data,fmt=\"%s\",delimiter=',')"
   ]
  },
  {
   "cell_type": "code",
   "execution_count": null,
   "id": "c10419c2-c698-4bac-b757-25326ae7e1f2",
   "metadata": {},
   "outputs": [],
   "source": []
  }
 ],
 "metadata": {
  "kernelspec": {
   "display_name": "Python [conda env:base] *",
   "language": "python",
   "name": "conda-base-py"
  },
  "language_info": {
   "codemirror_mode": {
    "name": "ipython",
    "version": 3
   },
   "file_extension": ".py",
   "mimetype": "text/x-python",
   "name": "python",
   "nbconvert_exporter": "python",
   "pygments_lexer": "ipython3",
   "version": "3.12.7"
  }
 },
 "nbformat": 4,
 "nbformat_minor": 5
}

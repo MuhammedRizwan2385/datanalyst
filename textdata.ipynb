{
 "cells": [
  {
   "cell_type": "markdown",
   "id": "6c67961a-e30e-4bcf-9d57-19fde0f0dbc1",
   "metadata": {},
   "source": [
    "Working with text data and argument specifiers\n"
   ]
  },
  {
   "cell_type": "code",
   "execution_count": null,
   "id": "0fe53f11-3aa1-4935-87e2-bcb59d81b0be",
   "metadata": {},
   "outputs": [],
   "source": [
    "argument specifiers and modulo operations"
   ]
  },
  {
   "cell_type": "code",
   "execution_count": 1,
   "id": "6f57f7a1-c938-4817-a736-c7fade2da7b0",
   "metadata": {},
   "outputs": [],
   "source": [
    "product_category='A'"
   ]
  },
  {
   "cell_type": "code",
   "execution_count": 5,
   "id": "dff13ea0-cf19-4131-ae59-7fabac7e8fe2",
   "metadata": {},
   "outputs": [
    {
     "name": "stdout",
     "output_type": "stream",
     "text": [
      "This item is from product category 'A'\n"
     ]
    }
   ],
   "source": [
    "print(\"This item is from product category '%s'\" %product_category)"
   ]
  },
  {
   "cell_type": "code",
   "execution_count": 20,
   "id": "bf024a63-963f-4435-8baa-e5c0275a3f3d",
   "metadata": {},
   "outputs": [
    {
     "name": "stdout",
     "output_type": "stream",
     "text": [
      "My name is rizwan\n"
     ]
    }
   ],
   "source": [
    "name='rizwan'\n",
    "print(\"My name is %s\"%name)"
   ]
  },
  {
   "cell_type": "code",
   "execution_count": 22,
   "id": "a5fc5ab8-662c-4c5e-88e9-9eea879086f3",
   "metadata": {},
   "outputs": [],
   "source": [
    "product_category=['A','B']"
   ]
  },
  {
   "cell_type": "code",
   "execution_count": 23,
   "id": "1311d0d0-57d9-4352-9b04-f4640f5a8cab",
   "metadata": {},
   "outputs": [
    {
     "name": "stdout",
     "output_type": "stream",
     "text": [
      "This item is from product category '['A', 'B']'\n"
     ]
    }
   ],
   "source": [
    "print(\"This item is from product category '%s'\" %product_category)"
   ]
  },
  {
   "cell_type": "code",
   "execution_count": 24,
   "id": "57ebfcc1-0337-46c8-a1c3-64e9f35b747f",
   "metadata": {},
   "outputs": [
    {
     "name": "stdout",
     "output_type": "stream",
     "text": [
      "This item is from product category 'A'\n"
     ]
    }
   ],
   "source": [
    "print(\"This item is from product category '%s'\" %product_category[0])"
   ]
  },
  {
   "cell_type": "code",
   "execution_count": 25,
   "id": "e1979861-b2e7-4d9e-adf8-cfcad4c516d4",
   "metadata": {},
   "outputs": [
    {
     "name": "stdout",
     "output_type": "stream",
     "text": [
      "This item is from product category 'B'\n"
     ]
    }
   ],
   "source": [
    "print(\"This item is from product category '%s'\" %product_category[1])"
   ]
  },
  {
   "cell_type": "code",
   "execution_count": 26,
   "id": "b9e0e826-0919-4862-b7bd-d83ee76e7cf6",
   "metadata": {},
   "outputs": [],
   "source": [
    "quantities=[500,600]"
   ]
  },
  {
   "cell_type": "code",
   "execution_count": 27,
   "id": "376fc7c5-415e-4921-8bd1-06f9f2ae4ee9",
   "metadata": {},
   "outputs": [
    {
     "name": "stdout",
     "output_type": "stream",
     "text": [
      "We have 500 available units of items.\n"
     ]
    }
   ],
   "source": [
    "print(\"We have %d available units of items.\"%quantities[0])"
   ]
  },
  {
   "cell_type": "code",
   "execution_count": 32,
   "id": "20dbba70-03ad-4c97-bcba-2df9dc898ed1",
   "metadata": {},
   "outputs": [
    {
     "name": "stdout",
     "output_type": "stream",
     "text": [
      "this stock is 50 cost per share\n"
     ]
    }
   ],
   "source": [
    "stocks=[50.5,40.4]\n",
    "print(\"this stock is %.f cost per share\"%stocks[0])      #.f=integer   .1f =1 point   .2f=2 points etc...."
   ]
  },
  {
   "cell_type": "code",
   "execution_count": 38,
   "id": "17706d27-2b72-4092-a15f-a82ac0e01420",
   "metadata": {},
   "outputs": [
    {
     "name": "stdout",
     "output_type": "stream",
     "text": [
      "Currently we have 500 units of category A products in store.\n"
     ]
    }
   ],
   "source": [
    "i=0\n",
    "print(\"Currently we have %d units of category %s products in store.\"%(quantities[i],product_category[i]))"
   ]
  },
  {
   "cell_type": "code",
   "execution_count": 39,
   "id": "69191295-f1f9-4a41-a643-2d2afcc4ff8b",
   "metadata": {},
   "outputs": [
    {
     "name": "stdout",
     "output_type": "stream",
     "text": [
      "My name is rizwan.I'm 21 years of age.I'm from adoor.I'm studying in tkmit\n"
     ]
    }
   ],
   "source": [
    "name='rizwan'\n",
    "age=21\n",
    "place='adoor'\n",
    "colledge='tkmit'\n",
    "print(\"My name is %s.I'm %d years of age.I'm from %s.I'm studying in %s\"%(name,age,place,colledge))"
   ]
  },
  {
   "cell_type": "markdown",
   "id": "fc5d10b7-511f-4b1e-8d33-51859e5b4113",
   "metadata": {},
   "source": [
    "manipulating python strings"
   ]
  },
  {
   "cell_type": "code",
   "execution_count": 44,
   "id": "bc45fdf2-c169-48c1-b444-19e8a7bc4249",
   "metadata": {},
   "outputs": [
    {
     "name": "stdout",
     "output_type": "stream",
     "text": [
      "hello \n",
      "how are you\n",
      "hello \thow are you\n",
      "haaai how are you \n"
     ]
    }
   ],
   "source": [
    "#newline :- \\n\n",
    "print(\"hello \\nhow are you\")\n",
    "#new tab :- \\t\n",
    "print(\"hello \\thow are you\")\n",
    "#carriage return:- \\r  #it will replace the first characters with the added one\n",
    "print(\"hello how are you \\rhaaai\")"
   ]
  },
  {
   "cell_type": "markdown",
   "id": "fd37aab7-2dc9-486e-b02e-e3bbf7df72cc",
   "metadata": {},
   "source": [
    "String methods\n",
    "1.upper()\n",
    "2.lower()\n",
    "3.title()\n",
    "4.capitalize()\n",
    "5.strip(),lstrip(),rstrip()\n",
    "6.startswith()\n",
    "7.endswith()\n",
    "8.split()\n",
    "9.replace(old,new)\n",
    "9.count(letter,start,end)\n",
    "10.isalpha()\n",
    "11.isdigit()\n",
    "12.join()\n",
    "13.find(sub,start,end)"
   ]
  },
  {
   "cell_type": "code",
   "execution_count": null,
   "id": "6bcbd902-69dd-44b2-a377-5cb3762ed8d9",
   "metadata": {},
   "outputs": [],
   "source": []
  },
  {
   "cell_type": "code",
   "execution_count": 45,
   "id": "0f91a106-cacb-44ea-88a4-2565d4ff3427",
   "metadata": {},
   "outputs": [],
   "source": [
    "s1='Mrs. Amy Moore'\n"
   ]
  },
  {
   "cell_type": "code",
   "execution_count": 46,
   "id": "891a21e6-0fd1-4830-b1a9-a2695442741a",
   "metadata": {},
   "outputs": [
    {
     "data": {
      "text/plain": [
       "'MRS. AMY MOORE'"
      ]
     },
     "execution_count": 46,
     "metadata": {},
     "output_type": "execute_result"
    }
   ],
   "source": [
    "s1.upper()"
   ]
  },
  {
   "cell_type": "code",
   "execution_count": 47,
   "id": "013f4e61-fed2-4f44-989c-c38714e0d230",
   "metadata": {},
   "outputs": [
    {
     "data": {
      "text/plain": [
       "'mrs. amy moore'"
      ]
     },
     "execution_count": 47,
     "metadata": {},
     "output_type": "execute_result"
    }
   ],
   "source": [
    "s1.lower()\n"
   ]
  },
  {
   "cell_type": "code",
   "execution_count": 48,
   "id": "6a1bca74-ddc0-4c0a-ad92-ecfb708f5ee8",
   "metadata": {},
   "outputs": [
    {
     "data": {
      "text/plain": [
       "'Mrs. Amy Moore'"
      ]
     },
     "execution_count": 48,
     "metadata": {},
     "output_type": "execute_result"
    }
   ],
   "source": [
    "s1.title() #it will return a string with first character of each words as capital"
   ]
  },
  {
   "cell_type": "code",
   "execution_count": 49,
   "id": "29cd4647-4912-4758-8e9d-f04403dffbfe",
   "metadata": {},
   "outputs": [
    {
     "data": {
      "text/plain": [
       "'Mrs. amy moore'"
      ]
     },
     "execution_count": 49,
     "metadata": {},
     "output_type": "execute_result"
    }
   ],
   "source": [
    "s1.capitalize() #it will return a string with first character as capital.and remaining will be small"
   ]
  },
  {
   "cell_type": "code",
   "execution_count": 50,
   "id": "549295f5-e07e-4202-b3b5-e78aa32d5ed0",
   "metadata": {},
   "outputs": [],
   "source": [
    "s2='   quarterly earnings report    '\n"
   ]
  },
  {
   "cell_type": "code",
   "execution_count": 51,
   "id": "f20be57c-fdca-4b34-b759-3891ced76c3b",
   "metadata": {},
   "outputs": [
    {
     "data": {
      "text/plain": [
       "'quarterly earnings report'"
      ]
     },
     "execution_count": 51,
     "metadata": {},
     "output_type": "execute_result"
    }
   ],
   "source": [
    "s2.strip() #it will remove all the unnecessary spaces from the beginning and ending of the string."
   ]
  },
  {
   "cell_type": "code",
   "execution_count": 52,
   "id": "99d1295e-2dfd-4d27-ad39-4a2847e3d1a6",
   "metadata": {},
   "outputs": [
    {
     "data": {
      "text/plain": [
       "'quarterly earnings report'"
      ]
     },
     "execution_count": 52,
     "metadata": {},
     "output_type": "execute_result"
    }
   ],
   "source": [
    "s2.strip(' ') "
   ]
  },
  {
   "cell_type": "code",
   "execution_count": 53,
   "id": "8594fe9b-c01a-480b-b388-25c73a315599",
   "metadata": {},
   "outputs": [
    {
     "data": {
      "text/plain": [
       "'quarterly earnings report'"
      ]
     },
     "execution_count": 53,
     "metadata": {},
     "output_type": "execute_result"
    }
   ],
   "source": [
    "s2.strip(' r') "
   ]
  },
  {
   "cell_type": "code",
   "execution_count": 54,
   "id": "c7395a7f-8de4-4289-a34b-a8d7e1c938a7",
   "metadata": {},
   "outputs": [
    {
     "data": {
      "text/plain": [
       "'uarterly earnings repor'"
      ]
     },
     "execution_count": 54,
     "metadata": {},
     "output_type": "execute_result"
    }
   ],
   "source": [
    "s2.strip(' qt')"
   ]
  },
  {
   "cell_type": "code",
   "execution_count": 56,
   "id": "1da6cbb1-ea38-4a2f-b0f9-2f1abfd28dcf",
   "metadata": {},
   "outputs": [
    {
     "data": {
      "text/plain": [
       "'uarterly earnings repor'"
      ]
     },
     "execution_count": 56,
     "metadata": {},
     "output_type": "execute_result"
    }
   ],
   "source": [
    "s2.strip(' qt ')"
   ]
  },
  {
   "cell_type": "code",
   "execution_count": 57,
   "id": "f3974f90-33f8-4daf-84cc-53e7adaafaa4",
   "metadata": {},
   "outputs": [
    {
     "data": {
      "text/plain": [
       "'quarterly earnings report    '"
      ]
     },
     "execution_count": 57,
     "metadata": {},
     "output_type": "execute_result"
    }
   ],
   "source": [
    "s2.lstrip()"
   ]
  },
  {
   "cell_type": "code",
   "execution_count": 58,
   "id": "8e2e3a4a-226b-49bc-a092-f68b3e1bdc4a",
   "metadata": {},
   "outputs": [
    {
     "data": {
      "text/plain": [
       "'   quarterly earnings report'"
      ]
     },
     "execution_count": 58,
     "metadata": {},
     "output_type": "execute_result"
    }
   ],
   "source": [
    "s2.rstrip()"
   ]
  },
  {
   "cell_type": "code",
   "execution_count": 62,
   "id": "fad2a97f-4490-4ebe-be6a-1bbd28279343",
   "metadata": {},
   "outputs": [
    {
     "data": {
      "text/plain": [
       "'nings repo'"
      ]
     },
     "execution_count": 62,
     "metadata": {},
     "output_type": "execute_result"
    }
   ],
   "source": [
    "s2.strip(' quarterly')"
   ]
  },
  {
   "cell_type": "code",
   "execution_count": 63,
   "id": "92efce44-738a-458a-90f9-99a256f421d6",
   "metadata": {},
   "outputs": [
    {
     "data": {
      "text/plain": [
       "'nings report    '"
      ]
     },
     "execution_count": 63,
     "metadata": {},
     "output_type": "execute_result"
    }
   ],
   "source": [
    "s2.lstrip(' quarterly')"
   ]
  },
  {
   "cell_type": "code",
   "execution_count": 66,
   "id": "6a2c1f7b-2aa7-4b3b-8d2d-5f837e49c0cc",
   "metadata": {},
   "outputs": [
    {
     "data": {
      "text/plain": [
       "'quarterly earnings report'"
      ]
     },
     "execution_count": 66,
     "metadata": {},
     "output_type": "execute_result"
    }
   ],
   "source": [
    "s3=s2.strip()\n",
    "s3"
   ]
  },
  {
   "cell_type": "code",
   "execution_count": 68,
   "id": "43bacf54-a6ed-4bdc-81cd-dde2fbfa49ca",
   "metadata": {},
   "outputs": [
    {
     "data": {
      "text/plain": [
       "' earnings report'"
      ]
     },
     "execution_count": 68,
     "metadata": {},
     "output_type": "execute_result"
    }
   ],
   "source": [
    "s3.lstrip('quartely')"
   ]
  },
  {
   "cell_type": "code",
   "execution_count": 69,
   "id": "9ddfe0dc-10df-46dc-a78e-1b30e9c10815",
   "metadata": {},
   "outputs": [
    {
     "data": {
      "text/plain": [
       "'quarterly earnings '"
      ]
     },
     "execution_count": 69,
     "metadata": {},
     "output_type": "execute_result"
    }
   ],
   "source": [
    "s3.rstrip('report')"
   ]
  },
  {
   "cell_type": "code",
   "execution_count": 70,
   "id": "8ac38825-353f-4ebc-995c-de6fd7454ca8",
   "metadata": {},
   "outputs": [
    {
     "data": {
      "text/plain": [
       "'quartely earnings report'"
      ]
     },
     "execution_count": 70,
     "metadata": {},
     "output_type": "execute_result"
    }
   ],
   "source": [
    "s4=' %&!quartely earnings report  *'\n",
    "s4.strip(' !@#$^%&*()')"
   ]
  },
  {
   "cell_type": "code",
   "execution_count": 72,
   "id": "fbccb3dc-a7f3-4070-a4f9-98ead81c2adf",
   "metadata": {},
   "outputs": [
    {
     "data": {
      "text/plain": [
       "True"
      ]
     },
     "execution_count": 72,
     "metadata": {},
     "output_type": "execute_result"
    }
   ],
   "source": [
    "s5=\"Hello world\"\n",
    "s5.startswith('Hello')\n"
   ]
  },
  {
   "cell_type": "code",
   "execution_count": 73,
   "id": "251f6f62-ffbc-41e5-9c21-0445948149bc",
   "metadata": {},
   "outputs": [
    {
     "data": {
      "text/plain": [
       "True"
      ]
     },
     "execution_count": 73,
     "metadata": {},
     "output_type": "execute_result"
    }
   ],
   "source": [
    "s5.endswith('world')"
   ]
  },
  {
   "cell_type": "code",
   "execution_count": 74,
   "id": "2b931644-cc96-45ec-b58a-208ce09746c3",
   "metadata": {},
   "outputs": [
    {
     "data": {
      "text/plain": [
       "['Hello', 'world']"
      ]
     },
     "execution_count": 74,
     "metadata": {},
     "output_type": "execute_result"
    }
   ],
   "source": [
    "words=s5.split()\n",
    "words"
   ]
  },
  {
   "cell_type": "code",
   "execution_count": 75,
   "id": "d21d5ad1-6d15-477b-8c53-46770abc0a73",
   "metadata": {},
   "outputs": [
    {
     "data": {
      "text/plain": [
       "['Hello', 'world']"
      ]
     },
     "execution_count": 75,
     "metadata": {},
     "output_type": "execute_result"
    }
   ],
   "source": [
    "words=s5.split(' ')\n",
    "words"
   ]
  },
  {
   "cell_type": "code",
   "execution_count": 76,
   "id": "9ba1e3c1-efdb-4417-981e-78b18bdd9a02",
   "metadata": {},
   "outputs": [
    {
     "data": {
      "text/plain": [
       "['Hello world']"
      ]
     },
     "execution_count": 76,
     "metadata": {},
     "output_type": "execute_result"
    }
   ],
   "source": [
    "words=s5.split(' ',maxsplit=0)\n",
    "words"
   ]
  },
  {
   "cell_type": "code",
   "execution_count": 77,
   "id": "a9ce4317-0b63-495c-a09d-b1f3a16e4cdb",
   "metadata": {},
   "outputs": [
    {
     "data": {
      "text/plain": [
       "['Hello world']"
      ]
     },
     "execution_count": 77,
     "metadata": {},
     "output_type": "execute_result"
    }
   ],
   "source": [
    "words=s5.split(' ',0) #it is same as maxsplit=0\n",
    "words"
   ]
  },
  {
   "cell_type": "code",
   "execution_count": 81,
   "id": "186f83d0-d0fa-49c4-990c-603ea9822284",
   "metadata": {},
   "outputs": [
    {
     "data": {
      "text/plain": [
       "'Hello'"
      ]
     },
     "execution_count": 81,
     "metadata": {},
     "output_type": "execute_result"
    }
   ],
   "source": [
    "s5.split(' ')[0]"
   ]
  },
  {
   "cell_type": "code",
   "execution_count": 82,
   "id": "f9c898d5-1696-4644-827c-e5b380777058",
   "metadata": {},
   "outputs": [
    {
     "data": {
      "text/plain": [
       "'Hai world'"
      ]
     },
     "execution_count": 82,
     "metadata": {},
     "output_type": "execute_result"
    }
   ],
   "source": [
    "s5.replace('Hello','Hai')"
   ]
  },
  {
   "cell_type": "code",
   "execution_count": 83,
   "id": "2a909961-5d6f-4a86-b368-d83c732a4a18",
   "metadata": {},
   "outputs": [
    {
     "data": {
      "text/plain": [
       "2"
      ]
     },
     "execution_count": 83,
     "metadata": {},
     "output_type": "execute_result"
    }
   ],
   "source": [
    "s8=\"Hello\"\n",
    "s8.count('l')"
   ]
  },
  {
   "cell_type": "code",
   "execution_count": 88,
   "id": "9cb09a35-9069-4d3a-a987-8de9f67b93e7",
   "metadata": {},
   "outputs": [
    {
     "data": {
      "text/plain": [
       "0"
      ]
     },
     "execution_count": 88,
     "metadata": {},
     "output_type": "execute_result"
    }
   ],
   "source": [
    "s8.count('e',2,5)  #letter,start,end"
   ]
  },
  {
   "cell_type": "code",
   "execution_count": 89,
   "id": "62a50910-d65c-4840-aec1-3757dc1afa54",
   "metadata": {},
   "outputs": [
    {
     "data": {
      "text/plain": [
       "True"
      ]
     },
     "execution_count": 89,
     "metadata": {},
     "output_type": "execute_result"
    }
   ],
   "source": [
    "s8.isalpha()"
   ]
  },
  {
   "cell_type": "code",
   "execution_count": 90,
   "id": "54da8e52-33ee-4552-b43f-b80de51fab4c",
   "metadata": {},
   "outputs": [
    {
     "data": {
      "text/plain": [
       "False"
      ]
     },
     "execution_count": 90,
     "metadata": {},
     "output_type": "execute_result"
    }
   ],
   "source": [
    "s8.isdigit()"
   ]
  },
  {
   "cell_type": "code",
   "execution_count": 91,
   "id": "4a8a823d-6df7-41e6-9e55-28a6858624b1",
   "metadata": {},
   "outputs": [
    {
     "data": {
      "text/plain": [
       "True"
      ]
     },
     "execution_count": 91,
     "metadata": {},
     "output_type": "execute_result"
    }
   ],
   "source": [
    "'321'.isdigit()"
   ]
  },
  {
   "cell_type": "code",
   "execution_count": 92,
   "id": "85832975-3dde-4350-9fcb-fe14f761cddc",
   "metadata": {},
   "outputs": [
    {
     "data": {
      "text/plain": [
       "'hithere'"
      ]
     },
     "execution_count": 92,
     "metadata": {},
     "output_type": "execute_result"
    }
   ],
   "source": [
    "words=['hi','there']\n",
    "\"\".join(words)"
   ]
  },
  {
   "cell_type": "code",
   "execution_count": 93,
   "id": "8df090e8-0b22-47ed-9957-5955d865c08e",
   "metadata": {},
   "outputs": [
    {
     "data": {
      "text/plain": [
       "6"
      ]
     },
     "execution_count": 93,
     "metadata": {},
     "output_type": "execute_result"
    }
   ],
   "source": [
    "s9=\"Hello rizwan\"\n",
    "s9.find('riz')"
   ]
  },
  {
   "cell_type": "markdown",
   "id": "7c45a77f-5a5e-43cf-8516-1051d19b4a22",
   "metadata": {},
   "source": [
    "String Accessors"
   ]
  },
  {
   "cell_type": "code",
   "execution_count": 94,
   "id": "e25a639b-eb76-4180-8a57-1fef8e085b0d",
   "metadata": {},
   "outputs": [],
   "source": [
    "import pandas as pd"
   ]
  },
  {
   "cell_type": "code",
   "execution_count": 110,
   "id": "3dc47ac3-9bc9-4b23-b0f7-e0369b356b4e",
   "metadata": {},
   "outputs": [
    {
     "data": {
      "text/plain": [
       "0    Employee satisfaction rating\n",
       "1             Employee churn rate\n",
       "dtype: object"
      ]
     },
     "execution_count": 110,
     "metadata": {},
     "output_type": "execute_result"
    }
   ],
   "source": [
    "operational_kpis=pd.Series([\"Employee satisfaction rating\",\"Employee churn rate\"])\n",
    "operational_kpis"
   ]
  },
  {
   "cell_type": "code",
   "execution_count": 97,
   "id": "85e12882-3cb4-43ee-8733-b29885d19218",
   "metadata": {},
   "outputs": [
    {
     "data": {
      "text/plain": [
       "' satisfaction rating'"
      ]
     },
     "execution_count": 97,
     "metadata": {},
     "output_type": "execute_result"
    }
   ],
   "source": [
    "operational_kpis[0].lstrip('Employee')"
   ]
  },
  {
   "cell_type": "code",
   "execution_count": 102,
   "id": "1b2865ae-8134-488d-9be4-43be8b21994a",
   "metadata": {},
   "outputs": [
    {
     "data": {
      "text/plain": [
       "' churn rate'"
      ]
     },
     "execution_count": 102,
     "metadata": {},
     "output_type": "execute_result"
    }
   ],
   "source": [
    "operational_kpis[1].lstrip('Employee')"
   ]
  },
  {
   "cell_type": "code",
   "execution_count": 103,
   "id": "fdb1f99d-0440-4e5c-9b3c-11ec043e514d",
   "metadata": {},
   "outputs": [
    {
     "data": {
      "text/plain": [
       "0     satisfaction rating\n",
       "1              churn rate\n",
       "dtype: object"
      ]
     },
     "execution_count": 103,
     "metadata": {},
     "output_type": "execute_result"
    }
   ],
   "source": [
    "pd.Series([operational_kpis[0].lstrip('Employee'),operational_kpis[1].lstrip('Employee')])"
   ]
  },
  {
   "cell_type": "code",
   "execution_count": 106,
   "id": "5449d2a1-6d89-4728-97b6-ae77e0bb708e",
   "metadata": {},
   "outputs": [
    {
     "data": {
      "text/plain": [
       "0    Employee satisfaction rating\n",
       "1             employee churn rate\n",
       "dtype: object"
      ]
     },
     "execution_count": 106,
     "metadata": {},
     "output_type": "execute_result"
    }
   ],
   "source": [
    "operational_kpis"
   ]
  },
  {
   "cell_type": "code",
   "execution_count": 104,
   "id": "a71493c8-4d5b-4250-b346-fbebb3e14083",
   "metadata": {},
   "outputs": [
    {
     "data": {
      "text/plain": [
       "0    m\n",
       "1    m\n",
       "dtype: object"
      ]
     },
     "execution_count": 104,
     "metadata": {},
     "output_type": "execute_result"
    }
   ],
   "source": [
    "#series.str :- it will convert elements of series into a strings to apply methods.\n",
    "operational_kpis.str[1] #it will convert the elements of series to string and it will give only 1st \n",
    "                        #element that is m"
   ]
  },
  {
   "cell_type": "code",
   "execution_count": 105,
   "id": "be8fa388-cf40-407e-9c68-4a03f506db40",
   "metadata": {},
   "outputs": [
    {
     "data": {
      "text/plain": [
       "'employee churn rate'"
      ]
     },
     "execution_count": 105,
     "metadata": {},
     "output_type": "execute_result"
    }
   ],
   "source": [
    "operational_kpis[1]"
   ]
  },
  {
   "cell_type": "code",
   "execution_count": 107,
   "id": "5794f653-eb2a-4f16-a560-f591e24ef5bc",
   "metadata": {},
   "outputs": [
    {
     "data": {
      "text/plain": [
       "0    Employee satisfaction rating\n",
       "1             employee churn rate\n",
       "dtype: object"
      ]
     },
     "execution_count": 107,
     "metadata": {},
     "output_type": "execute_result"
    }
   ],
   "source": [
    "operational_kpis\n"
   ]
  },
  {
   "cell_type": "code",
   "execution_count": 112,
   "id": "e62d825e-636f-4af1-8b09-f2c29333c610",
   "metadata": {},
   "outputs": [
    {
     "data": {
      "text/plain": [
       "0     satisfaction rating\n",
       "1              churn rate\n",
       "dtype: object"
      ]
     },
     "execution_count": 112,
     "metadata": {},
     "output_type": "execute_result"
    }
   ],
   "source": [
    "operational_kpis.str.lstrip('Employee')"
   ]
  },
  {
   "cell_type": "code",
   "execution_count": 113,
   "id": "c20b4523-b052-4663-b4cb-8743232e7df1",
   "metadata": {},
   "outputs": [
    {
     "data": {
      "text/plain": [
       "0    Text_Data\n",
       "1           34\n",
       "dtype: object"
      ]
     },
     "execution_count": 113,
     "metadata": {},
     "output_type": "execute_result"
    }
   ],
   "source": [
    "test_series=pd.Series(['Text_Data',34])\n",
    "test_series"
   ]
  },
  {
   "cell_type": "code",
   "execution_count": 115,
   "id": "4f1896f0-e9bd-4024-90e0-70a541e97b48",
   "metadata": {},
   "outputs": [
    {
     "data": {
      "text/plain": [
       "0    Data\n",
       "1     NaN\n",
       "dtype: object"
      ]
     },
     "execution_count": 115,
     "metadata": {},
     "output_type": "execute_result"
    }
   ],
   "source": [
    "test_series.str.lstrip('Text_')"
   ]
  },
  {
   "cell_type": "code",
   "execution_count": 116,
   "id": "65782d52-d177-4558-887a-d93ac2b7e9c3",
   "metadata": {},
   "outputs": [
    {
     "data": {
      "text/plain": [
       "0    Text_Data\n",
       "1           34\n",
       "dtype: object"
      ]
     },
     "execution_count": 116,
     "metadata": {},
     "output_type": "execute_result"
    }
   ],
   "source": [
    "test_series=pd.Series(['Text_Data','34'])\n",
    "test_series"
   ]
  },
  {
   "cell_type": "code",
   "execution_count": 117,
   "id": "45569619-d068-48b8-8ff1-6f7b0724c942",
   "metadata": {},
   "outputs": [
    {
     "data": {
      "text/plain": [
       "0    Data\n",
       "1      34\n",
       "dtype: object"
      ]
     },
     "execution_count": 117,
     "metadata": {},
     "output_type": "execute_result"
    }
   ],
   "source": [
    "test_series.str.lstrip('Text_')"
   ]
  },
  {
   "cell_type": "code",
   "execution_count": 118,
   "id": "53e11705-1f32-41b4-9f46-df4ca609ee41",
   "metadata": {},
   "outputs": [
    {
     "data": {
      "text/plain": [
       "0    $45000\n",
       "1    $50000\n",
       "2    $60000\n",
       "dtype: object"
      ]
     },
     "execution_count": 118,
     "metadata": {},
     "output_type": "execute_result"
    }
   ],
   "source": [
    "house_prices=pd.Series(['$45000','$50000','$60000'])\n",
    "house_prices"
   ]
  },
  {
   "cell_type": "code",
   "execution_count": 119,
   "id": "ab5d96e2-45d2-47b4-bde3-0d133bc2c163",
   "metadata": {},
   "outputs": [
    {
     "data": {
      "text/plain": [
       "0    True\n",
       "1    True\n",
       "2    True\n",
       "dtype: bool"
      ]
     },
     "execution_count": 119,
     "metadata": {},
     "output_type": "execute_result"
    }
   ],
   "source": [
    "house_prices.str.contains('$')"
   ]
  },
  {
   "cell_type": "code",
   "execution_count": 120,
   "id": "bee6dafe-cfeb-464d-895f-f1c9e3afcdd9",
   "metadata": {},
   "outputs": [
    {
     "data": {
      "text/plain": [
       "0    3\n",
       "1    4\n",
       "2    4\n",
       "dtype: int64"
      ]
     },
     "execution_count": 120,
     "metadata": {},
     "output_type": "execute_result"
    }
   ],
   "source": [
    "house_prices.str.count('0')"
   ]
  },
  {
   "cell_type": "markdown",
   "id": "8e752b8a-badc-4202-8b6d-e20716ace929",
   "metadata": {},
   "source": [
    "exercise\n",
    "Use the relevant string accessor twice – once with the .split() method and indexing (within parentheses) to remove the first names of all individuals in the provided Series. Store the obtained output in a new variable called last_names."
   ]
  },
  {
   "cell_type": "code",
   "execution_count": 130,
   "id": "c6842a9b-cbda-4695-b5f0-78b206fb4faa",
   "metadata": {},
   "outputs": [
    {
     "data": {
      "text/plain": [
       "0       Peterson\n",
       "1    Fitzpatrick\n",
       "2           Cruz\n",
       "dtype: object"
      ]
     },
     "execution_count": 130,
     "metadata": {},
     "output_type": "execute_result"
    }
   ],
   "source": [
    "import pandas as pd;\n",
    "names = pd.Series([\"Martin Peterson\", \"John Fitzpatrick\", \"Kate Cruz\"])\n",
    "last_names=names.str.split().str[1]\n",
    "last_names"
   ]
  },
  {
   "cell_type": "code",
   "execution_count": 124,
   "id": "39f44786-d990-4d9f-b493-68400c62ffe3",
   "metadata": {},
   "outputs": [
    {
     "name": "stdout",
     "output_type": "stream",
     "text": [
      "My name is rizwan and im 19 years of age\n"
     ]
    }
   ],
   "source": [
    "name='rizwan'\n",
    "age=19\n",
    "print(\"My name is {} and im {} years of age\".format(name,age)"
   ]
  },
  {
   "cell_type": "code",
   "execution_count": 126,
   "id": "67718ee7-c50a-42e2-bfe5-2021b99c118d",
   "metadata": {},
   "outputs": [
    {
     "name": "stdout",
     "output_type": "stream",
     "text": [
      " im 21 years of age and My name is rizwan\n"
     ]
    }
   ],
   "source": [
    "name='rizwan'\n",
    "age=21\n",
    "print(\" im {1} years of age and My name is {0}\".format(name,age))"
   ]
  },
  {
   "cell_type": "code",
   "execution_count": 127,
   "id": "34308bb6-ada2-4e38-8d08-97b0a3071e35",
   "metadata": {},
   "outputs": [
    {
     "name": "stdout",
     "output_type": "stream",
     "text": [
      " im 21 years of age and My name is rizwan\n"
     ]
    }
   ],
   "source": [
    "print(\" im {age} years of age and My name is {name}\".format(name='rizwan',age=21))"
   ]
  },
  {
   "cell_type": "code",
   "execution_count": null,
   "id": "a9f65e08-f25d-4727-90db-4a615c52af99",
   "metadata": {},
   "outputs": [],
   "source": []
  }
 ],
 "metadata": {
  "kernelspec": {
   "display_name": "Python [conda env:base] *",
   "language": "python",
   "name": "conda-base-py"
  },
  "language_info": {
   "codemirror_mode": {
    "name": "ipython",
    "version": 3
   },
   "file_extension": ".py",
   "mimetype": "text/x-python",
   "name": "python",
   "nbconvert_exporter": "python",
   "pygments_lexer": "ipython3",
   "version": "3.12.7"
  }
 },
 "nbformat": 4,
 "nbformat_minor": 5
}

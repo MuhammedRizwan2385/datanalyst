{
 "cells": [
  {
   "cell_type": "markdown",
   "id": "c921bca7-e7f7-411f-9d23-b6d51450f33d",
   "metadata": {},
   "source": [
    "A lambda function is a small anonymous function.\n",
    "A lambda function can take any number of arguments, but can only have one expression.\n",
    "syntax:   lambda arguments : expression\n",
    "\n",
    "they are defined using the lambda keyword.\n",
    "They are often used for short, simple operations where a full function definition using def is unnecessary. \n",
    "\n",
    "\n"
   ]
  },
  {
   "cell_type": "code",
   "execution_count": 1,
   "id": "6a0c42a4-18a8-4946-8ab8-8dee6c0a34c5",
   "metadata": {},
   "outputs": [
    {
     "data": {
      "text/plain": [
       "9"
      ]
     },
     "execution_count": 1,
     "metadata": {},
     "output_type": "execute_result"
    }
   ],
   "source": [
    "def raise_to_power_of_2(x):\n",
    "    return x**2\n",
    "raise_to_power_of_2(3)"
   ]
  },
  {
   "cell_type": "code",
   "execution_count": 2,
   "id": "50f0dd99-26a9-41f9-986b-c44642d71544",
   "metadata": {},
   "outputs": [
    {
     "data": {
      "text/plain": [
       "9"
      ]
     },
     "execution_count": 2,
     "metadata": {},
     "output_type": "execute_result"
    }
   ],
   "source": [
    "(lambda x:x**2)(3)"
   ]
  },
  {
   "cell_type": "code",
   "execution_count": 3,
   "id": "bde116fa-b87c-48d8-82c1-97cff9c5758c",
   "metadata": {},
   "outputs": [
    {
     "data": {
      "text/plain": [
       "4"
      ]
     },
     "execution_count": 3,
     "metadata": {},
     "output_type": "execute_result"
    }
   ],
   "source": [
    "y=lambda x:x**2\n",
    "y(2)"
   ]
  },
  {
   "cell_type": "code",
   "execution_count": 4,
   "id": "2f64bf3a-b25a-41cc-b980-1037e9bf5c0c",
   "metadata": {},
   "outputs": [
    {
     "data": {
      "text/plain": [
       "5.5"
      ]
     },
     "execution_count": 4,
     "metadata": {},
     "output_type": "execute_result"
    }
   ],
   "source": [
    "(lambda x: x/2)(11)"
   ]
  },
  {
   "cell_type": "code",
   "execution_count": 5,
   "id": "50881f3b-2aab-43b6-8e06-e635ce3e426f",
   "metadata": {},
   "outputs": [
    {
     "data": {
      "text/plain": [
       "1.0"
      ]
     },
     "execution_count": 5,
     "metadata": {},
     "output_type": "execute_result"
    }
   ],
   "source": [
    "z=lambda x:x/2\n",
    "z(2)"
   ]
  },
  {
   "cell_type": "code",
   "execution_count": 6,
   "id": "5ea75dd1-539d-4b2b-ab01-0c5ee8bdc66e",
   "metadata": {},
   "outputs": [
    {
     "name": "stdout",
     "output_type": "stream",
     "text": [
      "5\n"
     ]
    }
   ],
   "source": [
    "print((lambda x,y:x+y)(2,3))"
   ]
  },
  {
   "cell_type": "code",
   "execution_count": 7,
   "id": "4340ad13-4513-4386-a1fe-fc3a38901547",
   "metadata": {},
   "outputs": [
    {
     "data": {
      "text/plain": [
       "8"
      ]
     },
     "execution_count": 7,
     "metadata": {},
     "output_type": "execute_result"
    }
   ],
   "source": [
    "z=lambda x,y:x+y\n",
    "z(3,5)"
   ]
  },
  {
   "cell_type": "code",
   "execution_count": null,
   "id": "f43ba6c8-a50f-4913-b6da-7375ad06bca7",
   "metadata": {},
   "outputs": [],
   "source": []
  }
 ],
 "metadata": {
  "kernelspec": {
   "display_name": "Python [conda env:base] *",
   "language": "python",
   "name": "conda-base-py"
  },
  "language_info": {
   "codemirror_mode": {
    "name": "ipython",
    "version": 3
   },
   "file_extension": ".py",
   "mimetype": "text/x-python",
   "name": "python",
   "nbconvert_exporter": "python",
   "pygments_lexer": "ipython3",
   "version": "3.12.7"
  }
 },
 "nbformat": 4,
 "nbformat_minor": 5
}

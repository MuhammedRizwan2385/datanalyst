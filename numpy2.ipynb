{
 "cells": [
  {
   "cell_type": "markdown",
   "id": "d1836936-c523-4331-8216-24d30c10b732",
   "metadata": {},
   "source": [
    "# numpy fundamentals"
   ]
  },
  {
   "cell_type": "code",
   "execution_count": 1,
   "id": "997d1124-9b85-4d10-81e3-d799639b5d33",
   "metadata": {},
   "outputs": [],
   "source": [
    "import numpy as np"
   ]
  },
  {
   "cell_type": "code",
   "execution_count": 2,
   "id": "64714fcc-673b-4397-a816-0a1578a039f6",
   "metadata": {},
   "outputs": [
    {
     "data": {
      "text/plain": [
       "array([[1, 2, 3],\n",
       "       [4, 5, 6]])"
      ]
     },
     "execution_count": 2,
     "metadata": {},
     "output_type": "execute_result"
    }
   ],
   "source": [
    "array_a=np.array([[1,2,3],[4,5,6]])\n",
    "array_a"
   ]
  },
  {
   "cell_type": "code",
   "execution_count": 4,
   "id": "3f8a6b7b-bd9a-4768-874c-682299d28e17",
   "metadata": {},
   "outputs": [
    {
     "data": {
      "text/plain": [
       "array([1, 2, 3])"
      ]
     },
     "execution_count": 4,
     "metadata": {},
     "output_type": "execute_result"
    }
   ],
   "source": [
    "array_a[0]"
   ]
  },
  {
   "cell_type": "code",
   "execution_count": 5,
   "id": "fb31a5a7-59fb-44d1-be58-6064fbb5a709",
   "metadata": {},
   "outputs": [
    {
     "data": {
      "text/plain": [
       "np.int64(1)"
      ]
     },
     "execution_count": 5,
     "metadata": {},
     "output_type": "execute_result"
    }
   ],
   "source": [
    "array_a[0][0]"
   ]
  },
  {
   "cell_type": "code",
   "execution_count": 6,
   "id": "1132cc0d-5db5-4f5b-b7d5-95d2bca0a159",
   "metadata": {},
   "outputs": [
    {
     "data": {
      "text/plain": [
       "np.int64(1)"
      ]
     },
     "execution_count": 6,
     "metadata": {},
     "output_type": "execute_result"
    }
   ],
   "source": [
    "array_a[0,0]"
   ]
  },
  {
   "cell_type": "code",
   "execution_count": 7,
   "id": "b51d62c0-f3a5-4a74-9f15-55ddbe6730ca",
   "metadata": {},
   "outputs": [
    {
     "data": {
      "text/plain": [
       "np.int64(2)"
      ]
     },
     "execution_count": 7,
     "metadata": {},
     "output_type": "execute_result"
    }
   ],
   "source": [
    "array_a[0,1]"
   ]
  },
  {
   "cell_type": "code",
   "execution_count": 8,
   "id": "507087d9-6300-46cf-ae02-b0ca97feb1bb",
   "metadata": {},
   "outputs": [
    {
     "data": {
      "text/plain": [
       "array([2, 5])"
      ]
     },
     "execution_count": 8,
     "metadata": {},
     "output_type": "execute_result"
    }
   ],
   "source": [
    "array_a[:,1]   #slicing  all rows but second column"
   ]
  },
  {
   "cell_type": "markdown",
   "id": "fc875f40-806e-4640-97cc-5493cec13971",
   "metadata": {},
   "source": [
    "Negative Indices"
   ]
  },
  {
   "cell_type": "code",
   "execution_count": 10,
   "id": "962f5189-04b3-4958-a02c-8f97fc8b22e2",
   "metadata": {},
   "outputs": [
    {
     "data": {
      "text/plain": [
       "array([1, 2, 3])"
      ]
     },
     "execution_count": 10,
     "metadata": {},
     "output_type": "execute_result"
    }
   ],
   "source": [
    "array_b=np.array([1,2,3])\n",
    "array_b"
   ]
  },
  {
   "cell_type": "code",
   "execution_count": 11,
   "id": "518cda4c-c063-474a-9bcc-daeb8e2ce4a9",
   "metadata": {},
   "outputs": [
    {
     "data": {
      "text/plain": [
       "np.int64(3)"
      ]
     },
     "execution_count": 11,
     "metadata": {},
     "output_type": "execute_result"
    }
   ],
   "source": [
    "array_b[-1]"
   ]
  },
  {
   "cell_type": "code",
   "execution_count": 12,
   "id": "e63f9748-b782-41de-9d8b-db5747d03f97",
   "metadata": {},
   "outputs": [
    {
     "data": {
      "text/plain": [
       "np.int64(2)"
      ]
     },
     "execution_count": 12,
     "metadata": {},
     "output_type": "execute_result"
    }
   ],
   "source": [
    "array_b[-2]"
   ]
  },
  {
   "cell_type": "code",
   "execution_count": 13,
   "id": "ae4b04a7-198a-4e66-b062-d2445731ec23",
   "metadata": {},
   "outputs": [
    {
     "data": {
      "text/plain": [
       "np.int64(1)"
      ]
     },
     "execution_count": 13,
     "metadata": {},
     "output_type": "execute_result"
    }
   ],
   "source": [
    "array_b[-3]"
   ]
  },
  {
   "cell_type": "code",
   "execution_count": 14,
   "id": "f75aeaee-3676-488a-bfb1-e53f37cb420c",
   "metadata": {},
   "outputs": [
    {
     "data": {
      "text/plain": [
       "array([[1, 2, 3],\n",
       "       [4, 5, 6]])"
      ]
     },
     "execution_count": 14,
     "metadata": {},
     "output_type": "execute_result"
    }
   ],
   "source": [
    "array_a"
   ]
  },
  {
   "cell_type": "code",
   "execution_count": 15,
   "id": "264f9e47-1166-41fb-af52-0c051f32188a",
   "metadata": {},
   "outputs": [
    {
     "data": {
      "text/plain": [
       "array([4, 5, 6])"
      ]
     },
     "execution_count": 15,
     "metadata": {},
     "output_type": "execute_result"
    }
   ],
   "source": [
    "array_a[-1]"
   ]
  },
  {
   "cell_type": "code",
   "execution_count": 16,
   "id": "8ce86962-c642-4a9f-9588-91cb0b84ef38",
   "metadata": {},
   "outputs": [
    {
     "data": {
      "text/plain": [
       "array([3, 6])"
      ]
     },
     "execution_count": 16,
     "metadata": {},
     "output_type": "execute_result"
    }
   ],
   "source": [
    "array_a[:,-1]"
   ]
  },
  {
   "cell_type": "code",
   "execution_count": 17,
   "id": "d5962061-1281-4571-b003-0a592df26aaa",
   "metadata": {},
   "outputs": [
    {
     "data": {
      "text/plain": [
       "np.int64(6)"
      ]
     },
     "execution_count": 17,
     "metadata": {},
     "output_type": "execute_result"
    }
   ],
   "source": [
    "array_a[-1,-1]"
   ]
  },
  {
   "cell_type": "code",
   "execution_count": 19,
   "id": "4fc0be9d-53af-47f9-966f-a891ec210e1b",
   "metadata": {},
   "outputs": [
    {
     "data": {
      "text/plain": [
       "np.int64(5)"
      ]
     },
     "execution_count": 19,
     "metadata": {},
     "output_type": "execute_result"
    }
   ],
   "source": [
    "array_a[-1,-2]"
   ]
  },
  {
   "cell_type": "markdown",
   "id": "c217e7f4-84f8-4342-bff5-23094a3da0b8",
   "metadata": {},
   "source": [
    "# Assigning values in numpy\n"
   ]
  },
  {
   "cell_type": "code",
   "execution_count": 21,
   "id": "1d91888d-9ccc-4a4f-bb7d-94247fbf5904",
   "metadata": {},
   "outputs": [
    {
     "data": {
      "text/plain": [
       "array([[1, 2, 3],\n",
       "       [4, 5, 6]])"
      ]
     },
     "execution_count": 21,
     "metadata": {},
     "output_type": "execute_result"
    }
   ],
   "source": [
    "array_a=np.array([[1,2,3],[4,5,6]])\n",
    "array_a"
   ]
  },
  {
   "cell_type": "code",
   "execution_count": 22,
   "id": "a11853f2-d900-4af1-b0ce-431450ac68ec",
   "metadata": {},
   "outputs": [
    {
     "data": {
      "text/plain": [
       "array([[1, 2, 9],\n",
       "       [4, 5, 6]])"
      ]
     },
     "execution_count": 22,
     "metadata": {},
     "output_type": "execute_result"
    }
   ],
   "source": [
    "array_a[0,2]=9  #changing only 1st row last column element\n",
    "array_a"
   ]
  },
  {
   "cell_type": "code",
   "execution_count": 24,
   "id": "2ed151ad-573d-43ac-b4db-1034e69e11ee",
   "metadata": {},
   "outputs": [
    {
     "data": {
      "text/plain": [
       "array([[10, 11, 12],\n",
       "       [ 4,  5,  6]])"
      ]
     },
     "execution_count": 24,
     "metadata": {},
     "output_type": "execute_result"
    }
   ],
   "source": [
    "array_a[0]=[10,11,12] #changing the values of 1st row\n",
    "array_a"
   ]
  },
  {
   "cell_type": "code",
   "execution_count": 25,
   "id": "4266fcef-d6b9-4246-a3bc-c5f3cb991f8e",
   "metadata": {},
   "outputs": [
    {
     "data": {
      "text/plain": [
       "array([[25, 25, 25],\n",
       "       [ 4,  5,  6]])"
      ]
     },
     "execution_count": 25,
     "metadata": {},
     "output_type": "execute_result"
    }
   ],
   "source": [
    "array_a[0]=25 #changing the values of first row with a single element\n",
    "array_a"
   ]
  },
  {
   "cell_type": "code",
   "execution_count": 26,
   "id": "0e8a56f7-54fb-4edc-9087-1bf9b96703eb",
   "metadata": {},
   "outputs": [
    {
     "data": {
      "text/plain": [
       "array([[25, 11, 25],\n",
       "       [ 4, 11,  6]])"
      ]
     },
     "execution_count": 26,
     "metadata": {},
     "output_type": "execute_result"
    }
   ],
   "source": [
    "array_a[:,1]=11 #changing the value of 2nd column of the all the rows\n",
    "array_a"
   ]
  },
  {
   "cell_type": "code",
   "execution_count": 27,
   "id": "01e87399-5a0a-4fc7-a726-8390279cb77d",
   "metadata": {},
   "outputs": [
    {
     "data": {
      "text/plain": [
       "array([[10, 11, 12],\n",
       "       [ 4, 11,  6]])"
      ]
     },
     "execution_count": 27,
     "metadata": {},
     "output_type": "execute_result"
    }
   ],
   "source": [
    "list_a=[10,11,12]   # we can also change like this\n",
    "array_a[0]=list_a\n",
    "array_a"
   ]
  },
  {
   "cell_type": "code",
   "execution_count": 28,
   "id": "2ce9e723-a1e9-434a-ac15-567b4962e293",
   "metadata": {},
   "outputs": [
    {
     "data": {
      "text/plain": [
       "array([[10, 10, 10],\n",
       "       [10, 10, 10]])"
      ]
     },
     "execution_count": 28,
     "metadata": {},
     "output_type": "execute_result"
    }
   ],
   "source": [
    "array_a[:]=10 #assigning a single value\n",
    "array_a"
   ]
  },
  {
   "cell_type": "code",
   "execution_count": 31,
   "id": "95bbb08e-e59b-4ab1-8d2d-2b7afc13a16e",
   "metadata": {},
   "outputs": [
    {
     "data": {
      "text/plain": [
       "array([[11, 11, 11],\n",
       "       [11, 11, 11]])"
      ]
     },
     "execution_count": 31,
     "metadata": {},
     "output_type": "execute_result"
    }
   ],
   "source": [
    "array_a=np.full((2,3),11)  #we can also use np.full method\n",
    "array_a"
   ]
  },
  {
   "cell_type": "code",
   "execution_count": 33,
   "id": "b40bb561-a2e2-45be-b023-5258949b1a30",
   "metadata": {},
   "outputs": [
    {
     "data": {
      "text/plain": [
       "array([[1., 1., 1.],\n",
       "       [1., 1., 1.]])"
      ]
     },
     "execution_count": 33,
     "metadata": {},
     "output_type": "execute_result"
    }
   ],
   "source": [
    "array_a=np.ones((2,3)) #assigning full ones\n",
    "array_a"
   ]
  },
  {
   "cell_type": "code",
   "execution_count": 39,
   "id": "30f97d68-7389-459d-beb9-526aba0f602e",
   "metadata": {},
   "outputs": [
    {
     "data": {
      "text/plain": [
       "array([[0., 0., 0.],\n",
       "       [0., 0., 0.]])"
      ]
     },
     "execution_count": 39,
     "metadata": {},
     "output_type": "execute_result"
    }
   ],
   "source": [
    "array_a=np.zeros((2,3)) #assigning full zeros\n",
    "array_a"
   ]
  },
  {
   "cell_type": "code",
   "execution_count": 36,
   "id": "ca490659-6dae-4ff6-991b-3c5adde16bdf",
   "metadata": {},
   "outputs": [
    {
     "data": {
      "text/plain": [
       "array([[1., 0.],\n",
       "       [0., 1.]])"
      ]
     },
     "execution_count": 36,
     "metadata": {},
     "output_type": "execute_result"
    }
   ],
   "source": [
    "array_a=np.eye(2) #identity array of 2\n",
    "array_a"
   ]
  },
  {
   "cell_type": "code",
   "execution_count": 38,
   "id": "29a0a3c3-df90-4b83-9526-077fbe8a8492",
   "metadata": {},
   "outputs": [
    {
     "data": {
      "text/plain": [
       "array([[1., 0., 0.],\n",
       "       [0., 1., 0.],\n",
       "       [0., 0., 1.]])"
      ]
     },
     "execution_count": 38,
     "metadata": {},
     "output_type": "execute_result"
    }
   ],
   "source": [
    "array_a=np.eye(3) #identity array of 3\n",
    "array_a"
   ]
  },
  {
   "cell_type": "markdown",
   "id": "7abc718b-d655-4ff8-b244-7cd84253a4e3",
   "metadata": {},
   "source": [
    "import numpy as np\n",
    "\n",
    "array_1D = np.array([10,11,12,13,14])\n",
    "array_2D = np.array([[20,30,40,50,60], [43,54,65,76,87], [11,22,33,44,55]])\n",
    "array_3D = np.array([[[1,2,3,4,5], [11,21,31,41,51]], [[11,12,13,14,15], [51,52,53,54,5]]])\n",
    "\n",
    "\n",
    "#1. array_1D=10\n",
    "array_1D[-2]=10\n",
    "print(array_1D)\n",
    "\n",
    "\n",
    "#2. array_2D\n",
    "array_2D[-1,-2]=10\n",
    "print(array_2D)\n",
    "\n",
    "\n",
    "#3. array_3D\n",
    "array_3D[-1][-1][-2]=10\n",
    "print(array_3D)\n",
    "\n"
   ]
  },
  {
   "cell_type": "code",
   "execution_count": 40,
   "id": "82e5901d-1db8-475f-8ec8-ef24b5ae506a",
   "metadata": {},
   "outputs": [
    {
     "name": "stdout",
     "output_type": "stream",
     "text": [
      "[10 11 12 10 14]\n",
      "[[20 30 40 50 60]\n",
      " [43 54 65 76 87]\n",
      " [11 22 33 10 55]]\n",
      "[[[ 1  2  3  4  5]\n",
      "  [11 21 31 41 51]]\n",
      "\n",
      " [[11 12 13 14 15]\n",
      "  [51 52 53 10  5]]]\n"
     ]
    }
   ],
   "source": [
    "import numpy as np\n",
    "\n",
    "array_1D = np.array([10,11,12,13,14])\n",
    "array_2D = np.array([[20,30,40,50,60], [43,54,65,76,87], [11,22,33,44,55]])\n",
    "array_3D = np.array([[[1,2,3,4,5], [11,21,31,41,51]], [[11,12,13,14,15], [51,52,53,54,5]]])\n",
    "\n",
    "\n",
    "#1. array_1D=10\n",
    "array_1D[-2]=10\n",
    "print(array_1D)\n",
    "\n",
    "\n",
    "#2. array_2D\n",
    "array_2D[-1,-2]=10\n",
    "print(array_2D)\n",
    "\n",
    "\n",
    "#3. array_3D\n",
    "array_3D[-1][-1][-2]=10\n",
    "print(array_3D)\n",
    "\n"
   ]
  },
  {
   "cell_type": "markdown",
   "id": "c559d741-90d3-4465-9b60-87117d6e66de",
   "metadata": {},
   "source": [
    "# Element-wise properties of numpy array"
   ]
  },
  {
   "cell_type": "code",
   "execution_count": 41,
   "id": "5c7951eb-b8a7-4af7-bcb1-189460dc745b",
   "metadata": {},
   "outputs": [],
   "source": [
    "array_1D = np.array([10,11,12,13,14])\n",
    "array_2D = np.array([[20,30,40,50,60], [43,54,65,76,87], [11,22,33,44,55]])\n"
   ]
  },
  {
   "cell_type": "code",
   "execution_count": 42,
   "id": "e7a4c914-e65d-4b14-b5b9-1db23106d207",
   "metadata": {},
   "outputs": [
    {
     "data": {
      "text/plain": [
       "array([12, 13, 14, 15, 16])"
      ]
     },
     "execution_count": 42,
     "metadata": {},
     "output_type": "execute_result"
    }
   ],
   "source": [
    "array_1D+2"
   ]
  },
  {
   "cell_type": "code",
   "execution_count": 43,
   "id": "5b93c4c8-e17c-4bbd-9665-f68d8436269e",
   "metadata": {},
   "outputs": [
    {
     "data": {
      "text/plain": [
       "array([[22, 32, 42, 52, 62],\n",
       "       [45, 56, 67, 78, 89],\n",
       "       [13, 24, 35, 46, 57]])"
      ]
     },
     "execution_count": 43,
     "metadata": {},
     "output_type": "execute_result"
    }
   ],
   "source": [
    "array_2D+2"
   ]
  },
  {
   "cell_type": "code",
   "execution_count": 46,
   "id": "bee31292-57f8-4eaf-9b91-9f0936839a1e",
   "metadata": {},
   "outputs": [
    {
     "data": {
      "text/plain": [
       "array([20, 22, 24, 26, 28])"
      ]
     },
     "execution_count": 46,
     "metadata": {},
     "output_type": "execute_result"
    }
   ],
   "source": [
    "array_1D*2"
   ]
  },
  {
   "cell_type": "code",
   "execution_count": 45,
   "id": "b56e8892-14f6-4ac6-a6e1-ccc9505e7638",
   "metadata": {},
   "outputs": [
    {
     "data": {
      "text/plain": [
       "array([[ 40,  60,  80, 100, 120],\n",
       "       [ 86, 108, 130, 152, 174],\n",
       "       [ 22,  44,  66,  88, 110]])"
      ]
     },
     "execution_count": 45,
     "metadata": {},
     "output_type": "execute_result"
    }
   ],
   "source": [
    "array_2D*2"
   ]
  },
  {
   "cell_type": "code",
   "execution_count": 47,
   "id": "7993a9ec-5a41-4983-9d3a-01daef00f751",
   "metadata": {},
   "outputs": [
    {
     "data": {
      "text/plain": [
       "array([30, 41, 52, 63, 74])"
      ]
     },
     "execution_count": 47,
     "metadata": {},
     "output_type": "execute_result"
    }
   ],
   "source": [
    "array_1D+array_2D[0]"
   ]
  },
  {
   "cell_type": "code",
   "execution_count": 48,
   "id": "8f0b1292-2102-4eca-adae-9b4678d46b52",
   "metadata": {},
   "outputs": [
    {
     "data": {
      "text/plain": [
       "array([200, 330, 480, 650, 840])"
      ]
     },
     "execution_count": 48,
     "metadata": {},
     "output_type": "execute_result"
    }
   ],
   "source": [
    "array_1D*array_2D[0]"
   ]
  },
  {
   "cell_type": "code",
   "execution_count": 50,
   "id": "4161a40d-111f-40ae-818e-80ad5bf70e93",
   "metadata": {},
   "outputs": [
    {
     "data": {
      "text/plain": [
       "array([10, 11, 12, 13, 14])"
      ]
     },
     "execution_count": 50,
     "metadata": {},
     "output_type": "execute_result"
    }
   ],
   "source": [
    "array_1D"
   ]
  },
  {
   "cell_type": "code",
   "execution_count": 52,
   "id": "8e25c5f4-0a38-4a7c-999f-a3bcd0937729",
   "metadata": {},
   "outputs": [
    {
     "data": {
      "text/plain": [
       "array([[20, 30, 40, 50, 60],\n",
       "       [43, 54, 65, 76, 87],\n",
       "       [11, 22, 33, 44, 55]])"
      ]
     },
     "execution_count": 52,
     "metadata": {},
     "output_type": "execute_result"
    }
   ],
   "source": [
    "array_2D"
   ]
  },
  {
   "cell_type": "code",
   "execution_count": 49,
   "id": "52b2021b-74cf-45bd-8187-81fe9187ae42",
   "metadata": {},
   "outputs": [
    {
     "data": {
      "text/plain": [
       "array([[ 30,  41,  52,  63,  74],\n",
       "       [ 53,  65,  77,  89, 101],\n",
       "       [ 21,  33,  45,  57,  69]])"
      ]
     },
     "execution_count": 49,
     "metadata": {},
     "output_type": "execute_result"
    }
   ],
   "source": [
    "array_1D+array_2D  #array_1D is added with each row of array_2D"
   ]
  },
  {
   "cell_type": "markdown",
   "id": "1773fe8a-36cc-44e4-bd95-acf62cbf08bc",
   "metadata": {},
   "source": [
    "Numpy datatypes\n",
    "1.int\n",
    "2.float 16,32,64.....\n",
    "3.complex\n",
    "4.boolean"
   ]
  },
  {
   "cell_type": "code",
   "execution_count": 53,
   "id": "361d588a-a285-46d6-9886-bfb78724fea6",
   "metadata": {},
   "outputs": [
    {
     "data": {
      "text/plain": [
       "array([[1, 2, 3],\n",
       "       [4, 5, 6]])"
      ]
     },
     "execution_count": 53,
     "metadata": {},
     "output_type": "execute_result"
    }
   ],
   "source": [
    "array_a=np.array([[1,2,3],[4,5,6]])\n",
    "array_a"
   ]
  },
  {
   "cell_type": "code",
   "execution_count": 55,
   "id": "cfcb6c7a-3b06-4744-917e-3d57971d86e3",
   "metadata": {},
   "outputs": [
    {
     "data": {
      "text/plain": [
       "array([[1., 2., 3.],\n",
       "       [4., 5., 6.]], dtype=float32)"
      ]
     },
     "execution_count": 55,
     "metadata": {},
     "output_type": "execute_result"
    }
   ],
   "source": [
    "array_a=np.array([[1,2,3],[4,5,6]],dtype='float32')\n",
    "array_a"
   ]
  },
  {
   "cell_type": "code",
   "execution_count": 56,
   "id": "b79d87a8-cee5-425e-8f23-2c045a096aa9",
   "metadata": {},
   "outputs": [
    {
     "data": {
      "text/plain": [
       "array([[1., 2., 3.],\n",
       "       [4., 5., 6.]], dtype=float32)"
      ]
     },
     "execution_count": 56,
     "metadata": {},
     "output_type": "execute_result"
    }
   ],
   "source": [
    "array_a=np.array([[1,2,3],[4,5,6]],dtype=np.float32)\n",
    "array_a"
   ]
  },
  {
   "cell_type": "code",
   "execution_count": 57,
   "id": "29aeff80-70db-4abe-80c2-e0ec9d996641",
   "metadata": {},
   "outputs": [
    {
     "data": {
      "text/plain": [
       "array([[1.+0.j, 2.+0.j, 3.+0.j],\n",
       "       [4.+0.j, 5.+0.j, 6.+0.j]], dtype=complex64)"
      ]
     },
     "execution_count": 57,
     "metadata": {},
     "output_type": "execute_result"
    }
   ],
   "source": [
    "array_a=np.array([[1,2,3],[4,5,6]],dtype=np.complex64)\n",
    "array_a"
   ]
  },
  {
   "cell_type": "code",
   "execution_count": 58,
   "id": "50580ce4-e379-4c11-a570-49ee6d904ad0",
   "metadata": {},
   "outputs": [
    {
     "data": {
      "text/plain": [
       "array([[ True,  True,  True],\n",
       "       [ True,  True,  True]])"
      ]
     },
     "execution_count": 58,
     "metadata": {},
     "output_type": "execute_result"
    }
   ],
   "source": [
    "array_a=np.array([[1,2,3],[4,5,6]],dtype=np.bool) #false for 0\n",
    "array_a"
   ]
  },
  {
   "cell_type": "code",
   "execution_count": 59,
   "id": "25726362-f5b6-41e1-8ef1-d715b8c74f64",
   "metadata": {},
   "outputs": [
    {
     "data": {
      "text/plain": [
       "array([[ True, False,  True],\n",
       "       [ True,  True,  True]])"
      ]
     },
     "execution_count": 59,
     "metadata": {},
     "output_type": "execute_result"
    }
   ],
   "source": [
    "array_a=np.array([[1,0,3],[4,5,6]],dtype=np.bool) #false for 0\n",
    "array_a"
   ]
  },
  {
   "cell_type": "code",
   "execution_count": 61,
   "id": "1f503648-ac2b-4448-a700-f8847eb8a516",
   "metadata": {},
   "outputs": [
    {
     "data": {
      "text/plain": [
       "array([['1', '2', '3'],\n",
       "       ['4', '5', '6']], dtype='<U1')"
      ]
     },
     "execution_count": 61,
     "metadata": {},
     "output_type": "execute_result"
    }
   ],
   "source": [
    "array_a=np.array([[1,2,3],[4,5,6]],dtype=str) #false for 0\n",
    "array_a"
   ]
  },
  {
   "cell_type": "markdown",
   "id": "aead80e6-1822-492d-ad71-7137208b43a4",
   "metadata": {},
   "source": [
    "# Numpy functions"
   ]
  },
  {
   "cell_type": "markdown",
   "id": "1c0e775b-9890-45ca-a985-ecd7953847ae",
   "metadata": {},
   "source": [
    "Broadcasting:\n",
    "we want to conduct elementwise  operations but have elemets of different sizes,and/or dimensions.we can broadcast the smaller variable and create a broadcasted version with the size of the larger one.that is stretching one varibale over the other to produce an output with the same shape."
   ]
  },
  {
   "cell_type": "code",
   "execution_count": 67,
   "id": "a446de84-a5c9-4457-8e12-8da21dd42ef9",
   "metadata": {},
   "outputs": [
    {
     "data": {
      "text/plain": [
       "array([1, 2, 3])"
      ]
     },
     "execution_count": 67,
     "metadata": {},
     "output_type": "execute_result"
    }
   ],
   "source": [
    "array_a=np.array([1,2,3])\n",
    "array_a"
   ]
  },
  {
   "cell_type": "code",
   "execution_count": 66,
   "id": "e654465b-2f5f-4b9d-879a-2b594b1e1c3c",
   "metadata": {},
   "outputs": [
    {
     "data": {
      "text/plain": [
       "array([[1],\n",
       "       [2]])"
      ]
     },
     "execution_count": 66,
     "metadata": {},
     "output_type": "execute_result"
    }
   ],
   "source": [
    "array_b=np.array([[1],[2]])\n",
    "array_b"
   ]
  },
  {
   "cell_type": "code",
   "execution_count": 65,
   "id": "9cc399a3-8e3c-4666-9e22-30d8e6905ab7",
   "metadata": {},
   "outputs": [
    {
     "data": {
      "text/plain": [
       "array([[1, 2, 3],\n",
       "       [4, 5, 6]])"
      ]
     },
     "execution_count": 65,
     "metadata": {},
     "output_type": "execute_result"
    }
   ],
   "source": [
    "matrix_c=np.array([[1,2,3],[4,5,6]])\n",
    "matrix_c"
   ]
  },
  {
   "cell_type": "code",
   "execution_count": 68,
   "id": "6614235c-418a-45d0-b145-00119cdedac6",
   "metadata": {},
   "outputs": [
    {
     "data": {
      "text/plain": [
       "array([[2, 4, 6],\n",
       "       [5, 7, 9]])"
      ]
     },
     "execution_count": 68,
     "metadata": {},
     "output_type": "execute_result"
    }
   ],
   "source": [
    "np.add(array_a,matrix_c)  #[[1,2,3],[1,2,3]] +[[1,2,3],[4,5,6]]"
   ]
  },
  {
   "cell_type": "code",
   "execution_count": 70,
   "id": "b74c4b6f-9cdc-4ff2-b0ac-dbaa9a054dff",
   "metadata": {},
   "outputs": [
    {
     "data": {
      "text/plain": [
       "array([[2, 3, 4],\n",
       "       [6, 7, 8]])"
      ]
     },
     "execution_count": 70,
     "metadata": {},
     "output_type": "execute_result"
    }
   ],
   "source": [
    "np.add(array_b,matrix_c)"
   ]
  },
  {
   "cell_type": "markdown",
   "id": "df4d10c6-d664-4c13-820c-0f6a004c83de",
   "metadata": {},
   "source": [
    "Typecasting:\n",
    "Taking every element of an array and changing it to a specified datatype."
   ]
  },
  {
   "cell_type": "code",
   "execution_count": 71,
   "id": "d60af4de-093a-4414-a760-0e8deba33058",
   "metadata": {},
   "outputs": [
    {
     "data": {
      "text/plain": [
       "array([[2., 3., 4.],\n",
       "       [6., 7., 8.]])"
      ]
     },
     "execution_count": 71,
     "metadata": {},
     "output_type": "execute_result"
    }
   ],
   "source": [
    "np.add(array_b,matrix_c,dtype=np.float64)"
   ]
  },
  {
   "cell_type": "markdown",
   "id": "4fbb93d8-035b-42c7-971c-18518fedcb72",
   "metadata": {},
   "source": [
    "Running over an axis:\n",
    "axis=0  #column\n",
    "axis=1  #row"
   ]
  },
  {
   "cell_type": "code",
   "execution_count": 72,
   "id": "16da897c-42fe-489a-acc7-51d3bcf910ef",
   "metadata": {},
   "outputs": [
    {
     "data": {
      "text/plain": [
       "array([2.5, 3.5, 4.5])"
      ]
     },
     "execution_count": 72,
     "metadata": {},
     "output_type": "execute_result"
    }
   ],
   "source": [
    "np.mean(matrix_c,axis=0)"
   ]
  },
  {
   "cell_type": "code",
   "execution_count": 73,
   "id": "7518d1e3-16af-4600-8040-43d33c857e6b",
   "metadata": {},
   "outputs": [
    {
     "data": {
      "text/plain": [
       "array([2., 5.])"
      ]
     },
     "execution_count": 73,
     "metadata": {},
     "output_type": "execute_result"
    }
   ],
   "source": [
    "np.mean(matrix_c,axis=1)"
   ]
  },
  {
   "cell_type": "markdown",
   "id": "88099378-cc9f-4966-b279-6898d809c339",
   "metadata": {},
   "source": [
    "ndarrays"
   ]
  },
  {
   "cell_type": "code",
   "execution_count": 74,
   "id": "2c350e68-f86b-454f-ad61-6673d0d8600a",
   "metadata": {},
   "outputs": [
    {
     "data": {
      "text/plain": [
       "array([1, 2, 3])"
      ]
     },
     "execution_count": 74,
     "metadata": {},
     "output_type": "execute_result"
    }
   ],
   "source": [
    "array_a=np.array([1,2,3])\n",
    "array_a"
   ]
  },
  {
   "cell_type": "code",
   "execution_count": 75,
   "id": "0c7ad001-8075-4179-ba63-e429a3491a4f",
   "metadata": {},
   "outputs": [
    {
     "data": {
      "text/plain": [
       "numpy.ndarray"
      ]
     },
     "execution_count": 75,
     "metadata": {},
     "output_type": "execute_result"
    }
   ],
   "source": [
    "type(array_a)"
   ]
  },
  {
   "cell_type": "code",
   "execution_count": 76,
   "id": "94e054f5-38f7-4fb0-bbd8-ee1863e2f771",
   "metadata": {},
   "outputs": [
    {
     "data": {
      "text/plain": [
       "(3,)"
      ]
     },
     "execution_count": 76,
     "metadata": {},
     "output_type": "execute_result"
    }
   ],
   "source": [
    "array_a.shape"
   ]
  },
  {
   "cell_type": "code",
   "execution_count": 77,
   "id": "fd0cdf06-5f27-42be-8d94-bd8d1fa4086a",
   "metadata": {},
   "outputs": [
    {
     "data": {
      "text/plain": [
       "array([[1, 2, 3],\n",
       "       [4, 5, 6]])"
      ]
     },
     "execution_count": 77,
     "metadata": {},
     "output_type": "execute_result"
    }
   ],
   "source": [
    "array_b=np.array([[1,2,3],[4,5,6]])\n",
    "array_b"
   ]
  },
  {
   "cell_type": "code",
   "execution_count": 78,
   "id": "413c5ec5-a01f-4615-b201-5e4b134bb363",
   "metadata": {},
   "outputs": [
    {
     "data": {
      "text/plain": [
       "numpy.ndarray"
      ]
     },
     "execution_count": 78,
     "metadata": {},
     "output_type": "execute_result"
    }
   ],
   "source": [
    "type(array_b)"
   ]
  },
  {
   "cell_type": "code",
   "execution_count": 79,
   "id": "3f5a32f1-d7b2-4d6d-8e1f-45c78be69773",
   "metadata": {},
   "outputs": [
    {
     "data": {
      "text/plain": [
       "(2, 3)"
      ]
     },
     "execution_count": 79,
     "metadata": {},
     "output_type": "execute_result"
    }
   ],
   "source": [
    "array_b.shape"
   ]
  },
  {
   "cell_type": "code",
   "execution_count": 80,
   "id": "e24704c1-bb8b-490e-bae8-56f18cf9ffbd",
   "metadata": {},
   "outputs": [
    {
     "name": "stdout",
     "output_type": "stream",
     "text": [
      "[[1 2 3]\n",
      " [4 5 6]]\n"
     ]
    }
   ],
   "source": [
    "print(array_b)"
   ]
  },
  {
   "cell_type": "code",
   "execution_count": 81,
   "id": "08acc694-2506-4ebe-9dcf-ffef54eecb33",
   "metadata": {},
   "outputs": [],
   "source": [
    "array_c=np.array(13)"
   ]
  },
  {
   "cell_type": "code",
   "execution_count": 82,
   "id": "832e308c-4fa7-455e-9e2a-824604e3e811",
   "metadata": {},
   "outputs": [
    {
     "data": {
      "text/plain": [
       "array(13)"
      ]
     },
     "execution_count": 82,
     "metadata": {},
     "output_type": "execute_result"
    }
   ],
   "source": [
    "array_c"
   ]
  },
  {
   "cell_type": "code",
   "execution_count": 83,
   "id": "163d4868-85e5-42e8-b138-c76c45a537bf",
   "metadata": {},
   "outputs": [
    {
     "data": {
      "text/plain": [
       "numpy.ndarray"
      ]
     },
     "execution_count": 83,
     "metadata": {},
     "output_type": "execute_result"
    }
   ],
   "source": [
    "type(array_c)"
   ]
  },
  {
   "cell_type": "code",
   "execution_count": 84,
   "id": "6d1f38d9-534c-49d2-8443-c62c1c837bb1",
   "metadata": {},
   "outputs": [
    {
     "data": {
      "text/plain": [
       "()"
      ]
     },
     "execution_count": 84,
     "metadata": {},
     "output_type": "execute_result"
    }
   ],
   "source": [
    "array_c.shape"
   ]
  },
  {
   "cell_type": "code",
   "execution_count": 85,
   "id": "585bedd1-553e-43b1-a9be-7113f33f3d40",
   "metadata": {},
   "outputs": [],
   "source": [
    "array_d=np.array([15])"
   ]
  },
  {
   "cell_type": "code",
   "execution_count": 86,
   "id": "e0b677d7-bfa3-4a3b-a7ea-a4959cd0203c",
   "metadata": {},
   "outputs": [
    {
     "data": {
      "text/plain": [
       "array([15])"
      ]
     },
     "execution_count": 86,
     "metadata": {},
     "output_type": "execute_result"
    }
   ],
   "source": [
    "array_d"
   ]
  },
  {
   "cell_type": "code",
   "execution_count": 87,
   "id": "5ff65f40-02d4-4c3d-9b2c-8c7f01faba8c",
   "metadata": {},
   "outputs": [
    {
     "data": {
      "text/plain": [
       "numpy.ndarray"
      ]
     },
     "execution_count": 87,
     "metadata": {},
     "output_type": "execute_result"
    }
   ],
   "source": [
    "type(array_d)"
   ]
  },
  {
   "cell_type": "code",
   "execution_count": 88,
   "id": "21eff2c4-60aa-4882-b725-cde84e983868",
   "metadata": {},
   "outputs": [
    {
     "data": {
      "text/plain": [
       "(1,)"
      ]
     },
     "execution_count": 88,
     "metadata": {},
     "output_type": "execute_result"
    }
   ],
   "source": [
    "array_d.shape"
   ]
  },
  {
   "cell_type": "markdown",
   "id": "e3af33ea-9b62-4866-8957-fc499c5d1f3d",
   "metadata": {},
   "source": [
    "# String vs object vs numbers"
   ]
  },
  {
   "cell_type": "code",
   "execution_count": 92,
   "id": "12c04b12-dcf1-4b74-bfdf-8f63fbcc75f5",
   "metadata": {},
   "outputs": [],
   "source": [
    "import numpy as np\n",
    "filename=r\"D:\\dataanalyst\\Data Analyst Course\\S18 - pandas DataFrames\\Lending-company.csv\"\n",
    "lending_co_data=np.genfromtxt(filename,delimiter=',',dtype=np.int32)"
   ]
  },
  {
   "cell_type": "code",
   "execution_count": 93,
   "id": "75637601-3a09-4d37-837b-f84df78a3012",
   "metadata": {},
   "outputs": [
    {
     "name": "stdout",
     "output_type": "stream",
     "text": [
      "[[   -1    -1    -1 ...    -1    -1    -1]\n",
      " [    1    -1    -1 ...  4166 14621    -1]\n",
      " [    2    -1    -1 ...  4096 16041    -1]\n",
      " ...\n",
      " [ 1041    -1    -1 ...  5143 16617    -1]\n",
      " [ 1042    -1    -1 ...  3462 15617    -1]\n",
      " [ 1043    -1    -1 ...  4743 16617    -1]]\n"
     ]
    }
   ],
   "source": [
    "print(lending_co_data)  #nan=-1"
   ]
  },
  {
   "cell_type": "code",
   "execution_count": 94,
   "id": "94f33ceb-285a-41ad-ab11-9125ea156c3c",
   "metadata": {},
   "outputs": [
    {
     "name": "stdout",
     "output_type": "stream",
     "text": [
      "[['LoanID' 'StringID' 'Product' ... 'AmtPaid60' 'AmtPaid360' 'LoanStatus']\n",
      " ['1' 'LoanID_1' 'Product B' ... '4166' '14621' 'Active']\n",
      " ['2' 'LoanID_2' 'Product D' ... '4096' '16041' 'Active']\n",
      " ...\n",
      " ['1041' 'LoanID_1041' 'Product A' ... '5143' '16617' 'Finished Payment']\n",
      " ['1042' 'LoanID_1042' 'Product B' ... '3462' '15617' 'Finished Payment']\n",
      " ['1043' 'LoanID_1043' 'Product A' ... '4743' '16617' 'Finished Payment']]\n"
     ]
    }
   ],
   "source": [
    "import numpy as np\n",
    "filename=r\"D:\\dataanalyst\\Data Analyst Course\\S18 - pandas DataFrames\\Lending-company.csv\"\n",
    "lending_co_data=np.genfromtxt(filename,delimiter=',',dtype=str)\n",
    "print(lending_co_data)"
   ]
  },
  {
   "cell_type": "code",
   "execution_count": 96,
   "id": "cbeef8de-71c8-49b1-b171-bd30a963748e",
   "metadata": {},
   "outputs": [
    {
     "name": "stdout",
     "output_type": "stream",
     "text": [
      "[[b'LoanID' b'StringID' b'Product' ... b'AmtPaid60' b'AmtPaid360'\n",
      "  b'LoanStatus']\n",
      " [b'1' b'LoanID_1' b'Product B' ... b'4166' b'14621' b'Active']\n",
      " [b'2' b'LoanID_2' b'Product D' ... b'4096' b'16041' b'Active']\n",
      " ...\n",
      " [b'1041' b'LoanID_1041' b'Product A' ... b'5143' b'16617'\n",
      "  b'Finished Payment']\n",
      " [b'1042' b'LoanID_1042' b'Product B' ... b'3462' b'15617'\n",
      "  b'Finished Payment']\n",
      " [b'1043' b'LoanID_1043' b'Product A' ... b'4743' b'16617'\n",
      "  b'Finished Payment']]\n"
     ]
    }
   ],
   "source": [
    "import numpy as np\n",
    "filename=r\"D:\\dataanalyst\\Data Analyst Course\\S18 - pandas DataFrames\\Lending-company.csv\"\n",
    "lending_co_data=np.genfromtxt(filename,delimiter=',',dtype=object)\n",
    "print(lending_co_data)"
   ]
  },
  {
   "cell_type": "code",
   "execution_count": 99,
   "id": "7dfe7227-6908-4fd2-af86-ce530d44c4a4",
   "metadata": {},
   "outputs": [
    {
     "name": "stdout",
     "output_type": "stream",
     "text": [
      "[(  -1, '', '', '', '', '',    -1) (   1, '', '', '', '', '', 17600)\n",
      " (   2, '', '', '', '', '',    -1) ... (1041, '', '', '', '', '', 17300)\n",
      " (1042, '', '', '', '', '', 16300) (1043, '', '', '', '', '', 17300)]\n"
     ]
    }
   ],
   "source": [
    "import numpy as np\n",
    "filename=r\"D:\\dataanalyst\\Data Analyst Course\\S18 - pandas DataFrames\\Lending-company.csv\"\n",
    "lending_co_data=np.genfromtxt(filename,delimiter=',',dtype=(np.int32,str,str,str,str,str,np.int32))\n",
    "print(lending_co_data)\n",
    "\n",
    "#so don't use many dtypes "
   ]
  },
  {
   "cell_type": "markdown",
   "id": "e5c7f26a-d947-4ad2-b14c-3ba0be7054f9",
   "metadata": {},
   "source": [
    "# slicing in numpy array"
   ]
  },
  {
   "cell_type": "markdown",
   "id": "b912d0d2-385a-4ef0-a21e-9d619e43fb7e",
   "metadata": {},
   "source": [
    "1.Basic slicing"
   ]
  },
  {
   "cell_type": "code",
   "execution_count": 100,
   "id": "97087699-3b72-4c9e-8d9b-d8d1906fc8c3",
   "metadata": {},
   "outputs": [
    {
     "data": {
      "text/plain": [
       "array([[1, 2, 3],\n",
       "       [4, 5, 6]])"
      ]
     },
     "execution_count": 100,
     "metadata": {},
     "output_type": "execute_result"
    }
   ],
   "source": [
    "array_a=np.array([[1,2,3],[4,5,6]])\n",
    "array_a"
   ]
  },
  {
   "cell_type": "code",
   "execution_count": 101,
   "id": "9f16d447-2e63-4c98-aa2a-deea5a58f897",
   "metadata": {},
   "outputs": [
    {
     "data": {
      "text/plain": [
       "array([[1, 2, 3],\n",
       "       [4, 5, 6]])"
      ]
     },
     "execution_count": 101,
     "metadata": {},
     "output_type": "execute_result"
    }
   ],
   "source": [
    "array_a[:]"
   ]
  },
  {
   "cell_type": "code",
   "execution_count": 102,
   "id": "08fa0c29-24de-44ca-8602-b1e1a7d0bc0c",
   "metadata": {},
   "outputs": [
    {
     "data": {
      "text/plain": [
       "array([], shape=(0, 3), dtype=int64)"
      ]
     },
     "execution_count": 102,
     "metadata": {},
     "output_type": "execute_result"
    }
   ],
   "source": [
    "array_a[0:0]"
   ]
  },
  {
   "cell_type": "code",
   "execution_count": 103,
   "id": "23fb446a-cec0-4419-9614-da1e3b5bd49c",
   "metadata": {},
   "outputs": [
    {
     "data": {
      "text/plain": [
       "array([[1, 2, 3]])"
      ]
     },
     "execution_count": 103,
     "metadata": {},
     "output_type": "execute_result"
    }
   ],
   "source": [
    "array_a[0:1]"
   ]
  },
  {
   "cell_type": "code",
   "execution_count": 104,
   "id": "a0681fcd-d494-4fe9-9fd7-a9801b0a008b",
   "metadata": {},
   "outputs": [
    {
     "data": {
      "text/plain": [
       "array([[1, 2, 3],\n",
       "       [4, 5, 6]])"
      ]
     },
     "execution_count": 104,
     "metadata": {},
     "output_type": "execute_result"
    }
   ],
   "source": [
    "array_a[0:2]   #[startrow,endrow]"
   ]
  },
  {
   "cell_type": "code",
   "execution_count": 106,
   "id": "44a18a56-886d-49e4-8302-2627aa76b102",
   "metadata": {},
   "outputs": [
    {
     "data": {
      "text/plain": [
       "array([[1, 2, 3]])"
      ]
     },
     "execution_count": 106,
     "metadata": {},
     "output_type": "execute_result"
    }
   ],
   "source": [
    "array_a[:1]"
   ]
  },
  {
   "cell_type": "code",
   "execution_count": 107,
   "id": "bd3c45fe-950f-4105-8a6d-cea083698bff",
   "metadata": {},
   "outputs": [
    {
     "data": {
      "text/plain": [
       "array([[4, 5, 6]])"
      ]
     },
     "execution_count": 107,
     "metadata": {},
     "output_type": "execute_result"
    }
   ],
   "source": [
    "array_a[1:]"
   ]
  },
  {
   "cell_type": "code",
   "execution_count": 108,
   "id": "3500ffe6-8e65-482e-beaf-52ac3d07c2d3",
   "metadata": {},
   "outputs": [
    {
     "data": {
      "text/plain": [
       "array([[1, 2, 3]])"
      ]
     },
     "execution_count": 108,
     "metadata": {},
     "output_type": "execute_result"
    }
   ],
   "source": [
    "array_a[:-1]"
   ]
  },
  {
   "cell_type": "code",
   "execution_count": 109,
   "id": "48cc9832-9d01-4633-ad18-4bb1c14014eb",
   "metadata": {},
   "outputs": [],
   "source": [
    "#slicing columns"
   ]
  },
  {
   "cell_type": "code",
   "execution_count": 110,
   "id": "4bf2b71d-8a7f-46f8-b3fd-746fe50818f4",
   "metadata": {},
   "outputs": [
    {
     "data": {
      "text/plain": [
       "array([[2, 3],\n",
       "       [5, 6]])"
      ]
     },
     "execution_count": 110,
     "metadata": {},
     "output_type": "execute_result"
    }
   ],
   "source": [
    "array_a[:,1:]"
   ]
  },
  {
   "cell_type": "code",
   "execution_count": 111,
   "id": "626acf42-fd58-4ae9-89df-930aa8f5db5e",
   "metadata": {},
   "outputs": [
    {
     "data": {
      "text/plain": [
       "array([[5, 6]])"
      ]
     },
     "execution_count": 111,
     "metadata": {},
     "output_type": "execute_result"
    }
   ],
   "source": [
    "array_a[1:,1:]\n"
   ]
  },
  {
   "cell_type": "markdown",
   "id": "a3ec5319-a068-49dc-9873-dd4a064b8a1f",
   "metadata": {},
   "source": [
    "Step-wise slicing\n",
    "(startrow:endrow:step,startcolumn:endcolumn:step)"
   ]
  },
  {
   "cell_type": "markdown",
   "id": "5bdc1e16-731d-458a-89d2-ee03a7586eb9",
   "metadata": {},
   "source": [
    "# Slicing in NumPy - Exercise #2 "
   ]
  },
  {
   "cell_type": "markdown",
   "id": "f711f485-3a79-4f18-b258-213ececfd231",
   "metadata": {},
   "source": [
    "\n",
    "Consider the provided 3D array and supply arguments to the print() functions to complete the following tasks:\n",
    "\n",
    "1. Slice the first column of both matrices in the 3D array.\n",
    "\n",
    "2. Slice every other column of both matrices in the 3D array."
   ]
  },
  {
   "cell_type": "code",
   "execution_count": 113,
   "id": "e2dce9e2-2827-4e97-86c0-73dafc9b024f",
   "metadata": {},
   "outputs": [
    {
     "name": "stdout",
     "output_type": "stream",
     "text": [
      "[[ 1 11]\n",
      " [11 51]]\n",
      "[[[ 1  3  5]\n",
      "  [11 31 51]]\n",
      "\n",
      " [[11 13 15]\n",
      "  [51 53  5]]]\n"
     ]
    }
   ],
   "source": [
    "import numpy as np\n",
    "\n",
    "array_3D = np.array([[[1,2,3,4,5], [11,21,31,41,51]], [[11,12,13,14,15], [51,52,53,54,5]]])\n",
    "\n",
    "#1.\n",
    "print(array_3D[:,:,0])\n",
    "#2.\n",
    "print(array_3D[:,:,::2])     \n",
    "\n"
   ]
  },
  {
   "cell_type": "markdown",
   "id": "5b778da9-111a-4b56-8dab-55fca23c1631",
   "metadata": {},
   "source": [
    "# Explanation:\n",
    "for 3d shape is:(matrix/block,row,column)\n",
    "1.(we need all matrices,all rows ,but only 1st column )so=(:, :, 0)\n",
    "2.we need all matrices,all rows,all alternative columns ...like 0,2,4.\n",
    "so(:, :, ::2)"
   ]
  },
  {
   "cell_type": "markdown",
   "id": "a9b0b21d-147f-40c1-a612-2abfaeb30e19",
   "metadata": {},
   "source": [
    "Conditional slicing"
   ]
  },
  {
   "cell_type": "code",
   "execution_count": 115,
   "id": "49844756-8e2e-43f7-b62f-4b5a5b7a7c08",
   "metadata": {},
   "outputs": [],
   "source": [
    "array_a=np.array([[1,2,3],[4,5,6]])"
   ]
  },
  {
   "cell_type": "code",
   "execution_count": 116,
   "id": "9cf521fb-e205-4919-aecc-9b3ec40b4854",
   "metadata": {},
   "outputs": [
    {
     "data": {
      "text/plain": [
       "array([[1, 2, 3],\n",
       "       [4, 5, 6]])"
      ]
     },
     "execution_count": 116,
     "metadata": {},
     "output_type": "execute_result"
    }
   ],
   "source": [
    "array_a"
   ]
  },
  {
   "cell_type": "code",
   "execution_count": 118,
   "id": "9465baa5-8779-457d-9421-3715003c90ca",
   "metadata": {},
   "outputs": [
    {
     "data": {
      "text/plain": [
       "array([1, 4])"
      ]
     },
     "execution_count": 118,
     "metadata": {},
     "output_type": "execute_result"
    }
   ],
   "source": [
    "array_a[:,0]"
   ]
  },
  {
   "cell_type": "code",
   "execution_count": 119,
   "id": "e6aead53-635a-4323-a701-3455b3308a9a",
   "metadata": {},
   "outputs": [
    {
     "data": {
      "text/plain": [
       "array([False,  True])"
      ]
     },
     "execution_count": 119,
     "metadata": {},
     "output_type": "execute_result"
    }
   ],
   "source": [
    "#conditional slicing:it returns boolean value based on condtion\n",
    "array_a[:,0] >2"
   ]
  },
  {
   "cell_type": "code",
   "execution_count": 120,
   "id": "e207d367-7e21-4c57-9c77-1feb9bafb953",
   "metadata": {},
   "outputs": [
    {
     "data": {
      "text/plain": [
       "array([[False, False,  True],\n",
       "       [ True,  True,  True]])"
      ]
     },
     "execution_count": 120,
     "metadata": {},
     "output_type": "execute_result"
    }
   ],
   "source": [
    "array_a[:,:] >2"
   ]
  },
  {
   "cell_type": "code",
   "execution_count": 122,
   "id": "11591fbd-90ea-4c5f-9162-5d1aadcac01a",
   "metadata": {},
   "outputs": [
    {
     "data": {
      "text/plain": [
       "array([3, 4, 5, 6])"
      ]
     },
     "execution_count": 122,
     "metadata": {},
     "output_type": "execute_result"
    }
   ],
   "source": [
    "array_a[array_a[:,:] >2]   #it will give all the values of the array which satifies \n",
    "                           #the condition"
   ]
  },
  {
   "cell_type": "code",
   "execution_count": 123,
   "id": "ee4b3928-d097-40fe-9ac1-9c29e7614a83",
   "metadata": {},
   "outputs": [
    {
     "data": {
      "text/plain": [
       "array([4, 6])"
      ]
     },
     "execution_count": 123,
     "metadata": {},
     "output_type": "execute_result"
    }
   ],
   "source": [
    "#giving multiple conditions\n",
    "array_a[(array_a[:,:] %2==0)&(array_a[:,:]>2)]"
   ]
  },
  {
   "cell_type": "code",
   "execution_count": 124,
   "id": "af536842-23ad-4313-afc8-42581e5c646f",
   "metadata": {},
   "outputs": [
    {
     "data": {
      "text/plain": [
       "array([2, 3, 4, 5, 6])"
      ]
     },
     "execution_count": 124,
     "metadata": {},
     "output_type": "execute_result"
    }
   ],
   "source": [
    "#giving multiple conditions\n",
    "array_a[(array_a[:,:] %2==0)|(array_a[:,:]>2)]"
   ]
  },
  {
   "cell_type": "markdown",
   "id": "4c07d508-301a-483e-ac71-cd8889a8c23d",
   "metadata": {},
   "source": [
    "# Slicing in NumPy - Exercise #5"
   ]
  },
  {
   "cell_type": "markdown",
   "id": "664ec374-9bff-4648-a2b9-f449e18b4a26",
   "metadata": {},
   "source": [
    "\n",
    "Consider the provided arrays and complete the following tasks:\n",
    "\n",
    "1. Use conditional slicing on array_1D as the argument to the given print() function to extract the odd values greater than 10.\n",
    "\n",
    "2. Use conditional slicing on array_2D as the argument to the given print() function to extract the odd values greater than 10.\n",
    "\n",
    "3. Use conditional slicing on array_3D as the argument to the given print() function to extract the odd values greater than 10."
   ]
  },
  {
   "cell_type": "code",
   "execution_count": 125,
   "id": "0308ff24-6266-446f-a939-a33e9d93d3b0",
   "metadata": {},
   "outputs": [
    {
     "name": "stdout",
     "output_type": "stream",
     "text": [
      "[11 13]\n",
      "[43 65 87 11 33 55]\n",
      "[11 21 31 41 51 11 13 15 51 53]\n"
     ]
    }
   ],
   "source": [
    "import numpy as np\n",
    "\n",
    "array_1D = np.array([10,11,12,13,14])\n",
    "array_2D = np.array([[20,30,40,50,60], [43,54,65,76,87], [11,22,33,44,55]])\n",
    "array_3D = np.array([[[1,2,3,4,5], [11,21,31,41,51]], [[11,12,13,14,15], [51,52,53,54,5]]])\n",
    "\n",
    "#1.\n",
    "print(array_1D[((array_1D %2==1)&(array_1D >10))])\n",
    "#2.\n",
    "print(array_2D[((array_2D %2==1)&(array_2D >10))])\n",
    "#3.\n",
    "print(array_3D[((array_3D %2==1)&(array_3D >10))])"
   ]
  },
  {
   "cell_type": "markdown",
   "id": "01e233b9-ded6-4042-96db-7e610f74d5b1",
   "metadata": {},
   "source": [
    "# Slicing in NumPy - Exercise #6"
   ]
  },
  {
   "cell_type": "markdown",
   "id": "ba69c621-7393-43f1-b210-830ad56ea81d",
   "metadata": {},
   "source": [
    "\n",
    "Consider the provided arrays and complete the following tasks:\n",
    "\n",
    "1. Use conditional slicing on array_1D as the argument to the given print() function to extract the values that are either odd, greater than 10, or both.\n",
    "\n",
    "2. Use conditional slicing on array_2D as the argument to the given print() function to extract the values that are either odd, greater than 10, or both.\n",
    "\n",
    "3. Use conditional slicing on array_3D as the argument to the given print() function to extract the values that are either odd, greater than 10, or both.\n",
    "\n",
    "\n",
    "\n"
   ]
  },
  {
   "cell_type": "code",
   "execution_count": 126,
   "id": "350fa6c5-1378-4317-8b5d-6bb4cf487cd4",
   "metadata": {},
   "outputs": [
    {
     "name": "stdout",
     "output_type": "stream",
     "text": [
      "[11 12 13 14]\n",
      "[20 30 40 50 60 43 54 65 76 87 11 22 33 44 55]\n",
      "[ 1  3  5 11 21 31 41 51 11 12 13 14 15 51 52 53 54  5]\n"
     ]
    }
   ],
   "source": [
    "import numpy as np\n",
    "\n",
    "array_1D = np.array([10,11,12,13,14])\n",
    "array_2D = np.array([[20,30,40,50,60], [43,54,65,76,87], [11,22,33,44,55]])\n",
    "array_3D = np.array([[[1,2,3,4,5], [11,21,31,41,51]], [[11,12,13,14,15], [51,52,53,54,5]]])\n",
    "#1.\n",
    "print(array_1D[((array_1D %2==1)|(array_1D >10))])\n",
    "#2.\n",
    "print(array_2D[((array_2D %2==1)|(array_2D >10))])\n",
    "#3.\n",
    "print(array_3D[((array_3D %2==1)|(array_3D >10))])"
   ]
  },
  {
   "cell_type": "markdown",
   "id": "dd395bf7-ec35-42db-9fec-a81968666ad0",
   "metadata": {},
   "source": [
    "# dimensions and the squeeze function"
   ]
  },
  {
   "cell_type": "code",
   "execution_count": 128,
   "id": "5061e1f0-1283-46e7-9ef0-2c0a55ed2c85",
   "metadata": {},
   "outputs": [
    {
     "data": {
      "text/plain": [
       "array([[1, 2, 3],\n",
       "       [4, 5, 6],\n",
       "       [7, 8, 9]])"
      ]
     },
     "execution_count": 128,
     "metadata": {},
     "output_type": "execute_result"
    }
   ],
   "source": [
    "array_a=np.array([[1,2,3],[4,5,6],[7,8,9]])\n",
    "array_a"
   ]
  },
  {
   "cell_type": "code",
   "execution_count": 144,
   "id": "c3cf51c0-0177-4525-a3f7-aef8072c0e92",
   "metadata": {},
   "outputs": [
    {
     "name": "stdout",
     "output_type": "stream",
     "text": [
      "1\n",
      "<class 'numpy.int64'>\n",
      "()\n"
     ]
    }
   ],
   "source": [
    "#accessing 1st element by using indexing.indexing always return int value\n",
    "print(array_a[0,0])\n",
    "print(type(array_a[0,0]))\n",
    "print(array_a[0,0].shape)  #no shape or no dimensions"
   ]
  },
  {
   "cell_type": "code",
   "execution_count": 146,
   "id": "337922dd-19e9-45a9-8bac-11e204111bce",
   "metadata": {},
   "outputs": [
    {
     "name": "stdout",
     "output_type": "stream",
     "text": [
      "[1]\n",
      "<class 'numpy.ndarray'>\n",
      "(1,)\n"
     ]
    }
   ],
   "source": [
    "#accessing 1st element by using slicing.slicing always return array datatype\n",
    "print(array_a[0,0:1]) \n",
    "print(type(array_a[0,0:1]))\n",
    "print(array_a[0,0:1].shape)"
   ]
  },
  {
   "cell_type": "code",
   "execution_count": 147,
   "id": "d86025ed-8c13-4319-b154-09f67a6440be",
   "metadata": {},
   "outputs": [
    {
     "name": "stdout",
     "output_type": "stream",
     "text": [
      "[[1]]\n",
      "<class 'numpy.ndarray'>\n",
      "(1, 1)\n"
     ]
    }
   ],
   "source": [
    "print(array_a[0:1,0:1])\n",
    "print(type(array_a[0:1,0:1]))\n",
    "print(array_a[0:1,0:1].shape)"
   ]
  },
  {
   "cell_type": "code",
   "execution_count": 154,
   "id": "67b8c15e-189d-4ca6-a501-ba566775f0d0",
   "metadata": {},
   "outputs": [],
   "source": [
    "#To simplify the confusion we use squeeze method .it will always return ndarray and\n",
    "#remove unnecessary dimensions. we will get a single numeric value.it squeeze array to 0D"
   ]
  },
  {
   "cell_type": "code",
   "execution_count": 152,
   "id": "06e8ae09-52e2-4905-90ad-bee7dfe57bf0",
   "metadata": {},
   "outputs": [
    {
     "name": "stdout",
     "output_type": "stream",
     "text": [
      "1\n",
      "<class 'numpy.ndarray'>\n"
     ]
    }
   ],
   "source": [
    "print(array_a[0,0:1].squeeze()) \n",
    "print(type(array_a[0,0:1].squeeze()))"
   ]
  },
  {
   "cell_type": "code",
   "execution_count": 153,
   "id": "84d60a61-35ff-4a04-a98c-7314c323f401",
   "metadata": {},
   "outputs": [
    {
     "name": "stdout",
     "output_type": "stream",
     "text": [
      "1\n",
      "<class 'numpy.ndarray'>\n"
     ]
    }
   ],
   "source": [
    "print(array_a[0:1,0:1].squeeze()) \n",
    "print(type(array_a[0:1,0:1].squeeze()))"
   ]
  },
  {
   "cell_type": "code",
   "execution_count": 157,
   "id": "ea0ac3e8-3b96-4476-b0d6-1e06e8e5bc8e",
   "metadata": {},
   "outputs": [
    {
     "name": "stdout",
     "output_type": "stream",
     "text": [
      "1\n",
      "()\n"
     ]
    }
   ],
   "source": [
    "#it squeeze array to 0D\n",
    "print(array_a[0,0:1].squeeze()) \n",
    "print(array_a[0,0:1].squeeze().shape)"
   ]
  },
  {
   "cell_type": "code",
   "execution_count": 158,
   "id": "fc63eda3-8678-4f9c-84c7-6e8a84b0bf6e",
   "metadata": {},
   "outputs": [
    {
     "name": "stdout",
     "output_type": "stream",
     "text": [
      "1\n",
      "()\n"
     ]
    }
   ],
   "source": [
    "print(array_a[0:1,0:1].squeeze()) \n",
    "print(array_a[0:1,0:1].squeeze().shape) "
   ]
  },
  {
   "cell_type": "code",
   "execution_count": 159,
   "id": "5c61dec9-cbec-406b-93b5-8ad315dddbf5",
   "metadata": {},
   "outputs": [
    {
     "name": "stdout",
     "output_type": "stream",
     "text": [
      "[[1 2 3]\n",
      " [4 5 6]\n",
      " [7 8 9]]\n"
     ]
    }
   ],
   "source": [
    "#Alternative approach\n",
    "print(array_a)"
   ]
  },
  {
   "cell_type": "code",
   "execution_count": 160,
   "id": "c0fbaa69-c105-4561-a1bd-07f1e2f60dbe",
   "metadata": {},
   "outputs": [
    {
     "data": {
      "text/plain": [
       "array(1)"
      ]
     },
     "execution_count": 160,
     "metadata": {},
     "output_type": "execute_result"
    }
   ],
   "source": [
    "np.squeeze(array_a[0:1,0:1])"
   ]
  },
  {
   "cell_type": "code",
   "execution_count": 162,
   "id": "42ac8aeb-5d60-4e89-8c6e-71de836b8e16",
   "metadata": {},
   "outputs": [
    {
     "data": {
      "text/plain": [
       "array(1)"
      ]
     },
     "execution_count": 162,
     "metadata": {},
     "output_type": "execute_result"
    }
   ],
   "source": [
    "np.squeeze(array_a[0:1,0:1])"
   ]
  },
  {
   "cell_type": "markdown",
   "id": "0179b047-faa9-4d99-ab3b-1f3088a75ade",
   "metadata": {},
   "source": [
    "# Dimensions and the Squeeze Function - Exercise #1"
   ]
  },
  {
   "cell_type": "markdown",
   "id": "27bf8bc2-c201-4d8e-bbcd-4ff3041144a8",
   "metadata": {},
   "source": [
    "Use conditional slicing and indexing to access the first row of the first 2D array inside array_3D, and examine the shape of the resulting selections:\n",
    "\n",
    "1.A\n",
    "\n",
    "Access the first row of the first 2D array in array_3D using exact indices for both dimensions.\n",
    "\n",
    "1.B\n",
    "\n",
    "Check the shape of the resulting object.\n",
    "\n",
    "2.A\n",
    "\n",
    "Access the first row of the first 2D array in array_3D using a slice for the first dimension and an exact index for the second dimension.\n",
    "\n",
    "2.B\n",
    "\n",
    "Check the shape of the resulting object.\n",
    "\n",
    "3.A\n",
    "\n",
    "Access the first row of the first 2D array in array_3D using slices for both dimensions (from the start up to index 1).\n",
    "\n",
    "3.B\n",
    "\n",
    "Check the shape of the obtained object."
   ]
  },
  {
   "cell_type": "code",
   "execution_count": 164,
   "id": "dca1c815-b890-4131-b43e-8bb760366780",
   "metadata": {},
   "outputs": [
    {
     "name": "stdout",
     "output_type": "stream",
     "text": [
      "[1 2 3 4 5]\n",
      "(5,)\n"
     ]
    }
   ],
   "source": [
    "import numpy as np\n",
    "\n",
    "array_3D = np.array([[[1,2,3,4,5], [11,21,31,41,51]], [[11,12,13,14,15], [51,52,53,54,5]]])\n"
   ]
  },
  {
   "cell_type": "code",
   "execution_count": 170,
   "id": "2cad60b7-24fc-433b-94de-387a95099475",
   "metadata": {},
   "outputs": [
    {
     "name": "stdout",
     "output_type": "stream",
     "text": [
      "[1 2 3 4 5]\n"
     ]
    }
   ],
   "source": [
    "print(array_3D[0,0])\n"
   ]
  },
  {
   "cell_type": "code",
   "execution_count": 171,
   "id": "1f456056-3191-42a0-99a2-cf222e4af037",
   "metadata": {},
   "outputs": [
    {
     "name": "stdout",
     "output_type": "stream",
     "text": [
      "(5,)\n"
     ]
    }
   ],
   "source": [
    "print(array_3D[0,0].shape)"
   ]
  },
  {
   "cell_type": "code",
   "execution_count": 165,
   "id": "9adf6e55-b591-483b-a6cc-5fdbac52f8b8",
   "metadata": {},
   "outputs": [
    {
     "name": "stdout",
     "output_type": "stream",
     "text": [
      "[[1 2 3 4 5]]\n"
     ]
    }
   ],
   "source": [
    "print(array_3D[0:1,0])"
   ]
  },
  {
   "cell_type": "code",
   "execution_count": 168,
   "id": "af633e65-7ebf-4e8e-b27c-b90195f14f65",
   "metadata": {},
   "outputs": [
    {
     "name": "stdout",
     "output_type": "stream",
     "text": [
      "(1, 5)\n"
     ]
    }
   ],
   "source": [
    "print(array_3D[0:1,0].shape)"
   ]
  },
  {
   "cell_type": "code",
   "execution_count": 166,
   "id": "a3818010-dbb4-4745-880b-e7325b966df6",
   "metadata": {},
   "outputs": [
    {
     "name": "stdout",
     "output_type": "stream",
     "text": [
      "[[[1 2 3 4 5]]]\n"
     ]
    }
   ],
   "source": [
    "print(array_3D[0:1,0:1])"
   ]
  },
  {
   "cell_type": "code",
   "execution_count": 169,
   "id": "830a23af-0b91-4665-9bae-76d1d4194374",
   "metadata": {},
   "outputs": [
    {
     "name": "stdout",
     "output_type": "stream",
     "text": [
      "(1, 1, 5)\n"
     ]
    }
   ],
   "source": [
    "print(array_3D[0:1,0:1].shape)"
   ]
  },
  {
   "cell_type": "markdown",
   "id": "baa489b8-4d74-4610-ade6-376ab6728df9",
   "metadata": {},
   "source": [
    "# Like functions in numpy\n"
   ]
  },
  {
   "cell_type": "code",
   "execution_count": 172,
   "id": "f4ff79f8-5d65-4e7f-9c6e-6668555b4b8e",
   "metadata": {},
   "outputs": [
    {
     "data": {
      "text/plain": [
       "array([[1, 2, 3],\n",
       "       [4, 5, 6],\n",
       "       [7, 8, 9]])"
      ]
     },
     "execution_count": 172,
     "metadata": {},
     "output_type": "execute_result"
    }
   ],
   "source": [
    "array_a=np.array([[1,2,3],[4,5,6],[7,8,9]])\n",
    "array_a"
   ]
  },
  {
   "cell_type": "code",
   "execution_count": 174,
   "id": "88c1a22a-05a4-4e36-be51-71a913da3067",
   "metadata": {},
   "outputs": [
    {
     "data": {
      "text/plain": [
       "array([[1, 1, 1],\n",
       "       [1, 1, 1],\n",
       "       [1, 1, 1]])"
      ]
     },
     "execution_count": 174,
     "metadata": {},
     "output_type": "execute_result"
    }
   ],
   "source": [
    "array_ones=np.ones_like(array_a)\n",
    "array_ones"
   ]
  },
  {
   "cell_type": "code",
   "execution_count": 176,
   "id": "43c7948e-312f-4cd8-839b-803ea4a1b7f9",
   "metadata": {},
   "outputs": [
    {
     "data": {
      "text/plain": [
       "array([[0, 0, 0],\n",
       "       [0, 0, 0],\n",
       "       [0, 0, 0]])"
      ]
     },
     "execution_count": 176,
     "metadata": {},
     "output_type": "execute_result"
    }
   ],
   "source": [
    "array_zeros=np.zeros_like(array_a)\n",
    "array_zeros"
   ]
  },
  {
   "cell_type": "code",
   "execution_count": 178,
   "id": "daf01813-06d8-4652-a609-308b208976a1",
   "metadata": {},
   "outputs": [
    {
     "data": {
      "text/plain": [
       "array([[5, 5, 5],\n",
       "       [5, 5, 5],\n",
       "       [5, 5, 5]])"
      ]
     },
     "execution_count": 178,
     "metadata": {},
     "output_type": "execute_result"
    }
   ],
   "source": [
    "array_full_ones=np.full_like(array_a,5)\n",
    "array_full_ones"
   ]
  },
  {
   "cell_type": "markdown",
   "id": "a6d59aba-544b-4bea-ad76-8d66497100f9",
   "metadata": {},
   "source": [
    "# np.arange()\n"
   ]
  },
  {
   "cell_type": "code",
   "execution_count": 183,
   "id": "e4dbde89-a2a6-4885-9f3a-fc0f07920a5a",
   "metadata": {},
   "outputs": [
    {
     "data": {
      "text/plain": [
       "array([ 0,  1,  2,  3,  4,  5,  6,  7,  8,  9, 10, 11, 12, 13, 14, 15, 16,\n",
       "       17, 18, 19, 20, 21, 22, 23, 24, 25, 26, 27, 28, 29])"
      ]
     },
     "execution_count": 183,
     "metadata": {},
     "output_type": "execute_result"
    }
   ],
   "source": [
    "array_a=np.arange(30)  #np.arange(start,end,step)\n",
    "array_a\n",
    "                  "
   ]
  },
  {
   "cell_type": "code",
   "execution_count": 186,
   "id": "ab6f01be-d628-404e-acc6-749d559f106c",
   "metadata": {},
   "outputs": [
    {
     "data": {
      "text/plain": [
       "array([ 0,  2,  4,  6,  8, 10, 12, 14, 16, 18, 20, 22, 24, 26, 28])"
      ]
     },
     "execution_count": 186,
     "metadata": {},
     "output_type": "execute_result"
    }
   ],
   "source": [
    "array_b=np.arange(0,30,2)\n",
    "array_b"
   ]
  },
  {
   "cell_type": "markdown",
   "id": "49feefbd-1a9b-4c35-b635-f05a7078bdb1",
   "metadata": {},
   "source": [
    "# random generating number\n",
    "random generators and seed"
   ]
  },
  {
   "cell_type": "code",
   "execution_count": 188,
   "id": "7a45f6e6-8346-43fa-93c0-75ad6f4c5101",
   "metadata": {},
   "outputs": [],
   "source": [
    "from numpy.random import Generator as gen\n",
    "from numpy.random import PCG64 as pcg"
   ]
  },
  {
   "cell_type": "code",
   "execution_count": 192,
   "id": "9ae8fd58-37a6-4294-97fa-f8743410e8cf",
   "metadata": {},
   "outputs": [
    {
     "data": {
      "text/plain": [
       "array([-0.30052624, -1.22329136,  1.46026799,  0.67822197, -0.5070539 ,\n",
       "        2.53432062,  0.59341544, -0.14849024, -0.32169607, -0.74586286])"
      ]
     },
     "execution_count": 192,
     "metadata": {},
     "output_type": "execute_result"
    }
   ],
   "source": [
    "array_RG=gen(pcg())     #size is given for generating that much random numbers\n",
    "array_RG.normal(size=10)\n",
    "#This code creates a random number generator object using a specific algorithm (PCG64),\n",
    "#and then generates 10 normally distributed random numbers (i.e., Gaussian distribution)\n",
    "#using that generator.\n",
    "\n",
    "#pcg:Permuted Congruential Generator\n"
   ]
  },
  {
   "cell_type": "code",
   "execution_count": 193,
   "id": "5a05920d-168a-416b-a514-33425b3e23ef",
   "metadata": {},
   "outputs": [
    {
     "data": {
      "text/plain": [
       "array([[-0.34679745, -0.06113068, -0.53408108, -1.78338385, -0.82459031],\n",
       "       [-0.67419246,  0.45967102,  1.41643827,  0.66360243, -0.76754301],\n",
       "       [ 0.41905699,  1.48234886,  2.43208119,  0.53511118, -0.02144281],\n",
       "       [-0.53439786, -0.38739544,  0.30489298,  0.45955486,  0.6356503 ],\n",
       "       [-0.36172564, -1.46776115, -0.03677935,  1.24146066, -0.39033578]])"
      ]
     },
     "execution_count": 193,
     "metadata": {},
     "output_type": "execute_result"
    }
   ],
   "source": [
    "array_RG=gen(pcg())\n",
    "array_RG.normal(size=(5,5))   #generating random numbers for 5 rows and 5 columns."
   ]
  },
  {
   "cell_type": "code",
   "execution_count": 194,
   "id": "2074c5ff-f27a-4405-aefb-329225343f8a",
   "metadata": {},
   "outputs": [
    {
     "data": {
      "text/plain": [
       "array([[-0.13640899,  0.09414431, -0.06300442,  1.05391641, -0.6866818 ],\n",
       "       [-0.50922173, -0.7999526 ,  0.73041825,  0.08825439, -2.1177576 ],\n",
       "       [ 0.65526774, -0.48095012, -0.5519114 , -0.58578662, -0.98257896],\n",
       "       [ 1.12378166, -1.30984316, -0.04703774,  0.955272  ,  0.26071745],\n",
       "       [-0.20023668, -1.50172484, -1.4929163 ,  0.96535084,  1.18694633]])"
      ]
     },
     "execution_count": 194,
     "metadata": {},
     "output_type": "execute_result"
    }
   ],
   "source": [
    "array_RG=gen(pcg(seed=365))\n",
    "array_RG.normal(size=(5,5)) "
   ]
  },
  {
   "cell_type": "markdown",
   "id": "96224631-792f-4e7d-85cf-ac8476a643f2",
   "metadata": {},
   "source": [
    "random integers,choices,probability\n",
    "1. .integers\n",
    "2.  .random\n",
    "3.   .choice"
   ]
  },
  {
   "cell_type": "code",
   "execution_count": 196,
   "id": "e2c259a0-daca-4359-b7f7-1c7282b01f82",
   "metadata": {},
   "outputs": [],
   "source": [
    "from numpy.random import Generator as gen\n",
    "from numpy.random import PCG64 as pcg"
   ]
  },
  {
   "cell_type": "code",
   "execution_count": 209,
   "id": "1166406f-ce7f-42e6-ada4-ed995b7a399e",
   "metadata": {},
   "outputs": [
    {
     "data": {
      "text/plain": [
       "array([[0, 7, 6, 7, 8],\n",
       "       [6, 6, 2, 0, 6],\n",
       "       [3, 0, 3, 7, 9],\n",
       "       [1, 1, 8, 7, 4],\n",
       "       [4, 8, 6, 4, 9]])"
      ]
     },
     "execution_count": 209,
     "metadata": {},
     "output_type": "execute_result"
    }
   ],
   "source": [
    "array_a=gen(pcg(seed=365))\n",
    "array_a.integers(10,size=(5,5))"
   ]
  },
  {
   "cell_type": "code",
   "execution_count": 210,
   "id": "f254ff6f-fa5b-473d-af75-92c8cc180ccf",
   "metadata": {},
   "outputs": [
    {
     "data": {
      "text/plain": [
       "array([[18, 78, 64, 78, 84],\n",
       "       [66, 67, 28, 10, 69],\n",
       "       [45, 15, 37, 74, 96],\n",
       "       [19, 21, 89, 73, 54],\n",
       "       [53, 84, 66, 51, 92]])"
      ]
     },
     "execution_count": 210,
     "metadata": {},
     "output_type": "execute_result"
    }
   ],
   "source": [
    "array_a=gen(pcg(seed=365))\n",
    "array_a.integers(low=10,high=100,size=(5,5))"
   ]
  },
  {
   "cell_type": "code",
   "execution_count": 211,
   "id": "dfd66785-d8cc-4545-8b09-9bbcc15fdbbf",
   "metadata": {},
   "outputs": [
    {
     "data": {
      "text/plain": [
       "array([[0.75915734, 0.7662218 , 0.6291028 , 0.20336599, 0.66501486],\n",
       "       [0.06559111, 0.71326309, 0.10812106, 0.87969046, 0.49405844],\n",
       "       [0.82472673, 0.45652944, 0.07367232, 0.69628564, 0.36690736],\n",
       "       [0.29787156, 0.4996155 , 0.4865245 , 0.62740703, 0.54952637],\n",
       "       [0.64894629, 0.04411757, 0.7206516 , 0.84594003, 0.17159792]])"
      ]
     },
     "execution_count": 211,
     "metadata": {},
     "output_type": "execute_result"
    }
   ],
   "source": [
    "array_b=gen(pcg(seed=365))\n",
    "array_b.random(size=(5,5))"
   ]
  },
  {
   "cell_type": "code",
   "execution_count": 212,
   "id": "614ab096-34d1-477c-a414-697c5572df30",
   "metadata": {},
   "outputs": [
    {
     "data": {
      "text/plain": [
       "array([[5, 5, 5, 3, 5],\n",
       "       [1, 5, 2, 5, 5],\n",
       "       [5, 5, 1, 5, 4],\n",
       "       [3, 5, 5, 5, 5],\n",
       "       [5, 1, 5, 5, 2]])"
      ]
     },
     "execution_count": 212,
     "metadata": {},
     "output_type": "execute_result"
    }
   ],
   "source": [
    "array_c=gen(pcg(seed=365))\n",
    "array_c.choice([1,2,3,4,5],p=[0.1,0.1,0.1,0.1,0.6],size=(5,5))"
   ]
  },
  {
   "cell_type": "markdown",
   "id": "25d706d5-bb02-4dc1-988b-5e62fde8dac4",
   "metadata": {},
   "source": [
    "probability distributions in python\n",
    "1.binomial       (n,p,size)\n",
    "2.poisson distribution (lam,size)\n",
    "3.logistic distribution (loc,scale,size)\n",
    "4.normal\n",
    "5.exponential\n",
    "6.geometric"
   ]
  },
  {
   "cell_type": "code",
   "execution_count": 213,
   "id": "91580523-cce7-4af7-ae09-3632dd9aa2e0",
   "metadata": {},
   "outputs": [],
   "source": [
    "from numpy.random import Generator as gen\n",
    "from numpy.random import PCG64 as pcg"
   ]
  },
  {
   "cell_type": "code",
   "execution_count": 215,
   "id": "83777cb9-0fc9-4f62-8f72-8142bb4a1277",
   "metadata": {},
   "outputs": [
    {
     "data": {
      "text/plain": [
       "array([[2, 0, 1, 1, 2],\n",
       "       [1, 1, 0, 1, 1],\n",
       "       [1, 2, 1, 1, 0],\n",
       "       [0, 1, 0, 2, 1],\n",
       "       [0, 1, 0, 0, 2]])"
      ]
     },
     "execution_count": 215,
     "metadata": {},
     "output_type": "execute_result"
    }
   ],
   "source": [
    "#1.poisson distribution\n",
    "array_a=gen(pcg(seed=365))\n",
    "array_a.poisson(size=(5,5))  #here lambda=1"
   ]
  },
  {
   "cell_type": "code",
   "execution_count": 216,
   "id": "535556eb-c86b-4a4e-9bbc-910500b2eb1c",
   "metadata": {},
   "outputs": [
    {
     "data": {
      "text/plain": [
       "array([[ 7, 14,  8, 11, 12],\n",
       "       [ 6, 10,  9, 10,  9],\n",
       "       [14, 11,  8, 11, 13],\n",
       "       [ 8,  9, 18,  6, 12],\n",
       "       [ 9, 12,  7, 10, 18]])"
      ]
     },
     "execution_count": 216,
     "metadata": {},
     "output_type": "execute_result"
    }
   ],
   "source": [
    "array_a=gen(pcg())\n",
    "array_a.poisson(lam=10,size=(5,5))  #lambda =10"
   ]
  },
  {
   "cell_type": "code",
   "execution_count": 222,
   "id": "6169b512-d732-4d74-8e4f-b5207e7f595e",
   "metadata": {},
   "outputs": [
    {
     "data": {
      "text/plain": [
       "array([[46, 39, 44, 45, 34],\n",
       "       [40, 47, 44, 41, 34],\n",
       "       [36, 36, 47, 37, 33],\n",
       "       [42, 40, 38, 42, 34],\n",
       "       [40, 34, 43, 30, 43]])"
      ]
     },
     "execution_count": 222,
     "metadata": {},
     "output_type": "execute_result"
    }
   ],
   "source": [
    "#2.binomial distribution\n",
    "array_b=gen(pcg())\n",
    "array_b.binomial(n=100,p=0.4,size=(5,5))"
   ]
  },
  {
   "cell_type": "code",
   "execution_count": 225,
   "id": "8bfd1e28-5d65-4dfc-b2e6-018cf758d2ac",
   "metadata": {},
   "outputs": [
    {
     "data": {
      "text/plain": [
       "array([[ 9.82320498, 10.55894859,  7.03235168,  9.955762  , 10.61526658],\n",
       "       [10.39176925,  9.68498695,  5.58779382,  8.55150519,  7.68048369],\n",
       "       [ 5.41868803,  7.96918742,  7.41955932,  9.36273444,  8.7245888 ],\n",
       "       [ 8.46788008, 10.07892065,  9.65200675,  7.51240536,  7.47347331],\n",
       "       [ 5.97674128, 11.64403507, 11.82422   ,  9.13229269,  9.95739963]])"
      ]
     },
     "execution_count": 225,
     "metadata": {},
     "output_type": "execute_result"
    }
   ],
   "source": [
    "3.#logistic distribution\n",
    "array_c=gen(pcg())\n",
    "array_c.logistic(loc=9,scale=1.2,size=(5,5))"
   ]
  },
  {
   "cell_type": "code",
   "execution_count": 226,
   "id": "44ffa544-3f08-4024-8338-7a3f93ff03f9",
   "metadata": {},
   "outputs": [
    {
     "data": {
      "text/plain": [
       "array([[-0.76065577,  1.48158358,  0.01200258, -0.06846959,  0.25301664],\n",
       "       [-0.52640788,  0.79613109,  0.28203421,  1.80238008,  0.93932117],\n",
       "       [-0.53693283, -0.26317689, -1.77723035,  1.14900013, -2.20733915],\n",
       "       [ 1.54116775, -0.5124932 , -2.14564563,  1.98878673,  0.32208907],\n",
       "       [-1.2651495 ,  3.2714633 ,  1.78650493, -0.20233675,  0.20427467]])"
      ]
     },
     "execution_count": 226,
     "metadata": {},
     "output_type": "execute_result"
    }
   ],
   "source": [
    "array_RG.normal(size=(5,5)) "
   ]
  },
  {
   "cell_type": "code",
   "execution_count": 229,
   "id": "c20d221e-6ea4-427a-943e-7be932ef338c",
   "metadata": {},
   "outputs": [
    {
     "data": {
      "text/plain": [
       "array([[1.62349652, 1.78560414, 0.62995959, 0.0619323 , 5.11502882],\n",
       "       [0.43702255, 0.44034579, 4.10520393, 0.92593402, 3.23668519],\n",
       "       [2.50903512, 1.49820663, 0.35813411, 0.6879129 , 1.50832228],\n",
       "       [0.37878006, 0.9590978 , 2.00098935, 0.03716625, 0.93110064],\n",
       "       [0.20310005, 0.68477943, 0.74183664, 3.29311331, 2.46097824]])"
      ]
     },
     "execution_count": 229,
     "metadata": {},
     "output_type": "execute_result"
    }
   ],
   "source": [
    "array_c.exponential(scale=1.2,size=(5,5))"
   ]
  },
  {
   "cell_type": "code",
   "execution_count": 233,
   "id": "6e27fc3e-34eb-4ae7-8cfb-1c6f16737853",
   "metadata": {},
   "outputs": [
    {
     "data": {
      "text/plain": [
       "array([[ 1,  2,  4,  1,  5],\n",
       "       [ 2,  7,  4,  1,  4],\n",
       "       [ 2,  7,  1,  2,  8],\n",
       "       [ 1,  2,  1,  2,  2],\n",
       "       [10,  1,  1,  5,  1]])"
      ]
     },
     "execution_count": 233,
     "metadata": {},
     "output_type": "execute_result"
    }
   ],
   "source": [
    "array_c.geometric(p=0.4,size=(5,5))"
   ]
  },
  {
   "cell_type": "markdown",
   "id": "53325049-b469-4cbb-afa6-0016fd2de3ed",
   "metadata": {},
   "source": [
    "# Statistics in numpy\n"
   ]
  },
  {
   "cell_type": "markdown",
   "id": "51993a8e-4317-4533-b4f0-9ee7155f7070",
   "metadata": {},
   "source": [
    "1. Numpy's native statistical functions and methods\n",
    "2. fundamental functions(eg:min,max)\n",
    "3. statistical order functions\n",
    "4. averages and variance\n",
    "5. covariance and correlation\n",
    "6. histograms\n",
    "7. NaN equivalent functions\n",
    "\n",
    "refer to documentaion\n"
   ]
  },
  {
   "cell_type": "code",
   "execution_count": 235,
   "id": "e3fb49d5-6463-4d77-88c9-35492c8d3b6a",
   "metadata": {},
   "outputs": [],
   "source": [
    "import numpy as np"
   ]
  },
  {
   "cell_type": "markdown",
   "id": "63a3b7d7-8680-4705-a75e-0a930b369ffc",
   "metadata": {},
   "source": [
    "np.mean()"
   ]
  },
  {
   "cell_type": "code",
   "execution_count": 236,
   "id": "54a87368-86d9-4468-ae0f-2115981beffa",
   "metadata": {},
   "outputs": [
    {
     "data": {
      "text/plain": [
       "array([[1, 2, 3],\n",
       "       [4, 5, 6],\n",
       "       [7, 8, 9]])"
      ]
     },
     "execution_count": 236,
     "metadata": {},
     "output_type": "execute_result"
    }
   ],
   "source": [
    "array_a=np.array([[1,2,3],[4,5,6],[7,8,9]])\n",
    "array_a"
   ]
  },
  {
   "cell_type": "code",
   "execution_count": 237,
   "id": "3e6a14f9-fbd1-44ce-b945-e375cae5fa58",
   "metadata": {},
   "outputs": [
    {
     "data": {
      "text/plain": [
       "np.float64(5.0)"
      ]
     },
     "execution_count": 237,
     "metadata": {},
     "output_type": "execute_result"
    }
   ],
   "source": [
    "np.mean(array_a)"
   ]
  },
  {
   "cell_type": "code",
   "execution_count": 243,
   "id": "d072f96f-a6c4-4e61-9d54-8e68d8e93780",
   "metadata": {},
   "outputs": [
    {
     "data": {
      "text/plain": [
       "array([4, 5, 6])"
      ]
     },
     "execution_count": 243,
     "metadata": {},
     "output_type": "execute_result"
    }
   ],
   "source": [
    "np.mean(array_a,axis=0,dtype=np.int64)  #axis=0 means column"
   ]
  },
  {
   "cell_type": "code",
   "execution_count": 244,
   "id": "e36fd685-4b9f-4d13-80f8-1b10b57baec7",
   "metadata": {},
   "outputs": [
    {
     "data": {
      "text/plain": [
       "array([2, 5, 8])"
      ]
     },
     "execution_count": 244,
     "metadata": {},
     "output_type": "execute_result"
    }
   ],
   "source": [
    "np.mean(array_a,axis=1,dtype=np.int64) #axis=1 means row"
   ]
  },
  {
   "cell_type": "markdown",
   "id": "99cbfe32-443f-4605-a5be-023f654fb4eb",
   "metadata": {},
   "source": [
    "np.min and np.max"
   ]
  },
  {
   "cell_type": "code",
   "execution_count": 245,
   "id": "6ed76ea6-c7c3-460d-8259-616de1160081",
   "metadata": {},
   "outputs": [
    {
     "data": {
      "text/plain": [
       "array([[1, 2, 3],\n",
       "       [4, 5, 6],\n",
       "       [7, 8, 9]])"
      ]
     },
     "execution_count": 245,
     "metadata": {},
     "output_type": "execute_result"
    }
   ],
   "source": [
    "array_a=np.array([[1,2,3],[4,5,6],[7,8,9]])\n",
    "array_a"
   ]
  },
  {
   "cell_type": "code",
   "execution_count": 246,
   "id": "430c7f65-9562-4984-a530-126df46a798c",
   "metadata": {},
   "outputs": [
    {
     "data": {
      "text/plain": [
       "np.int64(1)"
      ]
     },
     "execution_count": 246,
     "metadata": {},
     "output_type": "execute_result"
    }
   ],
   "source": [
    "np.min(array_a)   "
   ]
  },
  {
   "cell_type": "code",
   "execution_count": 247,
   "id": "e4d5bf7d-9cec-47c2-a66a-2047620e9689",
   "metadata": {},
   "outputs": [
    {
     "data": {
      "text/plain": [
       "np.int64(9)"
      ]
     },
     "execution_count": 247,
     "metadata": {},
     "output_type": "execute_result"
    }
   ],
   "source": [
    "np.max(array_a)"
   ]
  },
  {
   "cell_type": "code",
   "execution_count": 248,
   "id": "969b08b0-31e2-40b7-8687-8b62a8ab0fbe",
   "metadata": {},
   "outputs": [
    {
     "data": {
      "text/plain": [
       "array([1, 4, 7])"
      ]
     },
     "execution_count": 248,
     "metadata": {},
     "output_type": "execute_result"
    }
   ],
   "source": [
    "np.min(array_a,axis=1) #returns min value from each row"
   ]
  },
  {
   "cell_type": "code",
   "execution_count": 249,
   "id": "321a4d93-61be-4c4f-bdc7-22923031eecd",
   "metadata": {},
   "outputs": [
    {
     "data": {
      "text/plain": [
       "array([7, 8, 9])"
      ]
     },
     "execution_count": 249,
     "metadata": {},
     "output_type": "execute_result"
    }
   ],
   "source": [
    "np.max(array_a,axis=0) #returns min value from each column"
   ]
  },
  {
   "cell_type": "markdown",
   "id": "eb31edfa-2636-4014-be5a-bdc23893bfc2",
   "metadata": {},
   "source": [
    "np.minimum:(cant use axis)\n",
    "requires atleast 2 input arrays.generates an array which holds the elementwise minimal values.compares the values at the same position in each of the arrays before taking the lowest one.\n",
    "np.maximum:(cant use axis)\n",
    "requires atleast 2 input arrays.generates an array which holds the elementwise maximal values.compares the values at the same position in each of the arrays before taking the highest one."
   ]
  },
  {
   "cell_type": "code",
   "execution_count": 250,
   "id": "79b3b07c-1130-44de-8bd1-0790dfe613ca",
   "metadata": {},
   "outputs": [
    {
     "data": {
      "text/plain": [
       "array([[1, 2, 3],\n",
       "       [4, 5, 6],\n",
       "       [7, 8, 9]])"
      ]
     },
     "execution_count": 250,
     "metadata": {},
     "output_type": "execute_result"
    }
   ],
   "source": [
    "array_a=np.array([[1,2,3],[4,5,6],[7,8,9]])\n",
    "array_a"
   ]
  },
  {
   "cell_type": "code",
   "execution_count": 252,
   "id": "fb3061fd-0073-45ae-98db-af8b240248f1",
   "metadata": {},
   "outputs": [
    {
     "data": {
      "text/plain": [
       "array([[ 0,  5, 21],\n",
       "       [11, 50, 16],\n",
       "       [ 2,  5,  3]])"
      ]
     },
     "execution_count": 252,
     "metadata": {},
     "output_type": "execute_result"
    }
   ],
   "source": [
    "array_b=np.array([[0,5,21],[11,50,16],[2,5,3]])\n",
    "array_b"
   ]
  },
  {
   "cell_type": "code",
   "execution_count": 253,
   "id": "292cd8f1-6b95-49f2-acfc-504b075816bb",
   "metadata": {},
   "outputs": [
    {
     "data": {
      "text/plain": [
       "array([[0, 2, 3],\n",
       "       [4, 5, 6],\n",
       "       [2, 5, 3]])"
      ]
     },
     "execution_count": 253,
     "metadata": {},
     "output_type": "execute_result"
    }
   ],
   "source": [
    "np.minimum(array_a,array_b)"
   ]
  },
  {
   "cell_type": "code",
   "execution_count": 254,
   "id": "c38e215f-6807-4561-96f0-2f445846e833",
   "metadata": {},
   "outputs": [
    {
     "data": {
      "text/plain": [
       "array([[ 1,  5, 21],\n",
       "       [11, 50, 16],\n",
       "       [ 7,  8,  9]])"
      ]
     },
     "execution_count": 254,
     "metadata": {},
     "output_type": "execute_result"
    }
   ],
   "source": [
    "np.maximum(array_a,array_b)"
   ]
  },
  {
   "cell_type": "code",
   "execution_count": 255,
   "id": "c8f5acf8-5c7f-4a19-8ce4-8bc715238c18",
   "metadata": {},
   "outputs": [
    {
     "data": {
      "text/plain": [
       "array([1, 2, 3])"
      ]
     },
     "execution_count": 255,
     "metadata": {},
     "output_type": "execute_result"
    }
   ],
   "source": [
    "np.minimum(array_a[0],array_a[2])"
   ]
  },
  {
   "cell_type": "markdown",
   "id": "066a460b-de6a-48fa-876f-5fbef434532f",
   "metadata": {},
   "source": [
    "Statistical order functions in numpy:\n",
    "1.np.ptp() :ptp=peak to peak.returns the difference btw the highest and lowest values within an array\n",
    "2. np.percentile() :returns a specific percentile of a given set.requires a second input-the percentile.\n",
    "percentile:A value that is greater than the corresponding % of the dataset.The 70-th percentile is greater than 70 % of the data.\n",
    "1.sort the values....\n",
    "2.no of values*percentile in float(70/100)=percentile position\n",
    "\n",
    "\n",
    "3. np.quantile() :takes value btween 0 and 1\n",
    "   quantile:A value that is greater than the corresponding part of the dataset.\n",
    "   70 percentile=0.7 quantile.\n"
   ]
  },
  {
   "cell_type": "code",
   "execution_count": 256,
   "id": "00b318a9-2804-426c-8a71-43f866c29ad8",
   "metadata": {},
   "outputs": [],
   "source": [
    "import numpy as np"
   ]
  },
  {
   "cell_type": "code",
   "execution_count": 257,
   "id": "1cd0e244-799a-41ce-8fbe-1ad76cb7dfd6",
   "metadata": {},
   "outputs": [
    {
     "data": {
      "text/plain": [
       "array([[1, 2, 3],\n",
       "       [4, 5, 6],\n",
       "       [7, 8, 9]])"
      ]
     },
     "execution_count": 257,
     "metadata": {},
     "output_type": "execute_result"
    }
   ],
   "source": [
    "array_a=np.array([[1,2,3],[4,5,6],[7,8,9]])\n",
    "array_a"
   ]
  },
  {
   "cell_type": "code",
   "execution_count": 258,
   "id": "edeb991d-a0ff-4450-a840-7c3b39911b71",
   "metadata": {},
   "outputs": [
    {
     "data": {
      "text/plain": [
       "np.int64(8)"
      ]
     },
     "execution_count": 258,
     "metadata": {},
     "output_type": "execute_result"
    }
   ],
   "source": [
    "np.ptp(array_a)"
   ]
  },
  {
   "cell_type": "code",
   "execution_count": 259,
   "id": "17d93bd7-0086-42bc-bc0a-767e6ab4a0f6",
   "metadata": {},
   "outputs": [
    {
     "data": {
      "text/plain": [
       "array([2, 2, 2])"
      ]
     },
     "execution_count": 259,
     "metadata": {},
     "output_type": "execute_result"
    }
   ],
   "source": [
    "np.ptp(array_a,axis=1)"
   ]
  },
  {
   "cell_type": "code",
   "execution_count": 260,
   "id": "d6c1714a-2bbc-4a8b-aea1-1b5c0c5ebbe9",
   "metadata": {},
   "outputs": [
    {
     "data": {
      "text/plain": [
       "array([6, 6, 6])"
      ]
     },
     "execution_count": 260,
     "metadata": {},
     "output_type": "execute_result"
    }
   ],
   "source": [
    "np.ptp(array_a,axis=0)"
   ]
  },
  {
   "cell_type": "code",
   "execution_count": 262,
   "id": "fc6458a9-80fb-451d-9e94-a2ba26a71097",
   "metadata": {},
   "outputs": [
    {
     "data": {
      "text/plain": [
       "array([1, 2, 3, 4, 5, 6, 7, 8, 9])"
      ]
     },
     "execution_count": 262,
     "metadata": {},
     "output_type": "execute_result"
    }
   ],
   "source": [
    "np.sort(array_a,axis=None)"
   ]
  },
  {
   "cell_type": "code",
   "execution_count": 264,
   "id": "be000e92-fea0-4363-8b38-1668ccfc81cd",
   "metadata": {},
   "outputs": [
    {
     "data": {
      "text/plain": [
       "np.float64(7.4)"
      ]
     },
     "execution_count": 264,
     "metadata": {},
     "output_type": "execute_result"
    }
   ],
   "source": [
    "\n",
    "np.percentile(array_a,80)  #follows linear interpolation."
   ]
  },
  {
   "cell_type": "code",
   "execution_count": 265,
   "id": "316331e6-2cbd-4d58-8a3d-3ef681e27b15",
   "metadata": {},
   "outputs": [
    {
     "data": {
      "text/plain": [
       "np.float64(7.5)"
      ]
     },
     "execution_count": 265,
     "metadata": {},
     "output_type": "execute_result"
    }
   ],
   "source": [
    "np.percentile(array_a,80,interpolation='midpoint')"
   ]
  },
  {
   "cell_type": "code",
   "execution_count": 267,
   "id": "64d5678b-bd9a-42fb-8904-35b40a1878e0",
   "metadata": {},
   "outputs": [
    {
     "data": {
      "text/plain": [
       "np.int64(7)"
      ]
     },
     "execution_count": 267,
     "metadata": {},
     "output_type": "execute_result"
    }
   ],
   "source": [
    "np.percentile(array_a,80,interpolation='lower')"
   ]
  },
  {
   "cell_type": "code",
   "execution_count": 268,
   "id": "debaacf4-271b-4230-ac09-977aa43e2273",
   "metadata": {},
   "outputs": [
    {
     "data": {
      "text/plain": [
       "np.int64(8)"
      ]
     },
     "execution_count": 268,
     "metadata": {},
     "output_type": "execute_result"
    }
   ],
   "source": [
    "np.percentile(array_a,80,interpolation='higher')"
   ]
  },
  {
   "cell_type": "code",
   "execution_count": 269,
   "id": "acf5b5f5-6e2c-4ad2-8637-c2b90c0883a9",
   "metadata": {},
   "outputs": [
    {
     "data": {
      "text/plain": [
       "np.int64(7)"
      ]
     },
     "execution_count": 269,
     "metadata": {},
     "output_type": "execute_result"
    }
   ],
   "source": [
    "np.percentile(array_a,80,interpolation='nearest')"
   ]
  },
  {
   "cell_type": "code",
   "execution_count": 271,
   "id": "07c9022d-84ad-4b23-9ccf-7b67288c9a1d",
   "metadata": {},
   "outputs": [
    {
     "data": {
      "text/plain": [
       "np.int64(7)"
      ]
     },
     "execution_count": 271,
     "metadata": {},
     "output_type": "execute_result"
    }
   ],
   "source": [
    "np.quantile(array_a,.80,interpolation=\"nearest\")"
   ]
  },
  {
   "cell_type": "markdown",
   "id": "8e9343cd-23fa-41f4-9ee2-2df8f8dfd36c",
   "metadata": {},
   "source": [
    "median,varianc,standard deviation\n",
    "1.np.median()\n",
    "2.np.var()\n",
    "3.np.std()\n",
    "4.np.average()  weighted also"
   ]
  },
  {
   "cell_type": "code",
   "execution_count": 272,
   "id": "c8a4d138-7e4a-41dd-96e3-2368f335a53f",
   "metadata": {},
   "outputs": [
    {
     "data": {
      "text/plain": [
       "array([[1, 2, 3],\n",
       "       [4, 5, 6],\n",
       "       [7, 8, 9]])"
      ]
     },
     "execution_count": 272,
     "metadata": {},
     "output_type": "execute_result"
    }
   ],
   "source": [
    "import  numpy as np\n",
    "array_a=np.array([[1,2,3],[4,5,6],[7,8,9]])\n",
    "array_a"
   ]
  },
  {
   "cell_type": "code",
   "execution_count": 275,
   "id": "1edf6e36-6036-4b83-9ddf-cb75a76309de",
   "metadata": {},
   "outputs": [
    {
     "data": {
      "text/plain": [
       "np.float64(5.0)"
      ]
     },
     "execution_count": 275,
     "metadata": {},
     "output_type": "execute_result"
    }
   ],
   "source": [
    "np.median(array_a)"
   ]
  },
  {
   "cell_type": "code",
   "execution_count": 274,
   "id": "3175f6d7-97ed-4596-866c-e7841ec41388",
   "metadata": {},
   "outputs": [
    {
     "data": {
      "text/plain": [
       "np.float64(6.666666666666667)"
      ]
     },
     "execution_count": 274,
     "metadata": {},
     "output_type": "execute_result"
    }
   ],
   "source": [
    "np.var(array_a)"
   ]
  },
  {
   "cell_type": "code",
   "execution_count": 278,
   "id": "7f4e26f0-e210-4876-8a10-07072b386ff9",
   "metadata": {},
   "outputs": [
    {
     "data": {
      "text/plain": [
       "np.float64(2.581988897471611)"
      ]
     },
     "execution_count": 278,
     "metadata": {},
     "output_type": "execute_result"
    }
   ],
   "source": [
    "np.std(array_a)"
   ]
  },
  {
   "cell_type": "code",
   "execution_count": 276,
   "id": "65277395-3e9f-4fcb-8251-0dd38fb747f5",
   "metadata": {},
   "outputs": [
    {
     "data": {
      "text/plain": [
       "np.float64(5.0)"
      ]
     },
     "execution_count": 276,
     "metadata": {},
     "output_type": "execute_result"
    }
   ],
   "source": [
    "np.mean(array_a)"
   ]
  },
  {
   "cell_type": "code",
   "execution_count": 277,
   "id": "83ab4915-f355-4cf7-bcaf-de1c367cc294",
   "metadata": {},
   "outputs": [
    {
     "data": {
      "text/plain": [
       "np.float64(5.0)"
      ]
     },
     "execution_count": 277,
     "metadata": {},
     "output_type": "execute_result"
    }
   ],
   "source": [
    "np.average(array_a)"
   ]
  },
  {
   "cell_type": "code",
   "execution_count": 279,
   "id": "dde07a8d-2ad8-4917-9262-87fdd57232d9",
   "metadata": {},
   "outputs": [],
   "source": [
    "#average and mean are same but average can work with weighted matrix."
   ]
  },
  {
   "cell_type": "code",
   "execution_count": 280,
   "id": "041a79c4-e153-4af0-b704-c772fb973548",
   "metadata": {},
   "outputs": [],
   "source": [
    "#weight matrix can be generated randomly."
   ]
  },
  {
   "cell_type": "code",
   "execution_count": 282,
   "id": "89b0a134-1546-4476-8c3d-b67eb87f5177",
   "metadata": {},
   "outputs": [
    {
     "data": {
      "text/plain": [
       "array([[0.75915734, 0.7662218 , 0.6291028 ],\n",
       "       [0.20336599, 0.66501486, 0.06559111],\n",
       "       [0.71326309, 0.10812106, 0.87969046]])"
      ]
     },
     "execution_count": 282,
     "metadata": {},
     "output_type": "execute_result"
    }
   ],
   "source": [
    "from numpy.random import Generator as gen\n",
    "from numpy.random import PCG64 as pcg\n",
    "array_RG=gen(pcg(365))\n",
    "array_weight=array_RG.random(size=(3,3))\n",
    "array_weight"
   ]
  },
  {
   "cell_type": "code",
   "execution_count": 283,
   "id": "1a4dcbb3-df96-4019-9f0a-dc9e8ecfe378",
   "metadata": {},
   "outputs": [
    {
     "data": {
      "text/plain": [
       "np.float64(4.694829245906023)"
      ]
     },
     "execution_count": 283,
     "metadata": {},
     "output_type": "execute_result"
    }
   ],
   "source": [
    "np.average(array_a,weights=array_weight)"
   ]
  },
  {
   "cell_type": "markdown",
   "id": "8709ee64-ee13-4cf0-9bfe-cc667f863c81",
   "metadata": {},
   "source": [
    "1.covariance 2.correlation.\n",
    "np.cov()\n",
    "np.corrcoef()\n",
    "correlation=cov(x,y)/stdx*stdy\n",
    "expects a symmetrical matrix\n",
    "finds the relationship btw every 2 rows of the array. "
   ]
  },
  {
   "cell_type": "code",
   "execution_count": 290,
   "id": "43552003-66e5-44ab-bf07-f6ba17531e90",
   "metadata": {},
   "outputs": [
    {
     "data": {
      "text/plain": [
       "array([[ 1,  6,  3],\n",
       "       [14,  5,  9],\n",
       "       [ 7,  8,  9]])"
      ]
     },
     "execution_count": 290,
     "metadata": {},
     "output_type": "execute_result"
    }
   ],
   "source": [
    "import  numpy as np\n",
    "array_a=np.array([[1,6,3],[14,5,9],[7,8,9]])\n",
    "array_a"
   ]
  },
  {
   "cell_type": "code",
   "execution_count": 291,
   "id": "2716b043-917f-4609-8acf-42fe01c06799",
   "metadata": {},
   "outputs": [
    {
     "data": {
      "text/plain": [
       "array([[  6.33333333, -11.16666667,   1.        ],\n",
       "       [-11.16666667,  20.33333333,  -2.5       ],\n",
       "       [  1.        ,  -2.5       ,   1.        ]])"
      ]
     },
     "execution_count": 291,
     "metadata": {},
     "output_type": "execute_result"
    }
   ],
   "source": [
    "np.cov(array_a)"
   ]
  },
  {
   "cell_type": "code",
   "execution_count": 292,
   "id": "66b5bd2a-6e9c-4adc-b7e4-a9ae1426f49a",
   "metadata": {},
   "outputs": [
    {
     "data": {
      "text/plain": [
       "array([[ 1.        , -0.9840181 ,  0.39735971],\n",
       "       [-0.9840181 ,  1.        , -0.55441595],\n",
       "       [ 0.39735971, -0.55441595,  1.        ]])"
      ]
     },
     "execution_count": 292,
     "metadata": {},
     "output_type": "execute_result"
    }
   ],
   "source": [
    "np.corrcoef(array_a)"
   ]
  },
  {
   "cell_type": "markdown",
   "id": "1710f37d-6cb5-4268-ae58-d7d30435aebb",
   "metadata": {},
   "source": [
    "histograms"
   ]
  },
  {
   "cell_type": "code",
   "execution_count": 293,
   "id": "6a82b6c6-0ae6-41f0-9abd-088a61980a9c",
   "metadata": {},
   "outputs": [
    {
     "data": {
      "text/plain": [
       "array([[ 1,  6,  3],\n",
       "       [14,  5,  9],\n",
       "       [ 7,  8,  9]])"
      ]
     },
     "execution_count": 293,
     "metadata": {},
     "output_type": "execute_result"
    }
   ],
   "source": [
    "import  numpy as np\n",
    "array_a=np.array([[1,6,3],[14,5,9],[7,8,9]])\n",
    "array_a"
   ]
  },
  {
   "cell_type": "code",
   "execution_count": 295,
   "id": "68a8dab1-8c3b-4ef6-8cc2-7bb35cbeba32",
   "metadata": {},
   "outputs": [
    {
     "data": {
      "text/plain": [
       "array([ 1,  3,  5,  6,  7,  8,  9,  9, 14])"
      ]
     },
     "execution_count": 295,
     "metadata": {},
     "output_type": "execute_result"
    }
   ],
   "source": [
    "np.sort(array_a,axis=None)"
   ]
  },
  {
   "cell_type": "code",
   "execution_count": 296,
   "id": "400be055-f3f3-465a-b6f1-b54c17a1bb28",
   "metadata": {},
   "outputs": [
    {
     "data": {
      "text/plain": [
       "(array([1, 1, 0, 2, 1, 1, 2, 0, 0, 1]),\n",
       " array([ 1. ,  2.3,  3.6,  4.9,  6.2,  7.5,  8.8, 10.1, 11.4, 12.7, 14. ]))"
      ]
     },
     "execution_count": 296,
     "metadata": {},
     "output_type": "execute_result"
    }
   ],
   "source": [
    "np.histogram(array_a)"
   ]
  },
  {
   "cell_type": "code",
   "execution_count": 297,
   "id": "81b4aea1-15a8-4820-bb87-da92c8f71196",
   "metadata": {},
   "outputs": [
    {
     "data": {
      "text/plain": [
       "array([ 1. ,  2.3,  3.6,  4.9,  6.2,  7.5,  8.8, 10.1, 11.4, 12.7, 14. ])"
      ]
     },
     "execution_count": 297,
     "metadata": {},
     "output_type": "execute_result"
    }
   ],
   "source": [
    "np.histogram(array_a)[1]\n"
   ]
  },
  {
   "cell_type": "code",
   "execution_count": 300,
   "id": "31f53922-956a-43a9-81a9-c599b7cbc2eb",
   "metadata": {},
   "outputs": [
    {
     "data": {
      "text/plain": [
       "(array([2, 3, 3, 1]), array([ 1.  ,  4.25,  7.5 , 10.75, 14.  ]))"
      ]
     },
     "execution_count": 300,
     "metadata": {},
     "output_type": "execute_result"
    }
   ],
   "source": [
    "np.histogram(array_a,bins=4)"
   ]
  },
  {
   "cell_type": "code",
   "execution_count": 302,
   "id": "a71d736c-9928-4bb8-b131-fa5774838be4",
   "metadata": {},
   "outputs": [
    {
     "data": {
      "text/plain": [
       "(array([1, 1, 1, 2]), array([1. , 2.5, 4. , 5.5, 7. ]))"
      ]
     },
     "execution_count": 302,
     "metadata": {},
     "output_type": "execute_result"
    }
   ],
   "source": [
    "np.histogram(array_a,bins=4,range=(1,7))"
   ]
  },
  {
   "cell_type": "code",
   "execution_count": 5,
   "id": "0d8fbc88-dd71-4cc6-8594-4501442700fa",
   "metadata": {},
   "outputs": [
    {
     "data": {
      "text/plain": [
       "array([[1, 0, 0, 3, 1],\n",
       "       [3, 6, 6, 2, 9],\n",
       "       [4, 5, 3, 8, 0]])"
      ]
     },
     "execution_count": 5,
     "metadata": {},
     "output_type": "execute_result"
    }
   ],
   "source": [
    "import  numpy as np\n",
    "array_a=np.array([[1,0,0,3,1],[3,6,6,2,9],[4,5,3,8,0]])\n",
    "array_a\n"
   ]
  },
  {
   "cell_type": "code",
   "execution_count": 6,
   "id": "6bd4182b-626c-478c-b62d-3c8d4226580a",
   "metadata": {},
   "outputs": [
    {
     "data": {
      "image/png": "[encoded data removed]",
      "text/plain": [
       "<Figure size 640x480 with 1 Axes>"
      ]
     },
     "metadata": {},
     "output_type": "display_data"
    }
   ],
   "source": [
    "import matplotlib.pyplot as plt\n",
    "plt.hist(array_a.flat,bins=np.histogram(array_a)[1])\n",
    "plt.show()"
   ]
  },
  {
   "cell_type": "code",
   "execution_count": 7,
   "id": "72d7bdca-7f37-488c-ad44-f7548923f483",
   "metadata": {},
   "outputs": [
    {
     "data": {
      "text/plain": [
       "array([[1, 0, 0, 3, 1],\n",
       "       [3, 6, 6, 2, 9],\n",
       "       [4, 5, 3, 8, 0]])"
      ]
     },
     "execution_count": 7,
     "metadata": {},
     "output_type": "execute_result"
    }
   ],
   "source": [
    "array_a"
   ]
  },
  {
   "cell_type": "code",
   "execution_count": 8,
   "id": "a2df6ad4-101c-4e2d-91da-852539fb7bf0",
   "metadata": {},
   "outputs": [
    {
     "data": {
      "text/plain": [
       "(array([[0., 0., 2., 0.],\n",
       "        [1., 0., 0., 1.],\n",
       "        [0., 0., 0., 0.],\n",
       "        [1., 0., 0., 0.]]),\n",
       " array([0.  , 0.75, 1.5 , 2.25, 3.  ]),\n",
       " array([2.  , 3.75, 5.5 , 7.25, 9.  ]))"
      ]
     },
     "execution_count": 8,
     "metadata": {},
     "output_type": "execute_result"
    }
   ],
   "source": [
    "np.histogram2d(array_a[0],array_a[1],bins=4)"
   ]
  },
  {
   "cell_type": "code",
   "execution_count": 9,
   "id": "9027cd5c-0237-486d-9092-1d8c50308d15",
   "metadata": {},
   "outputs": [
    {
     "data": {
      "text/plain": [
       "(array([[[0., 0., 0., 0.],\n",
       "         [0., 0., 0., 0.],\n",
       "         [0., 1., 1., 0.],\n",
       "         [0., 0., 0., 0.]],\n",
       " \n",
       "        [[0., 0., 1., 0.],\n",
       "         [0., 0., 0., 0.],\n",
       "         [0., 0., 0., 0.],\n",
       "         [1., 0., 0., 0.]],\n",
       " \n",
       "        [[0., 0., 0., 0.],\n",
       "         [0., 0., 0., 0.],\n",
       "         [0., 0., 0., 0.],\n",
       "         [0., 0., 0., 0.]],\n",
       " \n",
       "        [[0., 0., 0., 1.],\n",
       "         [0., 0., 0., 0.],\n",
       "         [0., 0., 0., 0.],\n",
       "         [0., 0., 0., 0.]]]),\n",
       " [array([0.  , 0.75, 1.5 , 2.25, 3.  ]),\n",
       "  array([2.  , 3.75, 5.5 , 7.25, 9.  ]),\n",
       "  array([0., 2., 4., 6., 8.])])"
      ]
     },
     "execution_count": 9,
     "metadata": {},
     "output_type": "execute_result"
    }
   ],
   "source": [
    "np.histogramdd(array_a.transpose(),bins=4)"
   ]
  },
  {
   "cell_type": "markdown",
   "id": "17a2301f-318e-4076-86b9-3d6c3a28a740",
   "metadata": {},
   "source": [
    "NAN-equivalent functions"
   ]
  },
  {
   "cell_type": "code",
   "execution_count": 10,
   "id": "4a6b861e-64c1-4e97-8807-57b22d6994e3",
   "metadata": {},
   "outputs": [
    {
     "data": {
      "text/plain": [
       "array([[1, 0, 0, 3, 1],\n",
       "       [3, 6, 6, 2, 9],\n",
       "       [4, 5, 3, 8, 0]])"
      ]
     },
     "execution_count": 10,
     "metadata": {},
     "output_type": "execute_result"
    }
   ],
   "source": [
    "import  numpy as np\n",
    "array_a=np.array([[1,0,0,3,1],[3,6,6,2,9],[4,5,3,8,0]])\n",
    "array_a"
   ]
  },
  {
   "cell_type": "code",
   "execution_count": 11,
   "id": "077d9da4-bfea-4270-bdeb-4792e30847e5",
   "metadata": {},
   "outputs": [
    {
     "data": {
      "text/plain": [
       "np.float64(3.4)"
      ]
     },
     "execution_count": 11,
     "metadata": {},
     "output_type": "execute_result"
    }
   ],
   "source": [
    "np.nanmean(array_a)"
   ]
  },
  {
   "cell_type": "code",
   "execution_count": 12,
   "id": "7eab38d9-027f-46b3-874c-759356477943",
   "metadata": {},
   "outputs": [
    {
     "data": {
      "text/plain": [
       "array([[ 1.,  0.,  0.,  3.,  1.],\n",
       "       [ 3.,  6., nan, nan,  9.],\n",
       "       [ 4.,  5.,  3.,  8.,  0.]])"
      ]
     },
     "execution_count": 12,
     "metadata": {},
     "output_type": "execute_result"
    }
   ],
   "source": [
    "array_b=np.array([[1,0,0,3,1],[3,6,np.nan,np.nan,9],[4,5,3,8,0]])\n",
    "array_b"
   ]
  },
  {
   "cell_type": "code",
   "execution_count": 13,
   "id": "f6529d4c-71ae-4d51-b7b9-642367e2d9b1",
   "metadata": {},
   "outputs": [
    {
     "data": {
      "text/plain": [
       "np.float64(3.3076923076923075)"
      ]
     },
     "execution_count": 13,
     "metadata": {},
     "output_type": "execute_result"
    }
   ],
   "source": [
    "np.nanmean(array_b)"
   ]
  },
  {
   "cell_type": "code",
   "execution_count": 14,
   "id": "390ecd02-7763-49c2-bf2d-23b1500dd716",
   "metadata": {},
   "outputs": [
    {
     "data": {
      "text/plain": [
       "np.float64(nan)"
      ]
     },
     "execution_count": 14,
     "metadata": {},
     "output_type": "execute_result"
    }
   ],
   "source": [
    "np.mean(array_b)"
   ]
  },
  {
   "cell_type": "code",
   "execution_count": 15,
   "id": "4f48a40b-cdb5-4b00-bc75-9f74ed95582a",
   "metadata": {},
   "outputs": [],
   "source": [
    "#nan equivalent functions handle the nan values...that is handle missing data"
   ]
  },
  {
   "cell_type": "code",
   "execution_count": null,
   "id": "638ae08a-70c5-4b94-ac72-149ba4fc6982",
   "metadata": {},
   "outputs": [],
   "source": []
  }
 ],
 "metadata": {
  "kernelspec": {
   "display_name": "Python [conda env:base] *",
   "language": "python",
   "name": "conda-base-py"
  },
  "language_info": {
   "codemirror_mode": {
    "name": "ipython",
    "version": 3
   },
   "file_extension": ".py",
   "mimetype": "text/x-python",
   "name": "python",
   "nbconvert_exporter": "python",
   "pygments_lexer": "ipython3",
   "version": "3.12.7"
  }
 },
 "nbformat": 4,
 "nbformat_minor": 5
}

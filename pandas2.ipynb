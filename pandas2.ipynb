{
 "cells": [
  {
   "cell_type": "markdown",
   "id": "b472ec82-e7ad-45b3-a549-c647795a0d13",
   "metadata": {},
   "source": [
    "pandas series .unique() &.nunique():\n",
    "unique() and nunique() are two methods in Pandas used to identify and count unique values within a Series or DataFrame.\n",
    "1.unique():\n",
    "Returns a NumPy array of the unique values in a Series.\n",
    "It preserves the order of the unique values based on their first appearance. \n",
    "It includes NaN values in the output.\n",
    "It is useful for identifying distinct values in a column, especially when working with categorical data or detecting outliers. \n",
    "2.nunique():\n",
    "Returns the number of unique values in a Series or DataFrame.\n",
    "It can be applied to a Series or along the axes of a DataFrame.\n",
    "By default, it excludes NaN values from the count.\n",
    "It is useful for quickly determining the number of distinct values in a column\n",
    "\n",
    "3 .squeeze() :-used to convert the data to a pandas Series instead of a DataFrame if the data consists of a single column.\n",
    "4. .copy() -used to copy a series to another variable.\n",
    "5. .describe() :-The .describe() method in pandas is used to generate descriptive statistics of a DataFrame or Series"
   ]
  },
  {
   "cell_type": "code",
   "execution_count": 2,
   "id": "d1e87de1-e948-4fac-8eb5-bd84389daa8f",
   "metadata": {},
   "outputs": [],
   "source": [
    "import pandas as pd\n"
   ]
  },
  {
   "cell_type": "code",
   "execution_count": 5,
   "id": "26458d82-4788-47f8-b503-1e0361b89561",
   "metadata": {},
   "outputs": [
    {
     "name": "stdout",
     "output_type": "stream",
     "text": [
      "0     Location 3\n",
      "1     Location 6\n",
      "2     Location 8\n",
      "3    Location 26\n",
      "4    Location 34\n",
      "Name: Location, dtype: object\n"
     ]
    }
   ],
   "source": [
    "#.squeeze() :-used to convert the data to a pandas Series instead of a DataFrame if the data consists of a single column.\n",
    "filename=r\"D:\\dataanalyst\\Data Analyst Course\\S17 - pandas Series\\Location.csv\"\n",
    "data=pd.read_csv(filename)\n",
    "location_data=data.squeeze().copy()\n",
    "print(location_data.head())"
   ]
  },
  {
   "cell_type": "code",
   "execution_count": 6,
   "id": "2a14237c-7ca3-437b-8a0a-31ed5029afc9",
   "metadata": {},
   "outputs": [
    {
     "name": "stdout",
     "output_type": "stream",
     "text": [
      "<class 'pandas.core.series.Series'>\n"
     ]
    }
   ],
   "source": [
    "print(type(location_data))"
   ]
  },
  {
   "cell_type": "code",
   "execution_count": 7,
   "id": "d3226e90-fe88-4405-8c3b-02bf3d07e5ef",
   "metadata": {},
   "outputs": [
    {
     "name": "stdout",
     "output_type": "stream",
     "text": [
      "count            1043\n",
      "unique            296\n",
      "top       Location 25\n",
      "freq               31\n",
      "Name: Location, dtype: object\n"
     ]
    }
   ],
   "source": [
    "print(location_data.describe())"
   ]
  },
  {
   "cell_type": "code",
   "execution_count": 8,
   "id": "d1b2d54d-3f8d-4c96-8bb7-67005e701b79",
   "metadata": {},
   "outputs": [
    {
     "data": {
      "text/plain": [
       "1043"
      ]
     },
     "execution_count": 8,
     "metadata": {},
     "output_type": "execute_result"
    }
   ],
   "source": [
    "len(location_data)"
   ]
  },
  {
   "cell_type": "code",
   "execution_count": 10,
   "id": "2167d845-2d98-422e-8887-839c8e1b24c5",
   "metadata": {},
   "outputs": [
    {
     "data": {
      "text/plain": [
       "296"
      ]
     },
     "execution_count": 10,
     "metadata": {},
     "output_type": "execute_result"
    }
   ],
   "source": [
    "location_data.nunique()"
   ]
  },
  {
   "cell_type": "code",
   "execution_count": 11,
   "id": "d9bdb5ce-da57-4a3b-a9e9-b2bad719bc3c",
   "metadata": {},
   "outputs": [
    {
     "data": {
      "text/plain": [
       "int"
      ]
     },
     "execution_count": 11,
     "metadata": {},
     "output_type": "execute_result"
    }
   ],
   "source": [
    "type(location_data.nunique())"
   ]
  },
  {
   "cell_type": "code",
   "execution_count": 12,
   "id": "f0bd11e0-e2dc-476f-961b-7ebcfbbfe33a",
   "metadata": {},
   "outputs": [
    {
     "data": {
      "text/plain": [
       "array(['Location 3', 'Location 6', 'Location 8', 'Location 26',\n",
       "       'Location 34', 'Location 25', 'Location 46', 'Location 156',\n",
       "       'Location 21', 'Location 13', 'Location 579', 'Location 602',\n",
       "       'Location 10', 'Location 44', 'Location 30', 'Location 48',\n",
       "       'Location 196', 'Location 64', 'Location 91', 'Location 62',\n",
       "       'Location 75', 'Location 42', 'Location 233', 'Location 95',\n",
       "       'Location 78', 'Location 61', 'Location 87', 'Location 19',\n",
       "       'Location 115', 'Location 350', 'Location 377', 'Location 17',\n",
       "       'Location 113', 'Location 81', 'Location 58', 'Location 212',\n",
       "       'Location 53', 'Location 337', 'Location 41', 'Location 632',\n",
       "       'Location 73', 'Location 214', 'Location 218', 'Location 38',\n",
       "       'Location 172', 'Location 197', 'Location 101', 'Location 185',\n",
       "       'Location 129', 'Location 235', 'Location 142', 'Location 50',\n",
       "       'Location 76', 'Location 11', 'Location 33', 'Location 22',\n",
       "       'Location 145', 'Location 203', 'Location 94', 'Location 573',\n",
       "       'Location 27', 'Location 186', 'Location 4', 'Location 70',\n",
       "       'Location 45', 'Location 262', 'Location 111', 'Location 84',\n",
       "       'Location 108', 'Location 7', 'Location 74', 'Location 450',\n",
       "       'Location 47', 'Location 37', 'Location 43', 'Location 286',\n",
       "       'Location 89', 'Location 24', 'Location 97', 'Location 144',\n",
       "       'Location 40', 'Location 128', 'Location 169', 'Location 399',\n",
       "       'Location 23', 'Location 191', 'Location 178', 'Location 510',\n",
       "       'Location 600', 'Location 188', 'Location 67', 'Location 49',\n",
       "       'Location 29', 'Location 222', 'Location 386', 'Location 88',\n",
       "       'Location 104', 'Location 405', 'Location 114', 'Location 259',\n",
       "       'Location 182', 'Location 12', 'Location 228', 'Location 149',\n",
       "       'Location 90', 'Location 109', 'Location 441', 'Location 421',\n",
       "       'Location 641', 'Location 195', 'Location 20', 'Location 161',\n",
       "       'Location 117', 'Location 200', 'Location 106', 'Location 31',\n",
       "       'Location 122', 'Location 541', 'Location 495', 'Location 193',\n",
       "       'Location 39', 'Location 9', 'Location 86', 'Location 107',\n",
       "       'Location 198', 'Location 318', 'Location 135', 'Location 177',\n",
       "       'Location 32', 'Location 591', 'Location 488', 'Location 418',\n",
       "       'Location 587', 'Location 454', 'Location 543', 'Location 489',\n",
       "       'Location 60', 'Location 52', 'Location 548', 'Location 15',\n",
       "       'Location 240', 'Location 658', 'Location 209', 'Location 151',\n",
       "       'Location 192', 'Location 364', 'Location 18', 'Location 503',\n",
       "       'Location 482', 'Location 460', 'Location 71', 'Location 69',\n",
       "       'Location 258', 'Location 204', 'Location 124', 'Location 168',\n",
       "       'Location 35', 'Location 296', 'Location 136', 'Location 28',\n",
       "       'Location 153', 'Location 99', 'Location 132', 'Location 427',\n",
       "       'Location 118', 'Location 127', 'Location 159', 'Location 154',\n",
       "       'Location 175', 'Location 120', 'Location 82', 'Location 152',\n",
       "       'Location 56', 'Location 282', 'Location 566', 'Location 365',\n",
       "       'Location 353', 'Location 66', 'Location 2', 'Location 323',\n",
       "       'Location 473', 'Location 206', 'Location 57', 'Location 68',\n",
       "       'Location 166', 'Location 1', 'Location 227', 'Location 79',\n",
       "       'Location 642', 'Location 105', 'Location 644', 'Location 547',\n",
       "       'Location 637', 'Location 59', 'Location 574', 'Location 529',\n",
       "       'Location 554', 'Location 275', 'Location 589', 'Location 160',\n",
       "       'Location 410', 'Location 146', 'Location 221', 'Location 265',\n",
       "       'Location 569', 'Location 157', 'Location 648', 'Location 165',\n",
       "       'Location 651', 'Location 266', 'Location 77', 'Location 158',\n",
       "       'Location 336', 'Location 72', 'Location 463', 'Location 253',\n",
       "       'Location 5', 'Location 431', 'Location 515', 'Location 226',\n",
       "       'Location 140', 'Location 110', 'Location 202', 'Location 634',\n",
       "       'Location 138', 'Location 217', 'Location 443', 'Location 627',\n",
       "       'Location 123', 'Location 528', 'Location 357', 'Location 187',\n",
       "       'Location 315', 'Location 112', 'Location 302', 'Location 194',\n",
       "       'Location 332', 'Location 208', 'Location 179', 'Location 199',\n",
       "       'Location 201', 'Location 174', 'Location 474', 'Location 184',\n",
       "       'Location 63', 'Location 512', 'Location 403', 'Location 436',\n",
       "       'Location 210', 'Location 468', 'Location 464', 'Location 98',\n",
       "       'Location 102', 'Location 325', 'Location 267', 'Location 173',\n",
       "       'Location 617', 'Location 141', 'Location 300', 'Location 216',\n",
       "       'Location 506', 'Location 647', 'Location 402', 'Location 239',\n",
       "       'Location 54', 'Location 137', 'Location 477', 'Location 586',\n",
       "       'Location 472', 'Location 374', 'Location 458', 'Location 180',\n",
       "       'Location 653', 'Location 16', 'Location 612', 'Location 505',\n",
       "       'Location 631', 'Location 299', 'Location 65', 'Location 342',\n",
       "       'Location 155', 'Location 511', 'Location 461', 'Location 244',\n",
       "       'Location 207', 'Location 597', 'Location 352', 'Location 533',\n",
       "       'Location 384', 'Location 80', 'Location 171', 'Location 143',\n",
       "       'Location 576', 'Location 139', 'Location 125', 'Location 181'],\n",
       "      dtype=object)"
      ]
     },
     "execution_count": 12,
     "metadata": {},
     "output_type": "execute_result"
    }
   ],
   "source": [
    "location_data.unique()"
   ]
  },
  {
   "cell_type": "code",
   "execution_count": 13,
   "id": "2fe726c1-ea2f-467a-9dff-f7835c9e782d",
   "metadata": {},
   "outputs": [
    {
     "data": {
      "text/plain": [
       "numpy.ndarray"
      ]
     },
     "execution_count": 13,
     "metadata": {},
     "output_type": "execute_result"
    }
   ],
   "source": [
    "type(location_data.unique())"
   ]
  },
  {
   "cell_type": "code",
   "execution_count": null,
   "id": "85a63481-03f0-402d-a4f2-e9d7b73c1cd4",
   "metadata": {},
   "outputs": [],
   "source": [
    "repeating same thing"
   ]
  },
  {
   "cell_type": "code",
   "execution_count": 14,
   "id": "4007b493-f41e-45a5-94d1-2c39eeebe9ca",
   "metadata": {},
   "outputs": [
    {
     "name": "stdout",
     "output_type": "stream",
     "text": [
      "0     Location 3\n",
      "1     Location 6\n",
      "2     Location 8\n",
      "3    Location 26\n",
      "4    Location 34\n",
      "Name: Location, dtype: object\n"
     ]
    }
   ],
   "source": [
    "import pandas as pd\n",
    "filename=r\"D:\\dataanalyst\\Data Analyst Course\\S17 - pandas Series\\Location.csv\"\n",
    "data=pd.read_csv(filename)\n",
    "location_data=data.squeeze().copy()\n",
    "print(location_data.head())"
   ]
  },
  {
   "cell_type": "code",
   "execution_count": 15,
   "id": "23a40a56-62a7-4845-8939-bebc66ac2364",
   "metadata": {},
   "outputs": [
    {
     "name": "stdout",
     "output_type": "stream",
     "text": [
      "count            1043\n",
      "unique            296\n",
      "top       Location 25\n",
      "freq               31\n",
      "Name: Location, dtype: object\n"
     ]
    }
   ],
   "source": [
    "print(location_data.describe())"
   ]
  },
  {
   "cell_type": "code",
   "execution_count": 16,
   "id": "df82c713-c193-4148-91e3-f2b0e04e4a98",
   "metadata": {},
   "outputs": [
    {
     "data": {
      "text/plain": [
       "1043"
      ]
     },
     "execution_count": 16,
     "metadata": {},
     "output_type": "execute_result"
    }
   ],
   "source": [
    "len(location_data)"
   ]
  },
  {
   "cell_type": "code",
   "execution_count": 17,
   "id": "e3decbed-134f-40b3-a57c-d42bdd054801",
   "metadata": {},
   "outputs": [
    {
     "data": {
      "text/plain": [
       "296"
      ]
     },
     "execution_count": 17,
     "metadata": {},
     "output_type": "execute_result"
    }
   ],
   "source": [
    "location_data.nunique()"
   ]
  },
  {
   "cell_type": "code",
   "execution_count": 18,
   "id": "db4001cf-dedb-4d91-8204-218dd9d809c3",
   "metadata": {},
   "outputs": [
    {
     "data": {
      "text/plain": [
       "array(['Location 3', 'Location 6', 'Location 8', 'Location 26',\n",
       "       'Location 34', 'Location 25', 'Location 46', 'Location 156',\n",
       "       'Location 21', 'Location 13', 'Location 579', 'Location 602',\n",
       "       'Location 10', 'Location 44', 'Location 30', 'Location 48',\n",
       "       'Location 196', 'Location 64', 'Location 91', 'Location 62',\n",
       "       'Location 75', 'Location 42', 'Location 233', 'Location 95',\n",
       "       'Location 78', 'Location 61', 'Location 87', 'Location 19',\n",
       "       'Location 115', 'Location 350', 'Location 377', 'Location 17',\n",
       "       'Location 113', 'Location 81', 'Location 58', 'Location 212',\n",
       "       'Location 53', 'Location 337', 'Location 41', 'Location 632',\n",
       "       'Location 73', 'Location 214', 'Location 218', 'Location 38',\n",
       "       'Location 172', 'Location 197', 'Location 101', 'Location 185',\n",
       "       'Location 129', 'Location 235', 'Location 142', 'Location 50',\n",
       "       'Location 76', 'Location 11', 'Location 33', 'Location 22',\n",
       "       'Location 145', 'Location 203', 'Location 94', 'Location 573',\n",
       "       'Location 27', 'Location 186', 'Location 4', 'Location 70',\n",
       "       'Location 45', 'Location 262', 'Location 111', 'Location 84',\n",
       "       'Location 108', 'Location 7', 'Location 74', 'Location 450',\n",
       "       'Location 47', 'Location 37', 'Location 43', 'Location 286',\n",
       "       'Location 89', 'Location 24', 'Location 97', 'Location 144',\n",
       "       'Location 40', 'Location 128', 'Location 169', 'Location 399',\n",
       "       'Location 23', 'Location 191', 'Location 178', 'Location 510',\n",
       "       'Location 600', 'Location 188', 'Location 67', 'Location 49',\n",
       "       'Location 29', 'Location 222', 'Location 386', 'Location 88',\n",
       "       'Location 104', 'Location 405', 'Location 114', 'Location 259',\n",
       "       'Location 182', 'Location 12', 'Location 228', 'Location 149',\n",
       "       'Location 90', 'Location 109', 'Location 441', 'Location 421',\n",
       "       'Location 641', 'Location 195', 'Location 20', 'Location 161',\n",
       "       'Location 117', 'Location 200', 'Location 106', 'Location 31',\n",
       "       'Location 122', 'Location 541', 'Location 495', 'Location 193',\n",
       "       'Location 39', 'Location 9', 'Location 86', 'Location 107',\n",
       "       'Location 198', 'Location 318', 'Location 135', 'Location 177',\n",
       "       'Location 32', 'Location 591', 'Location 488', 'Location 418',\n",
       "       'Location 587', 'Location 454', 'Location 543', 'Location 489',\n",
       "       'Location 60', 'Location 52', 'Location 548', 'Location 15',\n",
       "       'Location 240', 'Location 658', 'Location 209', 'Location 151',\n",
       "       'Location 192', 'Location 364', 'Location 18', 'Location 503',\n",
       "       'Location 482', 'Location 460', 'Location 71', 'Location 69',\n",
       "       'Location 258', 'Location 204', 'Location 124', 'Location 168',\n",
       "       'Location 35', 'Location 296', 'Location 136', 'Location 28',\n",
       "       'Location 153', 'Location 99', 'Location 132', 'Location 427',\n",
       "       'Location 118', 'Location 127', 'Location 159', 'Location 154',\n",
       "       'Location 175', 'Location 120', 'Location 82', 'Location 152',\n",
       "       'Location 56', 'Location 282', 'Location 566', 'Location 365',\n",
       "       'Location 353', 'Location 66', 'Location 2', 'Location 323',\n",
       "       'Location 473', 'Location 206', 'Location 57', 'Location 68',\n",
       "       'Location 166', 'Location 1', 'Location 227', 'Location 79',\n",
       "       'Location 642', 'Location 105', 'Location 644', 'Location 547',\n",
       "       'Location 637', 'Location 59', 'Location 574', 'Location 529',\n",
       "       'Location 554', 'Location 275', 'Location 589', 'Location 160',\n",
       "       'Location 410', 'Location 146', 'Location 221', 'Location 265',\n",
       "       'Location 569', 'Location 157', 'Location 648', 'Location 165',\n",
       "       'Location 651', 'Location 266', 'Location 77', 'Location 158',\n",
       "       'Location 336', 'Location 72', 'Location 463', 'Location 253',\n",
       "       'Location 5', 'Location 431', 'Location 515', 'Location 226',\n",
       "       'Location 140', 'Location 110', 'Location 202', 'Location 634',\n",
       "       'Location 138', 'Location 217', 'Location 443', 'Location 627',\n",
       "       'Location 123', 'Location 528', 'Location 357', 'Location 187',\n",
       "       'Location 315', 'Location 112', 'Location 302', 'Location 194',\n",
       "       'Location 332', 'Location 208', 'Location 179', 'Location 199',\n",
       "       'Location 201', 'Location 174', 'Location 474', 'Location 184',\n",
       "       'Location 63', 'Location 512', 'Location 403', 'Location 436',\n",
       "       'Location 210', 'Location 468', 'Location 464', 'Location 98',\n",
       "       'Location 102', 'Location 325', 'Location 267', 'Location 173',\n",
       "       'Location 617', 'Location 141', 'Location 300', 'Location 216',\n",
       "       'Location 506', 'Location 647', 'Location 402', 'Location 239',\n",
       "       'Location 54', 'Location 137', 'Location 477', 'Location 586',\n",
       "       'Location 472', 'Location 374', 'Location 458', 'Location 180',\n",
       "       'Location 653', 'Location 16', 'Location 612', 'Location 505',\n",
       "       'Location 631', 'Location 299', 'Location 65', 'Location 342',\n",
       "       'Location 155', 'Location 511', 'Location 461', 'Location 244',\n",
       "       'Location 207', 'Location 597', 'Location 352', 'Location 533',\n",
       "       'Location 384', 'Location 80', 'Location 171', 'Location 143',\n",
       "       'Location 576', 'Location 139', 'Location 125', 'Location 181'],\n",
       "      dtype=object)"
      ]
     },
     "execution_count": 18,
     "metadata": {},
     "output_type": "execute_result"
    }
   ],
   "source": [
    "location_data.unique()"
   ]
  },
  {
   "cell_type": "code",
   "execution_count": 19,
   "id": "1034c3e7-0705-43f9-90cf-3221f931f415",
   "metadata": {},
   "outputs": [
    {
     "data": {
      "text/plain": [
       "'Location'"
      ]
     },
     "execution_count": 19,
     "metadata": {},
     "output_type": "execute_result"
    }
   ],
   "source": [
    "location_data.name"
   ]
  },
  {
   "cell_type": "code",
   "execution_count": 20,
   "id": "6a013df8-9a49-4b78-bfc6-711fc8de4a3b",
   "metadata": {},
   "outputs": [
    {
     "data": {
      "text/plain": [
       "dtype('O')"
      ]
     },
     "execution_count": 20,
     "metadata": {},
     "output_type": "execute_result"
    }
   ],
   "source": [
    "location_data.dtype"
   ]
  },
  {
   "cell_type": "markdown",
   "id": "f0290c18-c354-46cd-b56d-83d2ef8ed1b1",
   "metadata": {},
   "source": [
    "Pandas series  .values, .array, .to_numpy()\n",
    "these convert pandas element into numpy array\n",
    ".values are not used now...pandas developers now promote .array and .to_numpy() functions"
   ]
  },
  {
   "cell_type": "code",
   "execution_count": 21,
   "id": "79bd5607-d309-4d40-ad88-95afae18299c",
   "metadata": {},
   "outputs": [],
   "source": [
    "import pandas as pd"
   ]
  },
  {
   "cell_type": "code",
   "execution_count": 23,
   "id": "3d21192c-7ce8-4cbc-bf4f-e4654ea43468",
   "metadata": {
    "scrolled": true
   },
   "outputs": [
    {
     "name": "stdout",
     "output_type": "stream",
     "text": [
      "product A    22500\n",
      "product B    33500\n",
      "product C     5500\n",
      "dtype: int64\n"
     ]
    }
   ],
   "source": [
    "prices_per_category=pd.Series({'product A':22500,'product B':33500,'product C':5500})\n",
    "print(prices_per_category)"
   ]
  },
  {
   "cell_type": "code",
   "execution_count": 24,
   "id": "eae95bc7-62bc-4e57-b0be-a018de388eb9",
   "metadata": {},
   "outputs": [
    {
     "name": "stdout",
     "output_type": "stream",
     "text": [
      "[22500 33500  5500]\n"
     ]
    }
   ],
   "source": [
    "print(prices_per_category.values)"
   ]
  },
  {
   "cell_type": "code",
   "execution_count": 25,
   "id": "408adce8-bb37-41f3-a62e-1a46c739baed",
   "metadata": {},
   "outputs": [
    {
     "name": "stdout",
     "output_type": "stream",
     "text": [
      "<class 'numpy.ndarray'>\n"
     ]
    }
   ],
   "source": [
    "print(type(prices_per_category.values))"
   ]
  },
  {
   "cell_type": "code",
   "execution_count": 26,
   "id": "4e587cea-d3cc-4ba5-844a-f32888f76d8a",
   "metadata": {},
   "outputs": [
    {
     "name": "stdout",
     "output_type": "stream",
     "text": [
      "<NumpyExtensionArray>\n",
      "[np.int64(22500), np.int64(33500), np.int64(5500)]\n",
      "Length: 3, dtype: int64\n"
     ]
    }
   ],
   "source": [
    "print(prices_per_category.array)"
   ]
  },
  {
   "cell_type": "code",
   "execution_count": 27,
   "id": "1ca79534-8da1-4024-ab34-f17958bbf548",
   "metadata": {},
   "outputs": [
    {
     "name": "stdout",
     "output_type": "stream",
     "text": [
      "<class 'pandas.core.arrays.numpy_.NumpyExtensionArray'>\n"
     ]
    }
   ],
   "source": [
    "print(type(prices_per_category.array))"
   ]
  },
  {
   "cell_type": "code",
   "execution_count": 28,
   "id": "f2dd1960-c239-4bb3-b775-1734ea2d9d8d",
   "metadata": {},
   "outputs": [
    {
     "name": "stdout",
     "output_type": "stream",
     "text": [
      "[22500 33500  5500]\n"
     ]
    }
   ],
   "source": [
    "print(prices_per_category.to_numpy())"
   ]
  },
  {
   "cell_type": "code",
   "execution_count": 29,
   "id": "5a333293-4629-41a0-b4e9-547e9a7da966",
   "metadata": {},
   "outputs": [
    {
     "name": "stdout",
     "output_type": "stream",
     "text": [
      "<class 'numpy.ndarray'>\n"
     ]
    }
   ],
   "source": [
    "print(type(prices_per_category.to_numpy()))"
   ]
  },
  {
   "cell_type": "code",
   "execution_count": 30,
   "id": "bd7cdb9a-6adb-4887-a875-72bfb0df8406",
   "metadata": {},
   "outputs": [
    {
     "name": "stdout",
     "output_type": "stream",
     "text": [
      "22500\n"
     ]
    }
   ],
   "source": [
    "print(prices_per_category.values[0])"
   ]
  },
  {
   "cell_type": "code",
   "execution_count": 31,
   "id": "4b7bf9af-ceb0-4c5b-9799-bd8945ca357b",
   "metadata": {},
   "outputs": [
    {
     "name": "stdout",
     "output_type": "stream",
     "text": [
      "22500\n"
     ]
    }
   ],
   "source": [
    "print(prices_per_category.array[0])"
   ]
  },
  {
   "cell_type": "code",
   "execution_count": 32,
   "id": "e75eb421-5a21-41d9-87fb-a968df259fcd",
   "metadata": {},
   "outputs": [
    {
     "name": "stdout",
     "output_type": "stream",
     "text": [
      "[22500. 33500.  5500.]\n"
     ]
    }
   ],
   "source": [
    "print(prices_per_category.to_numpy(float))"
   ]
  },
  {
   "cell_type": "code",
   "execution_count": 34,
   "id": "e2c5bdb9-2dd4-4350-96ac-1213a1fd6a90",
   "metadata": {},
   "outputs": [
    {
     "name": "stdout",
     "output_type": "stream",
     "text": [
      "22500\n"
     ]
    }
   ],
   "source": [
    "print(prices_per_category.to_numpy()[0])"
   ]
  },
  {
   "cell_type": "markdown",
   "id": "6db318ee-6258-44eb-bc32-077d6cb08b2e",
   "metadata": {},
   "source": [
    "pandas series .sort_values()\n"
   ]
  },
  {
   "cell_type": "code",
   "execution_count": 35,
   "id": "8030e089-0172-42f0-b7b3-c9e344424b3d",
   "metadata": {},
   "outputs": [],
   "source": [
    "import pandas as pd\n"
   ]
  },
  {
   "cell_type": "code",
   "execution_count": 36,
   "id": "a4057479-987a-440c-b222-2aa9173c7f22",
   "metadata": {},
   "outputs": [
    {
     "name": "stdout",
     "output_type": "stream",
     "text": [
      "<bound method Series.sort_values of 0       10\n",
      "1       15\n",
      "2        1\n",
      "3    10000\n",
      "4        9\n",
      "5       50\n",
      "dtype: int64>\n"
     ]
    }
   ],
   "source": [
    "data_series=pd.Series([10,15,1,10000,9,50])\n",
    "print(data_series.sort_values)"
   ]
  },
  {
   "cell_type": "code",
   "execution_count": 37,
   "id": "67738f26-1df0-4244-bb13-27359acef06d",
   "metadata": {},
   "outputs": [
    {
     "data": {
      "text/plain": [
       "2        1\n",
       "4        9\n",
       "0       10\n",
       "1       15\n",
       "5       50\n",
       "3    10000\n",
       "dtype: int64"
      ]
     },
     "execution_count": 37,
     "metadata": {},
     "output_type": "execute_result"
    }
   ],
   "source": [
    "data_series.sort_values(ascending=True)"
   ]
  },
  {
   "cell_type": "code",
   "execution_count": 39,
   "id": "6f9e8d4e-8108-41d6-874c-3c6da2210b4d",
   "metadata": {},
   "outputs": [
    {
     "data": {
      "text/plain": [
       "3    10000\n",
       "5       50\n",
       "1       15\n",
       "0       10\n",
       "4        9\n",
       "2        1\n",
       "dtype: int64"
      ]
     },
     "execution_count": 39,
     "metadata": {},
     "output_type": "execute_result"
    }
   ],
   "source": [
    "data_series.sort_values(ascending=False)"
   ]
  },
  {
   "cell_type": "code",
   "execution_count": 47,
   "id": "d46092af-dec9-4459-80ff-129d8b48d11f",
   "metadata": {},
   "outputs": [
    {
     "name": "stdout",
     "output_type": "stream",
     "text": [
      "0        Location 3\n",
      "1        Location 6\n",
      "2        Location 8\n",
      "3       Location 26\n",
      "4       Location 34\n",
      "           ...     \n",
      "1038    Location 73\n",
      "1039    Location 82\n",
      "1040    Location 11\n",
      "1041    Location 26\n",
      "1042    Location 94\n",
      "Name: Location, Length: 1043, dtype: object\n"
     ]
    }
   ],
   "source": [
    "import pandas as pd\n",
    "filename=r\"D:\\dataanalyst\\Data Analyst Course\\S17 - pandas Series\\Location.csv\"\n",
    "data=pd.read_csv(filename)\n",
    "location_data=data.squeeze().copy()\n",
    "print(location_data)"
   ]
  },
  {
   "cell_type": "code",
   "execution_count": 48,
   "id": "3ccd7dee-492e-47c8-a07c-d594bd1adf73",
   "metadata": {},
   "outputs": [
    {
     "name": "stdout",
     "output_type": "stream",
     "text": [
      "637     Location 1\n",
      "884     Location 1\n",
      "465     Location 1\n",
      "716    Location 10\n",
      "623    Location 10\n",
      "          ...     \n",
      "482    Location 97\n",
      "128    Location 97\n",
      "669    Location 97\n",
      "757    Location 98\n",
      "372    Location 99\n",
      "Name: Location, Length: 1043, dtype: object\n"
     ]
    }
   ],
   "source": [
    "print(location_data.sort_values())"
   ]
  },
  {
   "cell_type": "code",
   "execution_count": 49,
   "id": "5719d626-8c4b-4424-b620-9e48cdc61d28",
   "metadata": {},
   "outputs": [
    {
     "name": "stdout",
     "output_type": "stream",
     "text": [
      "637     Location 1\n",
      "884     Location 1\n",
      "465     Location 1\n",
      "716    Location 10\n",
      "623    Location 10\n",
      "          ...     \n",
      "482    Location 97\n",
      "128    Location 97\n",
      "669    Location 97\n",
      "757    Location 98\n",
      "372    Location 99\n",
      "Name: Location, Length: 1043, dtype: object\n"
     ]
    }
   ],
   "source": [
    "print(location_data.sort_values(ascending=True))"
   ]
  },
  {
   "cell_type": "code",
   "execution_count": 50,
   "id": "9db77f34-677d-43d9-8c5b-ac3d552bd4e0",
   "metadata": {},
   "outputs": [
    {
     "name": "stdout",
     "output_type": "stream",
     "text": [
      "372    Location 99\n",
      "757    Location 98\n",
      "128    Location 97\n",
      "482    Location 97\n",
      "271    Location 97\n",
      "          ...     \n",
      "202    Location 10\n",
      "298    Location 10\n",
      "637     Location 1\n",
      "884     Location 1\n",
      "465     Location 1\n",
      "Name: Location, Length: 1043, dtype: object\n"
     ]
    }
   ],
   "source": [
    "print(location_data.sort_values(ascending=False))"
   ]
  },
  {
   "cell_type": "markdown",
   "id": "017de752-e94b-4f78-a930-1f26a5c717b7",
   "metadata": {},
   "source": [
    "Attribute and method chaining"
   ]
  },
  {
   "cell_type": "markdown",
   "id": "ea40002e-bb80-4ca9-92e0-9e681f1ae1f3",
   "metadata": {},
   "source": [
    "method chaining:\n",
    "-organises and applies several method calls on a certain object in a given order.\n",
    "-each call performs its action and returns an intermediate output.\n",
    "-every next method from the chain respects the value returned by the previous one.\n",
    "-we are not required to explicitly store intermediate output/result\n",
    "-thus method chaining saves you the time necessary for creating a variable and thinking of a relevant name."
   ]
  },
  {
   "cell_type": "code",
   "execution_count": 51,
   "id": "83eaba65-4493-459e-bf5c-58d1fcd96af0",
   "metadata": {},
   "outputs": [
    {
     "name": "stdout",
     "output_type": "stream",
     "text": [
      "0        Location 3\n",
      "1        Location 6\n",
      "2        Location 8\n",
      "3       Location 26\n",
      "4       Location 34\n",
      "           ...     \n",
      "1038    Location 73\n",
      "1039    Location 82\n",
      "1040    Location 11\n",
      "1041    Location 26\n",
      "1042    Location 94\n",
      "Name: Location, Length: 1043, dtype: object\n"
     ]
    }
   ],
   "source": [
    "import pandas as  pd\n",
    "filename=r\"D:\\dataanalyst\\Data Analyst Course\\S17 - pandas Series\\Location.csv\"\n",
    "data=pd.read_csv(filename)\n",
    "location_data=data.squeeze().copy()\n",
    "print(location_data)"
   ]
  },
  {
   "cell_type": "code",
   "execution_count": 52,
   "id": "f6c88a07-39af-4493-bacc-248415b5ce31",
   "metadata": {},
   "outputs": [
    {
     "data": {
      "text/plain": [
       "RangeIndex(start=0, stop=1043, step=1)"
      ]
     },
     "execution_count": 52,
     "metadata": {},
     "output_type": "execute_result"
    }
   ],
   "source": [
    "location_data.index"
   ]
  },
  {
   "cell_type": "code",
   "execution_count": 53,
   "id": "6fad031b-9451-43da-afb3-1a60cbc66b37",
   "metadata": {},
   "outputs": [
    {
     "data": {
      "text/plain": [
       "'Location'"
      ]
     },
     "execution_count": 53,
     "metadata": {},
     "output_type": "execute_result"
    }
   ],
   "source": [
    "location_data.name"
   ]
  },
  {
   "cell_type": "code",
   "execution_count": 55,
   "id": "e853f00a-789f-405a-a3ac-310ebee0ecdf",
   "metadata": {},
   "outputs": [],
   "source": [
    "location_data.index.name='Index'"
   ]
  },
  {
   "cell_type": "code",
   "execution_count": 56,
   "id": "f96e4eab-514c-428a-a597-de20f3569aee",
   "metadata": {},
   "outputs": [
    {
     "data": {
      "text/plain": [
       "'Index'"
      ]
     },
     "execution_count": 56,
     "metadata": {},
     "output_type": "execute_result"
    }
   ],
   "source": [
    "location_data.index.name"
   ]
  },
  {
   "cell_type": "code",
   "execution_count": 58,
   "id": "dd2548c1-ca27-47fa-b705-8778a832fe0d",
   "metadata": {},
   "outputs": [
    {
     "data": {
      "text/plain": [
       "Index\n",
       "637     Location 1\n",
       "884     Location 1\n",
       "465     Location 1\n",
       "716    Location 10\n",
       "623    Location 10\n",
       "          ...     \n",
       "482    Location 97\n",
       "128    Location 97\n",
       "669    Location 97\n",
       "757    Location 98\n",
       "372    Location 99\n",
       "Name: Location, Length: 1043, dtype: object"
      ]
     },
     "execution_count": 58,
     "metadata": {},
     "output_type": "execute_result"
    }
   ],
   "source": [
    "location_data.sort_values()"
   ]
  },
  {
   "cell_type": "code",
   "execution_count": 59,
   "id": "dfc997c2-f54c-47ec-b7fc-02d974e15d70",
   "metadata": {},
   "outputs": [
    {
     "data": {
      "text/plain": [
       "Index\n",
       "637     Location 1\n",
       "884     Location 1\n",
       "465     Location 1\n",
       "716    Location 10\n",
       "623    Location 10\n",
       "Name: Location, dtype: object"
      ]
     },
     "execution_count": 59,
     "metadata": {},
     "output_type": "execute_result"
    }
   ],
   "source": [
    "location_data.sort_values().head()"
   ]
  },
  {
   "cell_type": "code",
   "execution_count": 60,
   "id": "b94fccf2-26e0-48a8-b9e0-23a2f49bdc65",
   "metadata": {},
   "outputs": [
    {
     "data": {
      "text/plain": [
       "Index\n",
       "482    Location 97\n",
       "128    Location 97\n",
       "669    Location 97\n",
       "757    Location 98\n",
       "372    Location 99\n",
       "Name: Location, dtype: object"
      ]
     },
     "execution_count": 60,
     "metadata": {},
     "output_type": "execute_result"
    }
   ],
   "source": [
    "location_data.sort_values().tail()"
   ]
  },
  {
   "cell_type": "code",
   "execution_count": 61,
   "id": "b3290979-1b7f-4a33-88ef-2588495fcc6c",
   "metadata": {},
   "outputs": [
    {
     "data": {
      "text/plain": [
       "RangeIndex(start=0, stop=1043, step=1, name='Index')"
      ]
     },
     "execution_count": 61,
     "metadata": {},
     "output_type": "execute_result"
    }
   ],
   "source": [
    "location_data.index"
   ]
  },
  {
   "cell_type": "code",
   "execution_count": 62,
   "id": "913118e6-ed2b-4c42-802f-957da32e4c12",
   "metadata": {},
   "outputs": [
    {
     "data": {
      "text/plain": [
       "array([   0,    1,    2, ..., 1040, 1041, 1042], shape=(1043,))"
      ]
     },
     "execution_count": 62,
     "metadata": {},
     "output_type": "execute_result"
    }
   ],
   "source": [
    "location_data.index.to_numpy()"
   ]
  },
  {
   "cell_type": "markdown",
   "id": "9c944bcb-0bb4-4fb4-8760-8f016813c938",
   "metadata": {},
   "source": [
    "pandas series .sort_index"
   ]
  },
  {
   "cell_type": "code",
   "execution_count": 64,
   "id": "5f1bfcae-b2e9-4702-9a1b-40794ba1d26e",
   "metadata": {},
   "outputs": [
    {
     "name": "stdout",
     "output_type": "stream",
     "text": [
      "0        Location 3\n",
      "1        Location 6\n",
      "2        Location 8\n",
      "3       Location 26\n",
      "4       Location 34\n",
      "           ...     \n",
      "1038    Location 73\n",
      "1039    Location 82\n",
      "1040    Location 11\n",
      "1041    Location 26\n",
      "1042    Location 94\n",
      "Name: Location, Length: 1043, dtype: object\n"
     ]
    }
   ],
   "source": [
    "import pandas as  pd\n",
    "filename=r\"D:\\dataanalyst\\Data Analyst Course\\S17 - pandas Series\\Location.csv\"\n",
    "data=pd.read_csv(filename)\n",
    "location_data=data.squeeze().copy()\n",
    "print(location_data)"
   ]
  },
  {
   "cell_type": "code",
   "execution_count": 66,
   "id": "9bb8d626-64c6-4bf7-b236-ba61ced5b573",
   "metadata": {},
   "outputs": [
    {
     "name": "stdout",
     "output_type": "stream",
     "text": [
      "637     Location 1\n",
      "884     Location 1\n",
      "465     Location 1\n",
      "716    Location 10\n",
      "623    Location 10\n",
      "          ...     \n",
      "482    Location 97\n",
      "128    Location 97\n",
      "669    Location 97\n",
      "757    Location 98\n",
      "372    Location 99\n",
      "Name: Location, Length: 1043, dtype: object\n"
     ]
    }
   ],
   "source": [
    "print(location_data.sort_values())"
   ]
  },
  {
   "cell_type": "code",
   "execution_count": 67,
   "id": "5d12fd5f-acae-4a76-b77f-4934df0aab4f",
   "metadata": {},
   "outputs": [
    {
     "name": "stdout",
     "output_type": "stream",
     "text": [
      "0        Location 3\n",
      "1        Location 6\n",
      "2        Location 8\n",
      "3       Location 26\n",
      "4       Location 34\n",
      "           ...     \n",
      "1038    Location 73\n",
      "1039    Location 82\n",
      "1040    Location 11\n",
      "1041    Location 26\n",
      "1042    Location 94\n",
      "Name: Location, Length: 1043, dtype: object\n"
     ]
    }
   ],
   "source": [
    "print(location_data.sort_index())"
   ]
  },
  {
   "cell_type": "markdown",
   "id": "e350a29c-2419-41ee-afa5-2cf4cedad104",
   "metadata": {},
   "source": [
    "pandas DataFrame"
   ]
  },
  {
   "cell_type": "code",
   "execution_count": 82,
   "id": "0bd301d5-94e1-498f-9c3b-4a1ccbe81f2e",
   "metadata": {},
   "outputs": [
    {
     "name": "stdout",
     "output_type": "stream",
     "text": [
      "   column1  column2  column3\n",
      "0        6        2        1\n",
      "1        5        6        7\n",
      "<class 'pandas.core.frame.DataFrame'>\n"
     ]
    }
   ],
   "source": [
    "import numpy as np\n",
    "import pandas as pd\n",
    "array_a=np.array([[6,2,1],[5,6,7]])\n",
    "data=pd.DataFrame(array_a,columns=['column1','column2','column3'])\n",
    "print(data)\n",
    "print(type(data))"
   ]
  },
  {
   "cell_type": "code",
   "execution_count": 81,
   "id": "a788d8de-a03b-4600-83eb-901f39f36f1b",
   "metadata": {},
   "outputs": [
    {
     "name": "stdout",
     "output_type": "stream",
     "text": [
      "        StringID    Product CustomerGender     Location    Region  TotalPrice  \\\n",
      "LoanID                                                                          \n",
      "1       LoanID_1  Product B         Female   Location 3  Region 2     17600.0   \n",
      "2       LoanID_2  Product D         Female   Location 6  Region 6         NaN   \n",
      "3       LoanID_3  Product B           Male   Location 8  Region 3     16600.0   \n",
      "4       LoanID_4  Product A           Male  Location 26  Region 2     17600.0   \n",
      "5       LoanID_5  Product B         Female  Location 34  Region 3     21250.0   \n",
      "\n",
      "         StartDate  Deposit  DailyRate  TotalDaysYr  AmtPaid36  AmtPaid60  \\\n",
      "LoanID                                                                      \n",
      "1       04/07/2018     2200         45          365       3221       4166   \n",
      "2       02/01/2019     2200         45          365       3161       4096   \n",
      "3       08/12/2016     1000         45          365       2260       3205   \n",
      "4              NaN     2200         45          365       3141       4166   \n",
      "5       28/10/2017     2200         55          365       3570       4745   \n",
      "\n",
      "        AmtPaid360 LoanStatus  \n",
      "LoanID                         \n",
      "1            14621     Active  \n",
      "2            16041     Active  \n",
      "3            16340        NaN  \n",
      "4            16321     Active  \n",
      "5            14720     Active  \n"
     ]
    }
   ],
   "source": [
    "import pandas as pd\n",
    "filename=r\"D:\\dataanalyst\\Data Analyst Course\\S10 - Working with Text Files\\L11\\Lending-company.csv\"\n",
    "data=pd.read_csv(filename,index_col='LoanID')\n",
    "location_data=data.copy()\n",
    "\n",
    "print(location_data.head())"
   ]
  },
  {
   "cell_type": "code",
   "execution_count": 83,
   "id": "e9c09eb8-d924-4eeb-ab7b-dd6736169c58",
   "metadata": {},
   "outputs": [
    {
     "name": "stdout",
     "output_type": "stream",
     "text": [
      "<class 'pandas.core.frame.DataFrame'>\n"
     ]
    }
   ],
   "source": [
    "print(type(location_data))"
   ]
  },
  {
   "cell_type": "markdown",
   "id": "cd76e57b-c8e2-412d-8a2a-71d12ab3633c",
   "metadata": {},
   "source": [
    "pandas dataframe attributes\n",
    "1. .index\n",
    "2.  .columns\n",
    "3.  .axes   :it will give both index and column\n",
    "4.  .dtypes  :return the dtype of each column\n",
    "5.  .values\n",
    "6.  .to_numpy()\n",
    "7.  .shape\n",
    "   "
   ]
  },
  {
   "cell_type": "code",
   "execution_count": 87,
   "id": "4f326589-34a4-4bdf-b30d-980d7a45a025",
   "metadata": {},
   "outputs": [
    {
     "name": "stdout",
     "output_type": "stream",
     "text": [
      "        StringID    Product CustomerGender     Location    Region  TotalPrice  \\\n",
      "LoanID                                                                          \n",
      "1       LoanID_1  Product B         Female   Location 3  Region 2     17600.0   \n",
      "2       LoanID_2  Product D         Female   Location 6  Region 6         NaN   \n",
      "3       LoanID_3  Product B           Male   Location 8  Region 3     16600.0   \n",
      "4       LoanID_4  Product A           Male  Location 26  Region 2     17600.0   \n",
      "5       LoanID_5  Product B         Female  Location 34  Region 3     21250.0   \n",
      "\n",
      "         StartDate  Deposit  DailyRate  TotalDaysYr  AmtPaid36  AmtPaid60  \\\n",
      "LoanID                                                                      \n",
      "1       04/07/2018     2200         45          365       3221       4166   \n",
      "2       02/01/2019     2200         45          365       3161       4096   \n",
      "3       08/12/2016     1000         45          365       2260       3205   \n",
      "4              NaN     2200         45          365       3141       4166   \n",
      "5       28/10/2017     2200         55          365       3570       4745   \n",
      "\n",
      "        AmtPaid360 LoanStatus  \n",
      "LoanID                         \n",
      "1            14621     Active  \n",
      "2            16041     Active  \n",
      "3            16340        NaN  \n",
      "4            16321     Active  \n",
      "5            14720     Active  \n"
     ]
    }
   ],
   "source": [
    "import pandas as pd\n",
    "filename=r\"D:\\dataanalyst\\Data Analyst Course\\S10 - Working with Text Files\\L11\\Lending-company.csv\"\n",
    "data=pd.read_csv(filename,index_col='LoanID')\n",
    "lending_co_data=data.copy()\n",
    "print(lending_co_data.head())"
   ]
  },
  {
   "cell_type": "code",
   "execution_count": 88,
   "id": "cda3bc90-4616-4f40-a34d-8a94d2202593",
   "metadata": {},
   "outputs": [
    {
     "data": {
      "text/plain": [
       "Index([   1,    2,    3,    4,    5,    6,    7,    8,    9,   10,\n",
       "       ...\n",
       "       1034, 1035, 1036, 1037, 1038, 1039, 1040, 1041, 1042, 1043],\n",
       "      dtype='int64', name='LoanID', length=1043)"
      ]
     },
     "execution_count": 88,
     "metadata": {},
     "output_type": "execute_result"
    }
   ],
   "source": [
    "lending_co_data.index"
   ]
  },
  {
   "cell_type": "code",
   "execution_count": 89,
   "id": "bc9ce351-6aa0-4796-bb24-39ce1db416f3",
   "metadata": {},
   "outputs": [
    {
     "data": {
      "text/plain": [
       "Index(['StringID', 'Product', 'CustomerGender', 'Location', 'Region',\n",
       "       'TotalPrice', 'StartDate', 'Deposit', 'DailyRate', 'TotalDaysYr',\n",
       "       'AmtPaid36', 'AmtPaid60', 'AmtPaid360', 'LoanStatus'],\n",
       "      dtype='object')"
      ]
     },
     "execution_count": 89,
     "metadata": {},
     "output_type": "execute_result"
    }
   ],
   "source": [
    "lending_co_data.columns"
   ]
  },
  {
   "cell_type": "code",
   "execution_count": 90,
   "id": "5a88f415-e1f1-4a96-8db0-3763899c5a64",
   "metadata": {},
   "outputs": [
    {
     "data": {
      "text/plain": [
       "[Index([   1,    2,    3,    4,    5,    6,    7,    8,    9,   10,\n",
       "        ...\n",
       "        1034, 1035, 1036, 1037, 1038, 1039, 1040, 1041, 1042, 1043],\n",
       "       dtype='int64', name='LoanID', length=1043),\n",
       " Index(['StringID', 'Product', 'CustomerGender', 'Location', 'Region',\n",
       "        'TotalPrice', 'StartDate', 'Deposit', 'DailyRate', 'TotalDaysYr',\n",
       "        'AmtPaid36', 'AmtPaid60', 'AmtPaid360', 'LoanStatus'],\n",
       "       dtype='object')]"
      ]
     },
     "execution_count": 90,
     "metadata": {},
     "output_type": "execute_result"
    }
   ],
   "source": [
    "lending_co_data.axes"
   ]
  },
  {
   "cell_type": "code",
   "execution_count": 91,
   "id": "807eb9d0-2042-43fd-8219-a9417019e1e0",
   "metadata": {},
   "outputs": [
    {
     "data": {
      "text/plain": [
       "array([['LoanID_1', 'Product B', 'Female', ..., 4166, 14621, 'Active'],\n",
       "       ['LoanID_2', 'Product D', 'Female', ..., 4096, 16041, 'Active'],\n",
       "       ['LoanID_3', 'Product B', 'Male', ..., 3205, 16340, nan],\n",
       "       ...,\n",
       "       ['LoanID_1041', 'Product A', 'NotSpecified', ..., 5143, 16617,\n",
       "        'Finished Payment'],\n",
       "       ['LoanID_1042', 'Product B', 'Female', ..., 3462, 15617,\n",
       "        'Finished Payment'],\n",
       "       ['LoanID_1043', 'Product A', 'NotSpecified', ..., 4743, 16617,\n",
       "        'Finished Payment']], shape=(1043, 14), dtype=object)"
      ]
     },
     "execution_count": 91,
     "metadata": {},
     "output_type": "execute_result"
    }
   ],
   "source": [
    "lending_co_data.values"
   ]
  },
  {
   "cell_type": "code",
   "execution_count": 92,
   "id": "0fcffe33-4881-46b2-972e-5989a4f78a90",
   "metadata": {},
   "outputs": [
    {
     "data": {
      "text/plain": [
       "array([['LoanID_1', 'Product B', 'Female', ..., 4166, 14621, 'Active'],\n",
       "       ['LoanID_2', 'Product D', 'Female', ..., 4096, 16041, 'Active'],\n",
       "       ['LoanID_3', 'Product B', 'Male', ..., 3205, 16340, nan],\n",
       "       ...,\n",
       "       ['LoanID_1041', 'Product A', 'NotSpecified', ..., 5143, 16617,\n",
       "        'Finished Payment'],\n",
       "       ['LoanID_1042', 'Product B', 'Female', ..., 3462, 15617,\n",
       "        'Finished Payment'],\n",
       "       ['LoanID_1043', 'Product A', 'NotSpecified', ..., 4743, 16617,\n",
       "        'Finished Payment']], shape=(1043, 14), dtype=object)"
      ]
     },
     "execution_count": 92,
     "metadata": {},
     "output_type": "execute_result"
    }
   ],
   "source": [
    "lending_co_data.to_numpy()"
   ]
  },
  {
   "cell_type": "code",
   "execution_count": 93,
   "id": "83bd05cf-1d1e-4012-83cb-ec9c05aeb9bf",
   "metadata": {},
   "outputs": [
    {
     "data": {
      "text/plain": [
       "(1043, 14)"
      ]
     },
     "execution_count": 93,
     "metadata": {},
     "output_type": "execute_result"
    }
   ],
   "source": [
    "lending_co_data.shape"
   ]
  },
  {
   "cell_type": "code",
   "execution_count": 95,
   "id": "dec75f25-eca9-46c1-bfd3-ceed59528cdb",
   "metadata": {},
   "outputs": [
    {
     "data": {
      "text/plain": [
       "StringID           object\n",
       "Product            object\n",
       "CustomerGender     object\n",
       "Location           object\n",
       "Region             object\n",
       "TotalPrice        float64\n",
       "StartDate          object\n",
       "Deposit             int64\n",
       "DailyRate           int64\n",
       "TotalDaysYr         int64\n",
       "AmtPaid36           int64\n",
       "AmtPaid60           int64\n",
       "AmtPaid360          int64\n",
       "LoanStatus         object\n",
       "dtype: object"
      ]
     },
     "execution_count": 95,
     "metadata": {},
     "output_type": "execute_result"
    }
   ],
   "source": [
    "lending_co_data.dtypes"
   ]
  },
  {
   "cell_type": "markdown",
   "id": "63c38f0f-c256-4cf6-8eb0-db34f200f8b8",
   "metadata": {},
   "source": [
    "Dataselection in pandas dataframe"
   ]
  },
  {
   "cell_type": "markdown",
   "id": "22ce23cd-a459-49bf-ae67-d1c6b9ae39e9",
   "metadata": {},
   "source": [
    "Dataselection means to extract information from a sepcific row,column or from a portion of dataset."
   ]
  },
  {
   "cell_type": "code",
   "execution_count": 96,
   "id": "b11a2a59-5644-47cc-98ea-6bf43d2c4156",
   "metadata": {},
   "outputs": [
    {
     "name": "stdout",
     "output_type": "stream",
     "text": [
      "        StringID    Product CustomerGender     Location    Region  TotalPrice  \\\n",
      "LoanID                                                                          \n",
      "1       LoanID_1  Product B         Female   Location 3  Region 2     17600.0   \n",
      "2       LoanID_2  Product D         Female   Location 6  Region 6         NaN   \n",
      "3       LoanID_3  Product B           Male   Location 8  Region 3     16600.0   \n",
      "4       LoanID_4  Product A           Male  Location 26  Region 2     17600.0   \n",
      "5       LoanID_5  Product B         Female  Location 34  Region 3     21250.0   \n",
      "\n",
      "         StartDate  Deposit  DailyRate  TotalDaysYr  AmtPaid36  AmtPaid60  \\\n",
      "LoanID                                                                      \n",
      "1       04/07/2018     2200         45          365       3221       4166   \n",
      "2       02/01/2019     2200         45          365       3161       4096   \n",
      "3       08/12/2016     1000         45          365       2260       3205   \n",
      "4              NaN     2200         45          365       3141       4166   \n",
      "5       28/10/2017     2200         55          365       3570       4745   \n",
      "\n",
      "        AmtPaid360 LoanStatus  \n",
      "LoanID                         \n",
      "1            14621     Active  \n",
      "2            16041     Active  \n",
      "3            16340        NaN  \n",
      "4            16321     Active  \n",
      "5            14720     Active  \n"
     ]
    }
   ],
   "source": [
    "import pandas as pd\n",
    "filename=r\"D:\\dataanalyst\\Data Analyst Course\\S10 - Working with Text Files\\L11\\Lending-company.csv\"\n",
    "data=pd.read_csv(filename,index_col='LoanID')\n",
    "lending_co_data=data.copy()\n",
    "print(lending_co_data.head())"
   ]
  },
  {
   "cell_type": "code",
   "execution_count": 98,
   "id": "738ba266-05c8-4056-adfd-68db7d534bd4",
   "metadata": {},
   "outputs": [
    {
     "name": "stdout",
     "output_type": "stream",
     "text": [
      "LoanID\n",
      "1        Location 3\n",
      "2        Location 6\n",
      "3        Location 8\n",
      "4       Location 26\n",
      "5       Location 34\n",
      "           ...     \n",
      "1039    Location 73\n",
      "1040    Location 82\n",
      "1041    Location 11\n",
      "1042    Location 26\n",
      "1043    Location 94\n",
      "Name: Location, Length: 1043, dtype: object\n"
     ]
    }
   ],
   "source": [
    "print(lending_co_data.Location)"
   ]
  },
  {
   "cell_type": "code",
   "execution_count": 99,
   "id": "072cf06b-51eb-43f2-b557-025ca8fae291",
   "metadata": {},
   "outputs": [
    {
     "name": "stdout",
     "output_type": "stream",
     "text": [
      "LoanID\n",
      "1       Product B\n",
      "2       Product D\n",
      "3       Product B\n",
      "4       Product A\n",
      "5       Product B\n",
      "          ...    \n",
      "1039    Product B\n",
      "1040    Product A\n",
      "1041    Product A\n",
      "1042    Product B\n",
      "1043    Product A\n",
      "Name: Product, Length: 1043, dtype: object\n"
     ]
    }
   ],
   "source": [
    "print(lending_co_data.Product)"
   ]
  },
  {
   "cell_type": "code",
   "execution_count": 100,
   "id": "ceeecf48-8e3c-47c2-bef4-4ffdc11442de",
   "metadata": {},
   "outputs": [
    {
     "name": "stdout",
     "output_type": "stream",
     "text": [
      "LoanID\n",
      "1       Region 2\n",
      "2       Region 6\n",
      "3       Region 3\n",
      "4       Region 2\n",
      "5       Region 3\n",
      "          ...   \n",
      "1039    Region 6\n",
      "1040    Region 1\n",
      "1041    Region 4\n",
      "1042    Region 6\n",
      "1043    Region 6\n",
      "Name: Region, Length: 1043, dtype: object\n"
     ]
    }
   ],
   "source": [
    "print(lending_co_data.Region)"
   ]
  },
  {
   "cell_type": "code",
   "execution_count": 101,
   "id": "55dad720-11f3-4f66-afbe-e31651849035",
   "metadata": {},
   "outputs": [
    {
     "name": "stdout",
     "output_type": "stream",
     "text": [
      "LoanID\n",
      "1        Location 3\n",
      "2        Location 6\n",
      "3        Location 8\n",
      "4       Location 26\n",
      "5       Location 34\n",
      "           ...     \n",
      "1039    Location 73\n",
      "1040    Location 82\n",
      "1041    Location 11\n",
      "1042    Location 26\n",
      "1043    Location 94\n",
      "Name: Location, Length: 1043, dtype: object\n"
     ]
    }
   ],
   "source": [
    "print(lending_co_data['Location'])"
   ]
  },
  {
   "cell_type": "code",
   "execution_count": 102,
   "id": "a2864fff-325d-4fb3-a9fb-758e40b745a0",
   "metadata": {},
   "outputs": [
    {
     "name": "stdout",
     "output_type": "stream",
     "text": [
      "LoanID\n",
      "1       Region 2\n",
      "2       Region 6\n",
      "3       Region 3\n",
      "4       Region 2\n",
      "5       Region 3\n",
      "          ...   \n",
      "1039    Region 6\n",
      "1040    Region 1\n",
      "1041    Region 4\n",
      "1042    Region 6\n",
      "1043    Region 6\n",
      "Name: Region, Length: 1043, dtype: object\n"
     ]
    }
   ],
   "source": [
    "print(lending_co_data['Region'])"
   ]
  },
  {
   "cell_type": "code",
   "execution_count": 103,
   "id": "55ab7d99-49ff-431a-a5ff-4f77215654ba",
   "metadata": {},
   "outputs": [
    {
     "name": "stdout",
     "output_type": "stream",
     "text": [
      "<class 'pandas.core.series.Series'>\n"
     ]
    }
   ],
   "source": [
    "print(type(lending_co_data['Region']))"
   ]
  },
  {
   "cell_type": "code",
   "execution_count": 104,
   "id": "46ff8c02-d38f-4e7c-9da2-e2078eddcfd7",
   "metadata": {},
   "outputs": [
    {
     "data": {
      "text/html": [
       "<div>\n",
       "<style scoped>\n",
       "    .dataframe tbody tr th:only-of-type {\n",
       "        vertical-align: middle;\n",
       "    }\n",
       "\n",
       "    .dataframe tbody tr th {\n",
       "        vertical-align: top;\n",
       "    }\n",
       "\n",
       "    .dataframe thead th {\n",
       "        text-align: right;\n",
       "    }\n",
       "</style>\n",
       "<table border=\"1\" class=\"dataframe\">\n",
       "  <thead>\n",
       "    <tr style=\"text-align: right;\">\n",
       "      <th></th>\n",
       "      <th>Region</th>\n",
       "    </tr>\n",
       "    <tr>\n",
       "      <th>LoanID</th>\n",
       "      <th></th>\n",
       "    </tr>\n",
       "  </thead>\n",
       "  <tbody>\n",
       "    <tr>\n",
       "      <th>1</th>\n",
       "      <td>Region 2</td>\n",
       "    </tr>\n",
       "    <tr>\n",
       "      <th>2</th>\n",
       "      <td>Region 6</td>\n",
       "    </tr>\n",
       "    <tr>\n",
       "      <th>3</th>\n",
       "      <td>Region 3</td>\n",
       "    </tr>\n",
       "    <tr>\n",
       "      <th>4</th>\n",
       "      <td>Region 2</td>\n",
       "    </tr>\n",
       "    <tr>\n",
       "      <th>5</th>\n",
       "      <td>Region 3</td>\n",
       "    </tr>\n",
       "    <tr>\n",
       "      <th>...</th>\n",
       "      <td>...</td>\n",
       "    </tr>\n",
       "    <tr>\n",
       "      <th>1039</th>\n",
       "      <td>Region 6</td>\n",
       "    </tr>\n",
       "    <tr>\n",
       "      <th>1040</th>\n",
       "      <td>Region 1</td>\n",
       "    </tr>\n",
       "    <tr>\n",
       "      <th>1041</th>\n",
       "      <td>Region 4</td>\n",
       "    </tr>\n",
       "    <tr>\n",
       "      <th>1042</th>\n",
       "      <td>Region 6</td>\n",
       "    </tr>\n",
       "    <tr>\n",
       "      <th>1043</th>\n",
       "      <td>Region 6</td>\n",
       "    </tr>\n",
       "  </tbody>\n",
       "</table>\n",
       "<p>1043 rows × 1 columns</p>\n",
       "</div>"
      ],
      "text/plain": [
       "          Region\n",
       "LoanID          \n",
       "1       Region 2\n",
       "2       Region 6\n",
       "3       Region 3\n",
       "4       Region 2\n",
       "5       Region 3\n",
       "...          ...\n",
       "1039    Region 6\n",
       "1040    Region 1\n",
       "1041    Region 4\n",
       "1042    Region 6\n",
       "1043    Region 6\n",
       "\n",
       "[1043 rows x 1 columns]"
      ]
     },
     "execution_count": 104,
     "metadata": {},
     "output_type": "execute_result"
    }
   ],
   "source": [
    "lending_co_data[['Region']]"
   ]
  },
  {
   "cell_type": "code",
   "execution_count": 105,
   "id": "b930f076-ace2-4600-8e92-465984518e09",
   "metadata": {},
   "outputs": [
    {
     "data": {
      "text/plain": [
       "pandas.core.frame.DataFrame"
      ]
     },
     "execution_count": 105,
     "metadata": {},
     "output_type": "execute_result"
    }
   ],
   "source": [
    "type(lending_co_data[['Region']])"
   ]
  },
  {
   "cell_type": "code",
   "execution_count": 109,
   "id": "346ac989-dc73-40c9-9da7-b32d7afe494c",
   "metadata": {},
   "outputs": [
    {
     "data": {
      "text/html": [
       "<div>\n",
       "<style scoped>\n",
       "    .dataframe tbody tr th:only-of-type {\n",
       "        vertical-align: middle;\n",
       "    }\n",
       "\n",
       "    .dataframe tbody tr th {\n",
       "        vertical-align: top;\n",
       "    }\n",
       "\n",
       "    .dataframe thead th {\n",
       "        text-align: right;\n",
       "    }\n",
       "</style>\n",
       "<table border=\"1\" class=\"dataframe\">\n",
       "  <thead>\n",
       "    <tr style=\"text-align: right;\">\n",
       "      <th></th>\n",
       "      <th>Location</th>\n",
       "      <th>Product</th>\n",
       "    </tr>\n",
       "    <tr>\n",
       "      <th>LoanID</th>\n",
       "      <th></th>\n",
       "      <th></th>\n",
       "    </tr>\n",
       "  </thead>\n",
       "  <tbody>\n",
       "    <tr>\n",
       "      <th>1</th>\n",
       "      <td>Location 3</td>\n",
       "      <td>Product B</td>\n",
       "    </tr>\n",
       "    <tr>\n",
       "      <th>2</th>\n",
       "      <td>Location 6</td>\n",
       "      <td>Product D</td>\n",
       "    </tr>\n",
       "    <tr>\n",
       "      <th>3</th>\n",
       "      <td>Location 8</td>\n",
       "      <td>Product B</td>\n",
       "    </tr>\n",
       "    <tr>\n",
       "      <th>4</th>\n",
       "      <td>Location 26</td>\n",
       "      <td>Product A</td>\n",
       "    </tr>\n",
       "    <tr>\n",
       "      <th>5</th>\n",
       "      <td>Location 34</td>\n",
       "      <td>Product B</td>\n",
       "    </tr>\n",
       "  </tbody>\n",
       "</table>\n",
       "</div>"
      ],
      "text/plain": [
       "           Location    Product\n",
       "LoanID                        \n",
       "1        Location 3  Product B\n",
       "2        Location 6  Product D\n",
       "3        Location 8  Product B\n",
       "4       Location 26  Product A\n",
       "5       Location 34  Product B"
      ]
     },
     "execution_count": 109,
     "metadata": {},
     "output_type": "execute_result"
    }
   ],
   "source": [
    "lending_co_data[['Location','Product']].head()"
   ]
  },
  {
   "cell_type": "code",
   "execution_count": 108,
   "id": "e4afef46-8988-4900-b655-d3e70526d21c",
   "metadata": {},
   "outputs": [
    {
     "data": {
      "text/html": [
       "<div>\n",
       "<style scoped>\n",
       "    .dataframe tbody tr th:only-of-type {\n",
       "        vertical-align: middle;\n",
       "    }\n",
       "\n",
       "    .dataframe tbody tr th {\n",
       "        vertical-align: top;\n",
       "    }\n",
       "\n",
       "    .dataframe thead th {\n",
       "        text-align: right;\n",
       "    }\n",
       "</style>\n",
       "<table border=\"1\" class=\"dataframe\">\n",
       "  <thead>\n",
       "    <tr style=\"text-align: right;\">\n",
       "      <th></th>\n",
       "      <th>Location</th>\n",
       "      <th>Product</th>\n",
       "    </tr>\n",
       "    <tr>\n",
       "      <th>LoanID</th>\n",
       "      <th></th>\n",
       "      <th></th>\n",
       "    </tr>\n",
       "  </thead>\n",
       "  <tbody>\n",
       "    <tr>\n",
       "      <th>1</th>\n",
       "      <td>Location 3</td>\n",
       "      <td>Product B</td>\n",
       "    </tr>\n",
       "    <tr>\n",
       "      <th>2</th>\n",
       "      <td>Location 6</td>\n",
       "      <td>Product D</td>\n",
       "    </tr>\n",
       "    <tr>\n",
       "      <th>3</th>\n",
       "      <td>Location 8</td>\n",
       "      <td>Product B</td>\n",
       "    </tr>\n",
       "    <tr>\n",
       "      <th>4</th>\n",
       "      <td>Location 26</td>\n",
       "      <td>Product A</td>\n",
       "    </tr>\n",
       "    <tr>\n",
       "      <th>5</th>\n",
       "      <td>Location 34</td>\n",
       "      <td>Product B</td>\n",
       "    </tr>\n",
       "  </tbody>\n",
       "</table>\n",
       "</div>"
      ],
      "text/plain": [
       "           Location    Product\n",
       "LoanID                        \n",
       "1        Location 3  Product B\n",
       "2        Location 6  Product D\n",
       "3        Location 8  Product B\n",
       "4       Location 26  Product A\n",
       "5       Location 34  Product B"
      ]
     },
     "execution_count": 108,
     "metadata": {},
     "output_type": "execute_result"
    }
   ],
   "source": [
    "prod_loc=['Location','Product']\n",
    "lending_co_data[prod_loc].head()"
   ]
  },
  {
   "cell_type": "markdown",
   "id": "9e25fa98-68e8-4df9-8eaf-a46c9df425e8",
   "metadata": {},
   "source": [
    "Pandas Dataframe .iloc\n"
   ]
  },
  {
   "cell_type": "code",
   "execution_count": 110,
   "id": "5da8b5fd-7d96-4507-82fb-3cdf4d2e6e9f",
   "metadata": {},
   "outputs": [
    {
     "name": "stdout",
     "output_type": "stream",
     "text": [
      "        StringID    Product CustomerGender     Location    Region  TotalPrice  \\\n",
      "LoanID                                                                          \n",
      "1       LoanID_1  Product B         Female   Location 3  Region 2     17600.0   \n",
      "2       LoanID_2  Product D         Female   Location 6  Region 6         NaN   \n",
      "3       LoanID_3  Product B           Male   Location 8  Region 3     16600.0   \n",
      "4       LoanID_4  Product A           Male  Location 26  Region 2     17600.0   \n",
      "5       LoanID_5  Product B         Female  Location 34  Region 3     21250.0   \n",
      "\n",
      "         StartDate  Deposit  DailyRate  TotalDaysYr  AmtPaid36  AmtPaid60  \\\n",
      "LoanID                                                                      \n",
      "1       04/07/2018     2200         45          365       3221       4166   \n",
      "2       02/01/2019     2200         45          365       3161       4096   \n",
      "3       08/12/2016     1000         45          365       2260       3205   \n",
      "4              NaN     2200         45          365       3141       4166   \n",
      "5       28/10/2017     2200         55          365       3570       4745   \n",
      "\n",
      "        AmtPaid360 LoanStatus  \n",
      "LoanID                         \n",
      "1            14621     Active  \n",
      "2            16041     Active  \n",
      "3            16340        NaN  \n",
      "4            16321     Active  \n",
      "5            14720     Active  \n"
     ]
    }
   ],
   "source": [
    "import pandas as pd\n",
    "filename=r\"D:\\dataanalyst\\Data Analyst Course\\S10 - Working with Text Files\\L11\\Lending-company.csv\"\n",
    "data=pd.read_csv(filename,index_col='LoanID')\n",
    "lending_co_data=data.copy()\n",
    "print(lending_co_data.head())"
   ]
  },
  {
   "cell_type": "code",
   "execution_count": 112,
   "id": "adb87124-1517-46c7-b492-584c45553596",
   "metadata": {},
   "outputs": [
    {
     "data": {
      "text/plain": [
       "StringID            LoanID_1\n",
       "Product            Product B\n",
       "CustomerGender        Female\n",
       "Location          Location 3\n",
       "Region              Region 2\n",
       "TotalPrice           17600.0\n",
       "StartDate         04/07/2018\n",
       "Deposit                 2200\n",
       "DailyRate                 45\n",
       "TotalDaysYr              365\n",
       "AmtPaid36               3221\n",
       "AmtPaid60               4166\n",
       "AmtPaid360             14621\n",
       "LoanStatus            Active\n",
       "Name: 1, dtype: object"
      ]
     },
     "execution_count": 112,
     "metadata": {},
     "output_type": "execute_result"
    }
   ],
   "source": [
    "lending_co_data.iloc[0]   #iloc[row,column]"
   ]
  },
  {
   "cell_type": "code",
   "execution_count": 113,
   "id": "0b0a5ec5-71a0-4ebd-9817-54d0c81e2256",
   "metadata": {},
   "outputs": [
    {
     "data": {
      "text/plain": [
       "'Location 3'"
      ]
     },
     "execution_count": 113,
     "metadata": {},
     "output_type": "execute_result"
    }
   ],
   "source": [
    "lending_co_data.iloc[0,3]"
   ]
  },
  {
   "cell_type": "code",
   "execution_count": 117,
   "id": "2c1b2d1c-6a1d-47af-8df8-a402259d3a3d",
   "metadata": {},
   "outputs": [
    {
     "data": {
      "text/plain": [
       "StringID            LoanID_2\n",
       "Product            Product D\n",
       "CustomerGender        Female\n",
       "Location          Location 6\n",
       "Region              Region 6\n",
       "TotalPrice               NaN\n",
       "StartDate         02/01/2019\n",
       "Deposit                 2200\n",
       "DailyRate                 45\n",
       "TotalDaysYr              365\n",
       "AmtPaid36               3161\n",
       "AmtPaid60               4096\n",
       "AmtPaid360             16041\n",
       "LoanStatus            Active\n",
       "Name: 2, dtype: object"
      ]
     },
     "execution_count": 117,
     "metadata": {},
     "output_type": "execute_result"
    }
   ],
   "source": [
    "lending_co_data.iloc[1,:]"
   ]
  },
  {
   "cell_type": "code",
   "execution_count": 118,
   "id": "e926e7e0-dc78-4989-a924-2cc776a1c81e",
   "metadata": {},
   "outputs": [
    {
     "data": {
      "text/plain": [
       "LoanID\n",
       "1        Location 3\n",
       "2        Location 6\n",
       "3        Location 8\n",
       "4       Location 26\n",
       "5       Location 34\n",
       "           ...     \n",
       "1039    Location 73\n",
       "1040    Location 82\n",
       "1041    Location 11\n",
       "1042    Location 26\n",
       "1043    Location 94\n",
       "Name: Location, Length: 1043, dtype: object"
      ]
     },
     "execution_count": 118,
     "metadata": {},
     "output_type": "execute_result"
    }
   ],
   "source": [
    "lending_co_data.iloc[:,3]"
   ]
  },
  {
   "cell_type": "code",
   "execution_count": 119,
   "id": "74a65058-8b18-4e0a-8cae-f950b16e0ecb",
   "metadata": {},
   "outputs": [
    {
     "data": {
      "text/plain": [
       "pandas.core.series.Series"
      ]
     },
     "execution_count": 119,
     "metadata": {},
     "output_type": "execute_result"
    }
   ],
   "source": [
    "type(lending_co_data.iloc[1,:])"
   ]
  },
  {
   "cell_type": "code",
   "execution_count": 120,
   "id": "cb889a01-9115-4a30-b032-8e767d15554d",
   "metadata": {},
   "outputs": [
    {
     "data": {
      "text/plain": [
       "str"
      ]
     },
     "execution_count": 120,
     "metadata": {},
     "output_type": "execute_result"
    }
   ],
   "source": [
    "type(lending_co_data.iloc[0,3])"
   ]
  },
  {
   "cell_type": "code",
   "execution_count": 121,
   "id": "ba981c07-2e8f-4caa-845d-bab53f5362ff",
   "metadata": {},
   "outputs": [
    {
     "data": {
      "text/plain": [
       "pandas.core.series.Series"
      ]
     },
     "execution_count": 121,
     "metadata": {},
     "output_type": "execute_result"
    }
   ],
   "source": [
    "type(lending_co_data.iloc[:,3])"
   ]
  },
  {
   "cell_type": "code",
   "execution_count": 122,
   "id": "0583d808-a8a3-4ca2-ae52-e9702cb799a8",
   "metadata": {},
   "outputs": [
    {
     "data": {
      "text/html": [
       "<div>\n",
       "<style scoped>\n",
       "    .dataframe tbody tr th:only-of-type {\n",
       "        vertical-align: middle;\n",
       "    }\n",
       "\n",
       "    .dataframe tbody tr th {\n",
       "        vertical-align: top;\n",
       "    }\n",
       "\n",
       "    .dataframe thead th {\n",
       "        text-align: right;\n",
       "    }\n",
       "</style>\n",
       "<table border=\"1\" class=\"dataframe\">\n",
       "  <thead>\n",
       "    <tr style=\"text-align: right;\">\n",
       "      <th></th>\n",
       "      <th>StringID</th>\n",
       "      <th>Product</th>\n",
       "      <th>CustomerGender</th>\n",
       "      <th>Location</th>\n",
       "      <th>Region</th>\n",
       "      <th>TotalPrice</th>\n",
       "      <th>StartDate</th>\n",
       "      <th>Deposit</th>\n",
       "      <th>DailyRate</th>\n",
       "      <th>TotalDaysYr</th>\n",
       "      <th>AmtPaid36</th>\n",
       "      <th>AmtPaid60</th>\n",
       "      <th>AmtPaid360</th>\n",
       "      <th>LoanStatus</th>\n",
       "    </tr>\n",
       "    <tr>\n",
       "      <th>LoanID</th>\n",
       "      <th></th>\n",
       "      <th></th>\n",
       "      <th></th>\n",
       "      <th></th>\n",
       "      <th></th>\n",
       "      <th></th>\n",
       "      <th></th>\n",
       "      <th></th>\n",
       "      <th></th>\n",
       "      <th></th>\n",
       "      <th></th>\n",
       "      <th></th>\n",
       "      <th></th>\n",
       "      <th></th>\n",
       "    </tr>\n",
       "  </thead>\n",
       "  <tbody>\n",
       "    <tr>\n",
       "      <th>2</th>\n",
       "      <td>LoanID_2</td>\n",
       "      <td>Product D</td>\n",
       "      <td>Female</td>\n",
       "      <td>Location 6</td>\n",
       "      <td>Region 6</td>\n",
       "      <td>NaN</td>\n",
       "      <td>02/01/2019</td>\n",
       "      <td>2200</td>\n",
       "      <td>45</td>\n",
       "      <td>365</td>\n",
       "      <td>3161</td>\n",
       "      <td>4096</td>\n",
       "      <td>16041</td>\n",
       "      <td>Active</td>\n",
       "    </tr>\n",
       "    <tr>\n",
       "      <th>4</th>\n",
       "      <td>LoanID_4</td>\n",
       "      <td>Product A</td>\n",
       "      <td>Male</td>\n",
       "      <td>Location 26</td>\n",
       "      <td>Region 2</td>\n",
       "      <td>17600.0</td>\n",
       "      <td>NaN</td>\n",
       "      <td>2200</td>\n",
       "      <td>45</td>\n",
       "      <td>365</td>\n",
       "      <td>3141</td>\n",
       "      <td>4166</td>\n",
       "      <td>16321</td>\n",
       "      <td>Active</td>\n",
       "    </tr>\n",
       "  </tbody>\n",
       "</table>\n",
       "</div>"
      ],
      "text/plain": [
       "        StringID    Product CustomerGender     Location    Region  TotalPrice  \\\n",
       "LoanID                                                                          \n",
       "2       LoanID_2  Product D         Female   Location 6  Region 6         NaN   \n",
       "4       LoanID_4  Product A           Male  Location 26  Region 2     17600.0   \n",
       "\n",
       "         StartDate  Deposit  DailyRate  TotalDaysYr  AmtPaid36  AmtPaid60  \\\n",
       "LoanID                                                                      \n",
       "2       02/01/2019     2200         45          365       3161       4096   \n",
       "4              NaN     2200         45          365       3141       4166   \n",
       "\n",
       "        AmtPaid360 LoanStatus  \n",
       "LoanID                         \n",
       "2            16041     Active  \n",
       "4            16321     Active  "
      ]
     },
     "execution_count": 122,
     "metadata": {},
     "output_type": "execute_result"
    }
   ],
   "source": [
    "lending_co_data.iloc[[1,3],:]"
   ]
  },
  {
   "cell_type": "code",
   "execution_count": 124,
   "id": "e789fbb3-9b0d-4fea-a38b-babff5bda4d9",
   "metadata": {},
   "outputs": [
    {
     "data": {
      "text/html": [
       "<div>\n",
       "<style scoped>\n",
       "    .dataframe tbody tr th:only-of-type {\n",
       "        vertical-align: middle;\n",
       "    }\n",
       "\n",
       "    .dataframe tbody tr th {\n",
       "        vertical-align: top;\n",
       "    }\n",
       "\n",
       "    .dataframe thead th {\n",
       "        text-align: right;\n",
       "    }\n",
       "</style>\n",
       "<table border=\"1\" class=\"dataframe\">\n",
       "  <thead>\n",
       "    <tr style=\"text-align: right;\">\n",
       "      <th></th>\n",
       "      <th>Product</th>\n",
       "      <th>CustomerGender</th>\n",
       "      <th>Location</th>\n",
       "    </tr>\n",
       "    <tr>\n",
       "      <th>LoanID</th>\n",
       "      <th></th>\n",
       "      <th></th>\n",
       "      <th></th>\n",
       "    </tr>\n",
       "  </thead>\n",
       "  <tbody>\n",
       "    <tr>\n",
       "      <th>1</th>\n",
       "      <td>Product B</td>\n",
       "      <td>Female</td>\n",
       "      <td>Location 3</td>\n",
       "    </tr>\n",
       "    <tr>\n",
       "      <th>2</th>\n",
       "      <td>Product D</td>\n",
       "      <td>Female</td>\n",
       "      <td>Location 6</td>\n",
       "    </tr>\n",
       "    <tr>\n",
       "      <th>3</th>\n",
       "      <td>Product B</td>\n",
       "      <td>Male</td>\n",
       "      <td>Location 8</td>\n",
       "    </tr>\n",
       "    <tr>\n",
       "      <th>4</th>\n",
       "      <td>Product A</td>\n",
       "      <td>Male</td>\n",
       "      <td>Location 26</td>\n",
       "    </tr>\n",
       "    <tr>\n",
       "      <th>5</th>\n",
       "      <td>Product B</td>\n",
       "      <td>Female</td>\n",
       "      <td>Location 34</td>\n",
       "    </tr>\n",
       "    <tr>\n",
       "      <th>...</th>\n",
       "      <td>...</td>\n",
       "      <td>...</td>\n",
       "      <td>...</td>\n",
       "    </tr>\n",
       "    <tr>\n",
       "      <th>1039</th>\n",
       "      <td>Product B</td>\n",
       "      <td>Male</td>\n",
       "      <td>Location 73</td>\n",
       "    </tr>\n",
       "    <tr>\n",
       "      <th>1040</th>\n",
       "      <td>Product A</td>\n",
       "      <td>Male</td>\n",
       "      <td>Location 82</td>\n",
       "    </tr>\n",
       "    <tr>\n",
       "      <th>1041</th>\n",
       "      <td>Product A</td>\n",
       "      <td>NotSpecified</td>\n",
       "      <td>Location 11</td>\n",
       "    </tr>\n",
       "    <tr>\n",
       "      <th>1042</th>\n",
       "      <td>Product B</td>\n",
       "      <td>Female</td>\n",
       "      <td>Location 26</td>\n",
       "    </tr>\n",
       "    <tr>\n",
       "      <th>1043</th>\n",
       "      <td>Product A</td>\n",
       "      <td>NotSpecified</td>\n",
       "      <td>Location 94</td>\n",
       "    </tr>\n",
       "  </tbody>\n",
       "</table>\n",
       "<p>1043 rows × 3 columns</p>\n",
       "</div>"
      ],
      "text/plain": [
       "          Product CustomerGender     Location\n",
       "LoanID                                       \n",
       "1       Product B         Female   Location 3\n",
       "2       Product D         Female   Location 6\n",
       "3       Product B           Male   Location 8\n",
       "4       Product A           Male  Location 26\n",
       "5       Product B         Female  Location 34\n",
       "...           ...            ...          ...\n",
       "1039    Product B           Male  Location 73\n",
       "1040    Product A           Male  Location 82\n",
       "1041    Product A   NotSpecified  Location 11\n",
       "1042    Product B         Female  Location 26\n",
       "1043    Product A   NotSpecified  Location 94\n",
       "\n",
       "[1043 rows x 3 columns]"
      ]
     },
     "execution_count": 124,
     "metadata": {},
     "output_type": "execute_result"
    }
   ],
   "source": [
    "lending_co_data.iloc[:,[1,2,3]]"
   ]
  },
  {
   "cell_type": "markdown",
   "id": "dbeb0222-cad6-46b3-b023-f7a1d7a85bc6",
   "metadata": {},
   "source": [
    "Data Selection - Indexing with .iloc[] - Exercise #4\n",
    "The pandas library has been imported with its conventional alias, and pandas display options relevant for full result visibility have been set.\n",
    "The data from 'Sales-products-100.csv' has been loaded into an object called data, and a copy of it has been stored in a variable named sales_products_data.\n",
    "\n",
    "\n",
    "\n",
    "Use a pandas integer-location based accessor to retrieve the value located in the second row of the 'ProductType' column in the sales_products_data DataFrame.\n",
    "\n",
    "If you've worked correctly, you should obtain Cooking Gear.\n",
    "\n",
    "Note: To retrieve the desired output, use a two-dimensional indexer—that is, two values inside the brackets [] of the accessor—instead of chaining two one-dimensional indexers ([][],  also called chained indexing). The latter approach is more error-prone, for example if the column order changes.\n",
    "\n",
    "\n",
    "\n",
    "Please don't forget to use the print() function to display the desired output."
   ]
  },
  {
   "cell_type": "code",
   "execution_count": 126,
   "id": "3acebbba-f151-4e63-8b49-2e62c7ca4317",
   "metadata": {},
   "outputs": [
    {
     "name": "stdout",
     "output_type": "stream",
     "text": [
      "Cooking Gear\n"
     ]
    }
   ],
   "source": [
    "import pandas as pd\n",
    "pd.set_option('display.max_columns', None)\n",
    "pd.set_option('display.width', 2000)\n",
    "filename=r\"D:\\dataanalyst\\Data Analyst Course\\S18 - pandas DataFrames\\Sales-products.csv\"\n",
    "data = pd.read_csv(filename)\n",
    "sales_products_data = data.copy()\n",
    "print(sales_products_data.iloc[1,sales_products_data.columns.get_loc('ProductType')])\n"
   ]
  },
  {
   "cell_type": "markdown",
   "id": "c74efb51-b304-48f7-8f82-ddc55ea57e03",
   "metadata": {},
   "source": [
    "Data Selection - Indexing with .iloc[] - Exercise #8\n",
    "The pandas library has been imported with its conventional alias, and pandas display options relevant for full result visibility have been set.\n",
    "The data from 'Sales-products-100.csv' has been loaded into an object called data, and a copy of it has been stored in a variable named sales_products_data.\n",
    "\n",
    "\n",
    "\n",
    "Prove that .iloc[] can be used with a Series, not just a DataFrame. To do this, retrieve the first element from the 'Product' column in sales_products_data.\n",
    "\n",
    "If you've worked correctly, you should obtain TrailChef Deluxe Cook Set.\n",
    "\n",
    "Note: To retrieve the desired output, use the pandas integer-location based accessor on the relevant Series—instead of chaining two one-dimensional indexers ([][]). The latter approach is more error-prone (for example, if the column order changes), and is best reserved for quick data exploration or simple, read-only cases."
   ]
  },
  {
   "cell_type": "code",
   "execution_count": 127,
   "id": "f751f7b9-c3e9-49e4-9d5c-55820c2a29fb",
   "metadata": {},
   "outputs": [
    {
     "name": "stdout",
     "output_type": "stream",
     "text": [
      "TrailChef Deluxe Cook Set\n"
     ]
    }
   ],
   "source": [
    "import pandas as pd\n",
    "pd.set_option('display.max_columns', None)\n",
    "pd.set_option('display.width', 2000)\n",
    "filename=r\"D:\\dataanalyst\\Data Analyst Course\\S18 - pandas DataFrames\\Sales-products.csv\"\n",
    "data = pd.read_csv(filename)\n",
    "sales_products_data = data.copy()\n",
    "print(sales_products_data.iloc[0,sales_products_data.columns.get_loc('Product')])\n"
   ]
  },
  {
   "cell_type": "markdown",
   "id": "4cd03755-57d6-42ad-9c6e-16d76e41186c",
   "metadata": {},
   "source": [
    "pandas .loc\n"
   ]
  },
  {
   "cell_type": "code",
   "execution_count": 132,
   "id": "112af2f0-383e-4d21-abe4-4ea8a803c899",
   "metadata": {},
   "outputs": [
    {
     "name": "stdout",
     "output_type": "stream",
     "text": [
      "          LoanID    Product CustomerGender     Location    Region  TotalPrice   StartDate  Deposit  DailyRate  TotalDaysYr  AmtPaid36  AmtPaid60  AmtPaid360 LoanStatus\n",
      "StringID                                                                                                                                                               \n",
      "LoanID_1       1  Product B         Female   Location 3  Region 2     17600.0  04/07/2018     2200         45          365       3221       4166       14621     Active\n",
      "LoanID_2       2  Product D         Female   Location 6  Region 6         NaN  02/01/2019     2200         45          365       3161       4096       16041     Active\n",
      "LoanID_3       3  Product B           Male   Location 8  Region 3     16600.0  08/12/2016     1000         45          365       2260       3205       16340        NaN\n",
      "LoanID_4       4  Product A           Male  Location 26  Region 2     17600.0         NaN     2200         45          365       3141       4166       16321     Active\n",
      "LoanID_5       5  Product B         Female  Location 34  Region 3     21250.0  28/10/2017     2200         55          365       3570       4745       14720     Active\n"
     ]
    }
   ],
   "source": [
    "import pandas as pd\n",
    "filename=r\"D:\\dataanalyst\\Data Analyst Course\\S10 - Working with Text Files\\L11\\Lending-company.csv\"\n",
    "data=pd.read_csv(filename,index_col='StringID')\n",
    "lending_co_data=data.copy()\n",
    "print(lending_co_data.head())"
   ]
  },
  {
   "cell_type": "code",
   "execution_count": 133,
   "id": "1a11f7dc-0f04-4977-b843-d5f1f069789a",
   "metadata": {},
   "outputs": [
    {
     "data": {
      "text/plain": [
       "LoanID                     1\n",
       "Product            Product B\n",
       "CustomerGender        Female\n",
       "Location          Location 3\n",
       "Region              Region 2\n",
       "TotalPrice           17600.0\n",
       "StartDate         04/07/2018\n",
       "Deposit                 2200\n",
       "DailyRate                 45\n",
       "TotalDaysYr              365\n",
       "AmtPaid36               3221\n",
       "AmtPaid60               4166\n",
       "AmtPaid360             14621\n",
       "LoanStatus            Active\n",
       "Name: LoanID_1, dtype: object"
      ]
     },
     "execution_count": 133,
     "metadata": {},
     "output_type": "execute_result"
    }
   ],
   "source": [
    "lending_co_data.loc['LoanID_1']"
   ]
  },
  {
   "cell_type": "code",
   "execution_count": 134,
   "id": "e5245f4a-1dfc-4c55-8fcd-23b2a3d5da97",
   "metadata": {},
   "outputs": [
    {
     "data": {
      "text/plain": [
       "LoanID                     2\n",
       "Product            Product D\n",
       "CustomerGender        Female\n",
       "Location          Location 6\n",
       "Region              Region 6\n",
       "TotalPrice               NaN\n",
       "StartDate         02/01/2019\n",
       "Deposit                 2200\n",
       "DailyRate                 45\n",
       "TotalDaysYr              365\n",
       "AmtPaid36               3161\n",
       "AmtPaid60               4096\n",
       "AmtPaid360             16041\n",
       "LoanStatus            Active\n",
       "Name: LoanID_2, dtype: object"
      ]
     },
     "execution_count": 134,
     "metadata": {},
     "output_type": "execute_result"
    }
   ],
   "source": [
    "lending_co_data.loc['LoanID_2']"
   ]
  },
  {
   "cell_type": "code",
   "execution_count": 135,
   "id": "b2328da8-226c-437f-b60d-a6b035f0941a",
   "metadata": {},
   "outputs": [
    {
     "data": {
      "text/plain": [
       "'Region 2'"
      ]
     },
     "execution_count": 135,
     "metadata": {},
     "output_type": "execute_result"
    }
   ],
   "source": [
    "lending_co_data.loc['LoanID_1','Region']"
   ]
  },
  {
   "cell_type": "code",
   "execution_count": 136,
   "id": "efb01ea3-3728-45ab-960a-a6d15da2b685",
   "metadata": {},
   "outputs": [
    {
     "data": {
      "text/plain": [
       "StringID\n",
       "LoanID_1       Region 2\n",
       "LoanID_2       Region 6\n",
       "LoanID_3       Region 3\n",
       "LoanID_4       Region 2\n",
       "LoanID_5       Region 3\n",
       "                 ...   \n",
       "LoanID_1039    Region 6\n",
       "LoanID_1040    Region 1\n",
       "LoanID_1041    Region 4\n",
       "LoanID_1042    Region 6\n",
       "LoanID_1043    Region 6\n",
       "Name: Region, Length: 1043, dtype: object"
      ]
     },
     "execution_count": 136,
     "metadata": {},
     "output_type": "execute_result"
    }
   ],
   "source": [
    "lending_co_data.loc[:,'Region']"
   ]
  },
  {
   "cell_type": "markdown",
   "id": "a1de855d-d39b-48c7-b5af-00e54374983e",
   "metadata": {},
   "source": [
    "A few comments on .loc and .iloc"
   ]
  },
  {
   "cell_type": "code",
   "execution_count": 137,
   "id": "de0c26e7-fe6e-42a7-96ed-3a0ebc5192ea",
   "metadata": {},
   "outputs": [
    {
     "name": "stdout",
     "output_type": "stream",
     "text": [
      "        StringID    Product CustomerGender     Location    Region  TotalPrice   StartDate  Deposit  DailyRate  TotalDaysYr  AmtPaid36  AmtPaid60  AmtPaid360 LoanStatus\n",
      "LoanID                                                                                                                                                                 \n",
      "1       LoanID_1  Product B         Female   Location 3  Region 2     17600.0  04/07/2018     2200         45          365       3221       4166       14621     Active\n",
      "2       LoanID_2  Product D         Female   Location 6  Region 6         NaN  02/01/2019     2200         45          365       3161       4096       16041     Active\n",
      "3       LoanID_3  Product B           Male   Location 8  Region 3     16600.0  08/12/2016     1000         45          365       2260       3205       16340        NaN\n",
      "4       LoanID_4  Product A           Male  Location 26  Region 2     17600.0         NaN     2200         45          365       3141       4166       16321     Active\n",
      "5       LoanID_5  Product B         Female  Location 34  Region 3     21250.0  28/10/2017     2200         55          365       3570       4745       14720     Active\n"
     ]
    }
   ],
   "source": [
    "import pandas as pd\n",
    "filename=r\"D:\\dataanalyst\\Data Analyst Course\\S10 - Working with Text Files\\L11\\Lending-company.csv\"\n",
    "data=pd.read_csv(filename,index_col='LoanID')\n",
    "lending_co_data=data.copy()\n",
    "print(lending_co_data.head())"
   ]
  },
  {
   "cell_type": "code",
   "execution_count": 138,
   "id": "02758c7c-f6bd-4852-a9b0-a97e6cde4a81",
   "metadata": {},
   "outputs": [
    {
     "data": {
      "text/plain": [
       "StringID               LoanID_1001\n",
       "Product                  Product D\n",
       "CustomerGender              Female\n",
       "Location               Location 73\n",
       "Region                    Region 2\n",
       "TotalPrice                 22950.0\n",
       "StartDate               21/08/2019\n",
       "Deposit                       5000\n",
       "DailyRate                       55\n",
       "TotalDaysYr                    365\n",
       "AmtPaid36                     5150\n",
       "AmtPaid60                     7192\n",
       "AmtPaid360                   22267\n",
       "LoanStatus        Finished Payment\n",
       "Name: 1001, dtype: object"
      ]
     },
     "execution_count": 138,
     "metadata": {},
     "output_type": "execute_result"
    }
   ],
   "source": [
    "lending_co_data.iloc[1000,:]"
   ]
  },
  {
   "cell_type": "code",
   "execution_count": 140,
   "id": "525afba5-6bf0-405c-9391-c9a855a2cdb2",
   "metadata": {},
   "outputs": [
    {
     "data": {
      "text/plain": [
       "LoanID\n",
       "1    Active\n",
       "2    Active\n",
       "3       NaN\n",
       "4    Active\n",
       "5    Active\n",
       "Name: LoanStatus, dtype: object"
      ]
     },
     "execution_count": 140,
     "metadata": {},
     "output_type": "execute_result"
    }
   ],
   "source": [
    "lending_co_data.iloc[:,13].head()"
   ]
  },
  {
   "cell_type": "code",
   "execution_count": 141,
   "id": "b0967a38-055e-4864-baa9-995daf578fa7",
   "metadata": {},
   "outputs": [
    {
     "data": {
      "text/plain": [
       "LoanID\n",
       "1    Active\n",
       "2    Active\n",
       "3       NaN\n",
       "4    Active\n",
       "5    Active\n",
       "Name: LoanStatus, dtype: object"
      ]
     },
     "execution_count": 141,
     "metadata": {},
     "output_type": "execute_result"
    }
   ],
   "source": [
    "lending_co_data.iloc[:,-1].head()"
   ]
  },
  {
   "cell_type": "code",
   "execution_count": 143,
   "id": "4b7a4f16-99bf-41e5-8025-52101f839a5d",
   "metadata": {},
   "outputs": [
    {
     "data": {
      "text/plain": [
       "np.float64(17600.0)"
      ]
     },
     "execution_count": 143,
     "metadata": {},
     "output_type": "execute_result"
    }
   ],
   "source": [
    "lending_co_data[\"TotalPrice\"].iloc[0]"
   ]
  },
  {
   "cell_type": "code",
   "execution_count": 144,
   "id": "a98a9938-a355-488a-a86a-1bdb1b0a9d6a",
   "metadata": {},
   "outputs": [
    {
     "data": {
      "text/plain": [
       "np.float64(17600.0)"
      ]
     },
     "execution_count": 144,
     "metadata": {},
     "output_type": "execute_result"
    }
   ],
   "source": [
    "lending_co_data[\"TotalPrice\"][1]   #if u r not using iloc then correctly specify the index value of first row...here it is loan id that is 1"
   ]
  },
  {
   "cell_type": "code",
   "execution_count": 146,
   "id": "5ddac0f4-ca1a-4e0b-98fe-738dc5eeb6bb",
   "metadata": {},
   "outputs": [
    {
     "data": {
      "text/plain": [
       "np.float64(21250.0)"
      ]
     },
     "execution_count": 146,
     "metadata": {},
     "output_type": "execute_result"
    }
   ],
   "source": [
    "lending_co_data[\"TotalPrice\"][5]"
   ]
  },
  {
   "cell_type": "code",
   "execution_count": 147,
   "id": "75c5c996-3474-4d76-890b-0862296ca1bb",
   "metadata": {},
   "outputs": [
    {
     "data": {
      "text/plain": [
       "np.float64(17600.0)"
      ]
     },
     "execution_count": 147,
     "metadata": {},
     "output_type": "execute_result"
    }
   ],
   "source": [
    "lending_co_data[\"TotalPrice\"].loc[1]  #loc is a label based accessor and here 1 is the label of first row"
   ]
  },
  {
   "cell_type": "code",
   "execution_count": null,
   "id": "443a068c-0041-45b0-939b-4494668d9397",
   "metadata": {},
   "outputs": [],
   "source": []
  },
  {
   "cell_type": "code",
   "execution_count": 148,
   "id": "f6b84123-5242-4b54-b2d7-bf826bdcbadc",
   "metadata": {},
   "outputs": [
    {
     "name": "stdout",
     "output_type": "stream",
     "text": [
      "          LoanID    Product CustomerGender     Location    Region  TotalPrice   StartDate  Deposit  DailyRate  TotalDaysYr  AmtPaid36  AmtPaid60  AmtPaid360 LoanStatus\n",
      "StringID                                                                                                                                                               \n",
      "LoanID_1       1  Product B         Female   Location 3  Region 2     17600.0  04/07/2018     2200         45          365       3221       4166       14621     Active\n",
      "LoanID_2       2  Product D         Female   Location 6  Region 6         NaN  02/01/2019     2200         45          365       3161       4096       16041     Active\n",
      "LoanID_3       3  Product B           Male   Location 8  Region 3     16600.0  08/12/2016     1000         45          365       2260       3205       16340        NaN\n",
      "LoanID_4       4  Product A           Male  Location 26  Region 2     17600.0         NaN     2200         45          365       3141       4166       16321     Active\n",
      "LoanID_5       5  Product B         Female  Location 34  Region 3     21250.0  28/10/2017     2200         55          365       3570       4745       14720     Active\n"
     ]
    }
   ],
   "source": [
    "import pandas as pd\n",
    "filename=r\"D:\\dataanalyst\\Data Analyst Course\\S10 - Working with Text Files\\L11\\Lending-company.csv\"\n",
    "data=pd.read_csv(filename,index_col='StringID')\n",
    "lending_co_data=data.copy()\n",
    "print(lending_co_data.head())"
   ]
  },
  {
   "cell_type": "code",
   "execution_count": 149,
   "id": "cadb669d-5e02-4b8b-8e81-11341a1f3e8d",
   "metadata": {},
   "outputs": [
    {
     "data": {
      "text/plain": [
       "np.float64(17600.0)"
      ]
     },
     "execution_count": 149,
     "metadata": {},
     "output_type": "execute_result"
    }
   ],
   "source": [
    "lending_co_data[\"TotalPrice\"].iloc[0]"
   ]
  },
  {
   "cell_type": "code",
   "execution_count": 150,
   "id": "5729a4dd-3c29-458b-9c98-d39d4ef36669",
   "metadata": {},
   "outputs": [
    {
     "data": {
      "text/plain": [
       "np.float64(17600.0)"
      ]
     },
     "execution_count": 150,
     "metadata": {},
     "output_type": "execute_result"
    }
   ],
   "source": [
    "lending_co_data[\"TotalPrice\"].loc[\"LoanID_1\"]"
   ]
  },
  {
   "cell_type": "code",
   "execution_count": 158,
   "id": "c32cbe52-7567-48c2-b0b6-f46ef15c75b0",
   "metadata": {},
   "outputs": [
    {
     "data": {
      "text/plain": [
       "np.float64(17600.0)"
      ]
     },
     "execution_count": 158,
     "metadata": {},
     "output_type": "execute_result"
    }
   ],
   "source": [
    "lending_co_data[\"TotalPrice\"][\"LoanID_1\"]"
   ]
  },
  {
   "cell_type": "code",
   "execution_count": 156,
   "id": "dfe602a0-8200-41eb-b12f-67fea3206b6c",
   "metadata": {},
   "outputs": [
    {
     "name": "stderr",
     "output_type": "stream",
     "text": [
      "C:\\Users\\ASUS\\AppData\\Local\\Temp\\ipykernel_24640\\4026714254.py:1: FutureWarning: Series.__getitem__ treating keys as positions is deprecated. In a future version, integer keys will always be treated as labels (consistent with DataFrame behavior). To access a value by position, use `ser.iloc[pos]`\n",
      "  lending_co_data[\"TotalPrice\"][1]\n"
     ]
    },
    {
     "data": {
      "text/plain": [
       "np.float64(nan)"
      ]
     },
     "execution_count": 156,
     "metadata": {},
     "output_type": "execute_result"
    }
   ],
   "source": [
    "lending_co_data[\"TotalPrice\"][0]"
   ]
  },
  {
   "cell_type": "code",
   "execution_count": 159,
   "id": "40cd6779-cdf4-4a63-a17d-7026ed832fb8",
   "metadata": {},
   "outputs": [
    {
     "name": "stderr",
     "output_type": "stream",
     "text": [
      "C:\\Users\\ASUS\\AppData\\Local\\Temp\\ipykernel_24640\\1538933843.py:1: FutureWarning: Series.__getitem__ treating keys as positions is deprecated. In a future version, integer keys will always be treated as labels (consistent with DataFrame behavior). To access a value by position, use `ser.iloc[pos]`\n",
      "  lending_co_data.iloc[0][5]\n"
     ]
    },
    {
     "data": {
      "text/plain": [
       "np.float64(17600.0)"
      ]
     },
     "execution_count": 159,
     "metadata": {},
     "output_type": "execute_result"
    }
   ],
   "source": [
    "lending_co_data.iloc[0][5]"
   ]
  },
  {
   "cell_type": "code",
   "execution_count": 160,
   "id": "4eb13552-34a8-455b-9f9b-5b7a7f3ecd7e",
   "metadata": {},
   "outputs": [
    {
     "data": {
      "text/plain": [
       "np.float64(17600.0)"
      ]
     },
     "execution_count": 160,
     "metadata": {},
     "output_type": "execute_result"
    }
   ],
   "source": [
    "lending_co_data.iloc[0,5]"
   ]
  },
  {
   "cell_type": "code",
   "execution_count": 163,
   "id": "1dbec027-cb0d-4615-b7fb-9cfc8e78e2e7",
   "metadata": {},
   "outputs": [
    {
     "data": {
      "text/html": [
       "<div>\n",
       "<style scoped>\n",
       "    .dataframe tbody tr th:only-of-type {\n",
       "        vertical-align: middle;\n",
       "    }\n",
       "\n",
       "    .dataframe tbody tr th {\n",
       "        vertical-align: top;\n",
       "    }\n",
       "\n",
       "    .dataframe thead th {\n",
       "        text-align: right;\n",
       "    }\n",
       "</style>\n",
       "<table border=\"1\" class=\"dataframe\">\n",
       "  <thead>\n",
       "    <tr style=\"text-align: right;\">\n",
       "      <th></th>\n",
       "      <th>LoanID</th>\n",
       "      <th>Product</th>\n",
       "      <th>CustomerGender</th>\n",
       "      <th>Location</th>\n",
       "      <th>Region</th>\n",
       "      <th>TotalPrice</th>\n",
       "      <th>StartDate</th>\n",
       "      <th>Deposit</th>\n",
       "      <th>DailyRate</th>\n",
       "      <th>TotalDaysYr</th>\n",
       "      <th>AmtPaid36</th>\n",
       "      <th>AmtPaid60</th>\n",
       "      <th>AmtPaid360</th>\n",
       "      <th>LoanStatus</th>\n",
       "    </tr>\n",
       "    <tr>\n",
       "      <th>StringID</th>\n",
       "      <th></th>\n",
       "      <th></th>\n",
       "      <th></th>\n",
       "      <th></th>\n",
       "      <th></th>\n",
       "      <th></th>\n",
       "      <th></th>\n",
       "      <th></th>\n",
       "      <th></th>\n",
       "      <th></th>\n",
       "      <th></th>\n",
       "      <th></th>\n",
       "      <th></th>\n",
       "      <th></th>\n",
       "    </tr>\n",
       "  </thead>\n",
       "  <tbody>\n",
       "    <tr>\n",
       "      <th>LoanID_3</th>\n",
       "      <td>3</td>\n",
       "      <td>Product B</td>\n",
       "      <td>Male</td>\n",
       "      <td>Location 8</td>\n",
       "      <td>Region 3</td>\n",
       "      <td>16600.0</td>\n",
       "      <td>08/12/2016</td>\n",
       "      <td>1000</td>\n",
       "      <td>45</td>\n",
       "      <td>365</td>\n",
       "      <td>2260</td>\n",
       "      <td>3205</td>\n",
       "      <td>16340</td>\n",
       "      <td>NaN</td>\n",
       "    </tr>\n",
       "    <tr>\n",
       "      <th>LoanID_6</th>\n",
       "      <td>6</td>\n",
       "      <td>Product A</td>\n",
       "      <td>Male</td>\n",
       "      <td>Location 34</td>\n",
       "      <td>Region 1</td>\n",
       "      <td>NaN</td>\n",
       "      <td>19/04/2019</td>\n",
       "      <td>2200</td>\n",
       "      <td>45</td>\n",
       "      <td>365</td>\n",
       "      <td>3301</td>\n",
       "      <td>4066</td>\n",
       "      <td>15141</td>\n",
       "      <td>Active</td>\n",
       "    </tr>\n",
       "  </tbody>\n",
       "</table>\n",
       "</div>"
      ],
      "text/plain": [
       "          LoanID    Product CustomerGender     Location    Region  TotalPrice   StartDate  Deposit  DailyRate  TotalDaysYr  AmtPaid36  AmtPaid60  AmtPaid360 LoanStatus\n",
       "StringID                                                                                                                                                               \n",
       "LoanID_3       3  Product B           Male   Location 8  Region 3     16600.0  08/12/2016     1000         45          365       2260       3205       16340        NaN\n",
       "LoanID_6       6  Product A           Male  Location 34  Region 1         NaN  19/04/2019     2200         45          365       3301       4066       15141     Active"
      ]
     },
     "execution_count": 163,
     "metadata": {},
     "output_type": "execute_result"
    }
   ],
   "source": [
    "lending_co_data.loc[[\"LoanID_3\",\"LoanID_6\"],:]"
   ]
  },
  {
   "cell_type": "code",
   "execution_count": 166,
   "id": "28cd9160-ec6b-4ef7-ab6c-a1913e0c1e34",
   "metadata": {},
   "outputs": [
    {
     "data": {
      "text/plain": [
       "StringID\n",
       "LoanID_1    17600.0\n",
       "LoanID_6        NaN\n",
       "Name: TotalPrice, dtype: float64"
      ]
     },
     "execution_count": 166,
     "metadata": {},
     "output_type": "execute_result"
    }
   ],
   "source": [
    "lending_co_data[\"TotalPrice\"].iloc[[0,5]]"
   ]
  },
  {
   "cell_type": "code",
   "execution_count": 170,
   "id": "9fc23f5d-1190-4e35-ad58-5a704d9f2319",
   "metadata": {},
   "outputs": [
    {
     "data": {
      "text/plain": [
       "np.float64(17600.0)"
      ]
     },
     "execution_count": 170,
     "metadata": {},
     "output_type": "execute_result"
    }
   ],
   "source": [
    "lending_co_data.TotalPrice[\"LoanID_1\"]"
   ]
  },
  {
   "cell_type": "code",
   "execution_count": 172,
   "id": "837e827d-123a-4393-96c2-59459eab261a",
   "metadata": {},
   "outputs": [
    {
     "data": {
      "text/plain": [
       "StringID\n",
       "LoanID_1    17600.0\n",
       "LoanID_6        NaN\n",
       "Name: TotalPrice, dtype: float64"
      ]
     },
     "execution_count": 172,
     "metadata": {},
     "output_type": "execute_result"
    }
   ],
   "source": [
    "lending_co_data.loc[:,\"TotalPrice\"].iloc[[0,5]]"
   ]
  },
  {
   "cell_type": "code",
   "execution_count": null,
   "id": "e2f961ff-a435-427f-bae6-0a671a604d2c",
   "metadata": {},
   "outputs": [],
   "source": []
  }
 ],
 "metadata": {
  "kernelspec": {
   "display_name": "Python [conda env:base] *",
   "language": "python",
   "name": "conda-base-py"
  },
  "language_info": {
   "codemirror_mode": {
    "name": "ipython",
    "version": 3
   },
   "file_extension": ".py",
   "mimetype": "text/x-python",
   "name": "python",
   "nbconvert_exporter": "python",
   "pygments_lexer": "ipython3",
   "version": "3.12.7"
  }
 },
 "nbformat": 4,
 "nbformat_minor": 5
}

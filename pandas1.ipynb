{
 "cells": [
  {
   "cell_type": "markdown",
   "id": "f3d3a51c-a693-4e86-bb13-fd7b768e245b",
   "metadata": {},
   "source": [
    "Pandas Series\n",
    "Creation of Series from list"
   ]
  },
  {
   "cell_type": "code",
   "execution_count": 11,
   "id": "00735fbd-a7e0-4c03-ab98-932a52a0f078",
   "metadata": {},
   "outputs": [],
   "source": [
    "import pandas as pd\n",
    "import numpy as np\n"
   ]
  },
  {
   "cell_type": "code",
   "execution_count": 12,
   "id": "c8c876e6-3c15-4bea-98a3-481aa1699fc5",
   "metadata": {},
   "outputs": [
    {
     "name": "stdout",
     "output_type": "stream",
     "text": [
      "0    A\n",
      "1    B\n",
      "2    C\n",
      "3    D\n",
      "dtype: object\n",
      "<class 'pandas.core.series.Series'>\n"
     ]
    }
   ],
   "source": [
    "products=['A','B','C','D']\n",
    "product_categories=pd.Series(products)\n",
    "print(product_categories)\n",
    "print(type(product_categories))"
   ]
  },
  {
   "cell_type": "code",
   "execution_count": 14,
   "id": "d7370f06-a132-4112-b944-88af240171f7",
   "metadata": {},
   "outputs": [
    {
     "name": "stdout",
     "output_type": "stream",
     "text": [
      "0    10\n",
      "1    20\n",
      "2    30\n",
      "dtype: int64\n"
     ]
    }
   ],
   "source": [
    "daily_rate_dollars=pd.Series([10,20,30])\n",
    "print(daily_rate_dollars)"
   ]
  },
  {
   "cell_type": "markdown",
   "id": "cfb7afd5-9885-4609-9a0c-0106b0cf5507",
   "metadata": {},
   "source": [
    "Creation of series from numpy array"
   ]
  },
  {
   "cell_type": "code",
   "execution_count": 18,
   "id": "65f50f12-2960-453a-b78d-fc38c8a01010",
   "metadata": {},
   "outputs": [],
   "source": [
    "import numpy as np\n",
    "import pandas as pd"
   ]
  },
  {
   "cell_type": "code",
   "execution_count": 19,
   "id": "5cd70525-0d3d-4ecc-b69e-71ed8f850432",
   "metadata": {},
   "outputs": [
    {
     "name": "stdout",
     "output_type": "stream",
     "text": [
      "0    10\n",
      "1    20\n",
      "2    30\n",
      "3    40\n",
      "dtype: int64\n"
     ]
    }
   ],
   "source": [
    "array_a=np.array([10,20,30,40])\n",
    "array_series=pd.Series(array_a)\n",
    "print(array_series)"
   ]
  },
  {
   "cell_type": "markdown",
   "id": "b6720916-ec5a-4524-873f-23993df73ad9",
   "metadata": {},
   "source": [
    "creation of series with mutable index\n"
   ]
  },
  {
   "cell_type": "code",
   "execution_count": 20,
   "id": "e6364be9-dabe-4bea-b0f2-2e8c9b596334",
   "metadata": {},
   "outputs": [],
   "source": [
    "import pandas as pd\n"
   ]
  },
  {
   "cell_type": "code",
   "execution_count": 21,
   "id": "445be5d2-e079-4feb-a1bf-025f823c591a",
   "metadata": {},
   "outputs": [
    {
     "name": "stdout",
     "output_type": "stream",
     "text": [
      "first          apple\n",
      "second        orange\n",
      "third     watermelon\n",
      "dtype: object\n"
     ]
    }
   ],
   "source": [
    "A=['apple','orange','watermelon']\n",
    "A_series=pd.Series(A,index=['first','second','third'])\n",
    "print(A_series)"
   ]
  },
  {
   "cell_type": "markdown",
   "id": "67524e3c-cd35-4254-b15a-1513cd764cbb",
   "metadata": {},
   "source": [
    "creation of series from dictionary"
   ]
  },
  {
   "cell_type": "code",
   "execution_count": 22,
   "id": "bba1709b-1a73-4a99-a288-6fa841bc8e56",
   "metadata": {},
   "outputs": [],
   "source": [
    "import pandas as pd"
   ]
  },
  {
   "cell_type": "code",
   "execution_count": 24,
   "id": "8804eb1b-6444-45fd-b9e9-6d2c5a5b3952",
   "metadata": {},
   "outputs": [
    {
     "name": "stdout",
     "output_type": "stream",
     "text": [
      "name     Hardik\n",
      "age          30\n",
      "role    captain\n",
      "dtype: object\n"
     ]
    }
   ],
   "source": [
    "B={'name':'Hardik','age':30,'role':'captain'}\n",
    "B_series=pd.Series(B)\n",
    "print(B_series)"
   ]
  },
  {
   "cell_type": "markdown",
   "id": "aa4dd7bd-0081-4095-836a-a676dcc62739",
   "metadata": {},
   "source": [
    "creation of series from scalar\n"
   ]
  },
  {
   "cell_type": "code",
   "execution_count": 25,
   "id": "601bcf0a-381c-472c-9f03-25e1fbb15989",
   "metadata": {},
   "outputs": [],
   "source": [
    "import pandas as pd"
   ]
  },
  {
   "cell_type": "code",
   "execution_count": 29,
   "id": "8ecc6805-a326-40cd-b749-70fa50bc1b6c",
   "metadata": {},
   "outputs": [
    {
     "name": "stdout",
     "output_type": "stream",
     "text": [
      "0    5\n",
      "1    5\n",
      "2    5\n",
      "3    5\n",
      "4    5\n",
      "5    5\n",
      "dtype: int64\n"
     ]
    }
   ],
   "source": [
    "C=5\n",
    "C_series=pd.Series(5,index=[0,1,2,3,4,5])\n",
    "print(C_series)"
   ]
  },
  {
   "cell_type": "markdown",
   "id": "97832772-0d1d-4856-9a3b-428604f09376",
   "metadata": {},
   "source": [
    "Working with attributes of Series\n",
    "1. .dtype\n",
    "2. .size\n",
    "3.  .name\n",
    "   "
   ]
  },
  {
   "cell_type": "code",
   "execution_count": 30,
   "id": "8babc9a2-f35d-4710-95d6-b31d21668fd7",
   "metadata": {},
   "outputs": [],
   "source": [
    "import pandas as pd"
   ]
  },
  {
   "cell_type": "code",
   "execution_count": 33,
   "id": "925da005-4b00-4500-bedf-9cc5505d4caf",
   "metadata": {},
   "outputs": [
    {
     "name": "stdout",
     "output_type": "stream",
     "text": [
      "int64\n"
     ]
    }
   ],
   "source": [
    "product_categories=pd.Series([10,20,30,40])\n",
    "print(product_categories.dtype)  #.dtype will return the datatype of series data"
   ]
  },
  {
   "cell_type": "code",
   "execution_count": 34,
   "id": "ac62ef48-a9d0-4c0d-9088-2b551d831170",
   "metadata": {},
   "outputs": [
    {
     "name": "stdout",
     "output_type": "stream",
     "text": [
      "object\n"
     ]
    }
   ],
   "source": [
    "food_categories=pd.Series(['biriyani','pizza','pasta'])\n",
    "print(food_categories.dtype)"
   ]
  },
  {
   "cell_type": "code",
   "execution_count": 35,
   "id": "e20b67d0-4113-4e9f-b93a-12670b0c906d",
   "metadata": {},
   "outputs": [
    {
     "name": "stdout",
     "output_type": "stream",
     "text": [
      "4\n"
     ]
    }
   ],
   "source": [
    "print(product_categories.size)"
   ]
  },
  {
   "cell_type": "code",
   "execution_count": 36,
   "id": "d2f3dcf7-74f6-49ce-a948-55c304b002db",
   "metadata": {},
   "outputs": [
    {
     "name": "stdout",
     "output_type": "stream",
     "text": [
      "3\n"
     ]
    }
   ],
   "source": [
    "print(food_categories.size)"
   ]
  },
  {
   "cell_type": "code",
   "execution_count": 37,
   "id": "1306d177-060c-42e2-beb6-5e3998f3c377",
   "metadata": {},
   "outputs": [
    {
     "name": "stdout",
     "output_type": "stream",
     "text": [
      "product categories\n",
      "food categories\n",
      "0    10\n",
      "1    20\n",
      "2    30\n",
      "3    40\n",
      "Name: product categories, dtype: int64\n",
      "0    biriyani\n",
      "1       pizza\n",
      "2       pasta\n",
      "Name: food categories, dtype: object\n"
     ]
    }
   ],
   "source": [
    "product_categories.name=\"product categories\"\n",
    "food_categories.name=\"food categories\"\n",
    "print(product_categories.name)\n",
    "print(food_categories.name)\n",
    "print(product_categories)\n",
    "print(food_categories)"
   ]
  },
  {
   "cell_type": "markdown",
   "id": "52a02250-bff0-4e09-9419-a5c68e017ce4",
   "metadata": {},
   "source": [
    "Convert the work_experience_years object from a Pandas Series into a NumPy array. Accomplish this task without overwriting the contents of work_experience_years.\n",
    "\n",
    "To convert a series object to numpy array we can use \".to_numpy()\" method\n"
   ]
  },
  {
   "cell_type": "code",
   "execution_count": 38,
   "id": "c6fdfa96-f04c-427c-ab7f-7946415874ed",
   "metadata": {},
   "outputs": [
    {
     "name": "stdout",
     "output_type": "stream",
     "text": [
      "[ 5  8  3 10]\n"
     ]
    }
   ],
   "source": [
    "import numpy as np\n",
    "import pandas as pd\n",
    "work_experience_years=pd.Series([5,8,3,10])\n",
    "work_experience_array=work_experience_years.to_numpy()\n",
    "print(work_experience_array)"
   ]
  },
  {
   "cell_type": "markdown",
   "id": "3e351e28-6908-42f1-b408-09ac9dfa4372",
   "metadata": {},
   "source": [
    "Using index in pandas  \" .index \" method\n"
   ]
  },
  {
   "cell_type": "code",
   "execution_count": 40,
   "id": "d5ac852c-d1e6-4211-bb73-9d8329329cca",
   "metadata": {},
   "outputs": [
    {
     "name": "stdout",
     "output_type": "stream",
     "text": [
      "product A    22250\n",
      "product B    16600\n",
      "product C    15600\n",
      "dtype: int64\n"
     ]
    }
   ],
   "source": [
    "import pandas as pd\n",
    "price={'product A':22250,'product B':16600,'product C':15600}\n",
    "price_per_category=pd.Series(price)\n",
    "print(price_per_category)"
   ]
  },
  {
   "cell_type": "code",
   "execution_count": 41,
   "id": "0650717e-151a-4d4e-a05e-bc03c4b34825",
   "metadata": {},
   "outputs": [
    {
     "name": "stdout",
     "output_type": "stream",
     "text": [
      "Index(['product A', 'product B', 'product C'], dtype='object')\n"
     ]
    }
   ],
   "source": [
    "print(price_per_category.index)"
   ]
  },
  {
   "cell_type": "code",
   "execution_count": 42,
   "id": "9cf75401-c256-4ed7-8d24-8d0c7d8c8038",
   "metadata": {},
   "outputs": [
    {
     "name": "stdout",
     "output_type": "stream",
     "text": [
      "<class 'pandas.core.indexes.base.Index'>\n"
     ]
    }
   ],
   "source": [
    "print(type(price_per_category.index))"
   ]
  },
  {
   "cell_type": "markdown",
   "id": "1fa3d163-d5f2-44ce-a254-8d9f2eb07e9f",
   "metadata": {},
   "source": [
    "working with indices"
   ]
  },
  {
   "cell_type": "code",
   "execution_count": 43,
   "id": "f947842e-c5fb-4568-82bc-25f81191e17f",
   "metadata": {},
   "outputs": [
    {
     "name": "stdout",
     "output_type": "stream",
     "text": [
      "0    10\n",
      "1    20\n",
      "2    30\n",
      "3    40\n",
      "dtype: int64\n",
      "product A    22250\n",
      "product B    16350\n",
      "product C    25000\n",
      "dtype: int64\n"
     ]
    }
   ],
   "source": [
    "series_a=pd.Series([10,20,30,40])\n",
    "price_per_category=pd.Series({'product A':22250,'product B':16350,'product C':25000})\n",
    "print(series_a)\n",
    "print(price_per_category)"
   ]
  },
  {
   "cell_type": "code",
   "execution_count": 45,
   "id": "d8fc8527-411a-4d7e-a563-9cb5e4d20fc7",
   "metadata": {},
   "outputs": [
    {
     "name": "stdout",
     "output_type": "stream",
     "text": [
      "10\n",
      "20\n"
     ]
    }
   ],
   "source": [
    "print(series_a[0])\n",
    "print(series_a[1])"
   ]
  },
  {
   "cell_type": "code",
   "execution_count": 48,
   "id": "4c30699e-0a7a-473b-8912-23dc7ad1f345",
   "metadata": {},
   "outputs": [
    {
     "name": "stdout",
     "output_type": "stream",
     "text": [
      "Accessing through explicit indexing\n",
      "22250\n",
      "16350\n"
     ]
    }
   ],
   "source": [
    "print(\"Accessing through explicit indexing\")\n",
    "print(price_per_category['product A'])\n",
    "print(price_per_category['product B'])\n"
   ]
  },
  {
   "cell_type": "code",
   "execution_count": 50,
   "id": "8ecb809a-7ef0-417d-8672-f0e52033d3d8",
   "metadata": {},
   "outputs": [
    {
     "name": "stdout",
     "output_type": "stream",
     "text": [
      "Accessing through implicit indexing...\n",
      "22250\n",
      "16350\n"
     ]
    },
    {
     "name": "stderr",
     "output_type": "stream",
     "text": [
      "C:\\Users\\ASUS\\AppData\\Local\\Temp\\ipykernel_9924\\578339654.py:2: FutureWarning: Series.__getitem__ treating keys as positions is deprecated. In a future version, integer keys will always be treated as labels (consistent with DataFrame behavior). To access a value by position, use `ser.iloc[pos]`\n",
      "  print(price_per_category[0])\n",
      "C:\\Users\\ASUS\\AppData\\Local\\Temp\\ipykernel_9924\\578339654.py:3: FutureWarning: Series.__getitem__ treating keys as positions is deprecated. In a future version, integer keys will always be treated as labels (consistent with DataFrame behavior). To access a value by position, use `ser.iloc[pos]`\n",
      "  print(price_per_category[1])\n"
     ]
    }
   ],
   "source": [
    "print(\"Accessing through implicit indexing...\")\n",
    "print(price_per_category[0])\n",
    "print(price_per_category[1])"
   ]
  },
  {
   "cell_type": "code",
   "execution_count": 52,
   "id": "228c72f4-13a8-4de8-b201-49b641f07977",
   "metadata": {},
   "outputs": [
    {
     "name": "stdout",
     "output_type": "stream",
     "text": [
      "1    10\n",
      "2    20\n",
      "3    30\n",
      "4    40\n",
      "dtype: int64\n"
     ]
    }
   ],
   "source": [
    "series_b=pd.Series([10,20,30,40],index=[1,2,3,4])\n",
    "print(series_b)"
   ]
  },
  {
   "cell_type": "code",
   "execution_count": 55,
   "id": "d545ca8c-184a-4f01-b57f-8c11664b27c4",
   "metadata": {},
   "outputs": [
    {
     "name": "stdout",
     "output_type": "stream",
     "text": [
      "10\n",
      "20\n"
     ]
    }
   ],
   "source": [
    "#here it is explicitly setting the index so the index values are 1,2,3,4\n",
    "print(series_b[1])\n",
    "print(series_b[2])"
   ]
  },
  {
   "cell_type": "code",
   "execution_count": 57,
   "id": "7a016b4a-d35d-44fa-85fe-9f73bffa81e2",
   "metadata": {},
   "outputs": [
    {
     "name": "stdout",
     "output_type": "stream",
     "text": [
      "1    10\n",
      "2    20\n",
      "3    30\n",
      "4    40\n",
      "dtype: int64\n"
     ]
    }
   ],
   "source": [
    "series_c=pd.Series([10,20,30,40],index=['1','2','3','4'])\n",
    "print(series_c)"
   ]
  },
  {
   "cell_type": "code",
   "execution_count": 58,
   "id": "775c9199-5fd6-4273-9af8-f6d221ea2e51",
   "metadata": {},
   "outputs": [
    {
     "name": "stdout",
     "output_type": "stream",
     "text": [
      "10\n",
      "20\n",
      "10\n"
     ]
    },
    {
     "name": "stderr",
     "output_type": "stream",
     "text": [
      "C:\\Users\\ASUS\\AppData\\Local\\Temp\\ipykernel_9924\\2449895083.py:1: FutureWarning: Series.__getitem__ treating keys as positions is deprecated. In a future version, integer keys will always be treated as labels (consistent with DataFrame behavior). To access a value by position, use `ser.iloc[pos]`\n",
      "  print(series_c[0])\n",
      "C:\\Users\\ASUS\\AppData\\Local\\Temp\\ipykernel_9924\\2449895083.py:2: FutureWarning: Series.__getitem__ treating keys as positions is deprecated. In a future version, integer keys will always be treated as labels (consistent with DataFrame behavior). To access a value by position, use `ser.iloc[pos]`\n",
      "  print(series_c[1])\n"
     ]
    }
   ],
   "source": [
    "print(series_c[0])\n",
    "print(series_c[1])\n",
    "print(series_c['1'])\n"
   ]
  },
  {
   "cell_type": "markdown",
   "id": "7f0c6f9d-9031-441b-a395-82fc47a9df99",
   "metadata": {},
   "source": [
    "pandas methods"
   ]
  },
  {
   "cell_type": "code",
   "execution_count": 59,
   "id": "a3646928-b4f7-48b8-b2b2-470c03f6ee3c",
   "metadata": {},
   "outputs": [],
   "source": [
    "import pandas as pd\n",
    "start_date_deposits = pd.Series({\n",
    "    '7/4/2014'   : 2000,\n",
    "    '1/2/2015'   : 2000,\n",
    "    '12/8/2012'  : 1000,\n",
    "    '2/20/2015'  : 2000,\n",
    "    '10/28/2013' : 2000,\n",
    "    '4/19/2015'  : 2000,\n",
    "    '7/4/2016'   : 2000,\n",
    "    '4/24/2014'  : 2000,\n",
    "    '9/3/2015'   : 4000,\n",
    "    '7/25/2016'  : 2000,\n",
    "    '5/1/2014'   : 2000,\n",
    "    '3/29/2013'  : 2000,\n",
    "    '10/3/2014'  : 2000,\n",
    "    '9/18/2015'  : 2500\n",
    "})"
   ]
  },
  {
   "cell_type": "code",
   "execution_count": 62,
   "id": "3b9eecf5-72fe-4058-b0fd-a76bb713912d",
   "metadata": {},
   "outputs": [
    {
     "name": "stdout",
     "output_type": "stream",
     "text": [
      "7/4/2014      2000\n",
      "1/2/2015      2000\n",
      "12/8/2012     1000\n",
      "2/20/2015     2000\n",
      "10/28/2013    2000\n",
      "4/19/2015     2000\n",
      "7/4/2016      2000\n",
      "4/24/2014     2000\n",
      "9/3/2015      4000\n",
      "7/25/2016     2000\n",
      "5/1/2014      2000\n",
      "3/29/2013     2000\n",
      "10/3/2014     2000\n",
      "9/18/2015     2500\n",
      "dtype: int64\n"
     ]
    }
   ],
   "source": [
    "print(start_date_deposits)"
   ]
  },
  {
   "cell_type": "code",
   "execution_count": 63,
   "id": "a89106e9-4df5-402c-b1ca-1f0619d0a93f",
   "metadata": {},
   "outputs": [
    {
     "name": "stdout",
     "output_type": "stream",
     "text": [
      "29500\n",
      "1000\n",
      "4000\n",
      "9/3/2015\n",
      "12/8/2012\n"
     ]
    }
   ],
   "source": [
    "print(start_date_deposits.sum())\n",
    "print(start_date_deposits.min())\n",
    "print(start_date_deposits.max())\n",
    "print(start_date_deposits.idxmax())\n",
    "print(start_date_deposits.idxmin())"
   ]
  },
  {
   "cell_type": "code",
   "execution_count": 64,
   "id": "95bbc08f-ec1d-4ade-8263-67cbea03eeea",
   "metadata": {},
   "outputs": [
    {
     "name": "stdout",
     "output_type": "stream",
     "text": [
      "7/4/2014      2000\n",
      "1/2/2015      2000\n",
      "12/8/2012     1000\n",
      "2/20/2015     2000\n",
      "10/28/2013    2000\n",
      "dtype: int64\n",
      "7/25/2016    2000\n",
      "5/1/2014     2000\n",
      "3/29/2013    2000\n",
      "10/3/2014    2000\n",
      "9/18/2015    2500\n",
      "dtype: int64\n"
     ]
    }
   ],
   "source": [
    "#these are pandas specific methods\n",
    "print(start_date_deposits.head())\n",
    "print(start_date_deposits.tail())"
   ]
  },
  {
   "cell_type": "code",
   "execution_count": 65,
   "id": "828dd51c-b7ed-441b-9a98-38124bd8f250",
   "metadata": {},
   "outputs": [
    {
     "name": "stdout",
     "output_type": "stream",
     "text": [
      "7/4/2014     2000\n",
      "1/2/2015     2000\n",
      "12/8/2012    1000\n",
      "dtype: int64\n"
     ]
    }
   ],
   "source": [
    "print(start_date_deposits.head(3))"
   ]
  },
  {
   "cell_type": "code",
   "execution_count": 66,
   "id": "1936982e-e44f-4d49-a8ed-b4e229b313a5",
   "metadata": {},
   "outputs": [
    {
     "name": "stdout",
     "output_type": "stream",
     "text": [
      "7/4/2014      2000\n",
      "1/2/2015      2000\n",
      "12/8/2012     1000\n",
      "2/20/2015     2000\n",
      "10/28/2013    2000\n",
      "4/19/2015     2000\n",
      "7/4/2016      2000\n",
      "4/24/2014     2000\n",
      "9/3/2015      4000\n",
      "7/25/2016     2000\n",
      "dtype: int64\n"
     ]
    }
   ],
   "source": [
    "print(start_date_deposits.head(10))"
   ]
  },
  {
   "cell_type": "markdown",
   "id": "83932573-2883-447f-be96-9cc0ff64954f",
   "metadata": {},
   "source": [
    "Pandas DataFrames"
   ]
  },
  {
   "cell_type": "markdown",
   "id": "e0d50e4b-25fb-4e67-aaa9-57cdd068fb2d",
   "metadata": {},
   "source": [
    "Creating a dataframe a dictionary of lists"
   ]
  },
  {
   "cell_type": "code",
   "execution_count": 67,
   "id": "5e9fe5f5-9c0e-4eae-817d-3ea2dbb478dd",
   "metadata": {},
   "outputs": [],
   "source": [
    "import pandas as pd"
   ]
  },
  {
   "cell_type": "code",
   "execution_count": 68,
   "id": "d399fe93-6f13-49cc-9bb0-6caee0e26ef2",
   "metadata": {},
   "outputs": [
    {
     "name": "stdout",
     "output_type": "stream",
     "text": [
      "  products name  product price\n",
      "0     product A          10000\n",
      "1     product B          20000\n",
      "2     product C          30000\n"
     ]
    }
   ],
   "source": [
    "data={'products name':['product A','product B','product C'],'product price':[10000,20000,30000]}\n",
    "df=pd.DataFrame(data)\n",
    "print(df)"
   ]
  },
  {
   "cell_type": "markdown",
   "id": "f32c0a54-9077-48dc-b0db-0e8896cd0c96",
   "metadata": {},
   "source": [
    "Creating a dataframe a dictionary of lists+specific index"
   ]
  },
  {
   "cell_type": "code",
   "execution_count": 69,
   "id": "c93a94b2-d1b7-4d06-ae73-1fad3a0c19f1",
   "metadata": {},
   "outputs": [
    {
     "name": "stdout",
     "output_type": "stream",
     "text": [
      "  products name  product price\n",
      "A     product A          10000\n",
      "B     product B          20000\n",
      "C     product C          30000\n"
     ]
    }
   ],
   "source": [
    "data={'products name':['product A','product B','product C'],'product price':[10000,20000,30000]}\n",
    "df=pd.DataFrame(data,index=['A','B','C'])\n",
    "print(df)"
   ]
  },
  {
   "cell_type": "code",
   "execution_count": 70,
   "id": "da29675b-7186-4bc3-a5ae-c5914dc210f8",
   "metadata": {},
   "outputs": [
    {
     "name": "stdout",
     "output_type": "stream",
     "text": [
      "  products name  product price\n",
      "A     product A          10000\n",
      "B     product B          20000\n",
      "C     product C          30000\n"
     ]
    }
   ],
   "source": [
    "data={'products name':['product A','product B','product C'],'product price':[10000,20000,30000]}\n",
    "product_index=['A','B','C']\n",
    "df=pd.DataFrame(data,index=product_index)\n",
    "print(df)"
   ]
  },
  {
   "cell_type": "markdown",
   "id": "2bcb4d48-ecc2-43bd-bd5f-df9bcfd4e61f",
   "metadata": {},
   "source": [
    "Creating Dataframe from list of dictionaries"
   ]
  },
  {
   "cell_type": "code",
   "execution_count": 71,
   "id": "637a8981-54e8-40d5-ba06-98c5f138d92d",
   "metadata": {},
   "outputs": [
    {
     "name": "stdout",
     "output_type": "stream",
     "text": [
      "  product name  product prize\n",
      "0    product A          10000\n",
      "1    product B          20000\n",
      "2    product C          30000\n"
     ]
    }
   ],
   "source": [
    "data=[{'product name':'product A','product prize':10000},\n",
    "       {'product name':'product B','product prize':20000},\n",
    "       {'product name':'product C','product prize':30000}\n",
    "     ]\n",
    "df=pd.DataFrame(data)\n",
    "print(df)"
   ]
  },
  {
   "cell_type": "code",
   "execution_count": 72,
   "id": "5fa3bf2f-693b-4bfb-9b05-b20749b7eca5",
   "metadata": {},
   "outputs": [
    {
     "name": "stdout",
     "output_type": "stream",
     "text": [
      "  product name   product prize\n",
      "0    product A           10000\n",
      "1    product B           20000\n",
      "2    product C  [30000, 50000]\n"
     ]
    }
   ],
   "source": [
    "data=[{'product name':'product A','product prize':10000},\n",
    "       {'product name':'product B','product prize':20000},\n",
    "       {'product name':'product C','product prize':[30000,50000]}\n",
    "     ]\n",
    "df=pd.DataFrame(data)\n",
    "print(df)"
   ]
  },
  {
   "cell_type": "markdown",
   "id": "54a1d924-e7fc-488c-8219-c75ad0f4f9a6",
   "metadata": {},
   "source": [
    "Creating a Dataframe from a dictionary of pandas series\n"
   ]
  },
  {
   "cell_type": "code",
   "execution_count": 75,
   "id": "33ffc565-6046-4b68-a90d-bbaea7f684a5",
   "metadata": {},
   "outputs": [
    {
     "name": "stdout",
     "output_type": "stream",
     "text": [
      "0    product A\n",
      "1    product B\n",
      "2    product C\n",
      "dtype: object\n",
      "0    10000\n",
      "1    20000\n",
      "2    30000\n",
      "dtype: int64\n"
     ]
    }
   ],
   "source": [
    "series_product=pd.Series(['product A','product B','product C'])\n",
    "series_price=pd.Series([10000,20000,30000])\n",
    "print(series_product)\n",
    "print(series_price)"
   ]
  },
  {
   "cell_type": "code",
   "execution_count": 76,
   "id": "26b342ff-e37c-487d-b051-d3fb2c724327",
   "metadata": {},
   "outputs": [
    {
     "name": "stdout",
     "output_type": "stream",
     "text": [
      "  product name  product price\n",
      "0    product A          10000\n",
      "1    product B          20000\n",
      "2    product C          30000\n"
     ]
    }
   ],
   "source": [
    "data={'product name':series_product,'product price':series_price}\n",
    "df=pd.DataFrame(data)\n",
    "print(df)"
   ]
  },
  {
   "cell_type": "markdown",
   "id": "f37bab3a-cf1d-4800-8518-4b2e9d24c5a5",
   "metadata": {},
   "source": [
    "Creating a Dataframe from a dictionary of pandas series+indices"
   ]
  },
  {
   "cell_type": "code",
   "execution_count": 77,
   "id": "f079ae81-f820-4105-9546-213fb2f1e313",
   "metadata": {},
   "outputs": [
    {
     "name": "stdout",
     "output_type": "stream",
     "text": [
      "  product name  product price\n",
      "A    product A          10000\n",
      "B    product B          20000\n",
      "C    product C          30000\n"
     ]
    }
   ],
   "source": [
    "series_product=pd.Series(['product A','product B','product C'],index=['A','B','C'])\n",
    "series_price=pd.Series([10000,20000,30000],index=['A','B','C'])\n",
    "data={'product name':series_product,'product price':series_price}\n",
    "df=pd.DataFrame(data)\n",
    "print(df)"
   ]
  },
  {
   "cell_type": "code",
   "execution_count": 78,
   "id": "6441bbeb-3d98-40f2-bc56-79dcc3917d03",
   "metadata": {},
   "outputs": [
    {
     "name": "stdout",
     "output_type": "stream",
     "text": [
      "  product name  product price\n",
      "A    product A          30000\n",
      "B    product B          20000\n",
      "C    product C          10000\n"
     ]
    }
   ],
   "source": [
    "series_product=pd.Series(['product A','product B','product C'],index=['A','B','C'])\n",
    "series_price=pd.Series([10000,20000,30000],index=['C','B','A'])\n",
    "data={'product name':series_product,'product price':series_price}\n",
    "df=pd.DataFrame(data)\n",
    "print(df)"
   ]
  },
  {
   "cell_type": "markdown",
   "id": "da4ea1af-3bf5-4d8e-ab11-35b2a1c87b82",
   "metadata": {},
   "source": [
    "Creation of DataFrame from list of lists"
   ]
  },
  {
   "cell_type": "code",
   "execution_count": 79,
   "id": "ee2dc935-dc90-49ed-a7c7-743a65a6a236",
   "metadata": {},
   "outputs": [
    {
     "name": "stdout",
     "output_type": "stream",
     "text": [
      "           0      1\n",
      "0  product A  10000\n",
      "1  product B  20000\n",
      "2  product C  30000\n"
     ]
    }
   ],
   "source": [
    "data=[['product A',10000],['product B',20000],['product C',30000]]\n",
    "df=pd.DataFrame(data)\n",
    "print(df)"
   ]
  },
  {
   "cell_type": "code",
   "execution_count": 80,
   "id": "3e99e244-b49f-4001-8ce6-87a70c62e74c",
   "metadata": {},
   "outputs": [
    {
     "name": "stdout",
     "output_type": "stream",
     "text": [
      "           0        1\n",
      "0  product A  10000.0\n",
      "1  product B  20000.0\n",
      "2  product C      NaN\n"
     ]
    }
   ],
   "source": [
    "#this method also includes NaN if there is a null or missing value\n",
    "data=[['product A',10000],['product B',20000],['product C']]\n",
    "df=pd.DataFrame(data)\n",
    "print(df)"
   ]
  },
  {
   "cell_type": "code",
   "execution_count": 85,
   "id": "4e203e9d-1eb1-4861-a2a8-20ff86ca7fbe",
   "metadata": {},
   "outputs": [
    {
     "name": "stdout",
     "output_type": "stream",
     "text": [
      "  product name  product price\n",
      "A    product A        10000.0\n",
      "B    product B        20000.0\n",
      "C    product C            NaN\n"
     ]
    }
   ],
   "source": [
    "#we have to set column and indices in this method\n",
    "df.columns=['product name','product price']\n",
    "df.index=['A','B','C']\n",
    "print(df)"
   ]
  },
  {
   "cell_type": "markdown",
   "id": "94a23c06-2cc2-4337-ae42-a67467d1bbfd",
   "metadata": {},
   "source": [
    "Creating a DataFrame in a professional way"
   ]
  },
  {
   "cell_type": "code",
   "execution_count": 87,
   "id": "0b47f6d2-8dbc-4d1e-8271-6edb28ec3e4d",
   "metadata": {},
   "outputs": [
    {
     "name": "stdout",
     "output_type": "stream",
     "text": [
      "  Product Name  product price\n",
      "A    product A          10000\n",
      "B    product B          20000\n",
      "C    product C          30000\n"
     ]
    }
   ],
   "source": [
    "df=pd.DataFrame(data=[['product A',10000],['product B',20000],['product C',30000]],columns=['Product Name','product price'],index=['A','B','C'])\n",
    "print(df)"
   ]
  },
  {
   "cell_type": "code",
   "execution_count": 88,
   "id": "5438d9d2-6654-4128-9bdd-8b6803aed028",
   "metadata": {},
   "outputs": [
    {
     "data": {
      "text/plain": [
       "(3, 2)"
      ]
     },
     "execution_count": 88,
     "metadata": {},
     "output_type": "execute_result"
    }
   ],
   "source": [
    "df.shape"
   ]
  },
  {
   "cell_type": "code",
   "execution_count": null,
   "id": "34336462-248d-4eb1-a052-d89f956bfcb3",
   "metadata": {},
   "outputs": [],
   "source": []
  },
  {
   "cell_type": "code",
   "execution_count": null,
   "id": "dcc8484d-2179-4b0d-a015-3738a23fe1b8",
   "metadata": {},
   "outputs": [],
   "source": []
  },
  {
   "cell_type": "code",
   "execution_count": null,
   "id": "f3eb298d-448c-48f3-bfcf-a5983ee1bca8",
   "metadata": {},
   "outputs": [],
   "source": []
  }
 ],
 "metadata": {
  "kernelspec": {
   "display_name": "Python [conda env:base] *",
   "language": "python",
   "name": "conda-base-py"
  },
  "language_info": {
   "codemirror_mode": {
    "name": "ipython",
    "version": 3
   },
   "file_extension": ".py",
   "mimetype": "text/x-python",
   "name": "python",
   "nbconvert_exporter": "python",
   "pygments_lexer": "ipython3",
   "version": "3.12.7"
  }
 },
 "nbformat": 4,
 "nbformat_minor": 5
}

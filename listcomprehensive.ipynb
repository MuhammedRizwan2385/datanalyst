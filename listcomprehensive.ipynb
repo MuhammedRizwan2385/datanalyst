{
 "cells": [
  {
   "cell_type": "markdown",
   "id": "d4cf4e30-3bab-49e5-8b50-7fd4e6667b98",
   "metadata": {},
   "source": [
    "List comprehensive.\n",
    "it means creating a new list from an existing list.list comprehensive offers a shorter syntax while creating a new list based on the values from an existing list.\n",
    "syntax:\n",
    "new_list=[expression  for item in iterable if condition==true ]"
   ]
  },
  {
   "cell_type": "code",
   "execution_count": 3,
   "id": "9725cdf9-1756-4907-9892-44c2b4ce81ee",
   "metadata": {},
   "outputs": [
    {
     "name": "stdout",
     "output_type": "stream",
     "text": [
      "[1, 9, 169, 225, 400]\n"
     ]
    }
   ],
   "source": [
    "#exercise 1\n",
    "numbers=[1,3,13,15,20]\n",
    "numbers_sq=[i**2 for i in numbers]\n",
    "print(numbers_sq)"
   ]
  },
  {
   "cell_type": "code",
   "execution_count": 5,
   "id": "a33d5489-5019-446d-b2e5-6e7915256226",
   "metadata": {},
   "outputs": [
    {
     "name": "stdout",
     "output_type": "stream",
     "text": [
      "[2, 6, 26, 30, 40]\n"
     ]
    }
   ],
   "source": [
    "#exercise 2\n",
    "numbers_double=[i*2 for i in numbers]\n",
    "print(numbers_double)"
   ]
  },
  {
   "cell_type": "code",
   "execution_count": 10,
   "id": "1d15dbb1-d611-4457-ad35-125aa0b46ba8",
   "metadata": {},
   "outputs": [
    {
     "name": "stdout",
     "output_type": "stream",
     "text": [
      "0 1 2 3 4 1 2 3 4 5 "
     ]
    }
   ],
   "source": [
    "#exercise 3\n",
    "#perform the following by using list comprehensive\n",
    "for i in range(2):\n",
    "    for j in range(5):\n",
    "        print(i+j,end=' ')"
   ]
  },
  {
   "cell_type": "code",
   "execution_count": 8,
   "id": "dc35f783-1d7d-4c0a-ad9c-060c11ba10d8",
   "metadata": {},
   "outputs": [
    {
     "name": "stdout",
     "output_type": "stream",
     "text": [
      "[0, 1, 2, 3, 4, 1, 2, 3, 4, 5]\n"
     ]
    }
   ],
   "source": [
    "#using list comprehensive\n",
    "new_list=[i+j for i in range(2) for j in range(5)]\n",
    "print(new_list)"
   ]
  },
  {
   "cell_type": "code",
   "execution_count": 11,
   "id": "ee62543a-bd0b-4f66-9fc2-e2205be6250d",
   "metadata": {},
   "outputs": [
    {
     "name": "stdout",
     "output_type": "stream",
     "text": [
      "[[0, 1], [1, 2], [2, 3], [3, 4], [4, 5]]\n"
     ]
    }
   ],
   "source": [
    "new_list=[[i+j for i in range(2) ]for j in range(5)]\n",
    "print(new_list)"
   ]
  },
  {
   "cell_type": "code",
   "execution_count": 15,
   "id": "8054c1b3-7d69-4a89-aad6-6172cd8ce3ce",
   "metadata": {},
   "outputs": [
    {
     "data": {
      "text/plain": [
       "[1, 27, 125, 343, 729]"
      ]
     },
     "execution_count": 15,
     "metadata": {},
     "output_type": "execute_result"
    }
   ],
   "source": [
    "new_list5=[i**3 for i in range(1,11) if i%2!=0]\n",
    "new_list5"
   ]
  },
  {
   "cell_type": "code",
   "execution_count": 17,
   "id": "44073241-b3be-4ac6-856a-f9484e8f65a8",
   "metadata": {},
   "outputs": [
    {
     "data": {
      "text/plain": [
       "[1, 'even', 27, 'even', 125, 'even', 343, 'even', 729, 'even']"
      ]
     },
     "execution_count": 17,
     "metadata": {},
     "output_type": "execute_result"
    }
   ],
   "source": [
    "new_list5=[i**3 if i%2!=0 else 'even' for i in range(1,11)]\n",
    "new_list5"
   ]
  },
  {
   "cell_type": "code",
   "execution_count": 19,
   "id": "bbf74abb-d155-4508-ba4b-13b075c597c9",
   "metadata": {},
   "outputs": [
    {
     "name": "stdout",
     "output_type": "stream",
     "text": [
      "[20, 40, 60, 80, 100]\n"
     ]
    }
   ],
   "source": [
    "list1=[i*10 for i in range(1,11)if i%2==0]\n",
    "print(list1)"
   ]
  },
  {
   "cell_type": "code",
   "execution_count": null,
   "id": "7bda3bb9-52f0-42f3-baf2-9eda8c3da398",
   "metadata": {},
   "outputs": [],
   "source": []
  }
 ],
 "metadata": {
  "kernelspec": {
   "display_name": "Python [conda env:base] *",
   "language": "python",
   "name": "conda-base-py"
  },
  "language_info": {
   "codemirror_mode": {
    "name": "ipython",
    "version": 3
   },
   "file_extension": ".py",
   "mimetype": "text/x-python",
   "name": "python",
   "nbconvert_exporter": "python",
   "pygments_lexer": "ipython3",
   "version": "3.12.7"
  }
 },
 "nbformat": 4,
 "nbformat_minor": 5
}

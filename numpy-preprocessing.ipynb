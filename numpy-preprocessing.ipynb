{
 "cells": [
  {
   "cell_type": "markdown",
   "id": "65981fe1-84d5-440e-b7e5-0ac9d90ac265",
   "metadata": {},
   "source": [
    "# Preprocessing with numpy\n"
   ]
  },
  {
   "cell_type": "code",
   "execution_count": 1,
   "id": "c8af16d1-030b-4a85-b25b-4441babf4f0e",
   "metadata": {},
   "outputs": [],
   "source": [
    "import numpy as np"
   ]
  },
  {
   "cell_type": "markdown",
   "id": "b627271b-77cd-4ca1-a3f3-832e948f9268",
   "metadata": {},
   "source": [
    "1.checking for missing values\n",
    "np.isnan(): Return an array with the same shape and size as the one we input.\n",
    "every individual element of the original array  is replaced with a boolean(True/False) :True :missing value.\n",
    "np.isnan(filename).sum():it will return the total no:of missing values.\n",
    "missing values are filled with highest value in dataset....\n",
    "hh=np.genfromtxt(filename,delimiter=)\n",
    "t=np.nanmax(hh).round(2)+1\n",
    "once again import....\n",
    "hh=np.genfromtxt(filename,delimiter='',filling_values=t)\n"
   ]
  },
  {
   "cell_type": "code",
   "execution_count": 3,
   "id": "f33e9d92-c462-429d-8e27-a963b4817089",
   "metadata": {},
   "outputs": [
    {
     "data": {
      "text/plain": [
       "array([[ 2000.,    40.,   365.,  3121.,  4241., 13621.],\n",
       "       [ 2000.,    40.,   365.,  3061.,  4171., 15041.],\n",
       "       [ 1000.,    40.,   365.,  2160.,  3280., 15340.],\n",
       "       ...,\n",
       "       [ 2000.,    40.,   365.,  4201.,  5001., 16600.],\n",
       "       [ 1000.,    40.,   365.,  2080.,  3320., 15600.],\n",
       "       [ 2000.,    40.,   365.,  4601.,  4601., 16600.]], shape=(1043, 6))"
      ]
     },
     "execution_count": 3,
     "metadata": {},
     "output_type": "execute_result"
    }
   ],
   "source": [
    "filename=r\"D:\\dataanalyst\\Data Analyst Course\\S27 - NumPy Preprocessing\\Lending-company-Numeric.csv\"\n",
    "lending_co_data_numeric=np.loadtxt(filename,delimiter=',')\n",
    "lending_co_data_numeric"
   ]
  },
  {
   "cell_type": "code",
   "execution_count": 5,
   "id": "4c9aeb3f-e3cf-491d-b9d4-08f2978ffa9a",
   "metadata": {},
   "outputs": [
    {
     "data": {
      "text/plain": [
       "array([[False, False, False, False, False, False],\n",
       "       [False, False, False, False, False, False],\n",
       "       [False, False, False, False, False, False],\n",
       "       ...,\n",
       "       [False, False, False, False, False, False],\n",
       "       [False, False, False, False, False, False],\n",
       "       [False, False, False, False, False, False]], shape=(1043, 6))"
      ]
     },
     "execution_count": 5,
     "metadata": {},
     "output_type": "execute_result"
    }
   ],
   "source": [
    "np.isnan(lending_co_data_numeric)"
   ]
  },
  {
   "cell_type": "code",
   "execution_count": 6,
   "id": "8764c132-4609-44eb-8e28-ce65f98077dc",
   "metadata": {},
   "outputs": [
    {
     "data": {
      "text/plain": [
       "np.int64(0)"
      ]
     },
     "execution_count": 6,
     "metadata": {},
     "output_type": "execute_result"
    }
   ],
   "source": [
    "np.isnan(lending_co_data_numeric).sum()"
   ]
  },
  {
   "cell_type": "code",
   "execution_count": 12,
   "id": "4c406650-81e6-4d62-afb3-0cbfbdcd21e4",
   "metadata": {},
   "outputs": [
    {
     "data": {
      "text/plain": [
       "np.int64(260)"
      ]
     },
     "execution_count": 12,
     "metadata": {},
     "output_type": "execute_result"
    }
   ],
   "source": [
    "#checking another file.\n",
    "import numpy as np\n",
    "filename=r\"D:\\dataanalyst\\Data Analyst Course\\S27 - NumPy Preprocessing\\Lending-company-Numeric-NAN.csv\"\n",
    "lending_co_data_nan=np.genfromtxt(filename,delimiter=';')\n",
    "np.isnan(lending_co_data_nan).sum()\n"
   ]
  },
  {
   "cell_type": "code",
   "execution_count": 13,
   "id": "78a4dfce-425f-4690-8fa2-627603e66937",
   "metadata": {},
   "outputs": [
    {
     "data": {
      "text/plain": [
       "np.int64(0)"
      ]
     },
     "execution_count": 13,
     "metadata": {},
     "output_type": "execute_result"
    }
   ],
   "source": [
    "#we can fill values while loading.\n",
    "import numpy as np\n",
    "filename=r\"D:\\dataanalyst\\Data Analyst Course\\S27 - NumPy Preprocessing\\Lending-company-Numeric-NAN.csv\"\n",
    "lending_co_data_nan=np.genfromtxt(filename,delimiter=';',filling_values=0)\n",
    "np.isnan(lending_co_data_nan).sum()"
   ]
  },
  {
   "cell_type": "code",
   "execution_count": 17,
   "id": "ad6b7dca-4adc-43ee-adb7-3105531c353f",
   "metadata": {},
   "outputs": [
    {
     "data": {
      "text/plain": [
       "np.float64(64002.0)"
      ]
     },
     "execution_count": 17,
     "metadata": {},
     "output_type": "execute_result"
    }
   ],
   "source": [
    "#1st approach:fill value with highest value in the dataset.\n",
    "import numpy as np\n",
    "filename=r\"D:\\dataanalyst\\Data Analyst Course\\S27 - NumPy Preprocessing\\Lending-company-Numeric-NAN.csv\"\n",
    "lending_co_data_nan=np.genfromtxt(filename,delimiter=';')\n",
    "temp=np.nanmax(lending_co_data_nan).round(2)+1\n",
    "temp"
   ]
  },
  {
   "cell_type": "code",
   "execution_count": 19,
   "id": "13004b0a-72ca-4cb7-9ef6-20651735a928",
   "metadata": {},
   "outputs": [
    {
     "data": {
      "text/plain": [
       "array([[False, False, False, False, False, False],\n",
       "       [False, False, False, False, False, False],\n",
       "       [False, False, False, False, False, False],\n",
       "       ...,\n",
       "       [False, False, False, False, False, False],\n",
       "       [False, False, False, False, False, False],\n",
       "       [False, False, False, False, False, False]], shape=(1043, 6))"
      ]
     },
     "execution_count": 19,
     "metadata": {},
     "output_type": "execute_result"
    }
   ],
   "source": [
    "#filling with new value.\n",
    "import numpy as np\n",
    "filename=r\"D:\\dataanalyst\\Data Analyst Course\\S27 - NumPy Preprocessing\\Lending-company-Numeric-NAN.csv\"\n",
    "lending_co_data_nan=np.genfromtxt(filename,delimiter=';',filling_values=temp)\n",
    "np.isnan(lending_co_data_nan)"
   ]
  },
  {
   "cell_type": "code",
   "execution_count": 20,
   "id": "2c601066-1bee-4cde-b4a5-92bb343174fb",
   "metadata": {},
   "outputs": [
    {
     "data": {
      "text/plain": [
       "np.int64(0)"
      ]
     },
     "execution_count": 20,
     "metadata": {},
     "output_type": "execute_result"
    }
   ],
   "source": [
    "np.isnan(lending_co_data_nan).sum()\n"
   ]
  },
  {
   "cell_type": "markdown",
   "id": "e0fc944e-d04b-475f-abd6-13dd9d742c44",
   "metadata": {},
   "source": [
    "2. substituting missing values in nd array:\n",
    "\n",
    "np.where()"
   ]
  },
  {
   "cell_type": "code",
   "execution_count": 21,
   "id": "80493778-3c85-4cb7-a2cf-37b387124329",
   "metadata": {},
   "outputs": [
    {
     "data": {
      "text/plain": [
       "array([[ 2000.,    40.,   365.,  3121.,  4241., 13621.],\n",
       "       [ 2000.,    40.,   365.,  3061.,  4171., 15041.],\n",
       "       [ 1000.,    40.,   365.,  2160.,  3280., 15340.],\n",
       "       ...,\n",
       "       [   nan,    40.,   365.,  4201.,  5001., 16600.],\n",
       "       [ 1000.,    40.,   365.,  2080.,  3320., 15600.],\n",
       "       [ 2000.,    40.,   365.,  4601.,  4601., 16600.]], shape=(1043, 6))"
      ]
     },
     "execution_count": 21,
     "metadata": {},
     "output_type": "execute_result"
    }
   ],
   "source": [
    "import numpy as np\n",
    "filename=r\"D:\\dataanalyst\\Data Analyst Course\\S27 - NumPy Preprocessing\\Lending-company-Numeric-NAN.csv\"\n",
    "lending_co_data_numeric_nan=np.genfromtxt(filename,delimiter=';')\n",
    "lending_co_data_numeric_nan\n"
   ]
  },
  {
   "cell_type": "code",
   "execution_count": 25,
   "id": "7a5bffea-a388-4e74-9441-6e42fb594c58",
   "metadata": {},
   "outputs": [
    {
     "data": {
      "text/plain": [
       "np.float64(2257.43)"
      ]
     },
     "execution_count": 25,
     "metadata": {},
     "output_type": "execute_result"
    }
   ],
   "source": [
    "temporary_mean=np.mean(lending_co_data_numeric,axis=0).round(2)\n",
    "temporary_mean[0]"
   ]
  },
  {
   "cell_type": "code",
   "execution_count": 27,
   "id": "a2861094-f4c8-4b66-ba59-f83b51d297e8",
   "metadata": {},
   "outputs": [
    {
     "data": {
      "text/plain": [
       "np.float64(64002.0)"
      ]
     },
     "execution_count": 27,
     "metadata": {},
     "output_type": "execute_result"
    }
   ],
   "source": [
    "temporary_fill=np.nanmax(lending_co_data_numeric_nan).round(2)+1\n",
    "temporary_fill"
   ]
  },
  {
   "cell_type": "code",
   "execution_count": 29,
   "id": "8fc5c716-e16d-41ad-a765-0451db830074",
   "metadata": {},
   "outputs": [
    {
     "data": {
      "text/plain": [
       "array([[2.0000e+03, 4.0000e+01, 3.6500e+02, 3.1210e+03, 4.2410e+03,\n",
       "        1.3621e+04],\n",
       "       [2.0000e+03, 4.0000e+01, 3.6500e+02, 3.0610e+03, 4.1710e+03,\n",
       "        1.5041e+04],\n",
       "       [1.0000e+03, 4.0000e+01, 3.6500e+02, 2.1600e+03, 3.2800e+03,\n",
       "        1.5340e+04],\n",
       "       ...,\n",
       "       [6.4002e+04, 4.0000e+01, 3.6500e+02, 4.2010e+03, 5.0010e+03,\n",
       "        1.6600e+04],\n",
       "       [1.0000e+03, 4.0000e+01, 3.6500e+02, 2.0800e+03, 3.3200e+03,\n",
       "        1.5600e+04],\n",
       "       [2.0000e+03, 4.0000e+01, 3.6500e+02, 4.6010e+03, 4.6010e+03,\n",
       "        1.6600e+04]], shape=(1043, 6))"
      ]
     },
     "execution_count": 29,
     "metadata": {},
     "output_type": "execute_result"
    }
   ],
   "source": [
    "import numpy as np\n",
    "filename=r\"D:\\dataanalyst\\Data Analyst Course\\S27 - NumPy Preprocessing\\Lending-company-Numeric-NAN.csv\"\n",
    "lending_co_data_numeric_nan=np.genfromtxt(filename,delimiter=';',filling_values=temporary_fill)\n",
    "lending_co_data_numeric_nan"
   ]
  },
  {
   "cell_type": "code",
   "execution_count": 33,
   "id": "307f89e9-7637-4437-8b61-ad7c6da098d9",
   "metadata": {},
   "outputs": [],
   "source": [
    "for i in range(lending_co_data_numeric_nan.shape[1]):\n",
    "    lending_co_data_numeric_nan[:,i]=np.where(lending_co_data_numeric_nan[:,i]==temporary_fill,temporary_mean[i],lending_co_data_numeric_nan[:,i])"
   ]
  },
  {
   "cell_type": "code",
   "execution_count": 34,
   "id": "2e2888b7-1270-4dc3-8a2f-546b13bd5b19",
   "metadata": {
    "scrolled": true
   },
   "outputs": [
    {
     "data": {
      "text/plain": [
       "array([[ 2000.  ,    40.  ,   365.  ,  3121.  ,  4241.  , 13621.  ],\n",
       "       [ 2000.  ,    40.  ,   365.  ,  3061.  ,  4171.  , 15041.  ],\n",
       "       [ 1000.  ,    40.  ,   365.  ,  2160.  ,  3280.  , 15340.  ],\n",
       "       ...,\n",
       "       [ 2257.43,    40.  ,   365.  ,  4201.  ,  5001.  , 16600.  ],\n",
       "       [ 1000.  ,    40.  ,   365.  ,  2080.  ,  3320.  , 15600.  ],\n",
       "       [ 2000.  ,    40.  ,   365.  ,  4601.  ,  4601.  , 16600.  ]],\n",
       "      shape=(1043, 6))"
      ]
     },
     "execution_count": 34,
     "metadata": {},
     "output_type": "execute_result"
    }
   ],
   "source": [
    "lending_co_data_numeric_nan"
   ]
  },
  {
   "cell_type": "code",
   "execution_count": null,
   "id": "ba760050-7791-4329-9a15-a63352e4ea1c",
   "metadata": {},
   "outputs": [],
   "source": [
    "#if we need to replace -ve values......\n",
    "for i in range(lending_co_data_numeric_nan.shape[1]):\n",
    "    lending_co_data_numeric_nan[:,i]=np.where(lending_co_data_numeric_nan[:,i]<0,0,lending_co_data_numeric_nan[:,i])"
   ]
  },
  {
   "cell_type": "markdown",
   "id": "650acbbe-9b11-4b67-93e7-b71679e3c966",
   "metadata": {},
   "source": [
    "3.Reshaping"
   ]
  },
  {
   "cell_type": "code",
   "execution_count": 35,
   "id": "00ce9685-5ea8-49fe-9807-1aac799f1acf",
   "metadata": {},
   "outputs": [
    {
     "data": {
      "text/plain": [
       "array([[ 2000.,    40.,   365.,  3121.,  4241., 13621.],\n",
       "       [ 2000.,    40.,   365.,  3061.,  4171., 15041.],\n",
       "       [ 1000.,    40.,   365.,  2160.,  3280., 15340.],\n",
       "       ...,\n",
       "       [ 2000.,    40.,   365.,  4201.,  5001., 16600.],\n",
       "       [ 1000.,    40.,   365.,  2080.,  3320., 15600.],\n",
       "       [ 2000.,    40.,   365.,  4601.,  4601., 16600.]], shape=(1043, 6))"
      ]
     },
     "execution_count": 35,
     "metadata": {},
     "output_type": "execute_result"
    }
   ],
   "source": [
    "filename=r\"D:\\dataanalyst\\Data Analyst Course\\S27 - NumPy Preprocessing\\Lending-company-Numeric.csv\"\n",
    "lending_co_data_numeric=np.loadtxt(filename,delimiter=',')\n",
    "lending_co_data_numeric"
   ]
  },
  {
   "cell_type": "code",
   "execution_count": 36,
   "id": "f8b537ae-784d-45c2-ba1a-19964ca5ed4f",
   "metadata": {},
   "outputs": [
    {
     "data": {
      "text/plain": [
       "(1043, 6)"
      ]
     },
     "execution_count": 36,
     "metadata": {},
     "output_type": "execute_result"
    }
   ],
   "source": [
    "lending_co_data_numeric.shape"
   ]
  },
  {
   "cell_type": "code",
   "execution_count": 37,
   "id": "5bef94ac-939a-4d0a-aaa7-fa696eaa45a4",
   "metadata": {},
   "outputs": [
    {
     "data": {
      "text/plain": [
       "array([[ 2000.,    40.,   365., ...,   365.,  1581.,  3041.],\n",
       "       [12277.,  2000.,    40., ...,    50.,   365.,  5350.],\n",
       "       [ 6850., 15150.,  1000., ...,  2000.,    40.,   365.],\n",
       "       [ 3101.,  4351., 16600., ..., 16600.,  2000.,    40.],\n",
       "       [  365.,  3441.,  4661., ...,  8450., 22250.,  2000.],\n",
       "       [   40.,   365.,  3701., ...,  4601.,  4601., 16600.]],\n",
       "      shape=(6, 1043))"
      ]
     },
     "execution_count": 37,
     "metadata": {},
     "output_type": "execute_result"
    }
   ],
   "source": [
    "np.reshape(lending_co_data_numeric,(6,1043)) #1043*6=6*1043"
   ]
  },
  {
   "cell_type": "code",
   "execution_count": 38,
   "id": "eed2adbb-c89d-413e-828e-c95f7f237fcd",
   "metadata": {},
   "outputs": [
    {
     "data": {
      "text/plain": [
       "array([[ 2000.,    40.,   365., ...,    50.,   365.,  5350.],\n",
       "       [ 6850., 15150.,  1000., ..., 16600.,  2000.,    40.],\n",
       "       [  365.,  3441.,  4661., ...,  4601.,  4601., 16600.]],\n",
       "      shape=(3, 2086))"
      ]
     },
     "execution_count": 38,
     "metadata": {},
     "output_type": "execute_result"
    }
   ],
   "source": [
    "np.reshape(lending_co_data_numeric,(3,2086)) #1043*6=3*2086"
   ]
  },
  {
   "cell_type": "code",
   "execution_count": 39,
   "id": "3c279733-08f6-4f51-81df-b6d502992f7c",
   "metadata": {},
   "outputs": [
    {
     "data": {
      "text/plain": [
       "array([[[ 2000.,    40.,   365., ...,   365.,  1581.,  3041.],\n",
       "        [12277.,  2000.,    40., ...,    50.,   365.,  5350.],\n",
       "        [ 6850., 15150.,  1000., ...,  2000.,    40.,   365.]],\n",
       "\n",
       "       [[ 3101.,  4351., 16600., ..., 16600.,  2000.,    40.],\n",
       "        [  365.,  3441.,  4661., ...,  8450., 22250.,  2000.],\n",
       "        [   40.,   365.,  3701., ...,  4601.,  4601., 16600.]]],\n",
       "      shape=(2, 3, 1043))"
      ]
     },
     "execution_count": 39,
     "metadata": {},
     "output_type": "execute_result"
    }
   ],
   "source": [
    "np.reshape(lending_co_data_numeric,(2,3,1043)) #1043*6=2*3*1043\n",
    "#that is when we are reshaping the products of the dimensions should be equal."
   ]
  },
  {
   "cell_type": "code",
   "execution_count": 40,
   "id": "e8726bd4-b1d0-453f-8c3b-8f0a65543d69",
   "metadata": {},
   "outputs": [
    {
     "data": {
      "text/plain": [
       "array([[[[[ 2000.,    40.,   365., ...,   365.,  1581.,  3041.],\n",
       "          [12277.,  2000.,    40., ...,    50.,   365.,  5350.],\n",
       "          [ 6850., 15150.,  1000., ...,  2000.,    40.,   365.]],\n",
       "\n",
       "         [[ 3101.,  4351., 16600., ..., 16600.,  2000.,    40.],\n",
       "          [  365.,  3441.,  4661., ...,  8450., 22250.,  2000.],\n",
       "          [   40.,   365.,  3701., ...,  4601.,  4601., 16600.]]]]],\n",
       "      shape=(1, 1, 2, 3, 1043))"
      ]
     },
     "execution_count": 40,
     "metadata": {},
     "output_type": "execute_result"
    }
   ],
   "source": [
    "np.reshape(lending_co_data_numeric,(1,1,2,3,1043))\n",
    "\n",
    "#some functions only input arrays of multiple dimensions in that case we can give 1 like\n",
    "#this and can convert array into multiple dimensions."
   ]
  },
  {
   "cell_type": "code",
   "execution_count": 41,
   "id": "1b9b411a-1de1-4648-b306-863ecd34d731",
   "metadata": {},
   "outputs": [
    {
     "data": {
      "text/plain": [
       "array([[ 2000.,    40.,   365.,  3121.,  4241., 13621.],\n",
       "       [ 2000.,    40.,   365.,  3061.,  4171., 15041.],\n",
       "       [ 1000.,    40.,   365.,  2160.,  3280., 15340.],\n",
       "       ...,\n",
       "       [ 2000.,    40.,   365.,  4201.,  5001., 16600.],\n",
       "       [ 1000.,    40.,   365.,  2080.,  3320., 15600.],\n",
       "       [ 2000.,    40.,   365.,  4601.,  4601., 16600.]], shape=(1043, 6))"
      ]
     },
     "execution_count": 41,
     "metadata": {},
     "output_type": "execute_result"
    }
   ],
   "source": [
    "lending_co_data_numeric\n",
    "# np.reshape() : it will not change the original array."
   ]
  },
  {
   "cell_type": "code",
   "execution_count": 42,
   "id": "9defee86-3cf8-4f5c-8816-3d40055baf18",
   "metadata": {},
   "outputs": [
    {
     "data": {
      "text/plain": [
       "array([[ 2000.,    40.,   365., ...,   365.,  1581.,  3041.],\n",
       "       [12277.,  2000.,    40., ...,    50.,   365.,  5350.],\n",
       "       [ 6850., 15150.,  1000., ...,  2000.,    40.,   365.],\n",
       "       [ 3101.,  4351., 16600., ..., 16600.,  2000.,    40.],\n",
       "       [  365.,  3441.,  4661., ...,  8450., 22250.,  2000.],\n",
       "       [   40.,   365.,  3701., ...,  4601.,  4601., 16600.]],\n",
       "      shape=(6, 1043))"
      ]
     },
     "execution_count": 42,
     "metadata": {},
     "output_type": "execute_result"
    }
   ],
   "source": [
    "lending_co_data_numeric.reshape(6,1043)"
   ]
  },
  {
   "cell_type": "markdown",
   "id": "b2a2e49a-1120-49f4-b086-e4741347b12d",
   "metadata": {},
   "source": [
    "4.Removing values from array\n"
   ]
  },
  {
   "cell_type": "code",
   "execution_count": 43,
   "id": "1e710db2-a63f-4832-b7c0-3430c6d9213b",
   "metadata": {},
   "outputs": [],
   "source": [
    "import numpy as np"
   ]
  },
  {
   "cell_type": "code",
   "execution_count": 44,
   "id": "b53586ef-84c6-4112-97b9-fdf33e6a79b4",
   "metadata": {},
   "outputs": [
    {
     "data": {
      "text/plain": [
       "array([[ 2000.,    40.,   365.,  3121.,  4241., 13621.],\n",
       "       [ 2000.,    40.,   365.,  3061.,  4171., 15041.],\n",
       "       [ 1000.,    40.,   365.,  2160.,  3280., 15340.],\n",
       "       ...,\n",
       "       [ 2000.,    40.,   365.,  4201.,  5001., 16600.],\n",
       "       [ 1000.,    40.,   365.,  2080.,  3320., 15600.],\n",
       "       [ 2000.,    40.,   365.,  4601.,  4601., 16600.]], shape=(1043, 6))"
      ]
     },
     "execution_count": 44,
     "metadata": {},
     "output_type": "execute_result"
    }
   ],
   "source": [
    "filename=r\"D:\\dataanalyst\\Data Analyst Course\\S27 - NumPy Preprocessing\\Lending-company-Numeric.csv\"\n",
    "lending_co_data_numeric=np.loadtxt(filename,delimiter=',')\n",
    "lending_co_data_numeric"
   ]
  },
  {
   "cell_type": "code",
   "execution_count": 45,
   "id": "791f45eb-ef8d-4322-a7be-5e9f65d7a51d",
   "metadata": {},
   "outputs": [
    {
     "data": {
      "text/plain": [
       "array([   40.,   365.,  3121., ...,  4601.,  4601., 16600.], shape=(6257,))"
      ]
     },
     "execution_count": 45,
     "metadata": {},
     "output_type": "execute_result"
    }
   ],
   "source": [
    "np.delete(lending_co_data_numeric,0) #removed 1st element"
   ]
  },
  {
   "cell_type": "code",
   "execution_count": 46,
   "id": "08e1bd4d-e9e7-410e-aa84-c4c7099bb560",
   "metadata": {},
   "outputs": [
    {
     "data": {
      "text/plain": [
       "array([[ 2000.,    40.,   365.,  3061.,  4171., 15041.],\n",
       "       [ 1000.,    40.,   365.,  2160.,  3280., 15340.],\n",
       "       [ 2000.,    40.,   365.,  3041.,  4241., 15321.],\n",
       "       ...,\n",
       "       [ 2000.,    40.,   365.,  4201.,  5001., 16600.],\n",
       "       [ 1000.,    40.,   365.,  2080.,  3320., 15600.],\n",
       "       [ 2000.,    40.,   365.,  4601.,  4601., 16600.]], shape=(1042, 6))"
      ]
     },
     "execution_count": 46,
     "metadata": {},
     "output_type": "execute_result"
    }
   ],
   "source": [
    "np.delete(lending_co_data_numeric,0,axis=0) #removed 1st row"
   ]
  },
  {
   "cell_type": "code",
   "execution_count": 47,
   "id": "d4f0d724-d948-4ed3-a7c8-ffa8df2b4b3a",
   "metadata": {},
   "outputs": [
    {
     "data": {
      "text/plain": [
       "array([[ 2000.,    40.,   365.,  3121.,  4241., 13621.],\n",
       "       [ 1000.,    40.,   365.,  2160.,  3280., 15340.],\n",
       "       [ 2000.,    40.,   365.,  3041.,  4241., 15321.],\n",
       "       ...,\n",
       "       [ 2000.,    40.,   365.,  4201.,  5001., 16600.],\n",
       "       [ 1000.,    40.,   365.,  2080.,  3320., 15600.],\n",
       "       [ 2000.,    40.,   365.,  4601.,  4601., 16600.]], shape=(1042, 6))"
      ]
     },
     "execution_count": 47,
     "metadata": {},
     "output_type": "execute_result"
    }
   ],
   "source": [
    "np.delete(lending_co_data_numeric,1,axis=0) #removed 2nd row"
   ]
  },
  {
   "cell_type": "code",
   "execution_count": 49,
   "id": "f7b6c5d8-b7ed-4151-9a1f-a7c6272ff435",
   "metadata": {},
   "outputs": [
    {
     "data": {
      "text/plain": [
       "array([[   40.,   365.,  3121.,  4241., 13621.],\n",
       "       [   40.,   365.,  3061.,  4171., 15041.],\n",
       "       [   40.,   365.,  2160.,  3280., 15340.],\n",
       "       ...,\n",
       "       [   40.,   365.,  4201.,  5001., 16600.],\n",
       "       [   40.,   365.,  2080.,  3320., 15600.],\n",
       "       [   40.,   365.,  4601.,  4601., 16600.]], shape=(1043, 5))"
      ]
     },
     "execution_count": 49,
     "metadata": {},
     "output_type": "execute_result"
    }
   ],
   "source": [
    "np.delete(lending_co_data_numeric,0,axis=1) #removed 1st column"
   ]
  },
  {
   "cell_type": "code",
   "execution_count": 50,
   "id": "94a1835d-48e7-4e6a-8005-cd0b56a0d680",
   "metadata": {},
   "outputs": [
    {
     "data": {
      "text/plain": [
       "array([[ 2000.,   365.,  3121.,  4241., 13621.],\n",
       "       [ 2000.,   365.,  3061.,  4171., 15041.],\n",
       "       [ 1000.,   365.,  2160.,  3280., 15340.],\n",
       "       ...,\n",
       "       [ 2000.,   365.,  4201.,  5001., 16600.],\n",
       "       [ 1000.,   365.,  2080.,  3320., 15600.],\n",
       "       [ 2000.,   365.,  4601.,  4601., 16600.]], shape=(1043, 5))"
      ]
     },
     "execution_count": 50,
     "metadata": {},
     "output_type": "execute_result"
    }
   ],
   "source": [
    "np.delete(lending_co_data_numeric,1,axis=1) #removed 2nd column"
   ]
  },
  {
   "cell_type": "code",
   "execution_count": 51,
   "id": "d75a3e78-e2cb-4a43-a3fe-530572f5e734",
   "metadata": {},
   "outputs": [
    {
     "data": {
      "text/plain": [
       "array([[ 2000.,    40.,   365.,  3121.,  4241., 13621.],\n",
       "       [ 2000.,    40.,   365.,  3061.,  4171., 15041.],\n",
       "       [ 1000.,    40.,   365.,  2160.,  3280., 15340.],\n",
       "       ...,\n",
       "       [ 2000.,    40.,   365.,  4201.,  5001., 16600.],\n",
       "       [ 1000.,    40.,   365.,  2080.,  3320., 15600.],\n",
       "       [ 2000.,    40.,   365.,  4601.,  4601., 16600.]], shape=(1043, 6))"
      ]
     },
     "execution_count": 51,
     "metadata": {},
     "output_type": "execute_result"
    }
   ],
   "source": [
    "lending_co_data_numeric"
   ]
  },
  {
   "cell_type": "code",
   "execution_count": 52,
   "id": "d5200af5-78b8-4130-b164-8a4b4c5cfdd6",
   "metadata": {},
   "outputs": [
    {
     "data": {
      "text/plain": [
       "array([[   40.,  3121., 13621.],\n",
       "       [   40.,  3041., 15321.],\n",
       "       [   50.,  3470., 13720.],\n",
       "       ...,\n",
       "       [   40.,  4201., 16600.],\n",
       "       [   40.,  2080., 15600.],\n",
       "       [   40.,  4601., 16600.]], shape=(1040, 3))"
      ]
     },
     "execution_count": 52,
     "metadata": {},
     "output_type": "execute_result"
    }
   ],
   "source": [
    "#to delete 1st rows....2,3,6 and to delete columns 1,3,5\n",
    "np.delete(np.delete(lending_co_data_numeric,[1,2,5],axis=0),[0,2,4],axis=1)"
   ]
  },
  {
   "cell_type": "markdown",
   "id": "e8b2e55b-c8f1-4c50-a16b-5aa0f747fac6",
   "metadata": {},
   "source": [
    "4.Sorting Ndarrays"
   ]
  },
  {
   "cell_type": "code",
   "execution_count": 80,
   "id": "9987ce29-0cbb-48df-b4c0-6f81b1a478ef",
   "metadata": {},
   "outputs": [
    {
     "data": {
      "text/plain": [
       "array([[ 2000.,    40.,   365.,  3121.,  4241., 13621.],\n",
       "       [ 2000.,    40.,   365.,  3061.,  4171., 15041.],\n",
       "       [ 1000.,    40.,   365.,  2160.,  3280., 15340.],\n",
       "       ...,\n",
       "       [ 2000.,    40.,   365.,  4201.,  5001., 16600.],\n",
       "       [ 1000.,    40.,   365.,  2080.,  3320., 15600.],\n",
       "       [ 2000.,    40.,   365.,  4601.,  4601., 16600.]], shape=(1043, 6))"
      ]
     },
     "execution_count": 80,
     "metadata": {},
     "output_type": "execute_result"
    }
   ],
   "source": [
    "filename=r\"D:\\dataanalyst\\Data Analyst Course\\S27 - NumPy Preprocessing\\Lending-company-Numeric.csv\"\n",
    "lending_co_data_numeric=np.loadtxt(filename,delimiter=',')\n",
    "lending_co_data_numeric"
   ]
  },
  {
   "cell_type": "code",
   "execution_count": 81,
   "id": "322cd73c-ca08-462c-84bb-7a8d91e885e1",
   "metadata": {},
   "outputs": [
    {
     "data": {
      "text/plain": [
       "array([[   40.,   365.,  2000.,  3121.,  4241., 13621.],\n",
       "       [   40.,   365.,  2000.,  3061.,  4171., 15041.],\n",
       "       [   40.,   365.,  1000.,  2160.,  3280., 15340.],\n",
       "       ...,\n",
       "       [   40.,   365.,  2000.,  4201.,  5001., 16600.],\n",
       "       [   40.,   365.,  1000.,  2080.,  3320., 15600.],\n",
       "       [   40.,   365.,  2000.,  4601.,  4601., 16600.]], shape=(1043, 6))"
      ]
     },
     "execution_count": 81,
     "metadata": {},
     "output_type": "execute_result"
    }
   ],
   "source": [
    "np.sort(lending_co_data_numeric)"
   ]
  },
  {
   "cell_type": "code",
   "execution_count": 82,
   "id": "7aa83eb8-d24d-4fc7-aa6e-6d22ddd228b2",
   "metadata": {},
   "outputs": [
    {
     "data": {
      "text/plain": [
       "array([[ 1000.,    35.,   365., -2870., -2870.,  -350.],\n",
       "       [ 1000.,    35.,   365., -2550., -2100.,   150.],\n",
       "       [ 1000.,    35.,   365., -2450., -2000.,  1100.],\n",
       "       ...,\n",
       "       [ 9000.,   125.,   365., 16751., 18751., 54625.],\n",
       "       [ 9000.,   165.,   365., 17650., 20001., 54625.],\n",
       "       [ 9000.,   165.,   365., 19001., 22001., 64001.]], shape=(1043, 6))"
      ]
     },
     "execution_count": 82,
     "metadata": {},
     "output_type": "execute_result"
    }
   ],
   "source": [
    "np.sort(lending_co_data_numeric,axis=0) #it will provide output as 1.00000e  something so next line"
   ]
  },
  {
   "cell_type": "code",
   "execution_count": 85,
   "id": "805a8ee1-09f4-4751-9c24-10474dcb7f4e",
   "metadata": {},
   "outputs": [],
   "source": [
    "np.set_printoptions(suppress=True) #to make result user friendly.that is from \n",
    "                                   #scientific calculations to normal"
   ]
  },
  {
   "cell_type": "code",
   "execution_count": 86,
   "id": "11c03836-4642-4eac-aa40-7def915bdcac",
   "metadata": {},
   "outputs": [
    {
     "data": {
      "text/plain": [
       "array([[ 1000.,    35.,   365., -2870., -2870.,  -350.],\n",
       "       [ 1000.,    35.,   365., -2550., -2100.,   150.],\n",
       "       [ 1000.,    35.,   365., -2450., -2000.,  1100.],\n",
       "       ...,\n",
       "       [ 9000.,   125.,   365., 16751., 18751., 54625.],\n",
       "       [ 9000.,   165.,   365., 17650., 20001., 54625.],\n",
       "       [ 9000.,   165.,   365., 19001., 22001., 64001.]], shape=(1043, 6))"
      ]
     },
     "execution_count": 86,
     "metadata": {},
     "output_type": "execute_result"
    }
   ],
   "source": [
    "np.sort(lending_co_data_numeric,axis=0)"
   ]
  },
  {
   "cell_type": "code",
   "execution_count": 87,
   "id": "0253bd88-67ec-414f-af65-b22ecd9dceb5",
   "metadata": {},
   "outputs": [
    {
     "data": {
      "text/plain": [
       "array([-2870., -2870., -2550., ..., 54625., 54625., 64001.], shape=(6258,))"
      ]
     },
     "execution_count": 87,
     "metadata": {},
     "output_type": "execute_result"
    }
   ],
   "source": [
    "np.sort(lending_co_data_numeric,axis=None)  #it will sort the 2d aray as flat"
   ]
  },
  {
   "cell_type": "code",
   "execution_count": 88,
   "id": "88e3b1bf-f026-4256-8388-3be60898e4be",
   "metadata": {},
   "outputs": [
    {
     "data": {
      "text/plain": [
       "array([[   40.,   365.,  2000.,  3121.,  4241., 13621.],\n",
       "       [   40.,   365.,  2000.,  3061.,  4171., 15041.],\n",
       "       [   40.,   365.,  1000.,  2160.,  3280., 15340.],\n",
       "       ...,\n",
       "       [   40.,   365.,  2000.,  4201.,  5001., 16600.],\n",
       "       [   40.,   365.,  1000.,  2080.,  3320., 15600.],\n",
       "       [   40.,   365.,  2000.,  4601.,  4601., 16600.]], shape=(1043, 6))"
      ]
     },
     "execution_count": 88,
     "metadata": {},
     "output_type": "execute_result"
    }
   ],
   "source": [
    "np.sort(lending_co_data_numeric)"
   ]
  },
  {
   "cell_type": "code",
   "execution_count": 89,
   "id": "da2539ca-40d8-421d-82e9-91c9428895a3",
   "metadata": {},
   "outputs": [
    {
     "data": {
      "text/plain": [
       "array([[-13621.,  -4241.,  -3121.,  -2000.,   -365.,    -40.],\n",
       "       [-15041.,  -4171.,  -3061.,  -2000.,   -365.,    -40.],\n",
       "       [-15340.,  -3280.,  -2160.,  -1000.,   -365.,    -40.],\n",
       "       ...,\n",
       "       [-16600.,  -5001.,  -4201.,  -2000.,   -365.,    -40.],\n",
       "       [-15600.,  -3320.,  -2080.,  -1000.,   -365.,    -40.],\n",
       "       [-16600.,  -4601.,  -4601.,  -2000.,   -365.,    -40.]],\n",
       "      shape=(1043, 6))"
      ]
     },
     "execution_count": 89,
     "metadata": {},
     "output_type": "execute_result"
    }
   ],
   "source": [
    "#trick for descending order sorting.but every element will be negative.put -ve inside fn\n",
    "np.sort(-lending_co_data_numeric)"
   ]
  },
  {
   "cell_type": "code",
   "execution_count": 90,
   "id": "585f0201-1bdd-46dc-9bec-80d36899aaba",
   "metadata": {},
   "outputs": [
    {
     "data": {
      "text/plain": [
       "array([[13621.,  4241.,  3121.,  2000.,   365.,    40.],\n",
       "       [15041.,  4171.,  3061.,  2000.,   365.,    40.],\n",
       "       [15340.,  3280.,  2160.,  1000.,   365.,    40.],\n",
       "       ...,\n",
       "       [16600.,  5001.,  4201.,  2000.,   365.,    40.],\n",
       "       [15600.,  3320.,  2080.,  1000.,   365.,    40.],\n",
       "       [16600.,  4601.,  4601.,  2000.,   365.,    40.]], shape=(1043, 6))"
      ]
     },
     "execution_count": 90,
     "metadata": {},
     "output_type": "execute_result"
    }
   ],
   "source": [
    "#by putting -ve like this....we can remove -ve signs\n",
    "-np.sort(-lending_co_data_numeric)"
   ]
  },
  {
   "cell_type": "code",
   "execution_count": 91,
   "id": "9f365b36-b805-4de4-9cf7-c558387e5d3d",
   "metadata": {},
   "outputs": [
    {
     "data": {
      "text/plain": [
       "array([[13621.,  4241.,  3121.,  2000.,   365.,    40.],\n",
       "       [15041.,  4171.,  3061.,  2000.,   365.,    40.],\n",
       "       [15340.,  3280.,  2160.,  1000.,   365.,    40.],\n",
       "       ...,\n",
       "       [16600.,  5001.,  4201.,  2000.,   365.,    40.],\n",
       "       [15600.,  3320.,  2080.,  1000.,   365.,    40.],\n",
       "       [16600.,  4601.,  4601.,  2000.,   365.,    40.]], shape=(1043, 6))"
      ]
     },
     "execution_count": 91,
     "metadata": {},
     "output_type": "execute_result"
    }
   ],
   "source": [
    "#that is in a single step ...descending can be done like:\n",
    "-np.sort(-lending_co_data_numeric)"
   ]
  },
  {
   "cell_type": "code",
   "execution_count": 92,
   "id": "52277f1a-27c2-4b96-a748-338a82cac04e",
   "metadata": {},
   "outputs": [
    {
     "data": {
      "text/plain": [
       "array([[ 2000.,    40.,   365.,  3121.,  4241., 13621.],\n",
       "       [ 2000.,    40.,   365.,  3061.,  4171., 15041.],\n",
       "       [ 1000.,    40.,   365.,  2160.,  3280., 15340.],\n",
       "       ...,\n",
       "       [ 2000.,    40.,   365.,  4201.,  5001., 16600.],\n",
       "       [ 1000.,    40.,   365.,  2080.,  3320., 15600.],\n",
       "       [ 2000.,    40.,   365.,  4601.,  4601., 16600.]], shape=(1043, 6))"
      ]
     },
     "execution_count": 92,
     "metadata": {},
     "output_type": "execute_result"
    }
   ],
   "source": [
    "lending_co_data_numeric"
   ]
  },
  {
   "cell_type": "code",
   "execution_count": 93,
   "id": "ccca5174-d484-45ee-8f5d-28f2224cfcc0",
   "metadata": {},
   "outputs": [
    {
     "data": {
      "text/plain": [
       "array([-2870., -2550., -2450., ..., 16751., 17650., 19001.], shape=(1043,))"
      ]
     },
     "execution_count": 93,
     "metadata": {},
     "output_type": "execute_result"
    }
   ],
   "source": [
    "#will sort 4th column in ascending order.\n",
    "np.sort(lending_co_data_numeric[:,3])"
   ]
  },
  {
   "cell_type": "code",
   "execution_count": 94,
   "id": "97887b36-11be-438e-b845-4d877f783de2",
   "metadata": {},
   "outputs": [
    {
     "data": {
      "text/plain": [
       "array([[ 2000.,    40.,   365.,  3121.,  4241., 13621.],\n",
       "       [ 2000.,    40.,   365.,  3061.,  4171., 15041.],\n",
       "       [ 1000.,    40.,   365.,  2160.,  3280., 15340.],\n",
       "       ...,\n",
       "       [ 2000.,    40.,   365.,  4201.,  5001., 16600.],\n",
       "       [ 1000.,    40.,   365.,  2080.,  3320., 15600.],\n",
       "       [ 2000.,    40.,   365.,  4601.,  4601., 16600.]], shape=(1043, 6))"
      ]
     },
     "execution_count": 94,
     "metadata": {},
     "output_type": "execute_result"
    }
   ],
   "source": [
    "lending_co_data_numeric"
   ]
  },
  {
   "cell_type": "code",
   "execution_count": 95,
   "id": "9972e9bb-bb06-49bb-a80a-b6347cf63a9d",
   "metadata": {},
   "outputs": [
    {
     "data": {
      "text/plain": [
       "array([[   40.,   365.,  2000.,  3121.,  4241., 13621.],\n",
       "       [   40.,   365.,  2000.,  3061.,  4171., 15041.],\n",
       "       [   40.,   365.,  1000.,  2160.,  3280., 15340.],\n",
       "       ...,\n",
       "       [   40.,   365.,  2000.,  4201.,  5001., 16600.],\n",
       "       [   40.,   365.,  1000.,  2080.,  3320., 15600.],\n",
       "       [   40.,   365.,  2000.,  4601.,  4601., 16600.]], shape=(1043, 6))"
      ]
     },
     "execution_count": 95,
     "metadata": {},
     "output_type": "execute_result"
    }
   ],
   "source": [
    "lending_co_data_numeric.sort(axis=1)\n",
    "lending_co_data_numeric"
   ]
  },
  {
   "cell_type": "markdown",
   "id": "35a8648a-bf8f-43d7-a811-c228d9c9ec36",
   "metadata": {},
   "source": [
    "by using .sort after variable..it is replacing the original array.that is the issue."
   ]
  },
  {
   "cell_type": "markdown",
   "id": "0abc09ce-04dd-42a5-ab0b-3c25153cdaef",
   "metadata": {},
   "source": [
    "5.Argument Sorting in numpy\n",
    "np.argsort()"
   ]
  },
  {
   "cell_type": "code",
   "execution_count": 97,
   "id": "8d8c7a6b-8db3-4266-9b0f-fa03c7235102",
   "metadata": {},
   "outputs": [
    {
     "data": {
      "text/plain": [
       "array([[ 2000.,    40.,   365.,  3121.,  4241., 13621.],\n",
       "       [ 2000.,    40.,   365.,  3061.,  4171., 15041.],\n",
       "       [ 1000.,    40.,   365.,  2160.,  3280., 15340.],\n",
       "       ...,\n",
       "       [ 2000.,    40.,   365.,  4201.,  5001., 16600.],\n",
       "       [ 1000.,    40.,   365.,  2080.,  3320., 15600.],\n",
       "       [ 2000.,    40.,   365.,  4601.,  4601., 16600.]], shape=(1043, 6))"
      ]
     },
     "execution_count": 97,
     "metadata": {},
     "output_type": "execute_result"
    }
   ],
   "source": [
    "filename=r\"D:\\dataanalyst\\Data Analyst Course\\S27 - NumPy Preprocessing\\Lending-company-Numeric.csv\"\n",
    "lending_co_data_numeric=np.loadtxt(filename,delimiter=',')\n",
    "lending_co_data_numeric"
   ]
  },
  {
   "cell_type": "code",
   "execution_count": 99,
   "id": "d4b12c08-5030-41f7-85dd-591d24613c9a",
   "metadata": {},
   "outputs": [
    {
     "data": {
      "text/plain": [
       "array([[1, 2, 0, 3, 4, 5],\n",
       "       [1, 2, 0, 3, 4, 5],\n",
       "       [1, 2, 0, 3, 4, 5],\n",
       "       ...,\n",
       "       [1, 2, 0, 3, 4, 5],\n",
       "       [1, 2, 0, 3, 4, 5],\n",
       "       [1, 2, 0, 3, 4, 5]], shape=(1043, 6))"
      ]
     },
     "execution_count": 99,
     "metadata": {},
     "output_type": "execute_result"
    }
   ],
   "source": [
    "np.argsort(lending_co_data_numeric)  #it will return the indices for sorting....\n",
    "\"\"\"in the output below..in the first row...1,2,0   means it have to be sorted...that is element corresponding to index 1 that is 40 is first then element corresponding to \n",
    "2 that is 365 is second and so on.....\"\"\""
   ]
  },
  {
   "cell_type": "code",
   "execution_count": 103,
   "id": "61f5f81b-c578-48aa-8551-27141d3031b8",
   "metadata": {},
   "outputs": [
    {
     "data": {
      "text/plain": [
       "array([[ 1000.,    35.,   365., -2870., -2870.,  -350.],\n",
       "       [ 1000.,    35.,   365., -2550., -2100.,   150.],\n",
       "       [ 1000.,    35.,   365., -2450., -2000.,  1100.],\n",
       "       ...,\n",
       "       [ 9000.,   125.,   365., 16751., 18751., 54625.],\n",
       "       [ 9000.,   165.,   365., 17650., 20001., 54625.],\n",
       "       [ 9000.,   165.,   365., 19001., 22001., 64001.]], shape=(1043, 6))"
      ]
     },
     "execution_count": 103,
     "metadata": {},
     "output_type": "execute_result"
    }
   ],
   "source": [
    "np.sort(lending_co_data_numeric,axis=0)"
   ]
  },
  {
   "cell_type": "code",
   "execution_count": 104,
   "id": "c3d6caed-5ba4-4621-811d-2fd2c048a8b4",
   "metadata": {},
   "outputs": [
    {
     "data": {
      "text/plain": [
       "array([[1041,  816, 1039,   32,   32,  482],\n",
       "       [  22,  432, 1038,  166,  166,  493],\n",
       "       [  23,  443, 1037,   85,   85,  166],\n",
       "       ...,\n",
       "       [ 978,  152, 1041,  568, 1019,  568],\n",
       "       [ 193,   27, 1042,  718, 1033,  953],\n",
       "       [ 202,  408,    0,  912,  912,   27]], shape=(1043, 6))"
      ]
     },
     "execution_count": 104,
     "metadata": {},
     "output_type": "execute_result"
    }
   ],
   "source": [
    "np.argsort(lending_co_data_numeric,axis=0)"
   ]
  },
  {
   "cell_type": "code",
   "execution_count": 105,
   "id": "075440bd-448c-4e01-86cb-8305dbebdf85",
   "metadata": {},
   "outputs": [
    {
     "data": {
      "text/plain": [
       "np.float64(-350.0)"
      ]
     },
     "execution_count": 105,
     "metadata": {},
     "output_type": "execute_result"
    }
   ],
   "source": [
    "lending_co_data_numeric[482,5]"
   ]
  },
  {
   "cell_type": "code",
   "execution_count": 109,
   "id": "66d98b34-dfc3-4317-9211-15328fa29448",
   "metadata": {},
   "outputs": [
    {
     "data": {
      "text/plain": [
       "array([[ 1000.,    40.,   365.,  2080.,  3320., 15600.],\n",
       "       [ 1000.,    50.,   365.,  1400.,  2550., 12700.],\n",
       "       [ 1000.,    40.,   365.,  2240.,  4560., 14520.],\n",
       "       ...,\n",
       "       [ 9000.,   125.,   365., 12126., 15251., 45626.],\n",
       "       [ 9000.,   125.,   365., 12001., 15751., 38626.],\n",
       "       [ 9000.,   125.,   365., 13001., 17001., 54625.]], shape=(1043, 6))"
      ]
     },
     "execution_count": 109,
     "metadata": {},
     "output_type": "execute_result"
    }
   ],
   "source": [
    "lending_co_data_numeric=lending_co_data_numeric[np.argsort(lending_co_data_numeric[:,0])]\n",
    "lending_co_data_numeric"
   ]
  },
  {
   "cell_type": "code",
   "execution_count": 110,
   "id": "21cbb4a3-71d5-4658-9936-6904e47716f7",
   "metadata": {},
   "outputs": [
    {
     "data": {
      "text/plain": [
       "array([[   0,  184, 1039,  213,  213,  128],\n",
       "       [   1,  149, 1038,  113,  113,  131],\n",
       "       [   2,  141, 1037,   35,   35,  113],\n",
       "       ...,\n",
       "       [1042, 1040, 1041, 1026, 1034, 1026],\n",
       "       [1028, 1023, 1042,  922, 1037, 1022],\n",
       "       [1027, 1025,    0, 1038, 1038, 1025]], shape=(1043, 6))"
      ]
     },
     "execution_count": 110,
     "metadata": {},
     "output_type": "execute_result"
    }
   ],
   "source": [
    "lending_co_data_numeric.argsort(axis=0)"
   ]
  },
  {
   "cell_type": "markdown",
   "id": "fd838b44-7a39-42a8-a77e-bfcb95985727",
   "metadata": {},
   "source": [
    "6. np.argwhere\n",
    "   Goes over the entire NDarray and checks whether the inidvidual elements satisfy a given condition.The outputs are  the indices for all the individual elements where the condition is met.The default conndition is to check for values different from 0."
   ]
  },
  {
   "cell_type": "code",
   "execution_count": 111,
   "id": "aff4a9e6-05ad-4cb1-9c2e-90b306bf4857",
   "metadata": {},
   "outputs": [
    {
     "data": {
      "text/plain": [
       "array([[ 2000.,    40.,   365.,  3121.,  4241., 13621.],\n",
       "       [ 2000.,    40.,   365.,  3061.,  4171., 15041.],\n",
       "       [ 1000.,    40.,   365.,  2160.,  3280., 15340.],\n",
       "       ...,\n",
       "       [ 2000.,    40.,   365.,  4201.,  5001., 16600.],\n",
       "       [ 1000.,    40.,   365.,  2080.,  3320., 15600.],\n",
       "       [ 2000.,    40.,   365.,  4601.,  4601., 16600.]], shape=(1043, 6))"
      ]
     },
     "execution_count": 111,
     "metadata": {},
     "output_type": "execute_result"
    }
   ],
   "source": [
    "filename=r\"D:\\dataanalyst\\Data Analyst Course\\S27 - NumPy Preprocessing\\Lending-company-Numeric.csv\"\n",
    "lending_co_data_numeric=np.loadtxt(filename,delimiter=',')\n",
    "lending_co_data_numeric"
   ]
  },
  {
   "cell_type": "code",
   "execution_count": 112,
   "id": "36c1482a-e1f4-48a8-b3b9-7afa2ebb8375",
   "metadata": {},
   "outputs": [
    {
     "data": {
      "text/plain": [
       "array([[   0,    0],\n",
       "       [   0,    1],\n",
       "       [   0,    2],\n",
       "       ...,\n",
       "       [1042,    3],\n",
       "       [1042,    4],\n",
       "       [1042,    5]], shape=(6256, 2))"
      ]
     },
     "execution_count": 112,
     "metadata": {},
     "output_type": "execute_result"
    }
   ],
   "source": [
    "np.argwhere(lending_co_data_numeric)"
   ]
  },
  {
   "cell_type": "code",
   "execution_count": 113,
   "id": "4dff5b02-f278-4b80-a472-3cc39e57b89c",
   "metadata": {},
   "outputs": [
    {
     "data": {
      "text/plain": [
       "array([[116,   4],\n",
       "       [430,   3]])"
      ]
     },
     "execution_count": 113,
     "metadata": {},
     "output_type": "execute_result"
    }
   ],
   "source": [
    "np.argwhere(lending_co_data_numeric==False)"
   ]
  },
  {
   "cell_type": "code",
   "execution_count": 114,
   "id": "a956657d-187f-45d7-a83e-91f1216d82b6",
   "metadata": {},
   "outputs": [],
   "source": [
    "#this means there are 2 zeros at the position(116,4) and (430,3)\n"
   ]
  },
  {
   "cell_type": "code",
   "execution_count": 115,
   "id": "76cc5105-09cc-4f2c-9847-a96a18276444",
   "metadata": {},
   "outputs": [
    {
     "data": {
      "text/plain": [
       "np.float64(0.0)"
      ]
     },
     "execution_count": 115,
     "metadata": {},
     "output_type": "execute_result"
    }
   ],
   "source": [
    "lending_co_data_numeric[116,4]"
   ]
  },
  {
   "cell_type": "code",
   "execution_count": 116,
   "id": "f5729417-1ffe-450b-ad57-314adf35d469",
   "metadata": {},
   "outputs": [
    {
     "data": {
      "text/plain": [
       "np.float64(0.0)"
      ]
     },
     "execution_count": 116,
     "metadata": {},
     "output_type": "execute_result"
    }
   ],
   "source": [
    "lending_co_data_numeric[430,3]"
   ]
  },
  {
   "cell_type": "code",
   "execution_count": 117,
   "id": "2e25aecf-3363-4418-be39-7186ce83a025",
   "metadata": {},
   "outputs": [
    {
     "data": {
      "text/plain": [
       "array([[ 2000.,    40.,   365.,  3121.,  4241., 13621.],\n",
       "       [ 2000.,    40.,   365.,  3061.,  4171., 15041.],\n",
       "       [ 1000.,    40.,   365.,  2160.,  3280., 15340.],\n",
       "       ...,\n",
       "       [ 2000.,    40.,   365.,  4201.,  5001., 16600.],\n",
       "       [ 1000.,    40.,   365.,  2080.,  3320., 15600.],\n",
       "       [ 2000.,    40.,   365.,  4601.,  4601., 16600.]], shape=(1043, 6))"
      ]
     },
     "execution_count": 117,
     "metadata": {},
     "output_type": "execute_result"
    }
   ],
   "source": [
    "lending_co_data_numeric"
   ]
  },
  {
   "cell_type": "code",
   "execution_count": 118,
   "id": "7d458741-b337-4380-910d-621b4b0bac40",
   "metadata": {},
   "outputs": [
    {
     "data": {
      "text/plain": [
       "array([[   0,    0],\n",
       "       [   0,    3],\n",
       "       [   0,    4],\n",
       "       ...,\n",
       "       [1042,    3],\n",
       "       [1042,    4],\n",
       "       [1042,    5]], shape=(3813, 2))"
      ]
     },
     "execution_count": 118,
     "metadata": {},
     "output_type": "execute_result"
    }
   ],
   "source": [
    "np.argwhere(lending_co_data_numeric>1000)"
   ]
  },
  {
   "cell_type": "code",
   "execution_count": 119,
   "id": "6202745e-9cb9-4125-8ae6-02f9b3425445",
   "metadata": {},
   "outputs": [
    {
     "data": {
      "text/plain": [
       "array([[   0,    0],\n",
       "       [   0,    1],\n",
       "       [   1,    0],\n",
       "       ...,\n",
       "       [1042,    0],\n",
       "       [1042,    1],\n",
       "       [1042,    5]], shape=(4183, 2))"
      ]
     },
     "execution_count": 119,
     "metadata": {},
     "output_type": "execute_result"
    }
   ],
   "source": [
    "np.argwhere(lending_co_data_numeric%2==0)"
   ]
  },
  {
   "cell_type": "code",
   "execution_count": 122,
   "id": "d321b57a-ea2c-48d4-9bf4-34beb4b2ee52",
   "metadata": {},
   "outputs": [
    {
     "data": {
      "text/plain": [
       "array([[ 2000.,    40.,   365.,  3121.,  4241., 13621.],\n",
       "       [ 2000.,    40.,   365.,  3061.,  4171., 15041.],\n",
       "       [ 1000.,    40.,   365.,  2160.,  3280., 15340.],\n",
       "       ...,\n",
       "       [   nan,    40.,   365.,  4201.,  5001., 16600.],\n",
       "       [ 1000.,    40.,   365.,  2080.,  3320., 15600.],\n",
       "       [ 2000.,    40.,   365.,  4601.,  4601., 16600.]], shape=(1043, 6))"
      ]
     },
     "execution_count": 122,
     "metadata": {},
     "output_type": "execute_result"
    }
   ],
   "source": [
    "#combining isnan() and np.argwhere\n",
    "import numpy as np\n",
    "filename=r\"D:\\dataanalyst\\Data Analyst Course\\S27 - NumPy Preprocessing\\Lending-company-Numeric-NAN.csv\"\n",
    "lending_co_data_nan=np.genfromtxt(filename,delimiter=';')\n",
    "lending_co_data_nan"
   ]
  },
  {
   "cell_type": "code",
   "execution_count": 123,
   "id": "9710b495-045b-4e1d-97bc-b98efd2e7add",
   "metadata": {},
   "outputs": [
    {
     "data": {
      "text/plain": [
       "array([[False, False, False, False, False, False],\n",
       "       [False, False, False, False, False, False],\n",
       "       [False, False, False, False, False, False],\n",
       "       ...,\n",
       "       [ True, False, False, False, False, False],\n",
       "       [False, False, False, False, False, False],\n",
       "       [False, False, False, False, False, False]], shape=(1043, 6))"
      ]
     },
     "execution_count": 123,
     "metadata": {},
     "output_type": "execute_result"
    }
   ],
   "source": [
    "np.isnan(lending_co_data_nan)"
   ]
  },
  {
   "cell_type": "code",
   "execution_count": 125,
   "id": "238859e6-6b2d-49a5-96cf-0859a30e1f33",
   "metadata": {},
   "outputs": [
    {
     "data": {
      "text/plain": [
       "array([[  11,    3],\n",
       "       [  15,    3],\n",
       "       [  27,    3],\n",
       "       [  58,    3],\n",
       "       [  60,    4],\n",
       "       [  85,    4],\n",
       "       [ 117,    5],\n",
       "       [ 152,    1],\n",
       "       [ 152,    2],\n",
       "       [ 152,    4],\n",
       "       [ 172,    1],\n",
       "       [ 175,    1],\n",
       "       [ 175,    2],\n",
       "       [ 176,    3],\n",
       "       [ 177,    4],\n",
       "       [ 178,    5],\n",
       "       [ 211,    3],\n",
       "       [ 229,    0],\n",
       "       [ 230,    1],\n",
       "       [ 237,    1],\n",
       "       [ 247,    3],\n",
       "       [ 251,    5],\n",
       "       [ 252,    4],\n",
       "       [ 258,    1],\n",
       "       [ 260,    3],\n",
       "       [ 262,    4],\n",
       "       [ 271,    5],\n",
       "       [ 272,    4],\n",
       "       [ 284,    2],\n",
       "       [ 284,    3],\n",
       "       [ 297,    1],\n",
       "       [ 297,    2],\n",
       "       [ 300,    3],\n",
       "       [ 315,    3],\n",
       "       [ 315,    5],\n",
       "       [ 327,    4],\n",
       "       [ 336,    4],\n",
       "       [ 343,    0],\n",
       "       [ 344,    2],\n",
       "       [ 346,    2],\n",
       "       [ 363,    3],\n",
       "       [ 375,    3],\n",
       "       [ 377,    2],\n",
       "       [ 398,    5],\n",
       "       [ 416,    4],\n",
       "       [ 428,    0],\n",
       "       [ 432,    1],\n",
       "       [ 433,    3],\n",
       "       [ 434,    2],\n",
       "       [ 440,    3],\n",
       "       [ 441,    1],\n",
       "       [ 446,    2],\n",
       "       [ 455,    1],\n",
       "       [ 456,    2],\n",
       "       [ 458,    2],\n",
       "       [ 461,    3],\n",
       "       [ 467,    4],\n",
       "       [ 468,    0],\n",
       "       [ 469,    3],\n",
       "       [ 470,    0],\n",
       "       [ 481,    1],\n",
       "       [ 482,    3],\n",
       "       [ 484,    4],\n",
       "       [ 489,    0],\n",
       "       [ 493,    5],\n",
       "       [ 499,    0],\n",
       "       [ 504,    3],\n",
       "       [ 506,    1],\n",
       "       [ 517,    4],\n",
       "       [ 518,    0],\n",
       "       [ 521,    2],\n",
       "       [ 530,    5],\n",
       "       [ 532,    3],\n",
       "       [ 534,    5],\n",
       "       [ 547,    3],\n",
       "       [ 549,    5],\n",
       "       [ 553,    5],\n",
       "       [ 554,    5],\n",
       "       [ 559,    3],\n",
       "       [ 566,    0],\n",
       "       [ 566,    1],\n",
       "       [ 566,    2],\n",
       "       [ 567,    0],\n",
       "       [ 567,    1],\n",
       "       [ 567,    2],\n",
       "       [ 581,    1],\n",
       "       [ 581,    2],\n",
       "       [ 582,    1],\n",
       "       [ 582,    2],\n",
       "       [ 583,    1],\n",
       "       [ 583,    2],\n",
       "       [ 593,    3],\n",
       "       [ 594,    3],\n",
       "       [ 595,    3],\n",
       "       [ 596,    3],\n",
       "       [ 609,    4],\n",
       "       [ 609,    5],\n",
       "       [ 610,    4],\n",
       "       [ 610,    5],\n",
       "       [ 611,    4],\n",
       "       [ 611,    5],\n",
       "       [ 612,    4],\n",
       "       [ 612,    5],\n",
       "       [ 623,    2],\n",
       "       [ 623,    3],\n",
       "       [ 624,    2],\n",
       "       [ 624,    3],\n",
       "       [ 625,    2],\n",
       "       [ 625,    3],\n",
       "       [ 626,    2],\n",
       "       [ 626,    3],\n",
       "       [ 627,    2],\n",
       "       [ 627,    3],\n",
       "       [ 636,    0],\n",
       "       [ 637,    0],\n",
       "       [ 637,    4],\n",
       "       [ 637,    5],\n",
       "       [ 638,    0],\n",
       "       [ 638,    4],\n",
       "       [ 638,    5],\n",
       "       [ 639,    4],\n",
       "       [ 639,    5],\n",
       "       [ 640,    4],\n",
       "       [ 640,    5],\n",
       "       [ 641,    4],\n",
       "       [ 641,    5],\n",
       "       [ 653,    1],\n",
       "       [ 653,    2],\n",
       "       [ 653,    3],\n",
       "       [ 653,    4],\n",
       "       [ 654,    1],\n",
       "       [ 654,    2],\n",
       "       [ 654,    3],\n",
       "       [ 654,    4],\n",
       "       [ 655,    1],\n",
       "       [ 655,    2],\n",
       "       [ 655,    3],\n",
       "       [ 655,    4],\n",
       "       [ 685,    2],\n",
       "       [ 686,    0],\n",
       "       [ 701,    4],\n",
       "       [ 704,    2],\n",
       "       [ 724,    1],\n",
       "       [ 724,    2],\n",
       "       [ 730,    1],\n",
       "       [ 730,    2],\n",
       "       [ 730,    3],\n",
       "       [ 731,    1],\n",
       "       [ 731,    2],\n",
       "       [ 731,    3],\n",
       "       [ 732,    1],\n",
       "       [ 732,    2],\n",
       "       [ 732,    3],\n",
       "       [ 733,    1],\n",
       "       [ 733,    2],\n",
       "       [ 733,    3],\n",
       "       [ 742,    4],\n",
       "       [ 747,    3],\n",
       "       [ 755,    1],\n",
       "       [ 758,    1],\n",
       "       [ 760,    1],\n",
       "       [ 764,    0],\n",
       "       [ 764,    1],\n",
       "       [ 764,    2],\n",
       "       [ 764,    3],\n",
       "       [ 764,    4],\n",
       "       [ 764,    5],\n",
       "       [ 765,    3],\n",
       "       [ 775,    1],\n",
       "       [ 775,    2],\n",
       "       [ 775,    3],\n",
       "       [ 776,    1],\n",
       "       [ 776,    2],\n",
       "       [ 776,    3],\n",
       "       [ 777,    1],\n",
       "       [ 777,    2],\n",
       "       [ 777,    3],\n",
       "       [ 778,    1],\n",
       "       [ 778,    2],\n",
       "       [ 778,    3],\n",
       "       [ 787,    4],\n",
       "       [ 788,    1],\n",
       "       [ 790,    2],\n",
       "       [ 794,    3],\n",
       "       [ 795,    5],\n",
       "       [ 796,    1],\n",
       "       [ 796,    4],\n",
       "       [ 800,    0],\n",
       "       [ 801,    1],\n",
       "       [ 802,    1],\n",
       "       [ 803,    2],\n",
       "       [ 805,    0],\n",
       "       [ 809,    0],\n",
       "       [ 810,    0],\n",
       "       [ 811,    0],\n",
       "       [ 812,    1],\n",
       "       [ 820,    0],\n",
       "       [ 820,    3],\n",
       "       [ 820,    4],\n",
       "       [ 822,    2],\n",
       "       [ 823,    2],\n",
       "       [ 825,    0],\n",
       "       [ 830,    1],\n",
       "       [ 830,    2],\n",
       "       [ 836,    3],\n",
       "       [ 837,    3],\n",
       "       [ 838,    3],\n",
       "       [ 839,    4],\n",
       "       [ 843,    2],\n",
       "       [ 856,    0],\n",
       "       [ 856,    1],\n",
       "       [ 856,    3],\n",
       "       [ 856,    4],\n",
       "       [ 856,    5],\n",
       "       [ 857,    0],\n",
       "       [ 858,    1],\n",
       "       [ 870,    0],\n",
       "       [ 870,    2],\n",
       "       [ 870,    3],\n",
       "       [ 872,    0],\n",
       "       [ 873,    0],\n",
       "       [ 874,    1],\n",
       "       [ 890,    1],\n",
       "       [ 890,    2],\n",
       "       [ 890,    3],\n",
       "       [ 909,    1],\n",
       "       [ 910,    0],\n",
       "       [ 912,    0],\n",
       "       [ 912,    2],\n",
       "       [ 912,    3],\n",
       "       [ 912,    4],\n",
       "       [ 928,    1],\n",
       "       [ 928,    2],\n",
       "       [ 928,    3],\n",
       "       [ 929,    1],\n",
       "       [ 929,    2],\n",
       "       [ 929,    3],\n",
       "       [ 930,    3],\n",
       "       [ 958,    2],\n",
       "       [ 959,    3],\n",
       "       [ 960,    3],\n",
       "       [1024,    0],\n",
       "       [1024,    2],\n",
       "       [1026,    2],\n",
       "       [1026,    4],\n",
       "       [1028,    0],\n",
       "       [1028,    3],\n",
       "       [1028,    4],\n",
       "       [1029,    0],\n",
       "       [1030,    1],\n",
       "       [1030,    5],\n",
       "       [1032,    0],\n",
       "       [1032,    5],\n",
       "       [1034,    3],\n",
       "       [1035,    4],\n",
       "       [1036,    2],\n",
       "       [1037,    1],\n",
       "       [1038,    4],\n",
       "       [1039,    3],\n",
       "       [1040,    0]])"
      ]
     },
     "execution_count": 125,
     "metadata": {},
     "output_type": "execute_result"
    }
   ],
   "source": [
    "np.argwhere(np.isnan(lending_co_data_nan))  #this will give indices of zero values."
   ]
  },
  {
   "cell_type": "code",
   "execution_count": 127,
   "id": "fbb2f7ad-5034-48a3-b4ab-76ce70cf7517",
   "metadata": {},
   "outputs": [
    {
     "data": {
      "text/plain": [
       "np.float64(nan)"
      ]
     },
     "execution_count": 127,
     "metadata": {},
     "output_type": "execute_result"
    }
   ],
   "source": [
    "lending_co_data_nan[11,3]  #true"
   ]
  },
  {
   "cell_type": "code",
   "execution_count": 128,
   "id": "464483b8-4378-4bc4-aa7f-7b9f75a2de16",
   "metadata": {},
   "outputs": [],
   "source": [
    "#handle missing values by using np.argwhere\n",
    "for array_index in np.argwhere(np.isnan(lending_co_data_nan)):\n",
    "    lending_co_data_nan[array_index[0],array_index[1]]=0\n",
    "    "
   ]
  },
  {
   "cell_type": "code",
   "execution_count": 129,
   "id": "adc730ec-5855-4808-b090-3404e7445730",
   "metadata": {},
   "outputs": [
    {
     "data": {
      "text/plain": [
       "np.float64(0.0)"
      ]
     },
     "execution_count": 129,
     "metadata": {},
     "output_type": "execute_result"
    }
   ],
   "source": [
    "lending_co_data_nan[11,3]"
   ]
  },
  {
   "cell_type": "code",
   "execution_count": 131,
   "id": "555b0d28-044e-4013-98f6-5b80da936991",
   "metadata": {},
   "outputs": [
    {
     "data": {
      "text/plain": [
       "np.int64(0)"
      ]
     },
     "execution_count": 131,
     "metadata": {},
     "output_type": "execute_result"
    }
   ],
   "source": [
    "np.isnan(lending_co_data_nan).sum()"
   ]
  },
  {
   "cell_type": "markdown",
   "id": "61421a57-7857-433b-8f04-a097d0742872",
   "metadata": {},
   "source": [
    "7.shuffling\n",
    "Rearranging the parts of a dataset.We do so without a fixed pattern.The end goal is that a random sample would be representative of the enitire dataset."
   ]
  },
  {
   "cell_type": "code",
   "execution_count": 132,
   "id": "ead666c1-7bbb-4511-bf3a-7dfe6f98cac0",
   "metadata": {},
   "outputs": [
    {
     "data": {
      "text/plain": [
       "array([[ 2000.,    40.,   365.,  3121.,  4241., 13621.],\n",
       "       [ 2000.,    40.,   365.,  3061.,  4171., 15041.],\n",
       "       [ 1000.,    40.,   365.,  2160.,  3280., 15340.],\n",
       "       [ 2000.,    40.,   365.,  3041.,  4241., 15321.],\n",
       "       [ 2000.,    50.,   365.,  3470.,  4820., 13720.],\n",
       "       [ 2000.,    40.,   365.,  3201.,  4141., 14141.],\n",
       "       [ 2000.,    50.,   365.,  1851.,  3251., 17701.],\n",
       "       [ 2000.,    40.,   365.,  3971.,  4131., 15351.]])"
      ]
     },
     "execution_count": 132,
     "metadata": {},
     "output_type": "execute_result"
    }
   ],
   "source": [
    "filename=r\"D:\\dataanalyst\\Data Analyst Course\\S27 - NumPy Preprocessing\\Lending-company-Numeric.csv\"\n",
    "lending_co_data_numeric=np.loadtxt(filename,delimiter=',')[:8]\n",
    "lending_co_data_numeric"
   ]
  },
  {
   "cell_type": "code",
   "execution_count": 133,
   "id": "1a5d74fd-611a-40ae-92d0-fa65d5b79a9f",
   "metadata": {},
   "outputs": [],
   "source": [
    "np.random.shuffle(lending_co_data_numeric)   #it will replace the original dataset"
   ]
  },
  {
   "cell_type": "code",
   "execution_count": 134,
   "id": "d3a15456-8b98-43a1-81c2-c764323333a2",
   "metadata": {},
   "outputs": [
    {
     "data": {
      "text/plain": [
       "array([[ 2000.,    50.,   365.,  1851.,  3251., 17701.],\n",
       "       [ 2000.,    40.,   365.,  3201.,  4141., 14141.],\n",
       "       [ 2000.,    40.,   365.,  3971.,  4131., 15351.],\n",
       "       [ 1000.,    40.,   365.,  2160.,  3280., 15340.],\n",
       "       [ 2000.,    50.,   365.,  3470.,  4820., 13720.],\n",
       "       [ 2000.,    40.,   365.,  3041.,  4241., 15321.],\n",
       "       [ 2000.,    40.,   365.,  3061.,  4171., 15041.],\n",
       "       [ 2000.,    40.,   365.,  3121.,  4241., 13621.]])"
      ]
     },
     "execution_count": 134,
     "metadata": {},
     "output_type": "execute_result"
    }
   ],
   "source": [
    "lending_co_data_numeric"
   ]
  },
  {
   "cell_type": "code",
   "execution_count": 135,
   "id": "01325c85-b150-490e-ab51-cf13623c9ed3",
   "metadata": {},
   "outputs": [
    {
     "data": {
      "text/plain": [
       "array([[ 2000.,    40.,   365.,  3121.,  4241., 13621.],\n",
       "       [ 2000.,    40.,   365.,  3061.,  4171., 15041.],\n",
       "       [ 1000.,    40.,   365.,  2160.,  3280., 15340.],\n",
       "       ...,\n",
       "       [ 2000.,    40.,   365.,  4201.,  5001., 16600.],\n",
       "       [ 1000.,    40.,   365.,  2080.,  3320., 15600.],\n",
       "       [ 2000.,    40.,   365.,  4601.,  4601., 16600.]], shape=(1043, 6))"
      ]
     },
     "execution_count": 135,
     "metadata": {},
     "output_type": "execute_result"
    }
   ],
   "source": [
    "filename=r\"D:\\dataanalyst\\Data Analyst Course\\S27 - NumPy Preprocessing\\Lending-company-Numeric.csv\"\n",
    "lending_co_data_numeric=np.loadtxt(filename,delimiter=',')\n",
    "lending_co_data_numeric"
   ]
  },
  {
   "cell_type": "code",
   "execution_count": 136,
   "id": "f63a5ef8-f37d-426e-ae0a-647e28b1d718",
   "metadata": {},
   "outputs": [],
   "source": [
    "from numpy.random import shuffle"
   ]
  },
  {
   "cell_type": "code",
   "execution_count": 137,
   "id": "233ea01b-6094-43d9-9b4c-99b2332bc93e",
   "metadata": {},
   "outputs": [
    {
     "data": {
      "text/plain": [
       "array([[ 1000.,    50.,   365.,  -300.,   200.,  8918.],\n",
       "       [ 2000.,    40.,   365.,  3701.,  4301., 10201.],\n",
       "       [ 2000.,    40.,   365.,  3121.,  5161., 13441.],\n",
       "       ...,\n",
       "       [ 2000.,    40.,   365.,  3121.,  5381., 15281.],\n",
       "       [ 9000.,   165.,   365., 14501., 16846., 64001.],\n",
       "       [ 1000.,    40.,   365.,  3060.,  4060., 15600.]], shape=(1043, 6))"
      ]
     },
     "execution_count": 137,
     "metadata": {},
     "output_type": "execute_result"
    }
   ],
   "source": [
    "shuffle(lending_co_data_numeric)\n",
    "lending_co_data_numeric"
   ]
  },
  {
   "cell_type": "code",
   "execution_count": 138,
   "id": "42c4c4ab-f952-40c5-8770-b4b62df6e2d9",
   "metadata": {},
   "outputs": [],
   "source": [
    "#shuffling using random generators.\n",
    "\n",
    "from numpy.random import Generator as gen\n",
    "from numpy.random import PCG64 as pcg\n",
    "array_RG=gen(pcg())   #if we give seed also then also it will not give same shuffling.\n",
    "array_RG.shuffle(lending_co_data_numeric)"
   ]
  },
  {
   "cell_type": "code",
   "execution_count": 139,
   "id": "08af66d5-a8e7-45b9-a438-8e633ad9d282",
   "metadata": {},
   "outputs": [
    {
     "data": {
      "text/plain": [
       "array([[ 2000.,    50.,   365.,  3750.,  5250., 20250.],\n",
       "       [ 4000.,    50.,   365., 14500., 14500., 21650.],\n",
       "       [ 4000.,    50.,   365.,  5400.,  6700., 19830.],\n",
       "       ...,\n",
       "       [ 2000.,    40.,   365.,  3401.,  4261., 16600.],\n",
       "       [ 4000.,    50.,   365.,  7000.,  7000., 22250.],\n",
       "       [ 2000.,    40.,   365.,  3321.,  4421., 15791.]], shape=(1043, 6))"
      ]
     },
     "execution_count": 139,
     "metadata": {},
     "output_type": "execute_result"
    }
   ],
   "source": [
    "lending_co_data_numeric"
   ]
  },
  {
   "cell_type": "markdown",
   "id": "8436bf7f-7bd3-4139-a021-a4c59c2368a3",
   "metadata": {},
   "source": [
    "8.Assigning Types(casting Nd arrays)\n",
    "Taking an object with values of a certain datatype and creatimg an identical object that contains values of a different datatype."
   ]
  },
  {
   "cell_type": "code",
   "execution_count": 140,
   "id": "82cc1631-9940-4873-9f3c-db11043406d8",
   "metadata": {},
   "outputs": [
    {
     "data": {
      "text/plain": [
       "array([[ 2000.,    40.,   365.,  3121.,  4241., 13621.],\n",
       "       [ 2000.,    40.,   365.,  3061.,  4171., 15041.],\n",
       "       [ 1000.,    40.,   365.,  2160.,  3280., 15340.],\n",
       "       ...,\n",
       "       [ 2000.,    40.,   365.,  4201.,  5001., 16600.],\n",
       "       [ 1000.,    40.,   365.,  2080.,  3320., 15600.],\n",
       "       [ 2000.,    40.,   365.,  4601.,  4601., 16600.]], shape=(1043, 6))"
      ]
     },
     "execution_count": 140,
     "metadata": {},
     "output_type": "execute_result"
    }
   ],
   "source": [
    "filename=r\"D:\\dataanalyst\\Data Analyst Course\\S27 - NumPy Preprocessing\\Lending-company-Numeric.csv\"\n",
    "lending_co_data_numeric=np.loadtxt(filename,delimiter=',')\n",
    "lending_co_data_numeric"
   ]
  },
  {
   "cell_type": "code",
   "execution_count": 141,
   "id": "7064581d-1cd8-43ea-9be5-d3519330732d",
   "metadata": {},
   "outputs": [
    {
     "data": {
      "text/plain": [
       "array([[ 2000,    40,   365,  3121,  4241, 13621],\n",
       "       [ 2000,    40,   365,  3061,  4171, 15041],\n",
       "       [ 1000,    40,   365,  2160,  3280, 15340],\n",
       "       ...,\n",
       "       [ 2000,    40,   365,  4201,  5001, 16600],\n",
       "       [ 1000,    40,   365,  2080,  3320, 15600],\n",
       "       [ 2000,    40,   365,  4601,  4601, 16600]],\n",
       "      shape=(1043, 6), dtype=int32)"
      ]
     },
     "execution_count": 141,
     "metadata": {},
     "output_type": "execute_result"
    }
   ],
   "source": [
    "lending_co_data_numeric.astype(dtype=np.int32)  #decimals to integers"
   ]
  },
  {
   "cell_type": "code",
   "execution_count": 142,
   "id": "371ee74d-bb1b-49ab-94fb-caa61cceed6d",
   "metadata": {},
   "outputs": [],
   "source": [
    "#operations on a string array:\n",
    "# 1. first we are creating a string array\n"
   ]
  },
  {
   "cell_type": "code",
   "execution_count": 147,
   "id": "cc493deb-4409-4489-ac27-1a700d3f08dd",
   "metadata": {},
   "outputs": [
    {
     "data": {
      "text/plain": [
       "array([['2000.0', '40.0', '365.0', '3121.0', '4241.0', '13621.0'],\n",
       "       ['2000.0', '40.0', '365.0', '3061.0', '4171.0', '15041.0'],\n",
       "       ['1000.0', '40.0', '365.0', '2160.0', '3280.0', '15340.0'],\n",
       "       ...,\n",
       "       ['2000.0', '40.0', '365.0', '4201.0', '5001.0', '16600.0'],\n",
       "       ['1000.0', '40.0', '365.0', '2080.0', '3320.0', '15600.0'],\n",
       "       ['2000.0', '40.0', '365.0', '4601.0', '4601.0', '16600.0']],\n",
       "      shape=(1043, 6), dtype='<U32')"
      ]
     },
     "execution_count": 147,
     "metadata": {},
     "output_type": "execute_result"
    }
   ],
   "source": [
    "lending_co_data_numeric=lending_co_data_numeric.astype(dtype=str)\n",
    "lending_co_data_numeric\n"
   ]
  },
  {
   "cell_type": "code",
   "execution_count": 148,
   "id": "f638823e-25ad-43d9-b87f-782bb6127238",
   "metadata": {},
   "outputs": [
    {
     "ename": "ValueError",
     "evalue": "invalid literal for int() with base 10: np.str_('2000.0')",
     "output_type": "error",
     "traceback": [
      "\u001b[1;31m---------------------------------------------------------------------------\u001b[0m",
      "\u001b[1;31mValueError\u001b[0m                                Traceback (most recent call last)",
      "Cell \u001b[1;32mIn[148], line 1\u001b[0m\n\u001b[1;32m----> 1\u001b[0m lending_co_data_numeric\u001b[38;5;241m=\u001b[39mlending_co_data_numeric\u001b[38;5;241m.\u001b[39mastype(dtype\u001b[38;5;241m=\u001b[39mnp\u001b[38;5;241m.\u001b[39mint32)\n\u001b[0;32m      2\u001b[0m lending_co_data_numeric\n",
      "\u001b[1;31mValueError\u001b[0m: invalid literal for int() with base 10: np.str_('2000.0')"
     ]
    }
   ],
   "source": [
    "lending_co_data_numeric=lending_co_data_numeric.astype(dtype=np.int32)\n",
    "lending_co_data_numeric  #we can't directly convert string to int"
   ]
  },
  {
   "cell_type": "code",
   "execution_count": 149,
   "id": "84694732-d28e-431f-b2eb-7b044600bf84",
   "metadata": {},
   "outputs": [],
   "source": [
    "#so first convert to decimal then int32"
   ]
  },
  {
   "cell_type": "code",
   "execution_count": 152,
   "id": "a0d035fc-a16d-4b6d-b92a-3d052ca7bb5e",
   "metadata": {},
   "outputs": [
    {
     "data": {
      "text/plain": [
       "array([[ 2000.,    40.,   365.,  3121.,  4241., 13621.],\n",
       "       [ 2000.,    40.,   365.,  3061.,  4171., 15041.],\n",
       "       [ 1000.,    40.,   365.,  2160.,  3280., 15340.],\n",
       "       ...,\n",
       "       [ 2000.,    40.,   365.,  4201.,  5001., 16600.],\n",
       "       [ 1000.,    40.,   365.,  2080.,  3320., 15600.],\n",
       "       [ 2000.,    40.,   365.,  4601.,  4601., 16600.]],\n",
       "      shape=(1043, 6), dtype=float32)"
      ]
     },
     "execution_count": 152,
     "metadata": {},
     "output_type": "execute_result"
    }
   ],
   "source": [
    "lending_co_data_numeric=lending_co_data_numeric.astype(dtype=np.float32)\n",
    "lending_co_data_numeric"
   ]
  },
  {
   "cell_type": "code",
   "execution_count": 153,
   "id": "64179741-5ea9-4bc7-9faa-b56d3b738a8f",
   "metadata": {},
   "outputs": [
    {
     "data": {
      "text/plain": [
       "array([[ 2000,    40,   365,  3121,  4241, 13621],\n",
       "       [ 2000,    40,   365,  3061,  4171, 15041],\n",
       "       [ 1000,    40,   365,  2160,  3280, 15340],\n",
       "       ...,\n",
       "       [ 2000,    40,   365,  4201,  5001, 16600],\n",
       "       [ 1000,    40,   365,  2080,  3320, 15600],\n",
       "       [ 2000,    40,   365,  4601,  4601, 16600]],\n",
       "      shape=(1043, 6), dtype=int32)"
      ]
     },
     "execution_count": 153,
     "metadata": {},
     "output_type": "execute_result"
    }
   ],
   "source": [
    "lending_co_data_numeric=lending_co_data_numeric.astype(dtype=np.int32)\n",
    "lending_co_data_numeric"
   ]
  },
  {
   "cell_type": "code",
   "execution_count": 154,
   "id": "ee36967b-f381-4121-86ea-817af1998f3a",
   "metadata": {},
   "outputs": [
    {
     "data": {
      "text/plain": [
       "array([['2000.0', '40.0', '365.0', '3121.0', '4241.0', '13621.0'],\n",
       "       ['2000.0', '40.0', '365.0', '3061.0', '4171.0', '15041.0'],\n",
       "       ['1000.0', '40.0', '365.0', '2160.0', '3280.0', '15340.0'],\n",
       "       ...,\n",
       "       ['2000.0', '40.0', '365.0', '4201.0', '5001.0', '16600.0'],\n",
       "       ['1000.0', '40.0', '365.0', '2080.0', '3320.0', '15600.0'],\n",
       "       ['2000.0', '40.0', '365.0', '4601.0', '4601.0', '16600.0']],\n",
       "      shape=(1043, 6), dtype='<U32')"
      ]
     },
     "execution_count": 154,
     "metadata": {},
     "output_type": "execute_result"
    }
   ],
   "source": [
    "#Another method for converting string to int.\n",
    "\n",
    "filename=r\"D:\\dataanalyst\\Data Analyst Course\\S27 - NumPy Preprocessing\\Lending-company-Numeric.csv\"\n",
    "lending_co_data_numeric=np.loadtxt(filename,delimiter=',')\n",
    "lending_co_data_numeric=lending_co_data_numeric.astype(dtype=str)\n",
    "lending_co_data_numeric"
   ]
  },
  {
   "cell_type": "code",
   "execution_count": 155,
   "id": "09d86aff-db3c-46e7-b210-9b8ed91d2837",
   "metadata": {},
   "outputs": [
    {
     "data": {
      "text/plain": [
       "array([[ 2000,    40,   365,  3121,  4241, 13621],\n",
       "       [ 2000,    40,   365,  3061,  4171, 15041],\n",
       "       [ 1000,    40,   365,  2160,  3280, 15340],\n",
       "       ...,\n",
       "       [ 2000,    40,   365,  4201,  5001, 16600],\n",
       "       [ 1000,    40,   365,  2080,  3320, 15600],\n",
       "       [ 2000,    40,   365,  4601,  4601, 16600]],\n",
       "      shape=(1043, 6), dtype=int32)"
      ]
     },
     "execution_count": 155,
     "metadata": {},
     "output_type": "execute_result"
    }
   ],
   "source": [
    "lending_co_data_numeric.astype(dtype=np.float32).astype(dtype=np.int32)  #it will not chnage original nd array"
   ]
  },
  {
   "cell_type": "code",
   "execution_count": 156,
   "id": "80dfe309-30db-4859-acc6-6bcf65261f31",
   "metadata": {},
   "outputs": [
    {
     "data": {
      "text/plain": [
       "array([['2000.0', '40.0', '365.0', '3121.0', '4241.0', '13621.0'],\n",
       "       ['2000.0', '40.0', '365.0', '3061.0', '4171.0', '15041.0'],\n",
       "       ['1000.0', '40.0', '365.0', '2160.0', '3280.0', '15340.0'],\n",
       "       ...,\n",
       "       ['2000.0', '40.0', '365.0', '4201.0', '5001.0', '16600.0'],\n",
       "       ['1000.0', '40.0', '365.0', '2080.0', '3320.0', '15600.0'],\n",
       "       ['2000.0', '40.0', '365.0', '4601.0', '4601.0', '16600.0']],\n",
       "      shape=(1043, 6), dtype='<U32')"
      ]
     },
     "execution_count": 156,
     "metadata": {},
     "output_type": "execute_result"
    }
   ],
   "source": [
    "lending_co_data_numeric"
   ]
  },
  {
   "cell_type": "markdown",
   "id": "ab9456c1-74b0-43b0-9256-eadb6d77ea7b",
   "metadata": {},
   "source": [
    "8.Stripping Data"
   ]
  },
  {
   "cell_type": "code",
   "execution_count": 158,
   "id": "5b28f8c3-92b2-451c-9c10-d9a312bc7a70",
   "metadata": {},
   "outputs": [
    {
     "data": {
      "text/plain": [
       "array([['id_1', 'Product B', 'Location 2'],\n",
       "       ['id_2', 'Product B', 'Location 3'],\n",
       "       ['id_3', 'Product C', 'Location 5'],\n",
       "       ...,\n",
       "       ['id_413', 'Product B', 'Location 135'],\n",
       "       ['id_414', 'Product C', 'Location 200'],\n",
       "       ['id_415', 'Product A', 'Location 8']],\n",
       "      shape=(415, 3), dtype='<U12')"
      ]
     },
     "execution_count": 158,
     "metadata": {},
     "output_type": "execute_result"
    }
   ],
   "source": [
    "import numpy as np\n",
    "filename=r\"D:\\dataanalyst\\Data Analyst Course\\S27 - NumPy Preprocessing\\Lending-Company-Total-Price.csv\"\n",
    "lending_co_total_price=np.genfromtxt(filename,delimiter=',',dtype=str,skip_header=1,usecols=[1,2,4])\n",
    "lending_co_total_price"
   ]
  },
  {
   "cell_type": "code",
   "execution_count": 165,
   "id": "e38b7d9c-6632-4130-a421-387e109949ea",
   "metadata": {},
   "outputs": [
    {
     "name": "stderr",
     "output_type": "stream",
     "text": [
      "C:\\Users\\ASUS\\AppData\\Local\\Temp\\ipykernel_28568\\359225589.py:1: DeprecationWarning: `np.chararray` is deprecated and will be removed from the main namespace in the future. Use an array with a string or bytes dtype instead.\n",
      "  lending_co_total_price[:,0]=np.chararray.strip(lending_co_total_price[:,0],\"id_\")\n",
      "C:\\Users\\ASUS\\AppData\\Local\\Temp\\ipykernel_28568\\359225589.py:2: DeprecationWarning: `np.chararray` is deprecated and will be removed from the main namespace in the future. Use an array with a string or bytes dtype instead.\n",
      "  lending_co_total_price[:,1]=np.chararray.strip(lending_co_total_price[:,1],\"Product \")\n",
      "C:\\Users\\ASUS\\AppData\\Local\\Temp\\ipykernel_28568\\359225589.py:3: DeprecationWarning: `np.chararray` is deprecated and will be removed from the main namespace in the future. Use an array with a string or bytes dtype instead.\n",
      "  lending_co_total_price[:,2]=np.chararray.strip(lending_co_total_price[:,2],\"Location \")\n"
     ]
    },
    {
     "data": {
      "text/plain": [
       "array([['1', 'B', '2'],\n",
       "       ['2', 'B', '3'],\n",
       "       ['3', 'C', '5'],\n",
       "       ...,\n",
       "       ['413', 'B', '135'],\n",
       "       ['414', 'C', '200'],\n",
       "       ['415', 'A', '8']], shape=(415, 3), dtype='<U12')"
      ]
     },
     "execution_count": 165,
     "metadata": {},
     "output_type": "execute_result"
    }
   ],
   "source": [
    "lending_co_total_price[:,0]=np.chararray.strip(lending_co_total_price[:,0],\"id_\")\n",
    "lending_co_total_price[:,1]=np.chararray.strip(lending_co_total_price[:,1],\"Product \")\n",
    "lending_co_total_price[:,2]=np.chararray.strip(lending_co_total_price[:,2],\"Location \")\n",
    "lending_co_total_price"
   ]
  },
  {
   "cell_type": "code",
   "execution_count": 170,
   "id": "022d7dce-bfca-44fe-8a5a-70866d5480c4",
   "metadata": {},
   "outputs": [],
   "source": [
    "#for coducting quantitative analysis we need to convert the alphabets in the second column to integers\n",
    "# we can use np.where\n",
    "## First, convert the array to object dtype to handle mixed types\n",
    "lending_co_total_price = lending_co_total_price.astype(object)"
   ]
  },
  {
   "cell_type": "code",
   "execution_count": 171,
   "id": "7d6e542a-ac89-4d3b-82f9-18b4d9572bbd",
   "metadata": {},
   "outputs": [
    {
     "data": {
      "text/plain": [
       "array([['1', 2, '2'],\n",
       "       ['2', 2, '3'],\n",
       "       ['3', 3, '5'],\n",
       "       ...,\n",
       "       ['413', 2, '135'],\n",
       "       ['414', 3, '200'],\n",
       "       ['415', 1, '8']], shape=(415, 3), dtype=object)"
      ]
     },
     "execution_count": 171,
     "metadata": {},
     "output_type": "execute_result"
    }
   ],
   "source": [
    "lending_co_total_price[:,1]=np.where(lending_co_total_price[:,1]=='A',1,lending_co_total_price[:,1])\n",
    "lending_co_total_price[:,1]=np.where(lending_co_total_price[:,1]=='B',2,lending_co_total_price[:,1])\n",
    "lending_co_total_price[:,1]=np.where(lending_co_total_price[:,1]=='C',3,lending_co_total_price[:,1])\n",
    "lending_co_total_price[:,1]=np.where(lending_co_total_price[:,1]=='D',4,lending_co_total_price[:,1])\n",
    "lending_co_total_price[:,1]=np.where(lending_co_total_price[:,1]=='E',5,lending_co_total_price[:,1])\n",
    "lending_co_total_price[:,1]=np.where(lending_co_total_price[:,1]=='F',6,lending_co_total_price[:,1])\n",
    "lending_co_total_price"
   ]
  },
  {
   "cell_type": "code",
   "execution_count": 174,
   "id": "bd337373-da3a-4129-9aa1-716b35d52130",
   "metadata": {},
   "outputs": [
    {
     "data": {
      "text/plain": [
       "array([[  1,   2,   2],\n",
       "       [  2,   2,   3],\n",
       "       [  3,   3,   5],\n",
       "       ...,\n",
       "       [413,   2, 135],\n",
       "       [414,   3, 200],\n",
       "       [415,   1,   8]], shape=(415, 3), dtype=int32)"
      ]
     },
     "execution_count": 174,
     "metadata": {},
     "output_type": "execute_result"
    }
   ],
   "source": [
    "\n",
    "lending_co_total_price = lending_co_total_price.astype(dtype=np.int32)\n",
    "lending_co_total_price"
   ]
  },
  {
   "cell_type": "markdown",
   "id": "83ebbeaa-afde-4ab4-896a-3e48bba21768",
   "metadata": {},
   "source": [
    "9.Stacking Data in Nd array:placing multiple objects on top of one another to create a bigger object.we can just stack arrays of matching shapes to create a larger array-a \"stack\" \n",
    "\n",
    " np.stack\n",
    " np.vstack\n",
    " np.hstack\n",
    " np.dstack\n"
   ]
  },
  {
   "cell_type": "code",
   "execution_count": 175,
   "id": "ebbfabf8-5314-4129-8c9b-9d2ae9d3715d",
   "metadata": {},
   "outputs": [
    {
     "data": {
      "text/plain": [
       "array([[ 2000.,    40.,   365.,  3121.,  4241., 13621.],\n",
       "       [ 2000.,    40.,   365.,  3061.,  4171., 15041.],\n",
       "       [ 1000.,    40.,   365.,  2160.,  3280., 15340.],\n",
       "       ...,\n",
       "       [ 2000.,    40.,   365.,  4201.,  5001., 16600.],\n",
       "       [ 1000.,    40.,   365.,  2080.,  3320., 15600.],\n",
       "       [ 2000.,    40.,   365.,  4601.,  4601., 16600.]], shape=(1043, 6))"
      ]
     },
     "execution_count": 175,
     "metadata": {},
     "output_type": "execute_result"
    }
   ],
   "source": [
    "import numpy as np\n",
    "filename=r\"D:\\dataanalyst\\Data Analyst Course\\S27 - NumPy Preprocessing\\Lending-company-Numeric.csv\"\n",
    "lending_co_data_numeric=np.loadtxt(filename,delimiter=',')\n",
    "lending_co_data_numeric"
   ]
  },
  {
   "cell_type": "code",
   "execution_count": 184,
   "id": "00b58718-6ad3-4064-bd20-b3b46202dd2c",
   "metadata": {},
   "outputs": [
    {
     "data": {
      "text/plain": [
       "array([[ 2000.  ,    40.  ,   365.  ,  3121.  ,  4241.  , 13621.  ],\n",
       "       [ 2000.  ,    40.  ,   365.  ,  3061.  ,  4171.  , 15041.  ],\n",
       "       [ 1000.  ,    40.  ,   365.  ,  2160.  ,  3280.  , 15340.  ],\n",
       "       ...,\n",
       "       [ 2250.25,    40.  ,   365.  ,  4201.  ,  5001.  , 16600.  ],\n",
       "       [ 1000.  ,    40.  ,   365.  ,  2080.  ,  3320.  , 15600.  ],\n",
       "       [ 2000.  ,    40.  ,   365.  ,  4601.  ,  4601.  , 16600.  ]],\n",
       "      shape=(1043, 6))"
      ]
     },
     "execution_count": 184,
     "metadata": {},
     "output_type": "execute_result"
    }
   ],
   "source": [
    "import numpy as np\n",
    "filename=r\"D:\\dataanalyst\\Data Analyst Course\\S27 - NumPy Preprocessing\\Lending-company-Numeric-NAN.csv\"\n",
    "lending_co_data_numeric_nan=np.genfromtxt(filename,delimiter=';')\n",
    "lending_co_data_numeric_nan\n",
    "temporary_fill=np.nanmax(lending_co_data_numeric_nan).round(2)+1\n",
    "temporary_mean=np.nanmean(lending_co_data_numeric_nan,axis=0).round(2)\n",
    "lending_co_data_numeric_nan=np.genfromtxt(filename,delimiter=';',filling_values=temporary_fill)\n",
    "for i in range (lending_co_data_numeric_nan.shape[1]):\n",
    "    lending_co_data_numeric_nan[:,i]=np.where(lending_co_data_numeric_nan[:,i]==temporary_fill,\n",
    "                                              temporary_mean[i],lending_co_data_numeric_nan[:,i])\n",
    "lending_co_data_numeric_nan"
   ]
  },
  {
   "cell_type": "code",
   "execution_count": 186,
   "id": "5a19703c-4d6c-4792-81d6-5a2b339b4fa6",
   "metadata": {},
   "outputs": [
    {
     "data": {
      "text/plain": [
       "array([[2000.  , 2000.  , 1000.  , ..., 2250.25, 1000.  , 2000.  ],\n",
       "       [  40.  ,   40.  ,   40.  , ...,   40.  ,   40.  ,   40.  ]],\n",
       "      shape=(2, 1043))"
      ]
     },
     "execution_count": 186,
     "metadata": {},
     "output_type": "execute_result"
    }
   ],
   "source": [
    "#just arrange the first given column as first row...and so on....\n",
    "np.stack((lending_co_data_numeric_nan[:,0],lending_co_data_numeric_nan[:,1]))"
   ]
  },
  {
   "cell_type": "code",
   "execution_count": 187,
   "id": "4402fe99-2ed5-48cf-95c3-4c6b90bd2b28",
   "metadata": {},
   "outputs": [
    {
     "data": {
      "text/plain": [
       "array([[  40.  ,   40.  ,   40.  , ...,   40.  ,   40.  ,   40.  ],\n",
       "       [2000.  , 2000.  , 1000.  , ..., 2250.25, 1000.  , 2000.  ]],\n",
       "      shape=(2, 1043))"
      ]
     },
     "execution_count": 187,
     "metadata": {},
     "output_type": "execute_result"
    }
   ],
   "source": [
    "np.stack((lending_co_data_numeric_nan[:,1],lending_co_data_numeric_nan[:,0]))"
   ]
  },
  {
   "cell_type": "code",
   "execution_count": 189,
   "id": "826b02dd-9ffb-460c-9144-356a3e7853cd",
   "metadata": {},
   "outputs": [
    {
     "data": {
      "text/plain": [
       "array([[2000.  ,   40.  ],\n",
       "       [2000.  ,   40.  ],\n",
       "       [1000.  ,   40.  ],\n",
       "       ...,\n",
       "       [2250.25,   40.  ],\n",
       "       [1000.  ,   40.  ],\n",
       "       [2000.  ,   40.  ]], shape=(1043, 2))"
      ]
     },
     "execution_count": 189,
     "metadata": {},
     "output_type": "execute_result"
    }
   ],
   "source": [
    "#column wise output\n",
    "np.stack((lending_co_data_numeric_nan[:,0],lending_co_data_numeric_nan[:,1]),axis=1)"
   ]
  },
  {
   "cell_type": "code",
   "execution_count": 191,
   "id": "b79a5d3e-9518-4c7e-a3e8-d451ff0ce44e",
   "metadata": {},
   "outputs": [
    {
     "data": {
      "text/plain": [
       "array([[2000.  ,   40.  ,  365.  ],\n",
       "       [2000.  ,   40.  ,  365.  ],\n",
       "       [1000.  ,   40.  ,  365.  ],\n",
       "       ...,\n",
       "       [2250.25,   40.  ,  365.  ],\n",
       "       [1000.  ,   40.  ,  365.  ],\n",
       "       [2000.  ,   40.  ,  365.  ]], shape=(1043, 3))"
      ]
     },
     "execution_count": 191,
     "metadata": {},
     "output_type": "execute_result"
    }
   ],
   "source": [
    "#stacking multiple objects\n",
    "np.stack((lending_co_data_numeric_nan[:,0],lending_co_data_numeric_nan[:,1],lending_co_data_numeric_nan[:,2]),axis=1)\n",
    "\n"
   ]
  },
  {
   "cell_type": "code",
   "execution_count": 192,
   "id": "e46129d2-8338-4889-9590-07d8d8183387",
   "metadata": {},
   "outputs": [],
   "source": [
    "#np.vstack, np.hstack,np.dstack they are used to stack matrices.\n",
    "#stacking lending_co_data_numeric and lending_co_data_numeric_nan\n",
    "#these are going to be stacked\n"
   ]
  },
  {
   "cell_type": "code",
   "execution_count": 193,
   "id": "a1005ca2-a20c-4f53-b3f8-027b279e4b07",
   "metadata": {},
   "outputs": [],
   "source": [
    "#vstack means vertical stack....the fn stacks 2-D arrays vertically.places the first \n",
    "#array on top of the second one.results in longer array"
   ]
  },
  {
   "cell_type": "code",
   "execution_count": 194,
   "id": "3a836d98-6ae7-468b-8fd4-4cbf5df183af",
   "metadata": {},
   "outputs": [
    {
     "data": {
      "text/plain": [
       "array([[ 2000.  ,    40.  ,   365.  ,  3121.  ,  4241.  , 13621.  ],\n",
       "       [ 2000.  ,    40.  ,   365.  ,  3061.  ,  4171.  , 15041.  ],\n",
       "       [ 1000.  ,    40.  ,   365.  ,  2160.  ,  3280.  , 15340.  ],\n",
       "       ...,\n",
       "       [ 2250.25,    40.  ,   365.  ,  4201.  ,  5001.  , 16600.  ],\n",
       "       [ 1000.  ,    40.  ,   365.  ,  2080.  ,  3320.  , 15600.  ],\n",
       "       [ 2000.  ,    40.  ,   365.  ,  4601.  ,  4601.  , 16600.  ]],\n",
       "      shape=(2086, 6))"
      ]
     },
     "execution_count": 194,
     "metadata": {},
     "output_type": "execute_result"
    }
   ],
   "source": [
    "np.vstack((lending_co_data_numeric,lending_co_data_numeric_nan))\n"
   ]
  },
  {
   "cell_type": "code",
   "execution_count": 196,
   "id": "60a1730d-c26b-4c40-b61c-56b2cf31d554",
   "metadata": {},
   "outputs": [
    {
     "data": {
      "text/plain": [
       "array([[ 2000.,    40.,   365., ...,  3121.,  4241., 13621.],\n",
       "       [ 2000.,    40.,   365., ...,  3061.,  4171., 15041.],\n",
       "       [ 1000.,    40.,   365., ...,  2160.,  3280., 15340.],\n",
       "       ...,\n",
       "       [ 2000.,    40.,   365., ...,  4201.,  5001., 16600.],\n",
       "       [ 1000.,    40.,   365., ...,  2080.,  3320., 15600.],\n",
       "       [ 2000.,    40.,   365., ...,  4601.,  4601., 16600.]],\n",
       "      shape=(1043, 12))"
      ]
     },
     "execution_count": 196,
     "metadata": {},
     "output_type": "execute_result"
    }
   ],
   "source": [
    "#horizontal stack.....\n",
    "np.hstack((lending_co_data_numeric,lending_co_data_numeric_nan))"
   ]
  },
  {
   "cell_type": "code",
   "execution_count": 197,
   "id": "fe9745f4-2028-400d-bff6-db59798d65f7",
   "metadata": {},
   "outputs": [],
   "source": [
    "#np.dstack:= depth stack...we stack arrays in the third dimension.returns an array of higher \n",
    "#dimension."
   ]
  },
  {
   "cell_type": "code",
   "execution_count": 198,
   "id": "a52fe90c-b410-4acb-958a-9b8dc77ede1d",
   "metadata": {},
   "outputs": [
    {
     "data": {
      "text/plain": [
       "array([[[ 2000.  ,  2000.  ],\n",
       "        [   40.  ,    40.  ],\n",
       "        [  365.  ,   365.  ],\n",
       "        [ 3121.  ,  3121.  ],\n",
       "        [ 4241.  ,  4241.  ],\n",
       "        [13621.  , 13621.  ]],\n",
       "\n",
       "       [[ 2000.  ,  2000.  ],\n",
       "        [   40.  ,    40.  ],\n",
       "        [  365.  ,   365.  ],\n",
       "        [ 3061.  ,  3061.  ],\n",
       "        [ 4171.  ,  4171.  ],\n",
       "        [15041.  , 15041.  ]],\n",
       "\n",
       "       [[ 1000.  ,  1000.  ],\n",
       "        [   40.  ,    40.  ],\n",
       "        [  365.  ,   365.  ],\n",
       "        [ 2160.  ,  2160.  ],\n",
       "        [ 3280.  ,  3280.  ],\n",
       "        [15340.  , 15340.  ]],\n",
       "\n",
       "       ...,\n",
       "\n",
       "       [[ 2000.  ,  2250.25],\n",
       "        [   40.  ,    40.  ],\n",
       "        [  365.  ,   365.  ],\n",
       "        [ 4201.  ,  4201.  ],\n",
       "        [ 5001.  ,  5001.  ],\n",
       "        [16600.  , 16600.  ]],\n",
       "\n",
       "       [[ 1000.  ,  1000.  ],\n",
       "        [   40.  ,    40.  ],\n",
       "        [  365.  ,   365.  ],\n",
       "        [ 2080.  ,  2080.  ],\n",
       "        [ 3320.  ,  3320.  ],\n",
       "        [15600.  , 15600.  ]],\n",
       "\n",
       "       [[ 2000.  ,  2000.  ],\n",
       "        [   40.  ,    40.  ],\n",
       "        [  365.  ,   365.  ],\n",
       "        [ 4601.  ,  4601.  ],\n",
       "        [ 4601.  ,  4601.  ],\n",
       "        [16600.  , 16600.  ]]], shape=(1043, 6, 2))"
      ]
     },
     "execution_count": 198,
     "metadata": {},
     "output_type": "execute_result"
    }
   ],
   "source": [
    "np.dstack((lending_co_data_numeric,lending_co_data_numeric_nan))"
   ]
  },
  {
   "cell_type": "code",
   "execution_count": 202,
   "id": "3f4ac575-95cf-47c0-b6ee-e12b7e316bbd",
   "metadata": {},
   "outputs": [
    {
     "data": {
      "text/plain": [
       "array([[ 2000.,  2000.],\n",
       "       [   40.,    40.],\n",
       "       [  365.,   365.],\n",
       "       [ 3121.,  3121.],\n",
       "       [ 4241.,  4241.],\n",
       "       [13621., 13621.]])"
      ]
     },
     "execution_count": 202,
     "metadata": {},
     "output_type": "execute_result"
    }
   ],
   "source": [
    "np.dstack((lending_co_data_numeric,lending_co_data_numeric_nan))[0] #each column contains first row"
   ]
  },
  {
   "cell_type": "code",
   "execution_count": 203,
   "id": "54c49617-2c68-46fe-94e4-b8f7f97b217a",
   "metadata": {},
   "outputs": [
    {
     "data": {
      "text/plain": [
       "array([2000., 2000.])"
      ]
     },
     "execution_count": 203,
     "metadata": {},
     "output_type": "execute_result"
    }
   ],
   "source": [
    "np.dstack((lending_co_data_numeric,lending_co_data_numeric_nan))[0][0] #first row first coulmn"
   ]
  },
  {
   "cell_type": "code",
   "execution_count": 204,
   "id": "f1342cf8-a4bc-4e80-addd-4315661bbbbf",
   "metadata": {},
   "outputs": [
    {
     "data": {
      "text/plain": [
       "array([ 2000.,    40.,   365.,  3121.,  4241., 13621.])"
      ]
     },
     "execution_count": 204,
     "metadata": {},
     "output_type": "execute_result"
    }
   ],
   "source": [
    "np.dstack((lending_co_data_numeric,lending_co_data_numeric_nan))[0,:,0] #row,column,array"
   ]
  },
  {
   "cell_type": "markdown",
   "id": "4a44c7d3-7c56-4eaf-a5d8-8723ae5844ec",
   "metadata": {},
   "source": [
    "10.Concatenate"
   ]
  },
  {
   "cell_type": "code",
   "execution_count": null,
   "id": "21cd451a-e277-4701-afe0-107ee8df4abf",
   "metadata": {},
   "outputs": [],
   "source": [
    "Linking together objects in a chain.Creating a new(larger)array by merging existing smaller \n",
    "arrays along a given axis.The inputs and the outputs of the np.concatenate() function always \n",
    "have the same number of dimensions.\n"
   ]
  },
  {
   "cell_type": "code",
   "execution_count": 205,
   "id": "881ef37e-c529-4a80-add1-8f3233122f84",
   "metadata": {},
   "outputs": [
    {
     "data": {
      "text/plain": [
       "array([[ 2000.,    40.,   365.,  3121.,  4241., 13621.],\n",
       "       [ 2000.,    40.,   365.,  3061.,  4171., 15041.],\n",
       "       [ 1000.,    40.,   365.,  2160.,  3280., 15340.],\n",
       "       ...,\n",
       "       [ 2000.,    40.,   365.,  4201.,  5001., 16600.],\n",
       "       [ 1000.,    40.,   365.,  2080.,  3320., 15600.],\n",
       "       [ 2000.,    40.,   365.,  4601.,  4601., 16600.]], shape=(1043, 6))"
      ]
     },
     "execution_count": 205,
     "metadata": {},
     "output_type": "execute_result"
    }
   ],
   "source": [
    "import numpy as np\n",
    "filename=r\"D:\\dataanalyst\\Data Analyst Course\\S27 - NumPy Preprocessing\\Lending-company-Numeric.csv\"\n",
    "lending_co_data_numeric=np.loadtxt(filename,delimiter=',')\n",
    "lending_co_data_numeric"
   ]
  },
  {
   "cell_type": "code",
   "execution_count": 206,
   "id": "a74432a1-f4d1-4a02-90b3-58fe8c32dac0",
   "metadata": {},
   "outputs": [],
   "source": [
    "#concatenating first 2 rows."
   ]
  },
  {
   "cell_type": "code",
   "execution_count": 208,
   "id": "406463c3-a2c0-4eee-bb2d-09345a418394",
   "metadata": {},
   "outputs": [
    {
     "data": {
      "text/plain": [
       "array([ 2000.,    40.,   365.,  3121.,  4241., 13621.,  2000.,    40.,\n",
       "         365.,  3061.,  4171., 15041.])"
      ]
     },
     "execution_count": 208,
     "metadata": {},
     "output_type": "execute_result"
    }
   ],
   "source": [
    "np.concatenate((lending_co_data_numeric[0,:],lending_co_data_numeric[1,:]))"
   ]
  },
  {
   "cell_type": "code",
   "execution_count": 209,
   "id": "0a8d2051-a43e-4c84-a5b0-873c0467edc4",
   "metadata": {},
   "outputs": [],
   "source": [
    "#it is similar to stacking but here it returns 1D array"
   ]
  },
  {
   "cell_type": "code",
   "execution_count": 210,
   "id": "a5741558-52e7-4ce0-a275-bc2452dabee2",
   "metadata": {},
   "outputs": [],
   "source": [
    "#concatenating 2d arrays"
   ]
  },
  {
   "cell_type": "code",
   "execution_count": 211,
   "id": "8d2c8ab7-22d5-4858-bf67-943e7396da73",
   "metadata": {},
   "outputs": [
    {
     "data": {
      "text/plain": [
       "array([[ 2000.  ,    40.  ,   365.  ,  3121.  ,  4241.  , 13621.  ],\n",
       "       [ 2000.  ,    40.  ,   365.  ,  3061.  ,  4171.  , 15041.  ],\n",
       "       [ 1000.  ,    40.  ,   365.  ,  2160.  ,  3280.  , 15340.  ],\n",
       "       ...,\n",
       "       [ 2250.25,    40.  ,   365.  ,  4201.  ,  5001.  , 16600.  ],\n",
       "       [ 1000.  ,    40.  ,   365.  ,  2080.  ,  3320.  , 15600.  ],\n",
       "       [ 2000.  ,    40.  ,   365.  ,  4601.  ,  4601.  , 16600.  ]],\n",
       "      shape=(1043, 6))"
      ]
     },
     "execution_count": 211,
     "metadata": {},
     "output_type": "execute_result"
    }
   ],
   "source": [
    "import numpy as np\n",
    "filename=r\"D:\\dataanalyst\\Data Analyst Course\\S27 - NumPy Preprocessing\\Lending-company-Numeric-NAN.csv\"\n",
    "lending_co_data_numeric_nan=np.genfromtxt(filename,delimiter=';')\n",
    "lending_co_data_numeric_nan\n",
    "temporary_fill=np.nanmax(lending_co_data_numeric_nan).round(2)+1\n",
    "temporary_mean=np.nanmean(lending_co_data_numeric_nan,axis=0).round(2)\n",
    "lending_co_data_numeric_nan=np.genfromtxt(filename,delimiter=';',filling_values=temporary_fill)\n",
    "for i in range (lending_co_data_numeric_nan.shape[1]):\n",
    "    lending_co_data_numeric_nan[:,i]=np.where(lending_co_data_numeric_nan[:,i]==temporary_fill,\n",
    "                                              temporary_mean[i],lending_co_data_numeric_nan[:,i])\n",
    "lending_co_data_numeric_nan"
   ]
  },
  {
   "cell_type": "code",
   "execution_count": 212,
   "id": "85b55c4d-4550-4662-ae38-93cdcc38550a",
   "metadata": {},
   "outputs": [
    {
     "data": {
      "text/plain": [
       "array([[ 2000.  ,    40.  ,   365.  ,  3121.  ,  4241.  , 13621.  ],\n",
       "       [ 2000.  ,    40.  ,   365.  ,  3061.  ,  4171.  , 15041.  ],\n",
       "       [ 1000.  ,    40.  ,   365.  ,  2160.  ,  3280.  , 15340.  ],\n",
       "       ...,\n",
       "       [ 2250.25,    40.  ,   365.  ,  4201.  ,  5001.  , 16600.  ],\n",
       "       [ 1000.  ,    40.  ,   365.  ,  2080.  ,  3320.  , 15600.  ],\n",
       "       [ 2000.  ,    40.  ,   365.  ,  4601.  ,  4601.  , 16600.  ]],\n",
       "      shape=(2086, 6))"
      ]
     },
     "execution_count": 212,
     "metadata": {},
     "output_type": "execute_result"
    }
   ],
   "source": [
    "#it is similar to hstack\n",
    "np.concatenate((lending_co_data_numeric,lending_co_data_numeric_nan))"
   ]
  },
  {
   "cell_type": "code",
   "execution_count": 214,
   "id": "ac0e2eac-a16a-4c3f-a506-9fd303294fff",
   "metadata": {},
   "outputs": [
    {
     "data": {
      "text/plain": [
       "array([[ 2000.,    40.,   365., ...,  3121.,  4241., 13621.],\n",
       "       [ 2000.,    40.,   365., ...,  3061.,  4171., 15041.],\n",
       "       [ 1000.,    40.,   365., ...,  2160.,  3280., 15340.],\n",
       "       ...,\n",
       "       [ 2000.,    40.,   365., ...,  4201.,  5001., 16600.],\n",
       "       [ 1000.,    40.,   365., ...,  2080.,  3320., 15600.],\n",
       "       [ 2000.,    40.,   365., ...,  4601.,  4601., 16600.]],\n",
       "      shape=(1043, 12))"
      ]
     },
     "execution_count": 214,
     "metadata": {},
     "output_type": "execute_result"
    }
   ],
   "source": [
    "#concatenating through columns...\n",
    "np.concatenate((lending_co_data_numeric,lending_co_data_numeric_nan),axis=1)"
   ]
  },
  {
   "cell_type": "markdown",
   "id": "f95c9572-8273-4643-97ff-e787ce553d25",
   "metadata": {},
   "source": [
    "np.concatenate works exactly like np.hstack(),np.vstack(),np.dstack() depending on the inputs and axis arguments.\n",
    "1&2-D arrays:\n",
    "np.hstack()->np.concatenate((),axis=0)\n",
    "np.vstack()->np.concatenate((),axis=1)\n",
    "np.dstack()->np.concatenate((),axis=2)"
   ]
  },
  {
   "cell_type": "code",
   "execution_count": 215,
   "id": "f6b795a2-9df3-43f8-b218-6d20475f8853",
   "metadata": {},
   "outputs": [
    {
     "data": {
      "text/plain": [
       "array([2000.,   40.,  365., ..., 2000., 1000., 2000.], shape=(1049,))"
      ]
     },
     "execution_count": 215,
     "metadata": {},
     "output_type": "execute_result"
    }
   ],
   "source": [
    "np.concatenate((lending_co_data_numeric[0,:],lending_co_data_numeric[:,0]))"
   ]
  },
  {
   "cell_type": "markdown",
   "id": "10cbd9a9-480c-4a9d-a34e-4fd2f1775d82",
   "metadata": {},
   "source": [
    "However if we have arrays of the same dimensions,but different shapes,we can still concatenate them.But only if their dimensions match for the axis we are concatenating along."
   ]
  },
  {
   "cell_type": "markdown",
   "id": "6daf5dd7-187f-49f4-a527-7f584589fca9",
   "metadata": {},
   "source": [
    "11.finding unique values"
   ]
  },
  {
   "cell_type": "code",
   "execution_count": 216,
   "id": "f2e0cee8-923f-497f-b49b-733e038a8df5",
   "metadata": {},
   "outputs": [
    {
     "data": {
      "text/plain": [
       "array([[ 2000.,    40.,   365.,  3121.,  4241., 13621.],\n",
       "       [ 2000.,    40.,   365.,  3061.,  4171., 15041.],\n",
       "       [ 1000.,    40.,   365.,  2160.,  3280., 15340.],\n",
       "       ...,\n",
       "       [ 2000.,    40.,   365.,  4201.,  5001., 16600.],\n",
       "       [ 1000.,    40.,   365.,  2080.,  3320., 15600.],\n",
       "       [ 2000.,    40.,   365.,  4601.,  4601., 16600.]], shape=(1043, 6))"
      ]
     },
     "execution_count": 216,
     "metadata": {},
     "output_type": "execute_result"
    }
   ],
   "source": [
    "import numpy as np\n",
    "filename=r\"D:\\dataanalyst\\Data Analyst Course\\S27 - NumPy Preprocessing\\Lending-company-Numeric.csv\"\n",
    "lending_co_data_numeric=np.loadtxt(filename,delimiter=',')\n",
    "lending_co_data_numeric"
   ]
  },
  {
   "cell_type": "code",
   "execution_count": 217,
   "id": "446914e1-fbec-4399-a496-5035f41ef02f",
   "metadata": {},
   "outputs": [
    {
     "data": {
      "text/plain": [
       "array([-2870., -2550., -2450., ..., 52751., 54625., 64001.], shape=(1140,))"
      ]
     },
     "execution_count": 217,
     "metadata": {},
     "output_type": "execute_result"
    }
   ],
   "source": [
    "np.unique(lending_co_data_numeric)"
   ]
  },
  {
   "cell_type": "code",
   "execution_count": 219,
   "id": "d9d7a653-67fb-406c-85d8-b7db68474acc",
   "metadata": {},
   "outputs": [
    {
     "data": {
      "text/plain": [
       "array([ 35.,  40.,  50., 125., 165.])"
      ]
     },
     "execution_count": 219,
     "metadata": {},
     "output_type": "execute_result"
    }
   ],
   "source": [
    "np.unique(lending_co_data_numeric[:,1])\n",
    "#returns array of unique values from second column...in ascending order"
   ]
  },
  {
   "cell_type": "code",
   "execution_count": 220,
   "id": "30cea0c4-ddfd-43e7-873b-6304eae28a39",
   "metadata": {},
   "outputs": [],
   "source": [
    "#in the case of strings it works same....based on ascii value it sorts."
   ]
  },
  {
   "cell_type": "code",
   "execution_count": 221,
   "id": "54453a1e-f6b3-4e85-a3b8-ab37aa3bac2e",
   "metadata": {},
   "outputs": [
    {
     "data": {
      "text/plain": [
       "(array([ 35.,  40.,  50., 125., 165.]), array([  4, 567, 451,  19,   2]))"
      ]
     },
     "execution_count": 221,
     "metadata": {},
     "output_type": "execute_result"
    }
   ],
   "source": [
    "np.unique(lending_co_data_numeric[:,1],return_counts=True)\n",
    "#first array gives unique values....and second will give their frequency."
   ]
  },
  {
   "cell_type": "code",
   "execution_count": 222,
   "id": "d40bef52-f172-49f5-b766-4f4b07d6ab74",
   "metadata": {},
   "outputs": [
    {
     "data": {
      "text/plain": [
       "(array([ 35.,  40.,  50., 125., 165.]),\n",
       " array([327,   0,   4,  19,  27]),\n",
       " array([  4, 567, 451,  19,   2]))"
      ]
     },
     "execution_count": 222,
     "metadata": {},
     "output_type": "execute_result"
    }
   ],
   "source": [
    "np.unique(lending_co_data_numeric[:,1],return_counts=True,return_index=True)\n",
    "#first array gives unique values....and second will give their index....the third will give \n",
    "#the frequency"
   ]
  },
  {
   "cell_type": "code",
   "execution_count": null,
   "id": "effe5a69-4571-44fb-bb92-f9f6a138d467",
   "metadata": {},
   "outputs": [],
   "source": []
  }
 ],
 "metadata": {
  "kernelspec": {
   "display_name": "Python [conda env:base] *",
   "language": "python",
   "name": "conda-base-py"
  },
  "language_info": {
   "codemirror_mode": {
    "name": "ipython",
    "version": 3
   },
   "file_extension": ".py",
   "mimetype": "text/x-python",
   "name": "python",
   "nbconvert_exporter": "python",
   "pygments_lexer": "ipython3",
   "version": "3.12.7"
  }
 },
 "nbformat": 4,
 "nbformat_minor": 5
}
